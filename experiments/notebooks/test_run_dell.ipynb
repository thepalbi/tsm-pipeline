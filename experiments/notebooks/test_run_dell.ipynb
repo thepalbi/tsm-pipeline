{
 "cells": [
  {
   "cell_type": "code",
   "execution_count": 1,
   "id": "21a8e559-156e-49bc-b426-d72cb2f6fbf1",
   "metadata": {
    "tags": []
   },
   "outputs": [],
   "source": [
    "import sys\n",
    "sys.path.append(\"/home/pablo/tesis/tsm-pipeline/code\")\n",
    "\n",
    "%load_ext autoreload\n",
    "%autoreload 2"
   ]
  },
  {
   "cell_type": "code",
   "execution_count": 2,
   "id": "5e85b737-9b5c-4aec-bb63-245c8b774880",
   "metadata": {
    "tags": []
   },
   "outputs": [],
   "source": [
    "from scripts.xxx import run_tsm, ExperimentSettings\n",
    "import docker\n",
    "\n",
    "docker_client = docker.from_env()\n",
    "defaults = {\n",
    "    \"bash_config_path\": \"/home/pablo/tesis/tsm-pipeline/code/scripts/config.sh\",\n",
    "    \"o11y_db_dir\": \"/home/pablo/tesis/tsm-pipeline/code/tsm.db\",\n",
    "}\n",
    "defaults_evalute = {\n",
    "    \"cache_root\":\"/home/pablo/dbcache\",    \n",
    "}"
   ]
  },
  {
   "cell_type": "markdown",
   "id": "f5fb0cad-e479-4898-a4f7-80225fde53be",
   "metadata": {},
   "source": [
    "El experimento de abajo es una versión de prueba para ver tanto que funciona bien la versión dockerizada y su wrapper en python, como tainted path."
   ]
  },
  {
   "cell_type": "code",
   "execution_count": 6,
   "id": "8f81aa06-4cf2-4aca-bf18-cf6398f91b3d",
   "metadata": {
    "scrolled": true,
    "tags": []
   },
   "outputs": [
    {
     "name": "stdout",
     "output_type": "stream",
     "text": [
      "2023-04-15 12:07:10,460 - INFO - creating /home/pablo/results/dell_test_run dir. Omitting error if already existing\n",
      "2023-04-15 12:07:10,461 - INFO - creating /tmp/log dir. Omitting error if already existing\n"
     ]
    },
    {
     "ename": "APIError",
     "evalue": "400 Client Error for http+docker://localhost/v1.41/containers/create: Bad Request (\"invalid mount config for type \"bind\": bind source path does not exist: /home/pablo/tesis/tsm-pipeline/code/tsm.db\")",
     "output_type": "error",
     "traceback": [
      "\u001b[0;31m---------------------------------------------------------------------------\u001b[0m",
      "\u001b[0;31mHTTPError\u001b[0m                                 Traceback (most recent call last)",
      "File \u001b[0;32m~/tesis/tsm-pipeline/code/env/lib/python3.10/site-packages/docker/api/client.py:268\u001b[0m, in \u001b[0;36mAPIClient._raise_for_status\u001b[0;34m(self, response)\u001b[0m\n\u001b[1;32m    267\u001b[0m \u001b[38;5;28;01mtry\u001b[39;00m:\n\u001b[0;32m--> 268\u001b[0m     \u001b[43mresponse\u001b[49m\u001b[38;5;241;43m.\u001b[39;49m\u001b[43mraise_for_status\u001b[49m\u001b[43m(\u001b[49m\u001b[43m)\u001b[49m\n\u001b[1;32m    269\u001b[0m \u001b[38;5;28;01mexcept\u001b[39;00m requests\u001b[38;5;241m.\u001b[39mexceptions\u001b[38;5;241m.\u001b[39mHTTPError \u001b[38;5;28;01mas\u001b[39;00m e:\n",
      "File \u001b[0;32m~/tesis/tsm-pipeline/code/env/lib/python3.10/site-packages/requests/models.py:1022\u001b[0m, in \u001b[0;36mResponse.raise_for_status\u001b[0;34m(self)\u001b[0m\n\u001b[1;32m   1021\u001b[0m \u001b[38;5;28;01mif\u001b[39;00m http_error_msg:\n\u001b[0;32m-> 1022\u001b[0m     \u001b[38;5;28;01mraise\u001b[39;00m HTTPError(http_error_msg, response\u001b[38;5;241m=\u001b[39m\u001b[38;5;28mself\u001b[39m)\n",
      "\u001b[0;31mHTTPError\u001b[0m: 400 Client Error: Bad Request for url: http+docker://localhost/v1.41/containers/create",
      "\nThe above exception was the direct cause of the following exception:\n",
      "\u001b[0;31mAPIError\u001b[0m                                  Traceback (most recent call last)",
      "Cell \u001b[0;32mIn[6], line 9\u001b[0m\n\u001b[1;32m      1\u001b[0m test_experiment \u001b[38;5;241m=\u001b[39m ExperimentSettings(\n\u001b[1;32m      2\u001b[0m     name\u001b[38;5;241m=\u001b[39m\u001b[38;5;124m\"\u001b[39m\u001b[38;5;124mdell_test_run\u001b[39m\u001b[38;5;124m\"\u001b[39m,\n\u001b[1;32m      3\u001b[0m     query_type\u001b[38;5;241m=\u001b[39m\u001b[38;5;124m\"\u001b[39m\u001b[38;5;124mpath\u001b[39m\u001b[38;5;124m\"\u001b[39m,\n\u001b[0;32m   (...)\u001b[0m\n\u001b[1;32m      6\u001b[0m     \u001b[38;5;241m*\u001b[39m\u001b[38;5;241m*\u001b[39mdefaults,\n\u001b[1;32m      7\u001b[0m )\n\u001b[0;32m----> 9\u001b[0m \u001b[43mrun_tsm\u001b[49m\u001b[43m(\u001b[49m\u001b[43mdocker_client\u001b[49m\u001b[43m,\u001b[49m\u001b[43m \u001b[49m\u001b[43mtest_experiment\u001b[49m\u001b[43m,\u001b[49m\u001b[43m \u001b[49m\u001b[43mblock\u001b[49m\u001b[38;5;241;43m=\u001b[39;49m\u001b[38;5;28;43;01mTrue\u001b[39;49;00m\u001b[43m)\u001b[49m\n",
      "File \u001b[0;32m~/tesis/tsm-pipeline/code/scripts/xxx.py:152\u001b[0m, in \u001b[0;36mrun_tsm\u001b[0;34m(client, settings, tail_logs, block)\u001b[0m\n\u001b[1;32m    140\u001b[0m query \u001b[38;5;241m=\u001b[39m QUERY_TYPES[settings\u001b[38;5;241m.\u001b[39mquery_type]\n\u001b[1;32m    141\u001b[0m container_cmds \u001b[38;5;241m=\u001b[39m [\n\u001b[1;32m    142\u001b[0m     \u001b[38;5;124m\"\u001b[39m\u001b[38;5;124m--steps=generate_entities,generate_model,optimize\u001b[39m\u001b[38;5;124m\"\u001b[39m,\n\u001b[1;32m    143\u001b[0m     \u001b[38;5;124m\"\u001b[39m\u001b[38;5;124m--project.cache_dir=/dbs\u001b[39m\u001b[38;5;124m\"\u001b[39m,\n\u001b[0;32m   (...)\u001b[0m\n\u001b[1;32m    150\u001b[0m     \u001b[38;5;124m\"\u001b[39m\u001b[38;5;124mrun\u001b[39m\u001b[38;5;124m\"\u001b[39m\n\u001b[1;32m    151\u001b[0m ]\n\u001b[0;32m--> 152\u001b[0m container \u001b[38;5;241m=\u001b[39m \u001b[43mclient\u001b[49m\u001b[38;5;241;43m.\u001b[39;49m\u001b[43mcontainers\u001b[49m\u001b[38;5;241;43m.\u001b[39;49m\u001b[43mrun\u001b[49m\u001b[43m(\u001b[49m\n\u001b[1;32m    153\u001b[0m \u001b[43m    \u001b[49m\u001b[43mimage\u001b[49m\u001b[38;5;241;43m=\u001b[39;49m\u001b[38;5;124;43m\"\u001b[39;49m\u001b[38;5;124;43mgithub.com/thepalbi/tsm-main:latest\u001b[39;49m\u001b[38;5;124;43m\"\u001b[39;49m\u001b[43m,\u001b[49m\n\u001b[1;32m    154\u001b[0m \u001b[43m    \u001b[49m\u001b[43mcommand\u001b[49m\u001b[38;5;241;43m=\u001b[39;49m\u001b[43mcontainer_cmds\u001b[49m\u001b[43m,\u001b[49m\n\u001b[1;32m    155\u001b[0m \u001b[43m    \u001b[49m\u001b[43mdetach\u001b[49m\u001b[38;5;241;43m=\u001b[39;49m\u001b[38;5;28;43;01mTrue\u001b[39;49;00m\u001b[43m,\u001b[49m\n\u001b[1;32m    156\u001b[0m \u001b[43m    \u001b[49m\u001b[38;5;241;43m*\u001b[39;49m\u001b[38;5;241;43m*\u001b[39;49m\u001b[43msettings\u001b[49m\u001b[38;5;241;43m.\u001b[39;49m\u001b[43mdocker_kwargs\u001b[49m\n\u001b[1;32m    157\u001b[0m \u001b[43m\u001b[49m\u001b[43m)\u001b[49m\n\u001b[1;32m    158\u001b[0m logger\u001b[38;5;241m.\u001b[39minfo(\u001b[38;5;124m\"\u001b[39m\u001b[38;5;124mrunning at container \u001b[39m\u001b[38;5;132;01m%s\u001b[39;00m\u001b[38;5;124m. Use `docker logs \u001b[39m\u001b[38;5;132;01m%s\u001b[39;00m\u001b[38;5;124m --tail 10 --follow` to follow progress\u001b[39m\u001b[38;5;124m\"\u001b[39m, container\u001b[38;5;241m.\u001b[39mid, container\u001b[38;5;241m.\u001b[39mid)\n\u001b[1;32m    159\u001b[0m \u001b[38;5;28;01mif\u001b[39;00m block:\n",
      "File \u001b[0;32m~/tesis/tsm-pipeline/code/env/lib/python3.10/site-packages/docker/models/containers.py:847\u001b[0m, in \u001b[0;36mContainerCollection.run\u001b[0;34m(self, image, command, stdout, stderr, remove, **kwargs)\u001b[0m\n\u001b[1;32m    841\u001b[0m     \u001b[38;5;28;01mraise\u001b[39;00m \u001b[38;5;167;01mRuntimeError\u001b[39;00m(\n\u001b[1;32m    842\u001b[0m         \u001b[38;5;124m'\u001b[39m\u001b[38;5;124mThe options \u001b[39m\u001b[38;5;124m\"\u001b[39m\u001b[38;5;124mnetwork\u001b[39m\u001b[38;5;124m\"\u001b[39m\u001b[38;5;124m and \u001b[39m\u001b[38;5;124m\"\u001b[39m\u001b[38;5;124mnetwork_mode\u001b[39m\u001b[38;5;124m\"\u001b[39m\u001b[38;5;124m can not be used \u001b[39m\u001b[38;5;124m'\u001b[39m\n\u001b[1;32m    843\u001b[0m         \u001b[38;5;124m'\u001b[39m\u001b[38;5;124mtogether.\u001b[39m\u001b[38;5;124m'\u001b[39m\n\u001b[1;32m    844\u001b[0m     )\n\u001b[1;32m    846\u001b[0m \u001b[38;5;28;01mtry\u001b[39;00m:\n\u001b[0;32m--> 847\u001b[0m     container \u001b[38;5;241m=\u001b[39m \u001b[38;5;28;43mself\u001b[39;49m\u001b[38;5;241;43m.\u001b[39;49m\u001b[43mcreate\u001b[49m\u001b[43m(\u001b[49m\u001b[43mimage\u001b[49m\u001b[38;5;241;43m=\u001b[39;49m\u001b[43mimage\u001b[49m\u001b[43m,\u001b[49m\u001b[43m \u001b[49m\u001b[43mcommand\u001b[49m\u001b[38;5;241;43m=\u001b[39;49m\u001b[43mcommand\u001b[49m\u001b[43m,\u001b[49m\n\u001b[1;32m    848\u001b[0m \u001b[43m                            \u001b[49m\u001b[43mdetach\u001b[49m\u001b[38;5;241;43m=\u001b[39;49m\u001b[43mdetach\u001b[49m\u001b[43m,\u001b[49m\u001b[43m \u001b[49m\u001b[38;5;241;43m*\u001b[39;49m\u001b[38;5;241;43m*\u001b[39;49m\u001b[43mkwargs\u001b[49m\u001b[43m)\u001b[49m\n\u001b[1;32m    849\u001b[0m \u001b[38;5;28;01mexcept\u001b[39;00m ImageNotFound:\n\u001b[1;32m    850\u001b[0m     \u001b[38;5;28mself\u001b[39m\u001b[38;5;241m.\u001b[39mclient\u001b[38;5;241m.\u001b[39mimages\u001b[38;5;241m.\u001b[39mpull(image, platform\u001b[38;5;241m=\u001b[39mplatform)\n",
      "File \u001b[0;32m~/tesis/tsm-pipeline/code/env/lib/python3.10/site-packages/docker/models/containers.py:906\u001b[0m, in \u001b[0;36mContainerCollection.create\u001b[0;34m(self, image, command, **kwargs)\u001b[0m\n\u001b[1;32m    904\u001b[0m kwargs[\u001b[38;5;124m'\u001b[39m\u001b[38;5;124mversion\u001b[39m\u001b[38;5;124m'\u001b[39m] \u001b[38;5;241m=\u001b[39m \u001b[38;5;28mself\u001b[39m\u001b[38;5;241m.\u001b[39mclient\u001b[38;5;241m.\u001b[39mapi\u001b[38;5;241m.\u001b[39m_version\n\u001b[1;32m    905\u001b[0m create_kwargs \u001b[38;5;241m=\u001b[39m _create_container_args(kwargs)\n\u001b[0;32m--> 906\u001b[0m resp \u001b[38;5;241m=\u001b[39m \u001b[38;5;28;43mself\u001b[39;49m\u001b[38;5;241;43m.\u001b[39;49m\u001b[43mclient\u001b[49m\u001b[38;5;241;43m.\u001b[39;49m\u001b[43mapi\u001b[49m\u001b[38;5;241;43m.\u001b[39;49m\u001b[43mcreate_container\u001b[49m\u001b[43m(\u001b[49m\u001b[38;5;241;43m*\u001b[39;49m\u001b[38;5;241;43m*\u001b[39;49m\u001b[43mcreate_kwargs\u001b[49m\u001b[43m)\u001b[49m\n\u001b[1;32m    907\u001b[0m \u001b[38;5;28;01mreturn\u001b[39;00m \u001b[38;5;28mself\u001b[39m\u001b[38;5;241m.\u001b[39mget(resp[\u001b[38;5;124m'\u001b[39m\u001b[38;5;124mId\u001b[39m\u001b[38;5;124m'\u001b[39m])\n",
      "File \u001b[0;32m~/tesis/tsm-pipeline/code/env/lib/python3.10/site-packages/docker/api/container.py:431\u001b[0m, in \u001b[0;36mContainerApiMixin.create_container\u001b[0;34m(self, image, command, hostname, user, detach, stdin_open, tty, ports, environment, volumes, network_disabled, name, entrypoint, working_dir, domainname, host_config, mac_address, labels, stop_signal, networking_config, healthcheck, stop_timeout, runtime, use_config_proxy, platform)\u001b[0m\n\u001b[1;32m    419\u001b[0m     environment \u001b[38;5;241m=\u001b[39m \u001b[38;5;28mself\u001b[39m\u001b[38;5;241m.\u001b[39m_proxy_configs\u001b[38;5;241m.\u001b[39minject_proxy_environment(\n\u001b[1;32m    420\u001b[0m         environment\n\u001b[1;32m    421\u001b[0m     ) \u001b[38;5;129;01mor\u001b[39;00m \u001b[38;5;28;01mNone\u001b[39;00m\n\u001b[1;32m    423\u001b[0m config \u001b[38;5;241m=\u001b[39m \u001b[38;5;28mself\u001b[39m\u001b[38;5;241m.\u001b[39mcreate_container_config(\n\u001b[1;32m    424\u001b[0m     image, command, hostname, user, detach, stdin_open, tty,\n\u001b[1;32m    425\u001b[0m     ports, environment, volumes,\n\u001b[0;32m   (...)\u001b[0m\n\u001b[1;32m    429\u001b[0m     stop_timeout, runtime\n\u001b[1;32m    430\u001b[0m )\n\u001b[0;32m--> 431\u001b[0m \u001b[38;5;28;01mreturn\u001b[39;00m \u001b[38;5;28;43mself\u001b[39;49m\u001b[38;5;241;43m.\u001b[39;49m\u001b[43mcreate_container_from_config\u001b[49m\u001b[43m(\u001b[49m\u001b[43mconfig\u001b[49m\u001b[43m,\u001b[49m\u001b[43m \u001b[49m\u001b[43mname\u001b[49m\u001b[43m,\u001b[49m\u001b[43m \u001b[49m\u001b[43mplatform\u001b[49m\u001b[43m)\u001b[49m\n",
      "File \u001b[0;32m~/tesis/tsm-pipeline/code/env/lib/python3.10/site-packages/docker/api/container.py:448\u001b[0m, in \u001b[0;36mContainerApiMixin.create_container_from_config\u001b[0;34m(self, config, name, platform)\u001b[0m\n\u001b[1;32m    446\u001b[0m     params[\u001b[38;5;124m'\u001b[39m\u001b[38;5;124mplatform\u001b[39m\u001b[38;5;124m'\u001b[39m] \u001b[38;5;241m=\u001b[39m platform\n\u001b[1;32m    447\u001b[0m res \u001b[38;5;241m=\u001b[39m \u001b[38;5;28mself\u001b[39m\u001b[38;5;241m.\u001b[39m_post_json(u, data\u001b[38;5;241m=\u001b[39mconfig, params\u001b[38;5;241m=\u001b[39mparams)\n\u001b[0;32m--> 448\u001b[0m \u001b[38;5;28;01mreturn\u001b[39;00m \u001b[38;5;28;43mself\u001b[39;49m\u001b[38;5;241;43m.\u001b[39;49m\u001b[43m_result\u001b[49m\u001b[43m(\u001b[49m\u001b[43mres\u001b[49m\u001b[43m,\u001b[49m\u001b[43m \u001b[49m\u001b[38;5;28;43;01mTrue\u001b[39;49;00m\u001b[43m)\u001b[49m\n",
      "File \u001b[0;32m~/tesis/tsm-pipeline/code/env/lib/python3.10/site-packages/docker/api/client.py:274\u001b[0m, in \u001b[0;36mAPIClient._result\u001b[0;34m(self, response, json, binary)\u001b[0m\n\u001b[1;32m    272\u001b[0m \u001b[38;5;28;01mdef\u001b[39;00m \u001b[38;5;21m_result\u001b[39m(\u001b[38;5;28mself\u001b[39m, response, json\u001b[38;5;241m=\u001b[39m\u001b[38;5;28;01mFalse\u001b[39;00m, binary\u001b[38;5;241m=\u001b[39m\u001b[38;5;28;01mFalse\u001b[39;00m):\n\u001b[1;32m    273\u001b[0m     \u001b[38;5;28;01massert\u001b[39;00m \u001b[38;5;129;01mnot\u001b[39;00m (json \u001b[38;5;129;01mand\u001b[39;00m binary)\n\u001b[0;32m--> 274\u001b[0m     \u001b[38;5;28;43mself\u001b[39;49m\u001b[38;5;241;43m.\u001b[39;49m\u001b[43m_raise_for_status\u001b[49m\u001b[43m(\u001b[49m\u001b[43mresponse\u001b[49m\u001b[43m)\u001b[49m\n\u001b[1;32m    276\u001b[0m     \u001b[38;5;28;01mif\u001b[39;00m json:\n\u001b[1;32m    277\u001b[0m         \u001b[38;5;28;01mreturn\u001b[39;00m response\u001b[38;5;241m.\u001b[39mjson()\n",
      "File \u001b[0;32m~/tesis/tsm-pipeline/code/env/lib/python3.10/site-packages/docker/api/client.py:270\u001b[0m, in \u001b[0;36mAPIClient._raise_for_status\u001b[0;34m(self, response)\u001b[0m\n\u001b[1;32m    268\u001b[0m     response\u001b[38;5;241m.\u001b[39mraise_for_status()\n\u001b[1;32m    269\u001b[0m \u001b[38;5;28;01mexcept\u001b[39;00m requests\u001b[38;5;241m.\u001b[39mexceptions\u001b[38;5;241m.\u001b[39mHTTPError \u001b[38;5;28;01mas\u001b[39;00m e:\n\u001b[0;32m--> 270\u001b[0m     \u001b[38;5;28;01mraise\u001b[39;00m \u001b[43mcreate_api_error_from_http_exception\u001b[49m\u001b[43m(\u001b[49m\u001b[43me\u001b[49m\u001b[43m)\u001b[49m \u001b[38;5;28;01mfrom\u001b[39;00m \u001b[38;5;21;01me\u001b[39;00m\n",
      "File \u001b[0;32m~/tesis/tsm-pipeline/code/env/lib/python3.10/site-packages/docker/errors.py:39\u001b[0m, in \u001b[0;36mcreate_api_error_from_http_exception\u001b[0;34m(e)\u001b[0m\n\u001b[1;32m     37\u001b[0m     \u001b[38;5;28;01melse\u001b[39;00m:\n\u001b[1;32m     38\u001b[0m         \u001b[38;5;28mcls\u001b[39m \u001b[38;5;241m=\u001b[39m NotFound\n\u001b[0;32m---> 39\u001b[0m \u001b[38;5;28;01mraise\u001b[39;00m \u001b[38;5;28mcls\u001b[39m(e, response\u001b[38;5;241m=\u001b[39mresponse, explanation\u001b[38;5;241m=\u001b[39mexplanation) \u001b[38;5;28;01mfrom\u001b[39;00m \u001b[38;5;21;01me\u001b[39;00m\n",
      "\u001b[0;31mAPIError\u001b[0m: 400 Client Error for http+docker://localhost/v1.41/containers/create: Bad Request (\"invalid mount config for type \"bind\": bind source path does not exist: /home/pablo/tesis/tsm-pipeline/code/tsm.db\")"
     ]
    }
   ],
   "source": [
    "test_experiment = ExperimentSettings(\n",
    "    name=\"dell_test_run\",\n",
    "    query_type=\"path\",\n",
    "    project_list_file=\"/home/pablo/tesis/tsm-pipeline/experiments/tesis/tainted_path/test_4.txt\",\n",
    "    results_dir=\"/home/pablo/results/dell_test_run\",\n",
    "    **defaults,\n",
    ")\n",
    "\n",
    "run_tsm(docker_client, test_experiment, block=True)"
   ]
  },
  {
   "cell_type": "code",
   "execution_count": 36,
   "id": "b42a6228-2f55-4062-8d26-9ceb2504ac6a",
   "metadata": {},
   "outputs": [
    {
     "name": "stdout",
     "output_type": "stream",
     "text": [
      "\"(parameter 0 (member define (global)))\",\"snk\",1.0000000000\n",
      "\"(parameter 0 (member readFile *))\",\"snk\",1.0000000000\n",
      "\"(parameter 0 (member readFileSync *))\",\"snk\",1.0000000000\n",
      "\"(parameter 0 (member readdir *))\",\"snk\",1.0000000000\n",
      "\"(parameter 0 (member require (global)))\",\"snk\",1.0000000000\n",
      "\"(parameter 0 (member stat *))\",\"snk\",1.0000000000\n",
      "\"(parameter 0 (member statSync *))\",\"snk\",1.0000000000"
     ]
    }
   ],
   "source": [
    "!cat /tesis/tmp/results/tainted_path_test/averaged-results.csv"
   ]
  },
  {
   "cell_type": "markdown",
   "id": "1a930f09-99a7-4fad-b909-4e712c067f88",
   "metadata": {},
   "source": [
    "Ahora necesito ver por qué no encuentra resultados para 80 proyectos de `NoSQL`. Yo creo que debería ser capaz de encontrar."
   ]
  },
  {
   "cell_type": "code",
   "execution_count": 13,
   "id": "eeddf351-6edf-4fd4-b27c-0773b6ad5217",
   "metadata": {},
   "outputs": [
    {
     "name": "stdout",
     "output_type": "stream",
     "text": [
      "2022-12-30 23:01:34,408 - INFO - creating /tesis/tmp/results/nosql_test_2 dir. Omitting error if already existing\n",
      "2022-12-30 23:01:34,409 - INFO - creating /tesis/tmp/log dir. Omitting error if already existing\n",
      "2022-12-30 23:01:34,732 - INFO - running at container 0db1b18f8ebb65ffd5de97a5aa228f509533a116d076b2f2e7232bccf067e278. Use `docker logs 0db1b18f8ebb65ffd5de97a5aa228f509533a116d076b2f2e7232bccf067e278 --tail 10 --follow` to follow progress\n",
      "2022-12-30 23:02:18,675 - INFO - running combine scores\n",
      "g: /tesis/tmp/results/nosql_test_2/*/NosqlInjectionWorse-*/reprScores.txt\n"
     ]
    }
   ],
   "source": [
    "nosql_test = ExperimentSettings(\n",
    "    name=\"nosql_test_2\",\n",
    "    query_type=\"nosql\",\n",
    "    project_list_file=\"/tesis/repos/tsm-pipeline/experiments/tesis/test_nosql_5.txt\",\n",
    "    results_dir=\"/tesis/tmp/results/nosql_test_2\",\n",
    "    **defaults\n",
    ")\n",
    "\n",
    "run_tsm(docker_client, nosql_test, block=True)"
   ]
  },
  {
   "cell_type": "code",
   "execution_count": 15,
   "id": "466d6ec4-0883-49b0-980d-3b2a1f5d533c",
   "metadata": {},
   "outputs": [
    {
     "name": "stdout",
     "output_type": "stream",
     "text": [
      "\"(parameter 0 (member find *))\",\"snk\",1.0000000000\n",
      "\"(parameter 0 (member findById *))\",\"snk\",1.0000000000\n",
      "\"(parameter 0 (member findByIdAndUpdate *))\",\"snk\",1.0000000000\n",
      "\"(parameter 0 (member findOne *))\",\"snk\",0.6250000000\n",
      "\"(parameter 0 (member json *))\",\"snk\",0.4166666700\n",
      "\"(parameter 0 (member updateOne *))\",\"snk\",1.0000000000\n",
      "\"(parameter 1 (member findByIdAndUpdate *))\",\"snk\",1.0000000000\n",
      "\"(parameter 1 (member render *))\",\"snk\",0.5000000000\n",
      "\"(parameter 1 (member updateOne *))\",\"snk\",1.0000000000"
     ]
    }
   ],
   "source": [
    "!cat /tesis/tmp/results/nosql_test_2/averaged-results.csv"
   ]
  },
  {
   "cell_type": "markdown",
   "id": "6388ed3a-0cef-4af6-99ac-02367930509f",
   "metadata": {},
   "source": [
    "Se ve que el problema era que invertía los query_name y query_type, y algo de eso no daba resultado alguno. Corriendo denuevo el entrenamiento de 80 proyectos."
   ]
  },
  {
   "cell_type": "markdown",
   "id": "f24bad0b-2461-44eb-be80-dc02185c0de6",
   "metadata": {},
   "source": [
    "## Evaluando el estado de NoSQL\n",
    "\n",
    "Entrenando con el top 100 de los repos de NoSQL de ATM. Tomo como corte de entrenamiento los primeros 70, y luego los siguientes 30 para evaluar."
   ]
  },
  {
   "cell_type": "code",
   "execution_count": 17,
   "id": "275c58dc-991f-4c1a-8833-5e05fdf7e2e8",
   "metadata": {
    "collapsed": true,
    "jupyter": {
     "outputs_hidden": true
    },
    "tags": []
   },
   "outputs": [
    {
     "name": "stdout",
     "output_type": "stream",
     "text": [
      "2022-12-30 23:08:21,244 - INFO - creating /tesis/tmp/results/nosql_atm_top_100 dir. Omitting error if already existing\n",
      "2022-12-30 23:08:21,245 - INFO - creating /tesis/tmp/log dir. Omitting error if already existing\n",
      "2022-12-30 23:08:21,589 - INFO - running at container 3199eeeac34dd16f86cb4f8f63ad80b4241dee29ff22feaae3da3e1f31a87937. Use `docker logs 3199eeeac34dd16f86cb4f8f63ad80b4241dee29ff22feaae3da3e1f31a87937 --tail 10 --follow` to follow progress\n",
      "2022-12-30 23:28:28,344 - INFO - running combine scores\n",
      "g: /tesis/tmp/results/nosql_atm_top_100/*/NosqlInjectionWorse-*/reprScores.txt\n"
     ]
    }
   ],
   "source": [
    "nosql_atm_top_100 = ExperimentSettings(\n",
    "    name=\"nosql_atm_top_100\",\n",
    "    query_type=\"nosql\",\n",
    "    project_list_file=\"/tesis/repos/tsm-pipeline/experiments/tesis/atm_nosql_top100_train.txt\",\n",
    "    results_dir=\"/tesis/tmp/results/nosql_atm_top_100\",\n",
    "    **defaults\n",
    ")\n",
    "\n",
    "run_tsm(docker_client, nosql_atm_top_100, block=True)"
   ]
  },
  {
   "cell_type": "markdown",
   "id": "e98d381c-1e65-4a73-83b2-67d57aeb83a8",
   "metadata": {},
   "source": [
    "Del experimento anterior, tengo resultados muy negativos en el sentido que del total de 70 dbs para entrenar, 42 generaron un modelo vacío:\n",
    "```\n",
    "Experimento: nosql_atm_top_100\n",
    "back home\n",
    "Creado 2022-12-30 23:08:23.361612\n",
    "Estado: FINISHED at 2022-12-30 23:28:27.929809\n",
    "Quedan por entrenar: 0\n",
    "Total: 70\n",
    "Cantidad de errores: 42\n",
    "```\n",
    "A pesar de esto, hubo descubrimientos de reprs para boostear una query. Pasando a la etapa de evaluación de resultados. En total:"
   ]
  },
  {
   "cell_type": "code",
   "execution_count": 25,
   "id": "f38adc11-66e2-453c-90a2-570794abfbdf",
   "metadata": {},
   "outputs": [
    {
     "name": "stdout",
     "output_type": "stream",
     "text": [
      "57\n"
     ]
    }
   ],
   "source": [
    "!cat /tesis/tmp/results/nosql_atm_top_100/averaged-results.csv|wc -l"
   ]
  },
  {
   "cell_type": "code",
   "execution_count": 32,
   "id": "0a1d800e-2276-4b07-8bd4-be005a5bf3a3",
   "metadata": {},
   "outputs": [],
   "source": [
    "from scripts.evaluate import evaluate, EvaluationSettings"
   ]
  },
  {
   "cell_type": "code",
   "execution_count": 29,
   "id": "6f689c32-6240-4fe3-8bce-2fdc926205d4",
   "metadata": {
    "collapsed": true,
    "jupyter": {
     "outputs_hidden": true
    },
    "tags": []
   },
   "outputs": [
    {
     "name": "stdout",
     "output_type": "stream",
     "text": [
      "2022-12-31 00:36:32,635 - INFO - creating /tesis/tmp/results/nosql_atm_top_100/worse dir. Omitting error if already existing\n",
      "2022-12-31 00:36:33,234 - INFO - Starting processing with 4 processes\n",
      "2022-12-31 00:36:33,264 - INFO - Evaluating aheckmann - mquery\n",
      "2022-12-31 00:36:33,263 - INFO - Evaluating 3dbeb41841bfbfcc24d55143816cf7f1 - atl-wdi-10\n",
      "2022-12-31 00:36:33,263 - INFO - Evaluating amejiarosario - meanshop\n",
      "2022-12-31 00:36:33,264 - INFO - Evaluating capacitorset - rebridge\n",
      "2022-12-31 00:38:17,892 - INFO - Evaluating createdd - votingapp\n",
      "2022-12-31 00:38:22,648 - INFO - Evaluating cleverbeagle - pup\n",
      "2022-12-31 00:38:25,747 - INFO - Evaluating cablej - race-condition-demo\n",
      "2022-12-31 00:38:57,626 - INFO - Evaluating bhdouglass - uappexplorer\n",
      "2022-12-31 00:38:59,571 - INFO - Evaluating bertrand31 - monitaure\n",
      "2022-12-31 00:39:09,728 - INFO - Evaluating catsmiaow - tested\n",
      "2022-12-31 00:39:34,717 - INFO - Evaluating cyantarek - django-microservices\n",
      "2022-12-31 00:39:34,968 - INFO - Evaluating craftup - node-mongo-tenant\n",
      "2022-12-31 00:39:43,994 - INFO - Evaluating adobofrenzy - projects\n",
      "2022-12-31 00:39:56,848 - INFO - Evaluating biaochenxuying - blog-node\n",
      "2022-12-31 00:40:08,057 - INFO - Evaluating acm309 - putongoj\n",
      "2022-12-31 00:40:30,914 - INFO - Evaluating alexyoung - nodepad\n",
      "2022-12-31 00:40:33,253 - INFO - Evaluating appbaseio - dejavu\n",
      "2022-12-31 00:40:43,954 - INFO - Evaluating andriichyzh - node-js-advanced-training\n",
      "2022-12-31 00:41:04,778 - INFO - Evaluating algolia - mongoolia\n",
      "2022-12-31 00:41:05,351 - INFO - Evaluating atulmy - wispy\n",
      "2022-12-31 00:41:14,522 - INFO - Evaluating adnanrahic - a-crash-course-on-serverless-auth\n",
      "2022-12-31 00:41:17,912 - INFO - Evaluating 4minitz - 4minitz\n",
      "2022-12-31 00:41:39,558 - INFO - Evaluating avrj - slack-clone\n",
      "2022-12-31 00:41:42,093 - INFO - Evaluating boosterfuels - monogram\n",
      "2022-12-31 00:41:48,835 - INFO - Evaluating abdizriel - nodejs-microservice-starter\n",
      "2022-12-31 00:42:16,392 - INFO - Evaluating b1f6c1c4 - graphql-advanced-projection\n",
      "2022-12-31 00:42:17,374 - INFO - Evaluating cezerin - cezerin\n",
      "2022-12-31 00:42:21,667 - INFO - Evaluating bwdbooks - nodejs-mongodb-angularjs-web-development\n",
      "2022-12-31 00:42:22,718 - INFO - Evaluating danielhreben - sequelize-transparent-cache\n",
      "2022-12-31 00:43:08,937 - INFO - Evaluating capoxix - roamy\n"
     ]
    }
   ],
   "source": [
    "worse_settings = EvaluationSettings(\n",
    "    search_path=\"/tesis/repos/tsm-pipeline/lib-worse/codeql\",\n",
    "    cli_version=\"2.5.2\",\n",
    "    query_file=\"/tesis/repos/tsm-pipeline/tsm-atm-pipeline/src/tsm/evaluation/NosqlInjectionWorseTSM.ql\",\n",
    "    external_predicate_file=\"/tesis/tmp/results/nosql_atm_top_100/averaged-results.csv\",\n",
    ")\n",
    "\n",
    "evaluate(\n",
    "    settings=worse_settings,\n",
    "    output_dir=\"/tesis/tmp/results/nosql_atm_top_100/worse\",\n",
    "    dbs_path=\"/tesis/repos/tsm-pipeline/experiments/tesis/atm_nosql_top100_test.txt\",\n",
    "    **defaults_evalute,\n",
    ")"
   ]
  },
  {
   "cell_type": "code",
   "execution_count": 33,
   "id": "3f9a251c-4e4a-44b4-9438-b6c9b91c8a27",
   "metadata": {
    "collapsed": true,
    "jupyter": {
     "outputs_hidden": true
    },
    "tags": []
   },
   "outputs": [
    {
     "name": "stdout",
     "output_type": "stream",
     "text": [
      "2022-12-31 00:44:07,623 - INFO - creating /tesis/tmp/results/nosql_atm_top_100/v0 dir. Omitting error if already existing\n",
      "2022-12-31 00:44:08,219 - INFO - Starting processing with 4 processes\n",
      "2022-12-31 00:44:08,251 - INFO - Evaluating aheckmann - mquery\n",
      "2022-12-31 00:44:08,251 - INFO - Evaluating capacitorset - rebridge\n",
      "2022-12-31 00:44:08,251 - INFO - Evaluating 3dbeb41841bfbfcc24d55143816cf7f1 - atl-wdi-10\n",
      "2022-12-31 00:44:08,251 - INFO - Evaluating amejiarosario - meanshop\n",
      "2022-12-31 00:46:26,488 - INFO - Evaluating createdd - votingapp\n",
      "2022-12-31 00:46:29,450 - INFO - Evaluating cablej - race-condition-demo\n",
      "2022-12-31 00:46:30,407 - INFO - Evaluating cleverbeagle - pup\n",
      "2022-12-31 00:46:57,322 - INFO - Evaluating bhdouglass - uappexplorer\n",
      "2022-12-31 00:47:00,610 - INFO - Evaluating bertrand31 - monitaure\n",
      "2022-12-31 00:47:04,697 - INFO - Evaluating catsmiaow - tested\n",
      "2022-12-31 00:47:14,852 - INFO - Evaluating biaochenxuying - blog-node\n",
      "2022-12-31 00:47:29,507 - INFO - Evaluating cyantarek - django-microservices\n",
      "2022-12-31 00:47:30,855 - INFO - Evaluating craftup - node-mongo-tenant\n",
      "2022-12-31 00:47:34,415 - INFO - Evaluating adobofrenzy - projects\n",
      "2022-12-31 00:47:44,452 - INFO - Evaluating acm309 - putongoj\n",
      "2022-12-31 00:48:00,546 - INFO - Evaluating alexyoung - nodepad\n",
      "2022-12-31 00:48:16,425 - INFO - Evaluating appbaseio - dejavu\n",
      "2022-12-31 00:48:19,212 - INFO - Evaluating andriichyzh - node-js-advanced-training\n",
      "2022-12-31 00:48:26,930 - INFO - Evaluating algolia - mongoolia\n",
      "2022-12-31 00:48:33,307 - INFO - Evaluating atulmy - wispy\n",
      "2022-12-31 00:48:47,425 - INFO - Evaluating 4minitz - 4minitz\n",
      "2022-12-31 00:48:47,759 - INFO - Evaluating adnanrahic - a-crash-course-on-serverless-auth\n",
      "2022-12-31 00:48:53,652 - INFO - Evaluating avrj - slack-clone\n",
      "2022-12-31 00:49:01,678 - INFO - Evaluating boosterfuels - monogram\n",
      "2022-12-31 00:49:15,365 - INFO - Evaluating abdizriel - nodejs-microservice-starter\n",
      "2022-12-31 00:49:24,789 - INFO - Evaluating b1f6c1c4 - graphql-advanced-projection\n",
      "2022-12-31 00:49:29,627 - INFO - Evaluating cezerin - cezerin\n",
      "2022-12-31 00:49:32,789 - INFO - Evaluating bwdbooks - nodejs-mongodb-angularjs-web-development\n",
      "2022-12-31 00:49:43,121 - INFO - Evaluating danielhreben - sequelize-transparent-cache\n",
      "2022-12-31 00:50:10,743 - INFO - Evaluating capoxix - roamy\n"
     ]
    }
   ],
   "source": [
    "v0_settings = EvaluationSettings(\n",
    "    search_path=\"/tesis/v0/javascript/ql/lib\",\n",
    "    cli_version=\"2.10.5\",\n",
    "    query_file=\"/tesis/repos/tsm-pipeline/tsm-evaluation/tsm-evaluation/src/NoSqlEvaluation.ql\",\n",
    ")\n",
    "\n",
    "evaluate(\n",
    "    settings=v0_settings,\n",
    "    output_dir=\"/tesis/tmp/results/nosql_atm_top_100/v0\",\n",
    "    dbs_path=\"/tesis/repos/tsm-pipeline/experiments/tesis/atm_nosql_top100_test.txt\",\n",
    "    **defaults_evalute,\n",
    ")"
   ]
  },
  {
   "cell_type": "code",
   "execution_count": 34,
   "id": "5d535f2a-d93f-4652-af20-d5c09cb136e9",
   "metadata": {},
   "outputs": [
    {
     "name": "stdout",
     "output_type": "stream",
     "text": [
      "2022-12-31 00:50:57,732 - INFO - Result sets sizes: Worse 260, Boosted 115, V0 108, All 357\n",
      "2022-12-31 00:50:57,738 - INFO - Score results: Precision: 0.0000. Recall: 0.0000. Accuracy: 0.3754\n"
     ]
    },
    {
     "data": {
      "text/plain": [
       "(0.0, 0.0, 0.3753501400560224)"
      ]
     },
     "execution_count": 34,
     "metadata": {},
     "output_type": "execute_result"
    }
   ],
   "source": [
    "from scripts.calculate_scores import calculate_scores\n",
    "\n",
    "calculate_scores(\n",
    "    results_folder=\"/tesis/tmp/results/nosql_atm_top_100/\",\n",
    ")"
   ]
  },
  {
   "cell_type": "markdown",
   "id": "b96fbfea-b02f-4d6d-9c5f-1f4c1347bcc5",
   "metadata": {},
   "source": [
    "Los scores excepto por accuracy son pesimos. Necesito debuggear si es un problema de cómo calculo los scores, cómo evalúo, o si posta la técnica está dando resultados muy chotos. Quizas también puede que sean las dbs."
   ]
  }
 ],
 "metadata": {
  "kernelspec": {
   "display_name": "Python 3 (ipykernel)",
   "language": "python",
   "name": "python3"
  },
  "language_info": {
   "codemirror_mode": {
    "name": "ipython",
    "version": 3
   },
   "file_extension": ".py",
   "mimetype": "text/x-python",
   "name": "python",
   "nbconvert_exporter": "python",
   "pygments_lexer": "ipython3",
   "version": "3.10.6"
  }
 },
 "nbformat": 4,
 "nbformat_minor": 5
}
