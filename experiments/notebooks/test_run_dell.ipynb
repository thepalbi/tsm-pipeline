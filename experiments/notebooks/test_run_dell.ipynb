{
 "cells": [
  {
   "cell_type": "code",
   "execution_count": 7,
   "id": "21a8e559-156e-49bc-b426-d72cb2f6fbf1",
   "metadata": {
    "tags": []
   },
   "outputs": [
    {
     "name": "stdout",
     "output_type": "stream",
     "text": [
      "The autoreload extension is already loaded. To reload it, use:\n",
      "  %reload_ext autoreload\n"
     ]
    }
   ],
   "source": [
    "import sys\n",
    "sys.path.append(\"/home/pablo/tesis/tsm-pipeline/code\")\n",
    "\n",
    "%load_ext autoreload\n",
    "%autoreload 2"
   ]
  },
  {
   "cell_type": "code",
   "execution_count": 2,
   "id": "5e85b737-9b5c-4aec-bb63-245c8b774880",
   "metadata": {
    "tags": []
   },
   "outputs": [],
   "source": [
    "from scripts.xxx import run_tsm, ExperimentSettings\n",
    "import docker\n",
    "\n",
    "docker_client = docker.from_env()\n",
    "defaults = {\n",
    "    \"bash_config_path\": \"/home/pablo/tesis/tsm-pipeline/code/scripts/config.sh\",\n",
    "    \"o11y_db_dir\": \"/home/pablo/tesis/tsm-pipeline/code/tsm.db\",\n",
    "}\n",
    "defaults_evalute = {\n",
    "    \"cache_root\":\"/home/pablo/dbcache\",    \n",
    "}"
   ]
  },
  {
   "cell_type": "markdown",
   "id": "45937195-52af-4ce7-99ae-ab89b667440a",
   "metadata": {},
   "source": [
    "## Prueba para ver si un ejemplo pequeño funciona en la Dell"
   ]
  },
  {
   "cell_type": "markdown",
   "id": "f5fb0cad-e479-4898-a4f7-80225fde53be",
   "metadata": {},
   "source": [
    "El experimento de abajo es una versión de prueba para ver tanto que funciona bien la versión dockerizada y su wrapper en python, como tainted path."
   ]
  },
  {
   "cell_type": "code",
   "execution_count": 8,
   "id": "8f81aa06-4cf2-4aca-bf18-cf6398f91b3d",
   "metadata": {
    "scrolled": true,
    "tags": []
   },
   "outputs": [
    {
     "name": "stdout",
     "output_type": "stream",
     "text": [
      "2023-04-16 12:40:58,305 - INFO - creating /home/pablo/results/dell_test_run dir. Omitting error if already existing\n",
      "2023-04-16 12:40:58,307 - INFO - creating /tmp/log dir. Omitting error if already existing\n",
      "2023-04-16 12:40:58,955 - INFO - running at container af62f572f79cca382139a0d48d301bbde2b7c7b566e528331947c0f61eec46c2. Use `docker logs af62f572f79cca382139a0d48d301bbde2b7c7b566e528331947c0f61eec46c2 --tail 10 --follow` to follow progress\n",
      "2023-04-16 13:00:06,659 - INFO - running combine scores\n",
      "g: /home/pablo/results/dell_test_run/*/TaintedPathWorse-*/reprScores.txt\n"
     ]
    }
   ],
   "source": [
    "test_experiment = ExperimentSettings(\n",
    "    name=\"dell_test_run\",\n",
    "    query_type=\"path\",\n",
    "    project_list_file=\"/home/pablo/tesis/tsm-pipeline/experiments/tesis/tainted_path/test_4.txt\",\n",
    "    results_dir=\"/home/pablo/results/dell_test_run\",\n",
    "    **defaults,\n",
    ")\n",
    "\n",
    "run_tsm(docker_client, test_experiment, block=True)"
   ]
  },
  {
   "cell_type": "code",
   "execution_count": 9,
   "id": "b42a6228-2f55-4062-8d26-9ceb2504ac6a",
   "metadata": {
    "tags": []
   },
   "outputs": [
    {
     "name": "stdout",
     "output_type": "stream",
     "text": [
      "\"(member currentFormPage (parameter 1 (member render *)))\",\"snk\",0.2500000000\n",
      "\"(member error (parameter 0 (member send *)))\",\"snk\",0.5000000000\n",
      "\"(member form (parameter 1 (member render *)))\",\"snk\",0.2500000000\n",
      "\"(member page (parameter 1 (member render *)))\",\"snk\",0.2500000000\n",
      "\"(parameter 0 (member accessSync *))\",\"snk\",1.0000000000\n",
      "\"(parameter 0 (member appendFile *))\",\"snk\",1.0000000000\n",
      "\"(parameter 0 (member appendFileSync *))\",\"snk\",1.0000000000\n",
      "\"(parameter 0 (member createReadStream *))\",\"snk\",1.0000000000\n",
      "\"(parameter 0 (member createWriteStream *))\",\"snk\",1.0000000000\n",
      "\"(parameter 0 (member define (global)))\",\"snk\",1.0000000000\n",
      "\"(parameter 0 (member exists *))\",\"snk\",1.0000000000\n",
      "\"(parameter 0 (member existsSync *))\",\"snk\",1.0000000000\n",
      "\"(parameter 0 (member mkdirSync *))\",\"snk\",1.0000000000\n",
      "\"(parameter 0 (member open *))\",\"snk\",1.0000000000\n",
      "\"(parameter 0 (member readFile *))\",\"snk\",1.0000000000\n",
      "\"(parameter 0 (member readFileSync *))\",\"snk\",1.0000000000\n",
      "\"(parameter 0 (member readdir *))\",\"snk\",1.0000000000\n",
      "\"(parameter 0 (member readdirSync *))\",\"snk\",1.0000000000\n",
      "\"(parameter 0 (member redirect *))\",\"snk\",0.2500000000\n",
      "\"(parameter 0 (member render *))\",\"snk\",1.0000000000\n",
      "\"(parameter 0 (member require (global)))\",\"snk\",1.0000000000\n",
      "\"(parameter 0 (member rmdir *))\",\"snk\",1.0000000000\n",
      "\"(parameter 0 (member send *))\",\"snk\",0.5000000000\n",
      "\"(parameter 0 (member stat *))\",\"snk\",1.0000000000\n",
      "\"(parameter 0 (member statSync *))\",\"snk\",1.0000000000\n",
      "\"(parameter 0 (member unlink *))\",\"snk\",1.0000000000\n",
      "\"(parameter 0 (member unlinkSync *))\",\"snk\",1.0000000000\n",
      "\"(parameter 0 (member write *))\",\"snk\",0.2500000000\n",
      "\"(parameter 0 (member writeFile *))\",\"snk\",1.0000000000\n",
      "\"(parameter 0 (member writeFileSync *))\",\"snk\",1.0000000000\n",
      "\"(parameter 1 (member define (global)))\",\"snk\",1.0000000000\n",
      "\"(parameter 1 (member render *))\",\"snk\",0.2500000000\n",
      "\"(parameter 1 (member setHeader *))\",\"snk\",0.2500000000\n",
      "\"(parameter 1 (member writeFile *))\",\"snk\",0.2500000000\n",
      "\"(return (parameter 1 (member on *)))\",\"snk\",0.2500000000"
     ]
    }
   ],
   "source": [
    "!cat /home/pablo/results/dell_test_run/averaged-results.csv"
   ]
  },
  {
   "cell_type": "markdown",
   "id": "53bfad2e-c810-437f-86e0-f36fb98ac391",
   "metadata": {},
   "source": [
    "Por lo visto, para las 4 DBs con las que corrio el experimento, que son:"
   ]
  },
  {
   "cell_type": "code",
   "execution_count": 12,
   "id": "a61c879b-7a9d-40a3-bb60-3cd0ca9bc858",
   "metadata": {
    "tags": []
   },
   "outputs": [
    {
     "name": "stdout",
     "output_type": "stream",
     "text": [
      "ASCOT/dashboardjs/352a8b6710d6f2ddfd42ddfa0266af65c9c23ebe\n",
      "alphagov/submit-prototype-kit/6ce9e75078ea7965cb9429446cca8c5765817d7c\n",
      "RuffApps/Apps/90e13d23b0593aa45f35fdac736b8e19c6616a9d\n",
      "Sv443/JokeAPI/f2c757a20bdc385edcf57b811ec8cc1a72899432"
     ]
    }
   ],
   "source": [
    "!cat ../tesis/tainted_path/test_4.txt"
   ]
  },
  {
   "cell_type": "markdown",
   "id": "f6e13ec3-2ff5-4175-8e5d-335fda9a21ff",
   "metadata": {
    "tags": []
   },
   "source": [
    "La primera dio timeout, pero el resto corrio bien y dentro de 4 minutos."
   ]
  },
  {
   "cell_type": "markdown",
   "id": "1bdd03e9-59e8-4061-96e3-f4c2eaba642a",
   "metadata": {},
   "source": [
    "## Evaluando un pipeline completo, NoSQL\n",
    "\n",
    "Entrenando con el top 100 de los repos de NoSQL de ATM. Tomo como corte de entrenamiento los primeros 70, y luego los siguientes 30 para evaluar.\n",
    "\n",
    "Primero, para descargar y compilar todas las DBs:\n",
    "```bash\n",
    "# Download and compile \n",
    "python -m database.cli  --list ../experiments/tesis/atm_nosql_top100.txt --cache-root /home/pablo/dbcache --cli-version 2.5.2,2.10.5 --parallel --thread-count=4\n",
    "\n",
    "# Check\n",
    "python -m database.cli  --list ../experiments/tesis/atm_nosql_top100.txt --cache-root /home/pablo/dbcache --cli-version 2.5.2,2.10.5 --check\n",
    "```"
   ]
  },
  {
   "cell_type": "markdown",
   "id": "49eeecfd-01a8-4208-aa68-8f32d49a6d4b",
   "metadata": {},
   "source": [
    "Luego, se puede ejecutar la fase de entrenamiento, produciendo los resultados en el directorio `results_dir` proveido:"
   ]
  },
  {
   "cell_type": "code",
   "execution_count": 14,
   "id": "275c58dc-991f-4c1a-8833-5e05fdf7e2e8",
   "metadata": {
    "tags": []
   },
   "outputs": [
    {
     "name": "stdout",
     "output_type": "stream",
     "text": [
      "2023-04-16 13:45:57,232 - INFO - creating /home/pablo/results/nosql_atm_top100 dir. Omitting error if already existing\n",
      "2023-04-16 13:45:57,234 - INFO - creating /tmp/log dir. Omitting error if already existing\n",
      "2023-04-16 13:45:58,080 - INFO - running at container 6afd831f775aa2bb5d10651ac67db3f1531f57ef7e508c2c88e9fc600eb62ad3. Use `docker logs 6afd831f775aa2bb5d10651ac67db3f1531f57ef7e508c2c88e9fc600eb62ad3 --tail 10 --follow` to follow progress\n",
      "2023-04-16 14:56:31,054 - INFO - running combine scores\n",
      "g: /home/pablo/results/nosql_atm_top100/*/NosqlInjectionWorse-*/reprScores.txt\n"
     ]
    }
   ],
   "source": [
    "nosql_atm_top_100 = ExperimentSettings(\n",
    "    name=\"nosql_atm_top_100\",\n",
    "    query_type=\"nosql\",\n",
    "    project_list_file=\"/home/pablo/tesis/tsm-pipeline/experiments/tesis/atm_nosql_top100_train.txt\",\n",
    "    results_dir=\"/home/pablo/results/nosql_atm_top100\",\n",
    "    **defaults\n",
    ")\n",
    "\n",
    "run_tsm(docker_client, nosql_atm_top_100, block=True)"
   ]
  },
  {
   "cell_type": "code",
   "execution_count": 15,
   "id": "f38adc11-66e2-453c-90a2-570794abfbdf",
   "metadata": {
    "tags": []
   },
   "outputs": [
    {
     "name": "stdout",
     "output_type": "stream",
     "text": [
      "57\n"
     ]
    }
   ],
   "source": [
    "!cat /home/pablo/results/nosql_atm_top100/averaged-results.csv|wc -l"
   ]
  },
  {
   "cell_type": "code",
   "execution_count": 16,
   "id": "0a1d800e-2276-4b07-8bd4-be005a5bf3a3",
   "metadata": {
    "tags": []
   },
   "outputs": [],
   "source": [
    "from scripts.evaluate import evaluate, EvaluationSettings"
   ]
  },
  {
   "cell_type": "code",
   "execution_count": 17,
   "id": "6f689c32-6240-4fe3-8bce-2fdc926205d4",
   "metadata": {
    "tags": []
   },
   "outputs": [
    {
     "name": "stdout",
     "output_type": "stream",
     "text": [
      "2023-04-16 15:32:53,999 - INFO - creating /home/pablo/results/nosql_atm_top100/worse dir. Omitting error if already existing\n",
      "2023-04-16 15:32:54,713 - INFO - Starting processing with 4 processes\n",
      "2023-04-16 15:32:54,820 - INFO - Evaluating amejiarosario - meanshop\n",
      "2023-04-16 15:32:54,820 - INFO - Evaluating 3dbeb41841bfbfcc24d55143816cf7f1 - atl-wdi-10\n",
      "2023-04-16 15:32:54,820 - INFO - Evaluating aheckmann - mquery\n",
      "2023-04-16 15:32:54,820 - INFO - Evaluating capacitorset - rebridge\n",
      "2023-04-16 15:36:48,731 - INFO - Evaluating createdd - votingapp\n",
      "2023-04-16 15:36:59,852 - INFO - Evaluating cablej - race-condition-demo\n",
      "2023-04-16 15:37:01,638 - INFO - Evaluating cleverbeagle - pup\n",
      "2023-04-16 15:37:41,987 - INFO - Evaluating bhdouglass - uappexplorer\n",
      "2023-04-16 15:37:47,390 - INFO - Evaluating bertrand31 - monitaure\n",
      "2023-04-16 15:37:52,473 - INFO - Evaluating catsmiaow - tested\n",
      "2023-04-16 15:38:30,491 - INFO - Evaluating cyantarek - django-microservices\n",
      "2023-04-16 15:38:33,885 - INFO - Evaluating craftup - node-mongo-tenant\n",
      "2023-04-16 15:38:36,772 - INFO - Evaluating adobofrenzy - projects\n",
      "2023-04-16 15:38:59,733 - INFO - Evaluating biaochenxuying - blog-node\n",
      "2023-04-16 15:39:10,725 - INFO - Evaluating acm309 - putongoj\n",
      "2023-04-16 15:39:40,621 - INFO - Evaluating alexyoung - nodepad\n",
      "2023-04-16 15:39:40,826 - INFO - Evaluating appbaseio - dejavu\n",
      "2023-04-16 15:39:58,689 - INFO - Evaluating andriichyzh - node-js-advanced-training\n",
      "2023-04-16 15:40:14,498 - INFO - Evaluating atulmy - wispy\n",
      "2023-04-16 15:40:26,300 - INFO - Evaluating algolia - mongoolia\n",
      "2023-04-16 15:40:32,410 - INFO - Evaluating adnanrahic - a-crash-course-on-serverless-auth\n",
      "2023-04-16 15:40:46,492 - INFO - Evaluating 4minitz - 4minitz\n",
      "2023-04-16 15:41:05,643 - INFO - Evaluating boosterfuels - monogram\n",
      "2023-04-16 15:41:11,755 - INFO - Evaluating avrj - slack-clone\n",
      "2023-04-16 15:41:19,542 - INFO - Evaluating abdizriel - nodejs-microservice-starter\n",
      "2023-04-16 15:41:52,272 - INFO - Evaluating cezerin - cezerin\n",
      "2023-04-16 15:42:00,564 - INFO - Evaluating b1f6c1c4 - graphql-advanced-projection\n",
      "2023-04-16 15:42:04,917 - INFO - Evaluating danielhreben - sequelize-transparent-cache\n",
      "2023-04-16 15:42:11,513 - INFO - Evaluating bwdbooks - nodejs-mongodb-angularjs-web-development\n",
      "2023-04-16 15:43:09,277 - INFO - Evaluating capoxix - roamy\n"
     ]
    }
   ],
   "source": [
    "worse_settings = EvaluationSettings(\n",
    "    search_path=\"/home/pablo/tesis/tsm-pipeline/lib-worse/codeql\",\n",
    "    cli_version=\"2.5.2\",\n",
    "    query_file=\"/home/pablo/tesis/tsm-pipeline/tsm-atm-pipeline/src/tsm/evaluation/NosqlInjectionWorseTSM.ql\",\n",
    "    external_predicate_file=\"/home/pablo/results/nosql_atm_top100/averaged-results.csv\",\n",
    ")\n",
    "\n",
    "evaluate(\n",
    "    settings=worse_settings,\n",
    "    output_dir=\"/home/pablo/results/nosql_atm_top100/worse\",\n",
    "    dbs_path=\"/home/pablo/tesis/tsm-pipeline/experiments/tesis/atm_nosql_top100_test.txt\",\n",
    "    **defaults_evalute,\n",
    ")"
   ]
  },
  {
   "cell_type": "code",
   "execution_count": 18,
   "id": "3f9a251c-4e4a-44b4-9438-b6c9b91c8a27",
   "metadata": {
    "tags": []
   },
   "outputs": [
    {
     "name": "stdout",
     "output_type": "stream",
     "text": [
      "2023-04-16 16:14:17,008 - INFO - creating /home/pablo/results/nosql_atm_top100/v0 dir. Omitting error if already existing\n",
      "2023-04-16 16:14:18,396 - INFO - Starting processing with 4 processes\n",
      "2023-04-16 16:14:18,508 - INFO - Evaluating capacitorset - rebridge\n",
      "2023-04-16 16:14:18,508 - INFO - Evaluating 3dbeb41841bfbfcc24d55143816cf7f1 - atl-wdi-10\n",
      "2023-04-16 16:14:18,503 - INFO - Evaluating amejiarosario - meanshop\n",
      "2023-04-16 16:14:18,508 - INFO - Evaluating aheckmann - mquery\n",
      "2023-04-16 16:19:23,187 - INFO - Evaluating cablej - race-condition-demo\n",
      "2023-04-16 16:19:23,018 - INFO - Evaluating createdd - votingapp\n",
      "2023-04-16 16:19:23,308 - INFO - Evaluating cleverbeagle - pup\n",
      "2023-04-16 16:19:24,175 - INFO - Evaluating biaochenxuying - blog-node\n",
      "2023-04-16 16:20:02,653 - INFO - Evaluating bhdouglass - uappexplorer\n",
      "2023-04-16 16:20:05,338 - INFO - Evaluating bertrand31 - monitaure\n",
      "2023-04-16 16:20:05,621 - INFO - Evaluating catsmiaow - tested\n",
      "2023-04-16 16:20:14,603 - INFO - Evaluating acm309 - putongoj\n",
      "2023-04-16 16:20:42,608 - INFO - Evaluating adobofrenzy - projects\n",
      "2023-04-16 16:20:42,635 - INFO - Evaluating cyantarek - django-microservices\n",
      "2023-04-16 16:20:44,725 - INFO - Evaluating craftup - node-mongo-tenant\n",
      "2023-04-16 16:20:50,040 - INFO - Evaluating andriichyzh - node-js-advanced-training\n",
      "2023-04-16 16:21:21,466 - INFO - Evaluating alexyoung - nodepad\n",
      "2023-04-16 16:21:29,757 - INFO - Evaluating appbaseio - dejavu\n",
      "2023-04-16 16:21:36,628 - INFO - Evaluating atulmy - wispy\n",
      "2023-04-16 16:21:52,250 - INFO - Evaluating 4minitz - 4minitz\n",
      "2023-04-16 16:21:54,796 - INFO - Evaluating algolia - mongoolia\n",
      "2023-04-16 16:22:07,343 - INFO - Evaluating adnanrahic - a-crash-course-on-serverless-auth\n",
      "2023-04-16 16:22:10,985 - INFO - Evaluating boosterfuels - monogram\n",
      "2023-04-16 16:22:29,366 - INFO - Evaluating avrj - slack-clone\n",
      "2023-04-16 16:22:44,724 - INFO - Evaluating abdizriel - nodejs-microservice-starter\n",
      "2023-04-16 16:22:47,785 - INFO - Evaluating cezerin - cezerin\n",
      "2023-04-16 16:22:48,555 - INFO - Evaluating bwdbooks - nodejs-mongodb-angularjs-web-development\n",
      "2023-04-16 16:23:06,902 - INFO - Evaluating b1f6c1c4 - graphql-advanced-projection\n",
      "2023-04-16 16:23:19,860 - INFO - Evaluating danielhreben - sequelize-transparent-cache\n",
      "2023-04-16 16:23:44,814 - INFO - Evaluating capoxix - roamy\n"
     ]
    }
   ],
   "source": [
    "v0_settings = EvaluationSettings(\n",
    "    search_path=\"/home/pablo/codeqlv0/javascript/ql/lib\",\n",
    "    cli_version=\"2.10.5\",\n",
    "    query_file=\"/home/pablo/tesis/tsm-pipeline/tsm-evaluation/tsm-evaluation/src/NoSqlEvaluation.ql\",\n",
    ")\n",
    "\n",
    "evaluate(\n",
    "    settings=v0_settings,\n",
    "    output_dir=\"/home/pablo/results/nosql_atm_top100/v0\",\n",
    "    dbs_path=\"/home/pablo/tesis/tsm-pipeline/experiments/tesis/atm_nosql_top100_test.txt\",\n",
    "    **defaults_evalute,\n",
    ")"
   ]
  },
  {
   "cell_type": "code",
   "execution_count": 19,
   "id": "5d535f2a-d93f-4652-af20-d5c09cb136e9",
   "metadata": {
    "tags": []
   },
   "outputs": [
    {
     "name": "stdout",
     "output_type": "stream",
     "text": [
      "2023-04-16 16:52:02,977 - INFO - Result sets sizes: Worse 260, Boosted 115, V0 108, All 368\n",
      "2023-04-16 16:52:03,008 - INFO - Score results: Precision: 0.0000. Recall: 0.0000. Accuracy: 0.3940\n"
     ]
    },
    {
     "data": {
      "text/plain": [
       "(0.0, 0.0, 0.39402173913043476)"
      ]
     },
     "execution_count": 19,
     "metadata": {},
     "output_type": "execute_result"
    }
   ],
   "source": [
    "from scripts.calculate_scores import calculate_scores\n",
    "\n",
    "calculate_scores(\n",
    "    results_folder=\"/home/pablo/results/nosql_atm_top100\",\n",
    ")"
   ]
  },
  {
   "cell_type": "markdown",
   "id": "b96fbfea-b02f-4d6d-9c5f-1f4c1347bcc5",
   "metadata": {},
   "source": [
    "Los scores excepto por accuracy son pesimos. Necesito debuggear si es un problema de cómo calculo los scores, cómo evalúo, o si posta la técnica está dando resultados muy chotos. Quizas también puede que sean las dbs."
   ]
  }
 ],
 "metadata": {
  "kernelspec": {
   "display_name": "Python 3 (ipykernel)",
   "language": "python",
   "name": "python3"
  },
  "language_info": {
   "codemirror_mode": {
    "name": "ipython",
    "version": 3
   },
   "file_extension": ".py",
   "mimetype": "text/x-python",
   "name": "python",
   "nbconvert_exporter": "python",
   "pygments_lexer": "ipython3",
   "version": "3.10.6"
  }
 },
 "nbformat": 4,
 "nbformat_minor": 5
}
