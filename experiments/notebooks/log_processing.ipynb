{
 "cells": [
  {
   "cell_type": "code",
   "execution_count": 1,
   "id": "7345cafa-36a4-4ddc-abca-48315ca2b19b",
   "metadata": {
    "tags": []
   },
   "outputs": [],
   "source": [
    "path = \"/home/pablo/results/seldon_tainted_path_1/training_log.txt\""
   ]
  },
  {
   "cell_type": "code",
   "execution_count": 20,
   "id": "20a91611-8d48-4e4e-9af7-cd2ff65dd8bf",
   "metadata": {
    "tags": []
   },
   "outputs": [
    {
     "name": "stdout",
     "output_type": "stream",
     "text": [
      "total: 24, running: 1, ok: 20, empty model: 2, unhandled error: 1\n"
     ]
    }
   ],
   "source": [
    "import re\n",
    "\"\"\"\n",
    "[INFO   2023-04-30 20:27:56,262] root   dbname=RuffApps_Apps_90e13d23 running pipeline\n",
    "[INFO   2023-04-30 20:28:05,385] root   dbname=RuffApps_Apps_90e13d23 run ok\n",
    "\"\"\"\n",
    "\n",
    "# dbname=(.+) \n",
    "\n",
    "state_regex = re.compile(\"dbname=(\\w+)\\s(.+)$\")\n",
    "\n",
    "dbs_state = {}\n",
    "\n",
    "STATE_RUNNING = 'running'\n",
    "STATE_OK = 'ok'\n",
    "STATE_ERROR = 'error'\n",
    "STATE_EMPTY_MODEL = 'empty_model'\n",
    "\n",
    "count_running = 0\n",
    "count_ok = 0\n",
    "with open(path, 'r') as f:\n",
    "    for l in f.readlines():\n",
    "        l = l.rstrip()\n",
    "        m = state_regex.search(l)\n",
    "        if m is not None:\n",
    "            db_name = m.group(1)\n",
    "            db_state = m.group(2)\n",
    "            # print(\"%s: %s\" % (db_name, db_state))\n",
    "            s = STATE_ERROR\n",
    "            if db_state == 'running pipeline':\n",
    "                s = STATE_RUNNING\n",
    "            elif db_state == 'run ok':\n",
    "                s = STATE_OK\n",
    "            elif db_state.startswith('run ended because model was empty'):\n",
    "                s = STATE_EMPTY_MODEL\n",
    "            dbs_state[db_name] = s\n",
    "\n",
    "\n",
    "            \n",
    "\n",
    "print(\"total: %d, running: %d, ok: %d, empty model: %s, unhandled error: %s\" % (\n",
    "    len(dbs_state),\n",
    "    len([k for k in dbs_state.keys() if dbs_state[k] == STATE_RUNNING]),\n",
    "    len([k for k in dbs_state.keys() if dbs_state[k] == STATE_OK]),\n",
    "    len([k for k in dbs_state.keys() if dbs_state[k] == STATE_EMPTY_MODEL]),\n",
    "    len([k for k in dbs_state.keys() if dbs_state[k] == STATE_ERROR])\n",
    "))"
   ]
  }
 ],
 "metadata": {
  "kernelspec": {
   "display_name": "Python 3 (ipykernel)",
   "language": "python",
   "name": "python3"
  },
  "language_info": {
   "codemirror_mode": {
    "name": "ipython",
    "version": 3
   },
   "file_extension": ".py",
   "mimetype": "text/x-python",
   "name": "python",
   "nbconvert_exporter": "python",
   "pygments_lexer": "ipython3",
   "version": "3.10.6"
  }
 },
 "nbformat": 4,
 "nbformat_minor": 5
}
