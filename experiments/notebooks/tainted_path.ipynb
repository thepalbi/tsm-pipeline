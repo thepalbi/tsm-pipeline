{
 "cells": [
  {
   "cell_type": "code",
   "execution_count": 10,
   "id": "874ac974-1955-45bd-9973-c52ac07d8d5c",
   "metadata": {
    "tags": []
   },
   "outputs": [
    {
     "name": "stdout",
     "output_type": "stream",
     "text": [
      "The autoreload extension is already loaded. To reload it, use:\n",
      "  %reload_ext autoreload\n"
     ]
    }
   ],
   "source": [
    "import sys\n",
    "libpath = \"/home/pablo/tesis/tsm-pipeline/code\"\n",
    "if libpath not in sys.path:\n",
    "    sys.path.append(libpath)\n",
    "    \n",
    "%load_ext autoreload\n",
    "%autoreload 2"
   ]
  },
  {
   "cell_type": "code",
   "execution_count": 11,
   "id": "e420df7e-b23a-45bd-b9fa-ad2984061222",
   "metadata": {
    "tags": []
   },
   "outputs": [],
   "source": [
    "import docker\n",
    "docker_client = docker.from_env()\n",
    "\n",
    "# Configura todo lo necesario en el ambiente\n",
    "from scripts.docker import run_tsm, ExperimentSettings, read_dbs_dataset\n",
    "from scripts.evaluate import evaluate, EvaluationSettings\n",
    "from os.path import join as path_join\n",
    "\n",
    "defaults = {\n",
    "    \"bash_config_path\": \"/home/pablo/tesis/tsm-pipeline/code/scripts/config.sh\",\n",
    "}\n",
    "defaults_evalute = {\n",
    "    \"cache_root\":\"/home/pablo/dbcache\",    \n",
    "}"
   ]
  },
  {
   "cell_type": "code",
   "execution_count": 12,
   "id": "bbbacb73-b578-4cb5-8fa1-27439ac9ddba",
   "metadata": {
    "tags": []
   },
   "outputs": [
    {
     "data": {
      "text/plain": [
       "100"
      ]
     },
     "execution_count": 12,
     "metadata": {},
     "output_type": "execute_result"
    }
   ],
   "source": [
    "tainted_path = read_dbs_dataset(\"/home/pablo/tesis/tsm-pipeline/experiments/tesis/tainted_path_top_100.txt\")\n",
    "len(tainted_path)"
   ]
  },
  {
   "cell_type": "code",
   "execution_count": 13,
   "id": "a18ea029-91d8-4e6b-a852-0c290ab92fa2",
   "metadata": {
    "tags": []
   },
   "outputs": [
    {
     "data": {
      "text/plain": [
       "['chunkai1312/shields/8a89dad5bd52689f23e5c613f9f97b51c52f7866',\n",
       " 'RuffApps/Apps/90e13d23b0593aa45f35fdac736b8e19c6616a9d',\n",
       " 'bahamas10/node-static-route/c89a2793ac8ae34565602a9523b187e39e50b710',\n",
       " 'alecperkins/missive/1782326c3cfd6d1816e724a55bb985309d98411b',\n",
       " 'brianleroux/lawnchair/4a20309b14cee3b6eb74b24c688c5a4a5a98f879',\n",
       " 'bkw/node-dronestream/09fedd578dfb6fe7f62ca990becb5cffec9154df',\n",
       " 'TevinLi/amWiki/8756a085fd234b70e153c53e93f499592d393958',\n",
       " 'azproduction/lmd/03410c36839728de683c697670e1b205dc8193ee',\n",
       " 'ably/ably-js/202d6515c32638aad12eaed78c4905d14b63a649',\n",
       " 'GoogleChromeLabs/ui-element-samples/cb21b7cb6b4de707cdd1856becb018d9b28c455b']"
      ]
     },
     "execution_count": 13,
     "metadata": {},
     "output_type": "execute_result"
    }
   ],
   "source": [
    "from sklearn.model_selection import train_test_split\n",
    "from numpy.random import RandomState\n",
    "\n",
    "# Using a fixed random state to have reproducible results\n",
    "rand = RandomState(seed=5)\n",
    "\n",
    "train, test = train_test_split(tainted_path, train_size=.5, shuffle=True, random_state=rand)\n",
    "train[0:10]"
   ]
  },
  {
   "cell_type": "markdown",
   "id": "f2c0ca0b-ca89-4feb-9594-025b51e70e96",
   "metadata": {},
   "source": [
    "Calculo un split de 50/50 con tainted path top 100"
   ]
  },
  {
   "cell_type": "code",
   "execution_count": 6,
   "id": "6330350b-d6bf-4048-a356-f3aab3d59987",
   "metadata": {
    "tags": []
   },
   "outputs": [],
   "source": [
    "results_dir = \"/home/pablo/results/bb_path_1\""
   ]
  },
  {
   "cell_type": "code",
   "execution_count": null,
   "id": "1df81dc8-8550-4832-99f0-7d5f05326646",
   "metadata": {
    "jupyter": {
     "source_hidden": true
    },
    "tags": []
   },
   "outputs": [],
   "source": [
    "results_dir = '/home/pablo/results/seldonstar_nosql_1'"
   ]
  },
  {
   "cell_type": "code",
   "execution_count": 7,
   "id": "c0f00e00-8b19-4edb-8e29-5907ff433b75",
   "metadata": {
    "tags": []
   },
   "outputs": [
    {
     "name": "stdout",
     "output_type": "stream",
     "text": [
      "running at container 62d077c94a5fad6a9f2073452d967e6639b78f336311bf7a3cb4184230bd809f. Use `docker logs 62d077c94a5fad6a9f2073452d967e6639b78f336311bf7a3cb4184230bd809f --tail 10 --follow` to follow progress\n",
      "g: /home/pablo/results/bb_path_1/*/TaintedPathWorse-*/reprScores.txt\n"
     ]
    }
   ],
   "source": [
    "# training\n",
    "train_settings = ExperimentSettings(\n",
    "    name=\"benjamin_button_path_1\",\n",
    "    query_type=\"path\",\n",
    "    project_list=train,\n",
    "    results_dir=results_dir,\n",
    "    **defaults\n",
    ")\n",
    "\n",
    "run_tsm(docker_client, train_settings, block=True)"
   ]
  },
  {
   "cell_type": "code",
   "execution_count": 8,
   "id": "7d83acde-20e2-48e2-bd8e-af8c544785dd",
   "metadata": {
    "tags": []
   },
   "outputs": [
    {
     "name": "stdout",
     "output_type": "stream",
     "text": [
      "128\n"
     ]
    }
   ],
   "source": [
    "!cat /home/pablo/results/bb_path_1/averaged-results.csv|wc -l"
   ]
  },
  {
   "cell_type": "code",
   "execution_count": 14,
   "id": "2fcd7439-b248-48db-8ec2-6d6902962abe",
   "metadata": {
    "tags": []
   },
   "outputs": [
    {
     "name": "stdout",
     "output_type": "stream",
     "text": [
      "Evaluating worse with 50 dbs\n"
     ]
    }
   ],
   "source": [
    "# evaluation\n",
    "external_predicate_file = path_join(results_dir, 'averaged-results.csv')\n",
    "worse_settings = EvaluationSettings(\n",
    "    search_path=\"/home/pablo/tesis/tsm-pipeline/lib-worse/codeql/javascript/ql:/home/pablo/.codeql/packages/codeql/javascript-upgrades/0.0.3\",\n",
    "    cli_version=\"2.13.1\",\n",
    "    db_cli_version=\"2.5.2\",\n",
    "    query_file=\"/home/pablo/tesis/tsm-pipeline/tsm-atm-pipeline/src/tsm/evaluation/TaintedPathWorseTSM.ql\",\n",
    "    external_predicate_file=external_predicate_file,\n",
    "    **defaults_evalute,\n",
    ")\n",
    "\n",
    "print(\"Evaluating worse with %d dbs\" % (len(test)))\n",
    "evaluate(\n",
    "    settings=worse_settings,\n",
    "    output_dir=path_join(results_dir, 'worse'),\n",
    "    dbs=test,\n",
    ")"
   ]
  },
  {
   "cell_type": "code",
   "execution_count": 15,
   "id": "bf052a16-21e1-4ed8-ab0d-beb1d0c4f330",
   "metadata": {
    "tags": []
   },
   "outputs": [
    {
     "name": "stdout",
     "output_type": "stream",
     "text": [
      "Evaluating v0 with 50 dbs\n"
     ]
    }
   ],
   "source": [
    "v0_settings = EvaluationSettings(\n",
    "    search_path=\"/home/pablo/codeqlv0/javascript/ql/lib\",\n",
    "    cli_version=\"2.13.1\",\n",
    "    db_cli_version=\"2.5.2\",\n",
    "    query_file=\"/home/pablo/tesis/tsm-pipeline/tsm-evaluation/tsm-evaluation/src/PathEvaluation.ql\",\n",
    "    **defaults_evalute,\n",
    ")\n",
    "\n",
    "print(\"Evaluating v0 with %d dbs\" % (len(test)))\n",
    "evaluate(\n",
    "    settings=v0_settings,\n",
    "    output_dir=path_join(results_dir, 'v0'),\n",
    "    dbs=test,\n",
    ")"
   ]
  },
  {
   "cell_type": "code",
   "execution_count": 16,
   "id": "06e9b14c-4ef0-4347-af63-174477bd9a94",
   "metadata": {
    "tags": []
   },
   "outputs": [
    {
     "data": {
      "text/plain": [
       "(0.0, 0.0, 0.0)"
      ]
     },
     "execution_count": 16,
     "metadata": {},
     "output_type": "execute_result"
    }
   ],
   "source": [
    "from scripts.calculate_scores import calculate_scores\n",
    "\n",
    "calculate_scores(\n",
    "    results_folder=results_dir,\n",
    "    cleanup_base_dir=\"/tmp\",\n",
    ")"
   ]
  }
 ],
 "metadata": {
  "kernelspec": {
   "display_name": "Python 3 (ipykernel)",
   "language": "python",
   "name": "python3"
  },
  "language_info": {
   "codemirror_mode": {
    "name": "ipython",
    "version": 3
   },
   "file_extension": ".py",
   "mimetype": "text/x-python",
   "name": "python",
   "nbconvert_exporter": "python",
   "pygments_lexer": "ipython3",
   "version": "3.10.6"
  }
 },
 "nbformat": 4,
 "nbformat_minor": 5
}
