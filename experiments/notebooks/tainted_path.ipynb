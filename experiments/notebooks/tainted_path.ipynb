{
 "cells": [
  {
   "cell_type": "code",
   "execution_count": 1,
   "id": "e420df7e-b23a-45bd-b9fa-ad2984061222",
   "metadata": {
    "tags": []
   },
   "outputs": [],
   "source": [
    "import sys\n",
    "libpath = \"/home/pablo/tesis/tsm-pipeline/code\"\n",
    "if libpath not in sys.path:\n",
    "    sys.path.append(libpath)\n",
    "    \n",
    "%load_ext autoreload\n",
    "%autoreload 2\n",
    "\n",
    "import docker\n",
    "docker_client = docker.from_env()\n",
    "\n",
    "# Configura todo lo necesario en el ambiente\n",
    "from scripts.xxx import run_tsm, ExperimentSettings, read_dbs_dataset\n",
    "from scripts.evaluate import evaluate, EvaluationSettings\n",
    "from os.path import join as path_join\n",
    "\n",
    "defaults = {\n",
    "    \"bash_config_path\": \"/home/pablo/tesis/tsm-pipeline/code/scripts/config.sh\",\n",
    "}\n",
    "defaults_evalute = {\n",
    "    \"cache_root\":\"/home/pablo/dbcache\",    \n",
    "}"
   ]
  },
  {
   "cell_type": "code",
   "execution_count": 2,
   "id": "bbbacb73-b578-4cb5-8fa1-27439ac9ddba",
   "metadata": {
    "tags": []
   },
   "outputs": [
    {
     "data": {
      "text/plain": [
       "100"
      ]
     },
     "execution_count": 2,
     "metadata": {},
     "output_type": "execute_result"
    }
   ],
   "source": [
    "tainted_path = read_dbs_dataset(\"/home/pablo/tesis/tsm-pipeline/experiments/tesis/tainted_path_top_100.txt\")\n",
    "len(tainted_path)"
   ]
  },
  {
   "cell_type": "code",
   "execution_count": 3,
   "id": "a18ea029-91d8-4e6b-a852-0c290ab92fa2",
   "metadata": {
    "tags": []
   },
   "outputs": [],
   "source": [
    "from sklearn.model_selection import train_test_split\n",
    "from numpy.random import RandomState\n",
    "\n",
    "# Using a fixed random state to have reproducible results\n",
    "rand = RandomState(seed=5)\n",
    "\n",
    "train, test = train_test_split(tainted_path, train_size=.5, shuffle=True, random_state=rand)"
   ]
  },
  {
   "cell_type": "markdown",
   "id": "f2c0ca0b-ca89-4feb-9594-025b51e70e96",
   "metadata": {},
   "source": [
    "Calculo un split de 50/50 con tainted path top 100"
   ]
  },
  {
   "cell_type": "code",
   "execution_count": 4,
   "id": "6330350b-d6bf-4048-a356-f3aab3d59987",
   "metadata": {
    "tags": []
   },
   "outputs": [],
   "source": [
    "results_dir = \"/home/pablo/results/seldon_tainted_path_1\""
   ]
  },
  {
   "cell_type": "code",
   "execution_count": 5,
   "id": "1df81dc8-8550-4832-99f0-7d5f05326646",
   "metadata": {
    "jupyter": {
     "source_hidden": true
    },
    "tags": []
   },
   "outputs": [],
   "source": [
    "results_dir = '/home/pablo/results/seldonstar_nosql_1'"
   ]
  },
  {
   "cell_type": "code",
   "execution_count": 5,
   "id": "c0f00e00-8b19-4edb-8e29-5907ff433b75",
   "metadata": {
    "tags": []
   },
   "outputs": [
    {
     "name": "stdout",
     "output_type": "stream",
     "text": [
      "2023-04-30 17:27:44,277 - INFO - creating /home/pablo/results/seldon_tainted_path_1 dir. Omitting error if already existing\n",
      "2023-04-30 17:27:44,278 - INFO - creating /tmp/log dir. Omitting error if already existing\n",
      "2023-04-30 17:27:44,647 - INFO - running at container 63a56d178bfae86fee1dae5df06b2867f550d30b20c019137e2c5320516c5f25. Use `docker logs 63a56d178bfae86fee1dae5df06b2867f550d30b20c019137e2c5320516c5f25 --tail 10 --follow` to follow progress\n",
      "2023-04-30 19:20:40,063 - INFO - running combine scores\n",
      "g: /home/pablo/results/seldon_tainted_path_1/*/TaintedPathWorse-*/reprScores.txt\n"
     ]
    }
   ],
   "source": [
    "# training\n",
    "train_settings = ExperimentSettings(\n",
    "    name=\"seldon_tainted_path_1\",\n",
    "    query_type=\"path\",\n",
    "    project_list=train,\n",
    "    results_dir=results_dir,\n",
    "    **defaults\n",
    ")\n",
    "\n",
    "run_tsm(docker_client, train_settings, block=True)"
   ]
  },
  {
   "cell_type": "code",
   "execution_count": 6,
   "id": "7d83acde-20e2-48e2-bd8e-af8c544785dd",
   "metadata": {
    "tags": []
   },
   "outputs": [
    {
     "name": "stdout",
     "output_type": "stream",
     "text": [
      "129\n"
     ]
    }
   ],
   "source": [
    "!cat /home/pablo/results/seldon_tainted_path_1/averaged-results.csv|wc -l"
   ]
  },
  {
   "cell_type": "code",
   "execution_count": 9,
   "id": "2fcd7439-b248-48db-8ec2-6d6902962abe",
   "metadata": {
    "tags": []
   },
   "outputs": [
    {
     "name": "stdout",
     "output_type": "stream",
     "text": [
      "Evaluating worse with 50 dbs\n",
      "2023-05-01 11:59:31,083 - INFO - creating /home/pablo/results/seldon_tainted_path_1/worse dir. Omitting error if already existing\n",
      "2023-05-01 11:59:32,567 - INFO - Starting processing with 4 processes\n",
      "2023-05-01 11:59:33,091 - INFO - Evaluating GitbookIO - gitbook\n",
      "2023-05-01 11:59:33,091 - INFO - Evaluating alphagov - spotlight\n",
      "2023-05-01 11:59:33,091 - INFO - Evaluating alanshaw - david-www\n",
      "2023-05-01 11:59:33,091 - INFO - Evaluating alumna - liven\n",
      "2023-05-01 12:00:00,875 - INFO - Evaluating Lallassu - ParrotHunt\n",
      "2023-05-01 12:00:01,632 - INFO - Evaluating IBM - predictive-market-using-arria\n",
      "2023-05-01 12:00:01,891 - INFO - Evaluating Manouchehri - COMP2406-Assignment-2\n",
      "2023-05-01 12:00:18,251 - INFO - Evaluating MrRio - jsPDF\n",
      "2023-05-01 12:00:24,287 - INFO - Evaluating cgiffard - Behaviour-Assertion-Sheets\n",
      "2023-05-01 12:00:24,595 - INFO - Evaluating DimiMikadze - react-native-game\n",
      "2023-05-01 12:00:29,842 - INFO - Evaluating SheetJS - sheetjs\n",
      "2023-05-01 12:00:48,993 - INFO - Evaluating GuiWukai - first_node\n",
      "2023-05-01 12:00:50,317 - INFO - Evaluating MatAtBread - nodent-demo\n",
      "2023-05-01 12:01:09,495 - INFO - Evaluating OstlerDev - PopcornTV\n",
      "2023-05-01 12:01:13,000 - INFO - Evaluating bwdbooks - nodejs-mongodb-angularjs-web-development\n",
      "2023-05-01 12:01:30,870 - INFO - Evaluating abecms - abecms\n",
      "2023-05-01 12:01:32,972 - INFO - Evaluating YellowLabTools - YellowLabTools\n",
      "2023-05-01 12:01:52,201 - INFO - Evaluating adaptlearning - adapt_authoring\n",
      "2023-05-01 12:01:52,515 - INFO - Evaluating KIDx - ACdream\n",
      "2023-05-01 12:01:54,444 - INFO - Evaluating HOPLONG - 17052017\n",
      "2023-05-01 12:02:43,969 - INFO - Evaluating IonicaBizau - statique\n",
      "2023-05-01 12:02:59,903 - INFO - Evaluating Esri - esri-gnip-loader\n",
      "2023-05-01 12:03:16,603 - INFO - Evaluating aeosynth - draft\n",
      "2023-05-01 12:03:21,679 - INFO - Evaluating Ealenn - Echo-Server\n",
      "2023-05-01 12:03:35,195 - INFO - Evaluating alphagov - submit-prototype-kit\n",
      "2023-05-01 12:03:41,735 - INFO - Evaluating alphagov - location-picker-prototype\n",
      "2023-05-01 12:04:05,150 - INFO - Evaluating YahooArchive - guerilla\n",
      "2023-05-01 12:04:11,043 - INFO - Evaluating airontsang - up-up\n",
      "2023-05-01 12:04:24,393 - INFO - Evaluating bredele - vomit\n",
      "2023-05-01 12:04:26,507 - INFO - Evaluating LarmuseauNiels - WeighAnchor\n",
      "2023-05-01 12:04:43,969 - INFO - Evaluating BoredHackerBlog - runthelabs\n",
      "2023-05-01 12:04:46,927 - INFO - Evaluating JWally - jsLPSolver\n",
      "2023-05-01 12:04:49,753 - INFO - Evaluating alphagov - transformation-dependencies\n",
      "2023-05-01 12:05:10,523 - INFO - Evaluating Sv443 - JokeAPI\n",
      "2023-05-01 12:05:15,719 - INFO - Evaluating WebReflection - testardo\n",
      "2023-05-01 12:05:33,086 - INFO - Evaluating TheEvilCorp - OverReact\n",
      "2023-05-01 12:05:33,612 - INFO - Evaluating brettz9 - httpquery\n",
      "2023-05-01 12:05:35,825 - INFO - Evaluating GuildCrafts - floworky\n",
      "2023-05-01 12:05:55,052 - INFO - Evaluating Lallassu - VoxLords\n",
      "2023-05-01 12:05:55,101 - INFO - Evaluating bigstepinc - jsonrpc-bidirectional\n",
      "2023-05-01 12:05:56,425 - INFO - Evaluating JPinkney - local-doc\n",
      "2023-05-01 12:06:18,055 - INFO - Evaluating Qard - v8-autodoc\n",
      "2023-05-01 12:06:19,630 - INFO - Evaluating KhaledElAnsari - backgroundor\n",
      "2023-05-01 12:06:19,669 - INFO - Evaluating arguseyes - argus-eyes\n",
      "2023-05-01 12:06:37,316 - INFO - Evaluating DoubleSpout - threadAndPackage\n",
      "2023-05-01 12:06:41,936 - INFO - Evaluating byteclubfr - uncloak\n",
      "2023-05-01 12:06:52,994 - INFO - Evaluating VitaNuova - SpeakUp\n",
      "2023-05-01 12:07:00,593 - INFO - Evaluating ASCOT - dashboardjs\n",
      "2023-05-01 12:07:09,466 - INFO - Evaluating ExactTarget - fuelux\n",
      "2023-05-01 12:08:29,167 - INFO - Evaluating MgBacon - sharex-node-upload-server\n",
      "Evaluating v0 with 50 dbs\n",
      "2023-05-01 12:08:38,745 - INFO - creating /home/pablo/results/seldon_tainted_path_1/v0 dir. Omitting error if already existing\n",
      "2023-05-01 12:08:39,337 - INFO - Starting processing with 4 processes\n",
      "2023-05-01 12:08:39,425 - INFO - Evaluating GitbookIO - gitbook\n",
      "2023-05-01 12:08:39,425 - INFO - Evaluating alumna - liven\n",
      "2023-05-01 12:08:39,425 - INFO - Evaluating alphagov - spotlight\n",
      "2023-05-01 12:08:39,425 - INFO - Evaluating alanshaw - david-www\n",
      "2023-05-01 12:09:05,022 - INFO - Evaluating Manouchehri - COMP2406-Assignment-2\n",
      "2023-05-01 12:09:05,824 - INFO - Evaluating Lallassu - ParrotHunt\n",
      "2023-05-01 12:09:06,061 - INFO - Evaluating IBM - predictive-market-using-arria\n",
      "2023-05-01 12:09:07,290 - INFO - Evaluating MrRio - jsPDF\n",
      "2023-05-01 12:09:26,870 - INFO - Evaluating cgiffard - Behaviour-Assertion-Sheets\n",
      "2023-05-01 12:09:28,397 - INFO - Evaluating DimiMikadze - react-native-game\n",
      "2023-05-01 12:09:29,694 - INFO - Evaluating SheetJS - sheetjs\n",
      "2023-05-01 12:09:46,462 - INFO - Evaluating KIDx - ACdream\n",
      "2023-05-01 12:09:49,150 - INFO - Evaluating MatAtBread - nodent-demo\n",
      "2023-05-01 12:09:49,350 - INFO - Evaluating GuiWukai - first_node\n",
      "2023-05-01 12:09:55,236 - INFO - Evaluating adaptlearning - adapt_authoring\n",
      "2023-05-01 12:10:11,666 - INFO - Evaluating OstlerDev - PopcornTV\n",
      "2023-05-01 12:10:12,426 - INFO - Evaluating bwdbooks - nodejs-mongodb-angularjs-web-development\n",
      "2023-05-01 12:10:22,048 - INFO - Evaluating IonicaBizau - statique\n",
      "2023-05-01 12:10:34,027 - INFO - Evaluating YellowLabTools - YellowLabTools\n",
      "2023-05-01 12:10:37,401 - INFO - Evaluating abecms - abecms\n",
      "2023-05-01 12:10:42,467 - INFO - Evaluating Esri - esri-gnip-loader\n",
      "2023-05-01 12:10:48,206 - INFO - Evaluating HOPLONG - 17052017\n",
      "2023-05-01 12:11:03,454 - INFO - Evaluating LarmuseauNiels - WeighAnchor\n",
      "2023-05-01 12:11:10,775 - INFO - Evaluating aeosynth - draft\n",
      "2023-05-01 12:11:23,121 - INFO - Evaluating YahooArchive - guerilla\n",
      "2023-05-01 12:11:31,034 - INFO - Evaluating alphagov - submit-prototype-kit\n",
      "2023-05-01 12:11:41,363 - INFO - Evaluating bredele - vomit\n",
      "2023-05-01 12:11:49,679 - INFO - Evaluating Ealenn - Echo-Server\n",
      "2023-05-01 12:12:04,116 - INFO - Evaluating BoredHackerBlog - runthelabs\n",
      "2023-05-01 12:12:06,951 - INFO - Evaluating airontsang - up-up\n",
      "2023-05-01 12:12:12,615 - INFO - Evaluating alphagov - location-picker-prototype\n",
      "2023-05-01 12:12:35,716 - INFO - Evaluating JWally - jsLPSolver\n",
      "2023-05-01 12:12:36,581 - INFO - Evaluating alphagov - transformation-dependencies\n",
      "2023-05-01 12:12:37,177 - INFO - Evaluating brettz9 - httpquery\n",
      "2023-05-01 12:12:56,478 - INFO - Evaluating Sv443 - JokeAPI\n",
      "2023-05-01 12:12:57,135 - INFO - Evaluating Lallassu - VoxLords\n",
      "2023-05-01 12:12:59,619 - INFO - Evaluating WebReflection - testardo\n",
      "2023-05-01 12:13:16,011 - INFO - Evaluating KhaledElAnsari - backgroundor\n",
      "2023-05-01 12:13:17,125 - INFO - Evaluating TheEvilCorp - OverReact\n",
      "2023-05-01 12:13:19,641 - INFO - Evaluating GuildCrafts - floworky\n",
      "2023-05-01 12:13:36,481 - INFO - Evaluating bigstepinc - jsonrpc-bidirectional\n",
      "2023-05-01 12:13:36,885 - INFO - Evaluating VitaNuova - SpeakUp\n",
      "2023-05-01 12:13:39,138 - INFO - Evaluating JPinkney - local-doc\n",
      "2023-05-01 12:13:57,527 - INFO - Evaluating ExactTarget - fuelux\n",
      "2023-05-01 12:13:57,696 - INFO - Evaluating arguseyes - argus-eyes\n",
      "2023-05-01 12:13:57,804 - INFO - Evaluating Qard - v8-autodoc\n",
      "2023-05-01 12:14:19,349 - INFO - Evaluating DoubleSpout - threadAndPackage\n",
      "2023-05-01 12:14:20,007 - INFO - Evaluating byteclubfr - uncloak\n",
      "2023-05-01 12:14:39,926 - INFO - Evaluating ASCOT - dashboardjs\n",
      "2023-05-01 12:14:49,039 - INFO - Evaluating MgBacon - sharex-node-upload-server\n"
     ]
    }
   ],
   "source": [
    "# evaluation\n",
    "external_predicate_file = path_join(results_dir, 'averaged-results.csv')\n",
    "worse_settings = EvaluationSettings(\n",
    "    search_path=\"/home/pablo/tesis/tsm-pipeline/lib-worse/codeql\",\n",
    "    cli_version=\"2.5.2\",\n",
    "    query_file=\"/home/pablo/tesis/tsm-pipeline/tsm-atm-pipeline/src/tsm/evaluation/TaintedPathWorseTSM.ql\",\n",
    "    external_predicate_file=external_predicate_file,\n",
    "    **defaults_evalute,\n",
    ")\n",
    "\n",
    "print(\"Evaluating worse with %d dbs\" % (len(test)))\n",
    "evaluate(\n",
    "    settings=worse_settings,\n",
    "    output_dir=path_join(results_dir, 'worse'),\n",
    "    dbs=test,\n",
    ")\n",
    "\n",
    "v0_settings = EvaluationSettings(\n",
    "    search_path=\"/home/pablo/codeqlv0/javascript/ql/lib\",\n",
    "    cli_version=\"2.10.5\",\n",
    "    query_file=\"/home/pablo/tesis/tsm-pipeline/tsm-evaluation/tsm-evaluation/src/PathEvaluation.ql\",\n",
    "    **defaults_evalute,\n",
    ")\n",
    "\n",
    "print(\"Evaluating v0 with %d dbs\" % (len(test)))\n",
    "evaluate(\n",
    "    settings=v0_settings,\n",
    "    output_dir=path_join(results_dir, 'v0'),\n",
    "    dbs=test,\n",
    ")"
   ]
  },
  {
   "cell_type": "code",
   "execution_count": 10,
   "id": "06e9b14c-4ef0-4347-af63-174477bd9a94",
   "metadata": {
    "tags": []
   },
   "outputs": [
    {
     "data": {
      "text/plain": [
       "(0.0, 0.0, 0.0)"
      ]
     },
     "execution_count": 10,
     "metadata": {},
     "output_type": "execute_result"
    }
   ],
   "source": [
    "from scripts.calculate_scores import calculate_scores\n",
    "\n",
    "calculate_scores(\n",
    "    results_folder=results_dir,\n",
    "    cleanup_base_dir=\"/tmp\",\n",
    ")"
   ]
  }
 ],
 "metadata": {
  "kernelspec": {
   "display_name": "Python 3 (ipykernel)",
   "language": "python",
   "name": "python3"
  },
  "language_info": {
   "codemirror_mode": {
    "name": "ipython",
    "version": 3
   },
   "file_extension": ".py",
   "mimetype": "text/x-python",
   "name": "python",
   "nbconvert_exporter": "python",
   "pygments_lexer": "ipython3",
   "version": "3.10.6"
  }
 },
 "nbformat": 4,
 "nbformat_minor": 5
}
