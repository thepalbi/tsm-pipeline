{
 "cells": [
  {
   "cell_type": "markdown",
   "id": "45c01844-5cca-45b5-af2a-24f054252117",
   "metadata": {},
   "source": [
    "## Replicando experimentos en Seldon* paper"
   ]
  },
  {
   "cell_type": "code",
   "execution_count": 1,
   "id": "71263801-1ccb-417b-98b6-c05b07484839",
   "metadata": {},
   "outputs": [],
   "source": [
    "import sys\n",
    "sys.path.append(\"/home/pablo/tesis/tsm-pipeline/code\")\n",
    "%load_ext autoreload\n",
    "%autoreload 2\n",
    "\n",
    "import docker\n",
    "docker_client = docker.from_env()"
   ]
  },
  {
   "cell_type": "code",
   "execution_count": 2,
   "id": "08533515-0a68-42e7-8de6-c33cfabb1f60",
   "metadata": {
    "tags": []
   },
   "outputs": [],
   "source": [
    "# Configura todo lo necesario en el ambiente\n",
    "from scripts.xxx import run_tsm, ExperimentSettings\n",
    "from scripts.evaluate import evaluate, EvaluationSettings\n",
    "from os.path import join as path_join\n",
    "\n",
    "defaults = {\n",
    "    \"bash_config_path\": \"/home/pablo/tesis/tsm-pipeline/code/scripts/config.sh\",\n",
    "    \"o11y_db_dir\": \"/home/pablo/tesis/tsm-pipeline/code/tsm.db\",\n",
    "}\n",
    "defaults_evalute = {\n",
    "    \"cache_root\":\"/home/pablo/dbcache\",    \n",
    "}"
   ]
  },
  {
   "cell_type": "markdown",
   "id": "a627fc11-f579-4d15-85a1-c6bef33ca962",
   "metadata": {},
   "source": [
    "## Generando sets de entrenamiento\n",
    "\n",
    "Usando las librerias de scikit learn para partir el dataset en train y test, usando `from sklearn.model_selection import train_test_split`. Aprovechando que `/home/pablo/tesis/tsm-pipeline/experiments/tesis/atm_nosql_top100.txt` ya esta todo descargado, voy a usar este dataset como el total."
   ]
  },
  {
   "cell_type": "code",
   "execution_count": 4,
   "id": "0b333732-6898-40ce-9fc0-25b9403196ad",
   "metadata": {
    "tags": []
   },
   "outputs": [
    {
     "name": "stdout",
     "output_type": "stream",
     "text": [
      "1046224544/fontend/eb7f2c0e136477ebf8ebcfe9050bd2fb586fe46b\n",
      "1999/node-couchdb/4825580ec2d8cd8b1c490266f4ced3395c2cc8ee\n",
      "3dbeb41841bfbfcc24d55143816cf7f1/atl-wdi-10/2f0c30bc082c0d1c3508cb7528459efc97633c65\n",
      "4minitz/4minitz/cc1dfc424fa5df3719df3a1e0f43eb039996bce6\n",
      "5techcenter/reactcms/1e163bc84fa7e874369da4c8e0077131484274e3\n",
      "abansal98/datapool/5d0aeb7b735858a82ec3f4aca954827b21d5e5a2\n",
      "abdizriel/nodejs-microservice-starter/3fa89d901930f68e7708f4b29e563a858fdaf316\n",
      "acm309/putongoj/920a7a5885d59a3a31fec08380eaeff3189146c9\n",
      "adnanrahic/a-crash-course-on-serverless-auth/83b16eba895a1d05cca588b4dc2487db7ce2c5b4\n",
      "adnanrahic/building-a-serverless-rest-api-with-nodejs/8fcd380e090c07729f3c401103d2f53dbbfccdd2\n"
     ]
    }
   ],
   "source": [
    "!cat /home/pablo/tesis/tsm-pipeline/experiments/tesis/atm_nosql_top100.txt|head -n10"
   ]
  },
  {
   "cell_type": "code",
   "execution_count": 3,
   "id": "744d816d-b725-4307-967d-de6147f70bee",
   "metadata": {
    "tags": []
   },
   "outputs": [
    {
     "data": {
      "text/plain": [
       "100"
      ]
     },
     "execution_count": 3,
     "metadata": {},
     "output_type": "execute_result"
    }
   ],
   "source": [
    "def read_dbs_dataset(path):\n",
    "    dbs = []\n",
    "    with open(path, \"r\") as f:\n",
    "        for l in f.readlines():\n",
    "            dbs.append(l.rstrip())\n",
    "    return dbs\n",
    "\n",
    "nosql_top_100 = read_dbs_dataset(\"/home/pablo/tesis/tsm-pipeline/experiments/tesis/atm_nosql_top100.txt\")\n",
    "len(nosql_top_100)"
   ]
  },
  {
   "cell_type": "markdown",
   "id": "ee5206f3-dcc2-44b4-9152-fd083f84e0d3",
   "metadata": {},
   "source": [
    "El codigo debajo parte el data set en 50% para entranamiento, 50% para test."
   ]
  },
  {
   "cell_type": "code",
   "execution_count": 4,
   "id": "f3b62580-5031-46e1-b3cc-550dc315c8ef",
   "metadata": {
    "tags": []
   },
   "outputs": [],
   "source": [
    "from sklearn.model_selection import train_test_split\n",
    "from numpy.random import RandomState\n",
    "\n",
    "# Using a fixed random state to have reproducible results\n",
    "rand = RandomState(seed=5)\n",
    "\n",
    "train, test = train_test_split(nosql_top_100, train_size=.5, shuffle=True, random_state=rand)"
   ]
  },
  {
   "cell_type": "code",
   "execution_count": 5,
   "id": "4742577d-8631-4798-8ee4-c5f04b78ba66",
   "metadata": {
    "tags": []
   },
   "outputs": [],
   "source": [
    "results_dir = '/home/pablo/results/seldonstar_1_re'"
   ]
  },
  {
   "cell_type": "code",
   "execution_count": 6,
   "id": "50c206f4-d8d2-4c0f-975b-d616326c3621",
   "metadata": {
    "tags": []
   },
   "outputs": [
    {
     "name": "stdout",
     "output_type": "stream",
     "text": [
      "2023-04-27 00:23:56,756 - INFO - creating /home/pablo/results/seldonstar_1_re dir. Omitting error if already existing\n",
      "2023-04-27 00:23:56,758 - INFO - creating /tmp/log dir. Omitting error if already existing\n",
      "2023-04-27 00:23:57,232 - INFO - running at container 9e8832292f422efb3941acb1ab0563aed8892587a190cfc38209d1575fc124ad. Use `docker logs 9e8832292f422efb3941acb1ab0563aed8892587a190cfc38209d1575fc124ad --tail 10 --follow` to follow progress\n",
      "2023-04-27 00:42:31,150 - INFO - running combine scores\n",
      "g: /home/pablo/results/seldonstar_1_re/*/NosqlInjectionWorse-*/reprScores.txt\n"
     ]
    }
   ],
   "source": [
    "# training\n",
    "train_settings = ExperimentSettings(\n",
    "    name=\"seldonstar_1_re\",\n",
    "    query_type=\"nosql\",\n",
    "    project_list=train,\n",
    "    results_dir=results_dir,\n",
    "    **defaults\n",
    ")\n",
    "\n",
    "run_tsm(docker_client, train_settings, block=True)"
   ]
  },
  {
   "cell_type": "code",
   "execution_count": 44,
   "id": "0fc6b43a-06ba-4492-ac0a-0351ad103245",
   "metadata": {
    "tags": []
   },
   "outputs": [
    {
     "name": "stdout",
     "output_type": "stream",
     "text": [
      "38\n"
     ]
    }
   ],
   "source": [
    "!cat /home/pablo/results/seldonstar_1/averaged-results.csv|wc -l"
   ]
  },
  {
   "cell_type": "code",
   "execution_count": 8,
   "id": "79ca6138-99dd-4e54-a358-df5ce818fe04",
   "metadata": {
    "tags": []
   },
   "outputs": [
    {
     "name": "stdout",
     "output_type": "stream",
     "text": [
      "Evaluating worse with 50 dbs\n",
      "2023-04-25 23:48:18,533 - INFO - creating /home/pablo/results/seldonstar_1/worse dir. Omitting error if already existing\n",
      "2023-04-25 23:48:19,326 - INFO - Starting processing with 4 processes\n",
      "2023-04-25 23:48:19,356 - INFO - Evaluating ailoitte - node-mongodb-graphql-starter\n",
      "2023-04-25 23:48:19,356 - INFO - Evaluating callicoder - node-easy-notes-app\n",
      "2023-04-25 23:48:19,356 - INFO - Evaluating brickyang - egg-mongo-native\n",
      "2023-04-25 23:48:19,356 - INFO - Evaluating buunguyen - mongoose-deep-populate\n",
      "2023-04-25 23:48:42,783 - INFO - Evaluating attriumph - fullstack-tiny-url-service\n",
      "2023-04-25 23:48:43,486 - INFO - Evaluating apilayer - numvalidate\n",
      "2023-04-25 23:48:43,838 - INFO - Evaluating aravindnc - mongoose-paginate-v2\n",
      "2023-04-25 23:48:44,453 - INFO - Evaluating alexzeitler - mongoose-schema-reference-sample\n",
      "2023-04-25 23:49:05,743 - INFO - Evaluating blinktaginc - node-gtfs\n",
      "2023-04-25 23:49:06,352 - INFO - Evaluating adnanrahic - nodejs-restful-api\n",
      "2023-04-25 23:49:06,906 - INFO - Evaluating danialk - passportjs-authentication\n",
      "2023-04-25 23:49:07,223 - INFO - Evaluating azure - blackbelt-aks-hackfest\n",
      "2023-04-25 23:49:29,973 - INFO - Evaluating arkon - mern-boilerplate\n",
      "2023-04-25 23:49:30,053 - INFO - Evaluating alexeyzvezdin - jwtauth\n",
      "2023-04-25 23:49:30,174 - INFO - Evaluating ar5had - ecommerce-site-template\n",
      "2023-04-25 23:49:30,519 - INFO - Evaluating anaida07 - mevn-boilerplate\n",
      "2023-04-25 23:49:47,850 - INFO - Evaluating atulmy - node-express-react-redux-zwitter\n",
      "2023-04-25 23:49:53,389 - INFO - Evaluating crizstian - cinema-microservice\n",
      "2023-04-25 23:49:53,823 - INFO - Evaluating algolia - mongoolia\n",
      "2023-04-25 23:49:56,941 - INFO - Evaluating biaochenxuying - blog-node\n",
      "2023-04-25 23:50:11,770 - INFO - Evaluating bitpay - bitcore-wallet-service\n",
      "2023-04-25 23:50:13,373 - INFO - Evaluating adobofrenzy - projects\n",
      "2023-04-25 23:50:21,779 - INFO - Evaluating binomi0 - seolidera-crm\n",
      "2023-04-25 23:50:28,778 - INFO - Evaluating cnodejs - nodeclub\n",
      "2023-04-25 23:50:45,417 - INFO - Evaluating alexyoung - nodepad\n",
      "2023-04-25 23:50:45,928 - INFO - Evaluating adobe - marinus\n",
      "2023-04-25 23:50:53,414 - INFO - Evaluating bottlerockets - legacy-bottlerockets\n",
      "2023-04-25 23:51:06,180 - INFO - Evaluating attemptweb - record\n",
      "2023-04-25 23:51:08,920 - INFO - Evaluating abdizriel - nodejs-microservice-starter\n",
      "2023-04-25 23:51:13,273 - INFO - Evaluating bwdbooks - nodejs-mongodb-angularjs-web-development\n",
      "2023-04-25 23:51:16,721 - INFO - Evaluating buraksenyurt - saturday-night-works\n",
      "2023-04-25 23:51:23,535 - INFO - Evaluating brandiqa - redux-crud-example\n",
      "2023-04-25 23:51:30,939 - INFO - Evaluating codejockie - maintenance-tracker\n",
      "2023-04-25 23:51:38,574 - INFO - Evaluating bxm0927 - movie-website\n",
      "2023-04-25 23:51:52,911 - INFO - Evaluating amejiarosario - meanshop\n",
      "2023-04-25 23:51:56,165 - INFO - Evaluating appbaseio - dejavu\n",
      "2023-04-25 23:52:00,643 - INFO - Evaluating bhdouglass - uappexplorer\n",
      "2023-04-25 23:52:14,049 - INFO - Evaluating cimrie - mongomem\n",
      "2023-04-25 23:52:14,554 - INFO - Evaluating b1f6c1c4 - graphql-advanced-projection\n",
      "2023-04-25 23:52:24,825 - INFO - Evaluating andrehnsfw - nameless-warrior-api\n",
      "2023-04-25 23:52:29,617 - INFO - Evaluating alexloof - next-graphql-blog\n",
      "2023-04-25 23:52:35,911 - INFO - Evaluating cdimascio - node-mongodb-fixtures\n",
      "2023-04-25 23:52:36,262 - INFO - Evaluating bailicangdu - node-fs\n",
      "2023-04-25 23:52:46,622 - INFO - Evaluating berniwittmann - spielplanismaning\n",
      "2023-04-25 23:52:53,610 - INFO - Evaluating amazingandyyy - mern\n",
      "2023-04-25 23:52:57,739 - INFO - Evaluating atulmy - wispy\n",
      "2023-04-25 23:52:58,544 - INFO - Evaluating cyantarek - django-microservices\n",
      "2023-04-25 23:53:24,422 - INFO - Evaluating adnanrahic - securing-restful-apis-with-jwt\n",
      "2023-04-25 23:53:29,333 - INFO - Evaluating 4minitz - 4minitz\n",
      "2023-04-25 23:53:43,643 - INFO - Evaluating adrianhsu - livechat\n",
      "Evaluating v0 with 50 dbs\n",
      "2023-04-25 23:53:53,654 - INFO - creating /home/pablo/results/seldonstar_1/v0 dir. Omitting error if already existing\n",
      "2023-04-25 23:53:54,884 - INFO - Starting processing with 4 processes\n",
      "2023-04-25 23:53:54,914 - INFO - Evaluating callicoder - node-easy-notes-app\n",
      "2023-04-25 23:53:54,914 - INFO - Evaluating buunguyen - mongoose-deep-populate\n",
      "2023-04-25 23:53:54,914 - INFO - Evaluating brickyang - egg-mongo-native\n",
      "2023-04-25 23:53:54,914 - INFO - Evaluating ailoitte - node-mongodb-graphql-starter\n",
      "2023-04-25 23:54:30,945 - INFO - Evaluating attriumph - fullstack-tiny-url-service\n",
      "2023-04-25 23:54:31,175 - INFO - Evaluating apilayer - numvalidate\n",
      "2023-04-25 23:54:31,432 - INFO - Evaluating alexzeitler - mongoose-schema-reference-sample\n",
      "2023-04-25 23:54:31,752 - INFO - Evaluating aravindnc - mongoose-paginate-v2\n",
      "2023-04-25 23:55:05,676 - INFO - Evaluating blinktaginc - node-gtfs\n",
      "2023-04-25 23:55:05,865 - INFO - Evaluating adnanrahic - nodejs-restful-api\n",
      "2023-04-25 23:55:06,772 - INFO - Evaluating danialk - passportjs-authentication\n",
      "2023-04-25 23:55:07,280 - INFO - Evaluating azure - blackbelt-aks-hackfest\n",
      "2023-04-25 23:55:40,686 - INFO - Evaluating alexeyzvezdin - jwtauth\n",
      "2023-04-25 23:55:41,326 - INFO - Evaluating arkon - mern-boilerplate\n",
      "2023-04-25 23:55:41,983 - INFO - Evaluating ar5had - ecommerce-site-template\n",
      "2023-04-25 23:55:42,543 - INFO - Evaluating anaida07 - mevn-boilerplate\n",
      "2023-04-25 23:56:15,004 - INFO - Evaluating atulmy - node-express-react-redux-zwitter\n",
      "2023-04-25 23:56:15,583 - INFO - Evaluating crizstian - cinema-microservice\n",
      "2023-04-25 23:56:16,433 - INFO - Evaluating algolia - mongoolia\n",
      "2023-04-25 23:56:17,217 - INFO - Evaluating biaochenxuying - blog-node\n",
      "2023-04-25 23:56:36,395 - INFO - Evaluating adobofrenzy - projects\n",
      "2023-04-25 23:56:38,323 - INFO - Evaluating cnodejs - nodeclub\n",
      "2023-04-25 23:56:45,709 - INFO - Evaluating bitpay - bitcore-wallet-service\n",
      "2023-04-25 23:56:46,007 - INFO - Evaluating binomi0 - seolidera-crm\n",
      "2023-04-25 23:57:02,497 - INFO - Evaluating bottlerockets - legacy-bottlerockets\n",
      "2023-04-25 23:57:26,049 - INFO - Evaluating alexyoung - nodepad\n",
      "2023-04-25 23:57:37,603 - INFO - Evaluating bwdbooks - nodejs-mongodb-angularjs-web-development\n",
      "2023-04-25 23:57:39,617 - INFO - Evaluating abdizriel - nodejs-microservice-starter\n",
      "2023-04-25 23:57:40,336 - INFO - Evaluating adobe - marinus\n",
      "2023-04-25 23:57:43,632 - INFO - Evaluating attemptweb - record\n",
      "2023-04-25 23:58:01,623 - INFO - Evaluating brandiqa - redux-crud-example\n",
      "2023-04-25 23:58:06,779 - INFO - Evaluating codejockie - maintenance-tracker\n",
      "2023-04-25 23:58:11,768 - INFO - Evaluating bxm0927 - movie-website\n",
      "2023-04-25 23:58:28,658 - INFO - Evaluating buraksenyurt - saturday-night-works\n",
      "2023-04-25 23:58:35,712 - INFO - Evaluating amejiarosario - meanshop\n",
      "2023-04-25 23:58:44,518 - INFO - Evaluating appbaseio - dejavu\n",
      "2023-04-25 23:58:46,342 - INFO - Evaluating bhdouglass - uappexplorer\n",
      "2023-04-25 23:58:55,459 - INFO - Evaluating b1f6c1c4 - graphql-advanced-projection\n",
      "2023-04-25 23:59:03,610 - INFO - Evaluating andrehnsfw - nameless-warrior-api\n",
      "2023-04-25 23:59:07,755 - INFO - Evaluating alexloof - next-graphql-blog\n",
      "2023-04-25 23:59:13,746 - INFO - Evaluating bailicangdu - node-fs\n",
      "2023-04-25 23:59:35,438 - INFO - Evaluating berniwittmann - spielplanismaning\n",
      "2023-04-25 23:59:41,402 - INFO - Evaluating amazingandyyy - mern\n",
      "2023-04-25 23:59:43,497 - INFO - Evaluating cimrie - mongomem\n",
      "2023-04-25 23:59:46,718 - INFO - Evaluating atulmy - wispy\n",
      "2023-04-26 00:00:13,665 - INFO - Evaluating cdimascio - node-mongodb-fixtures\n",
      "2023-04-26 00:00:15,050 - INFO - Evaluating adnanrahic - securing-restful-apis-with-jwt\n",
      "2023-04-26 00:00:43,697 - INFO - Evaluating cyantarek - django-microservices\n",
      "2023-04-26 00:00:52,602 - INFO - Evaluating adrianhsu - livechat\n",
      "2023-04-26 00:00:53,282 - INFO - Evaluating 4minitz - 4minitz\n"
     ]
    }
   ],
   "source": [
    "# evaluation\n",
    "external_predicate_file = path_join(results_dir, 'averaged-results.csv')\n",
    "worse_settings = EvaluationSettings(\n",
    "    search_path=\"/home/pablo/tesis/tsm-pipeline/lib-worse/codeql\",\n",
    "    cli_version=\"2.5.2\",\n",
    "    query_file=\"/home/pablo/tesis/tsm-pipeline/tsm-atm-pipeline/src/tsm/evaluation/NosqlInjectionWorseTSM.ql\",\n",
    "    external_predicate_file=external_predicate_file,\n",
    "    **defaults_evalute,\n",
    ")\n",
    "\n",
    "print(\"Evaluating worse with %d dbs\" % (len(test)))\n",
    "evaluate(\n",
    "    settings=worse_settings,\n",
    "    output_dir=path_join(results_dir, 'worse'),\n",
    "    dbs=test,\n",
    ")\n",
    "\n",
    "v0_settings = EvaluationSettings(\n",
    "    search_path=\"/home/pablo/codeqlv0/javascript/ql/lib\",\n",
    "    cli_version=\"2.10.5\",\n",
    "    query_file=\"/home/pablo/tesis/tsm-pipeline/tsm-evaluation/tsm-evaluation/src/NoSqlEvaluation.ql\",\n",
    "    **defaults_evalute,\n",
    ")\n",
    "\n",
    "print(\"Evaluating v0 with %d dbs\" % (len(test)))\n",
    "evaluate(\n",
    "    settings=v0_settings,\n",
    "    output_dir=path_join(results_dir, 'v0'),\n",
    "    dbs=test,\n",
    ")"
   ]
  },
  {
   "cell_type": "code",
   "execution_count": 9,
   "id": "f685a054-7804-4d0c-9915-0fcaa8ed725e",
   "metadata": {
    "tags": []
   },
   "outputs": [
    {
     "name": "stdout",
     "output_type": "stream",
     "text": [
      "2023-04-26 00:01:10,662 - INFO - Result sets sizes: Worse 542, Boosted 79, V0 480, All 978\n",
      "2023-04-26 00:01:10,685 - INFO - Score results: Precision: 0.0000. Recall: 0.0000. Accuracy: 0.4284\n"
     ]
    },
    {
     "data": {
      "text/plain": [
       "(0.0, 0.0, 0.4284253578732106)"
      ]
     },
     "execution_count": 9,
     "metadata": {},
     "output_type": "execute_result"
    }
   ],
   "source": [
    "from scripts.calculate_scores import calculate_scores\n",
    "\n",
    "calculate_scores(\n",
    "    results_folder=results_dir,\n",
    "    cleanup_base_dir=\"/tmp\",\n",
    ")"
   ]
  },
  {
   "cell_type": "markdown",
   "id": "47ee9b72-9c86-4598-8e96-67ed12e47d95",
   "metadata": {},
   "source": [
    "## Prueba dos con otro set de entrenamiento, del mismo tamaño"
   ]
  },
  {
   "cell_type": "code",
   "execution_count": 10,
   "id": "8e69a870-8c5a-4387-bd0d-b18b270bba57",
   "metadata": {
    "tags": []
   },
   "outputs": [],
   "source": [
    "train2, test2 = train_test_split(nosql_top_100, train_size=.5, shuffle=True, random_state=rand)"
   ]
  },
  {
   "cell_type": "code",
   "execution_count": 13,
   "id": "b2554a58-0fb7-40aa-8e0b-e8f3df5681f7",
   "metadata": {
    "tags": []
   },
   "outputs": [],
   "source": [
    "def run_nosql_training_eval_pipeline(name, train, test, results_dir):\n",
    "    # training\n",
    "    train_settings = ExperimentSettings(\n",
    "        name=name,\n",
    "        query_type=\"nosql\",\n",
    "        project_list=train,\n",
    "        results_dir=results_dir,\n",
    "        **defaults\n",
    "    )\n",
    "\n",
    "    run_tsm(docker_client, train_settings, block=True)\n",
    "\n",
    "    # evaluation\n",
    "    external_predicate_file = path_join(results_dir, 'averaged-results.csv')\n",
    "    worse_settings = EvaluationSettings(\n",
    "        search_path=\"/home/pablo/tesis/tsm-pipeline/lib-worse/codeql\",\n",
    "        cli_version=\"2.5.2\",\n",
    "        query_file=\"/home/pablo/tesis/tsm-pipeline/tsm-atm-pipeline/src/tsm/evaluation/NosqlInjectionWorseTSM.ql\",\n",
    "        external_predicate_file=external_predicate_file,\n",
    "        **defaults_evalute,\n",
    "    )\n",
    "\n",
    "    print(\"Evaluating worse with %d dbs\" % (len(test)))\n",
    "    evaluate(\n",
    "        settings=worse_settings,\n",
    "        output_dir=path_join(results_dir, 'worse'),\n",
    "        dbs=test,\n",
    "    )\n",
    "\n",
    "    v0_settings = EvaluationSettings(\n",
    "        search_path=\"/home/pablo/codeqlv0/javascript/ql/lib\",\n",
    "        cli_version=\"2.10.5\",\n",
    "        query_file=\"/home/pablo/tesis/tsm-pip0eline/tsm-evaluation/tsm-evaluation/src/NoSqlEvaluation.ql\",\n",
    "        **defaults_evalute,\n",
    "    )\n",
    "\n",
    "    print(\"Evaluating v0 with %d dbs\" % (len(test)))\n",
    "    evaluate(\n",
    "        settings=v0_settings,\n",
    "        output_dir=path_join(results_dir, 'v0'),\n",
    "        dbs=test,\n",
    "    )"
   ]
  },
  {
   "cell_type": "code",
   "execution_count": 14,
   "id": "2d05263f-7c45-4b34-b349-f69562fe01d3",
   "metadata": {
    "collapsed": true,
    "jupyter": {
     "outputs_hidden": true
    },
    "tags": []
   },
   "outputs": [
    {
     "name": "stdout",
     "output_type": "stream",
     "text": [
      "2023-04-26 09:47:59,715 - INFO - creating /home/pablo/results/seldonstar_2 dir. Omitting error if already existing\n",
      "2023-04-26 09:47:59,717 - INFO - creating /tmp/log dir. Omitting error if already existing\n",
      "2023-04-26 09:48:00,254 - INFO - running at container d53bd3257522f284101c36612b6c7f8b9d84b78cf54bb8c18726b843a53c6ad6. Use `docker logs d53bd3257522f284101c36612b6c7f8b9d84b78cf54bb8c18726b843a53c6ad6 --tail 10 --follow` to follow progress\n",
      "2023-04-26 10:07:34,728 - INFO - running combine scores\n",
      "g: /home/pablo/results/seldonstar_2/*/NosqlInjectionWorse-*/reprScores.txt\n",
      "Evaluating worse with 50 dbs\n",
      "2023-04-26 10:07:34,789 - INFO - creating /home/pablo/results/seldonstar_2/worse dir. Omitting error if already existing\n",
      "2023-04-26 10:07:35,598 - INFO - Starting processing with 4 processes\n",
      "2023-04-26 10:07:35,628 - INFO - Evaluating amazingandyyy - mern\n",
      "2023-04-26 10:07:35,628 - INFO - Evaluating andriichyzh - node-js-advanced-training\n",
      "2023-04-26 10:07:35,628 - INFO - Evaluating adnanrahic - securing-restful-apis-with-jwt\n",
      "2023-04-26 10:07:35,628 - INFO - Evaluating anaida07 - mevn-boilerplate\n",
      "2023-04-26 10:07:58,459 - INFO - Evaluating ar5had - ecommerce-site-template\n",
      "2023-04-26 10:07:59,309 - INFO - Evaluating 4minitz - 4minitz\n",
      "2023-04-26 10:07:59,971 - INFO - Evaluating attemptweb - record\n",
      "2023-04-26 10:08:16,586 - INFO - Evaluating abdizriel - nodejs-microservice-starter\n",
      "2023-04-26 10:08:19,938 - INFO - Evaluating cdimascio - uuid-mongodb\n",
      "2023-04-26 10:08:20,044 - INFO - Evaluating brandiqa - redux-crud-example\n",
      "2023-04-26 10:08:33,601 - INFO - Evaluating bhdouglass - uappexplorer\n",
      "2023-04-26 10:08:39,100 - INFO - Evaluating cyantarek - django-microservices\n",
      "2023-04-26 10:08:40,278 - INFO - Evaluating biaochenxuying - blog-node\n",
      "2023-04-26 10:08:45,610 - INFO - Evaluating codepunkt - mongoose-patch-history\n",
      "2023-04-26 10:09:03,922 - INFO - Evaluating capoxix - roamy\n",
      "2023-04-26 10:09:08,427 - INFO - Evaluating b00gizm - docker-compose-nodejs-examples\n",
      "2023-04-26 10:09:08,584 - INFO - Evaluating b1f6c1c4 - graphql-advanced-projection\n",
      "2023-04-26 10:09:17,719 - INFO - Evaluating aheckmann - mquery\n",
      "2023-04-26 10:09:28,410 - INFO - Evaluating craftup - node-mongo-tenant\n",
      "2023-04-26 10:09:32,181 - INFO - Evaluating danielhreben - sequelize-transparent-cache\n",
      "2023-04-26 10:09:32,320 - INFO - Evaluating amejiarosario - meanshop\n",
      "2023-04-26 10:09:42,880 - INFO - Evaluating cendey - contacts\n",
      "2023-04-26 10:09:51,015 - INFO - Evaluating arturomtm - nodejskoans\n",
      "2023-04-26 10:09:52,850 - INFO - Evaluating binomi0 - seolidera-crm\n",
      "2023-04-26 10:09:56,416 - INFO - Evaluating alexloof - next-graphql-blog\n",
      "2023-04-26 10:10:11,798 - INFO - Evaluating cablej - race-condition-demo\n",
      "2023-04-26 10:10:15,208 - INFO - Evaluating avrj - slack-clone\n",
      "2023-04-26 10:10:19,353 - INFO - Evaluating bailicangdu - node-fs\n",
      "2023-04-26 10:10:20,049 - INFO - Evaluating ailoitte - node-mongodb-graphql-starter\n",
      "2023-04-26 10:10:34,386 - INFO - Evaluating algolia - mongoolia\n",
      "2023-04-26 10:10:40,604 - INFO - Evaluating createdd - votingapp\n",
      "2023-04-26 10:10:41,512 - INFO - Evaluating brickyang - egg-mongo-native\n",
      "2023-04-26 10:10:45,219 - INFO - Evaluating alexzeitler - mongoose-schema-reference-sample\n",
      "2023-04-26 10:10:53,755 - INFO - Evaluating appbaseio - dejavu\n",
      "2023-04-26 10:11:03,911 - INFO - Evaluating brandonzacharie - node-redis-server\n",
      "2023-04-26 10:11:05,922 - INFO - Evaluating 1999 - node-couchdb\n",
      "2023-04-26 10:11:16,423 - INFO - Evaluating bergwhite - nchat\n",
      "2023-04-26 10:11:25,796 - INFO - Evaluating amin52j - react-redux-node-mongodb\n",
      "2023-04-26 10:11:26,403 - INFO - Evaluating atulmy - wispy\n",
      "2023-04-26 10:11:30,496 - INFO - Evaluating blinktaginc - gtfs-to-html\n",
      "2023-04-26 10:11:36,968 - INFO - Evaluating atulmy - node-express-react-redux-zwitter\n",
      "2023-04-26 10:11:51,931 - INFO - Evaluating cnodejs - nodeclub\n",
      "2023-04-26 10:11:55,674 - INFO - Evaluating attriumph - fullstack-tiny-url-service\n",
      "2023-04-26 10:11:57,560 - INFO - Evaluating callicoder - node-easy-notes-app\n",
      "2023-04-26 10:12:01,805 - INFO - Evaluating arkon - mern-boilerplate\n",
      "2023-04-26 10:12:20,312 - INFO - Evaluating builderbook - builderbook\n",
      "2023-04-26 10:12:22,343 - INFO - Evaluating audacyspace - quindar-ux\n",
      "2023-04-26 10:12:33,677 - INFO - Evaluating danielfsousa - express-rest-es2017-boilerplate\n",
      "2023-04-26 10:12:44,617 - INFO - Evaluating bwdbooks - nodejs-mongodb-angularjs-web-development\n",
      "2023-04-26 10:12:55,681 - INFO - Evaluating azure - blackbelt-aks-hackfest\n",
      "Evaluating v0 with 50 dbs\n",
      "2023-04-26 10:13:07,758 - INFO - creating /home/pablo/results/seldonstar_2/v0 dir. Omitting error if already existing\n",
      "2023-04-26 10:13:08,919 - INFO - Starting processing with 4 processes\n",
      "2023-04-26 10:13:08,949 - INFO - Evaluating andriichyzh - node-js-advanced-training\n",
      "2023-04-26 10:13:08,949 - INFO - Evaluating anaida07 - mevn-boilerplate\n",
      "2023-04-26 10:13:08,949 - INFO - Evaluating adnanrahic - securing-restful-apis-with-jwt\n",
      "2023-04-26 10:13:08,949 - INFO - Evaluating amazingandyyy - mern\n",
      "2023-04-26 10:13:28,624 - INFO - Evaluating attemptweb - record\n",
      "2023-04-26 10:13:28,937 - INFO - Evaluating 4minitz - 4minitz\n",
      "2023-04-26 10:13:32,046 - INFO - Evaluating ar5had - ecommerce-site-template\n",
      "2023-04-26 10:13:32,725 - INFO - Evaluating abdizriel - nodejs-microservice-starter\n",
      "2023-04-26 10:13:45,612 - INFO - Evaluating cdimascio - uuid-mongodb\n",
      "2023-04-26 10:13:51,140 - INFO - Evaluating bhdouglass - uappexplorer\n",
      "2023-04-26 10:13:51,333 - INFO - Evaluating brandiqa - redux-crud-example\n",
      "2023-04-26 10:13:52,131 - INFO - Evaluating cyantarek - django-microservices\n",
      "2023-04-26 10:14:12,105 - INFO - Evaluating codepunkt - mongoose-patch-history\n",
      "2023-04-26 10:14:13,242 - INFO - Evaluating capoxix - roamy\n",
      "2023-04-26 10:14:13,426 - INFO - Evaluating aheckmann - mquery\n",
      "2023-04-26 10:14:15,893 - INFO - Evaluating biaochenxuying - blog-node\n",
      "2023-04-26 10:14:33,622 - INFO - Evaluating b00gizm - docker-compose-nodejs-examples\n",
      "2023-04-26 10:14:35,830 - INFO - Evaluating b1f6c1c4 - graphql-advanced-projection\n",
      "2023-04-26 10:14:37,796 - INFO - Evaluating craftup - node-mongo-tenant\n",
      "2023-04-26 10:14:41,451 - INFO - Evaluating cendey - contacts\n",
      "2023-04-26 10:14:54,845 - INFO - Evaluating danielhreben - sequelize-transparent-cache\n",
      "2023-04-26 10:14:57,574 - INFO - Evaluating arturomtm - nodejskoans\n",
      "2023-04-26 10:15:04,343 - INFO - Evaluating amejiarosario - meanshop\n",
      "2023-04-26 10:15:15,958 - INFO - Evaluating cablej - race-condition-demo\n",
      "2023-04-26 10:15:16,161 - INFO - Evaluating binomi0 - seolidera-crm\n",
      "2023-04-26 10:15:23,587 - INFO - Evaluating alexloof - next-graphql-blog\n",
      "2023-04-26 10:15:29,292 - INFO - Evaluating avrj - slack-clone\n",
      "2023-04-26 10:15:37,558 - INFO - Evaluating algolia - mongoolia\n",
      "2023-04-26 10:15:38,951 - INFO - Evaluating bailicangdu - node-fs\n",
      "2023-04-26 10:15:42,627 - INFO - Evaluating ailoitte - node-mongodb-graphql-starter\n",
      "2023-04-26 10:15:48,751 - INFO - Evaluating brickyang - egg-mongo-native\n",
      "2023-04-26 10:15:55,801 - INFO - Evaluating appbaseio - dejavu\n",
      "2023-04-26 10:15:56,112 - INFO - Evaluating createdd - votingapp\n",
      "2023-04-26 10:16:01,453 - INFO - Evaluating alexzeitler - mongoose-schema-reference-sample\n",
      "2023-04-26 10:16:05,422 - INFO - Evaluating brandonzacharie - node-redis-server\n",
      "2023-04-26 10:16:13,785 - INFO - Evaluating atulmy - wispy\n",
      "2023-04-26 10:16:19,309 - INFO - Evaluating bergwhite - nchat\n",
      "2023-04-26 10:16:19,631 - INFO - Evaluating 1999 - node-couchdb\n",
      "2023-04-26 10:16:36,509 - INFO - Evaluating blinktaginc - gtfs-to-html\n",
      "2023-04-26 10:16:37,140 - INFO - Evaluating cnodejs - nodeclub\n",
      "2023-04-26 10:16:52,298 - INFO - Evaluating atulmy - node-express-react-redux-zwitter\n",
      "2023-04-26 10:16:53,061 - INFO - Evaluating amin52j - react-redux-node-mongodb\n",
      "2023-04-26 10:17:05,710 - INFO - Evaluating danielfsousa - express-rest-es2017-boilerplate\n",
      "2023-04-26 10:17:12,986 - INFO - Evaluating callicoder - node-easy-notes-app\n",
      "2023-04-26 10:17:13,002 - INFO - Evaluating arkon - mern-boilerplate\n",
      "2023-04-26 10:17:34,525 - INFO - Evaluating attriumph - fullstack-tiny-url-service\n",
      "2023-04-26 10:17:35,371 - INFO - Evaluating builderbook - builderbook\n",
      "2023-04-26 10:17:36,391 - INFO - Evaluating audacyspace - quindar-ux\n",
      "2023-04-26 10:17:39,266 - INFO - Evaluating azure - blackbelt-aks-hackfest\n",
      "2023-04-26 10:18:13,159 - INFO - Evaluating bwdbooks - nodejs-mongodb-angularjs-web-development\n"
     ]
    }
   ],
   "source": [
    "calculate_scoressql_training_eval_pipeline(\"seldonstar_2\", train2, test2, '/home/pablo/results/seldonstar_2')"
   ]
  },
  {
   "cell_type": "code",
   "execution_count": 15,
   "id": "3882225b-0e3f-4249-9912-d11f529b6e85",
   "metadata": {
    "tags": []
   },
   "outputs": [
    {
     "name": "stdout",
     "output_type": "stream",
     "text": [
      "2023-04-26 10:26:09,918 - INFO - Result sets sizes: Worse 155, Boosted 58, V0 132, All 258\n",
      "2023-04-26 10:26:09,924 - INFO - Score results: Precision: 0.0000. Recall: 0.0000. Accuracy: 0.2636\n"
     ]
    },
    {
     "data": {
      "text/plain": [
       "(0.0, 0.0, 0.26356589147286824)"
      ]
     },
     "execution_count": 15,
     "metadata": {},
     "output_type": "execute_result"
    }
   ],
   "source": [
    "calculate_scores(\n",
    "    results_folder='/home/pablo/results/seldonstar_2',\n",
    "    cleanup_base_dir=\"/tmp\",\n",
    ")"
   ]
  },
  {
   "cell_type": "markdown",
   "id": "e3603802-fb70-48ab-939e-5d6bf8c5c983",
   "metadata": {},
   "source": [
    "Los resultados dados por `train2` y `test2` son los siguientes:\n",
    "```\n",
    "2023-04-26 10:26:09,918 - INFO - Result sets sizes: Worse 155, Boosted 58, V0 132, All 258\n",
    "2023-04-26 10:26:09,924 - INFO - Score results: Precision: 0.0000. Recall: 0.0000. Accuracy: 0.2636\n",
    "```\n",
    "\n",
    "Por lo visto hay muchas DBs que un modeo vacío como resultado, lo cual lleva a que sean inutilizables. Por ejemplo, viendo la detalles acerca de los resultados con http://localhost:8888/lab/tree/notebooks/dev/debugging_zero_scores.ipynb, 25 dbs de test dieron cero alarmas en worse."
   ]
  }
 ],
 "metadata": {
  "kernelspec": {
   "display_name": "Python 3 (ipykernel)",
   "language": "python",
   "name": "python3"
  },
  "language_info": {
   "codemirror_mode": {
    "name": "ipython",
    "version": 3
   },
   "file_extension": ".py",
   "mimetype": "text/x-python",
   "name": "python",
   "nbconvert_exporter": "python",
   "pygments_lexer": "ipython3",
   "version": "3.10.6"
  }
 },
 "nbformat": 4,
 "nbformat_minor": 5
}
