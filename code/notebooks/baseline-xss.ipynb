{
 "cells": [
  {
   "cell_type": "code",
   "execution_count": 1,
   "metadata": {
    "tags": []
   },
   "outputs": [],
   "source": [
    "%load_ext autoreload\n",
    "%autoreload 2\n",
    "\n",
    "from experiments.all import train_and_evaluate\n",
    "from tsm.configuration import TSMConfigParser\n",
    "import docker\n",
    "import logging\n",
    "\n",
    "logging.basicConfig(level=logging.INFO)\n",
    "\n",
    "# load configuration\n",
    "config = TSMConfigParser()\n",
    "config.read(\"/home/pablo/tesis/tsm-pipeline/code/configs/pablo-bestia.cfg\")\n",
    "config.check()\n",
    "docker_client = docker.from_env()"
   ]
  },
  {
   "cell_type": "markdown",
   "metadata": {},
   "source": [
    "loading the dataset and creating a random state to make everything repeatable"
   ]
  },
  {
   "cell_type": "code",
   "execution_count": 2,
   "metadata": {
    "tags": []
   },
   "outputs": [
    {
     "name": "stdout",
     "output_type": "stream",
     "text": [
      "90\n"
     ]
    }
   ],
   "source": [
    "from scripts.docker import read_dbs_dataset\n",
    "from numpy.random import RandomState\n",
    "\n",
    "xss_dbs = read_dbs_dataset(\"/home/pablo/tesis/tsm-pipeline/experiments/datasets/xss_1.txt\")\n",
    "# Using a fixed random state to have reproducible results\n",
    "rand = RandomState(seed=5)\n",
    "\n",
    "print(len(xss_dbs))"
   ]
  },
  {
   "cell_type": "markdown",
   "metadata": {},
   "source": [
    "smoke testing run to check everything is working"
   ]
  },
  {
   "cell_type": "code",
   "execution_count": 7,
   "metadata": {},
   "outputs": [
    {
     "name": "stderr",
     "output_type": "stream",
     "text": [
      "WARNING:experiments.all:configued to skip the following steps: train,evalute_worse,evaluate_boosted,evaluate_v0\n",
      "INFO:experiments.all:train_and_evaluate with train size 1, test size 1\n",
      "WARNING:experiments.all:skipping train\n",
      "INFO:experiments.all:Running worse evaluation\n",
      "INFO:scripts.evaluate:creating /tmp/tmp6ddjrlqd/worse dir. Omitting error if already existing\n",
      "INFO:scripts.evaluate:Starting processing with 4 processes\n"
     ]
    },
    {
     "name": "stdout",
     "output_type": "stream",
     "text": [
      "using /tmp/tmp6ddjrlqd for smoke run\n"
     ]
    },
    {
     "name": "stderr",
     "output_type": "stream",
     "text": [
      "INFO:scripts.evaluate:Evaluating Breeze - breeze.js.samples\n",
      "WARNING:experiments.all:skipping boosted evaluation\n",
      "WARNING:experiments.all:skipping v0 evaluation\n",
      "/home/pablo/tesis/tsm-pipeline/code/env/lib/python3.10/site-packages/numpy/lib/function_base.py:380: RuntimeWarning: Mean of empty slice.\n",
      "  avg = a.mean(axis)\n",
      "/home/pablo/tesis/tsm-pipeline/code/env/lib/python3.10/site-packages/numpy/core/_methods.py:189: RuntimeWarning: invalid value encountered in double_scalars\n",
      "  ret = ret.dtype.type(ret / rcount)\n"
     ]
    },
    {
     "data": {
      "text/html": [
       "<div>\n",
       "<style scoped>\n",
       "    .dataframe tbody tr th:only-of-type {\n",
       "        vertical-align: middle;\n",
       "    }\n",
       "\n",
       "    .dataframe tbody tr th {\n",
       "        vertical-align: top;\n",
       "    }\n",
       "\n",
       "    .dataframe thead th {\n",
       "        text-align: right;\n",
       "    }\n",
       "</style>\n",
       "<table border=\"1\" class=\"dataframe\">\n",
       "  <thead>\n",
       "    <tr style=\"text-align: right;\">\n",
       "      <th></th>\n",
       "      <th>precision</th>\n",
       "      <th>recall</th>\n",
       "      <th>accuracy</th>\n",
       "      <th>alerts to recover (atr)</th>\n",
       "      <th>alerts recovered</th>\n",
       "      <th>suprious alerts</th>\n",
       "      <th>projects with atr</th>\n",
       "      <th>avg atr per proj</th>\n",
       "    </tr>\n",
       "  </thead>\n",
       "  <tbody>\n",
       "    <tr>\n",
       "      <th>0</th>\n",
       "      <td>0.0</td>\n",
       "      <td>0.0</td>\n",
       "      <td>NaN</td>\n",
       "      <td>0</td>\n",
       "      <td>0</td>\n",
       "      <td>0</td>\n",
       "      <td>0</td>\n",
       "      <td>0</td>\n",
       "    </tr>\n",
       "  </tbody>\n",
       "</table>\n",
       "</div>"
      ],
      "text/plain": [
       "   precision  recall  accuracy  alerts to recover (atr)  alerts recovered  \\\n",
       "0        0.0     0.0       NaN                        0                 0   \n",
       "\n",
       "   suprious alerts  projects with atr  avg atr per proj  \n",
       "0                0                  0                 0  "
      ]
     },
     "execution_count": 7,
     "metadata": {},
     "output_type": "execute_result"
    }
   ],
   "source": [
    "import tempfile\n",
    "\n",
    "test_and_train = [\n",
    "    xss_dbs[0],\n",
    "]\n",
    "\n",
    "res_dir = tempfile.mkdtemp()\n",
    "print(\"using %s for smoke run\" % (res_dir))\n",
    "# !rm -rf $res_dir/import pandas as pd\n",
    "\n",
    "concated_results = pd.concat(collected_results)\n",
    "pd.concat([concated_results, concated_results.apply(['mean'])])*\n",
    "import pandas as pd\n",
    "\n",
    "concated_results = pd.concat(collected_results)\n",
    "pd.concat([concated_results, concated_results.apply(['mean'])])\n",
    "train_and_evaluate(\n",
    "    config=config,\n",
    "    results_dir=res_dir,\n",
    "    query_type=\"xss\",\n",
    "    train=test_and_train,\n",
    "    test=test_and_train,\n",
    "    docker_client=docker_client,\n",
    "    skip=[\"train\", \"evalute_worse\", \"evaluate_boosted\", \"evaluate_v0\"]\n",
    ")"
   ]
  },
  {
   "cell_type": "markdown",
   "metadata": {},
   "source": [
    "as a second sanity, doing a run with 10/10 over the first 20 sample"
   ]
  },
  {
   "cell_type": "code",
   "execution_count": 4,
   "metadata": {},
   "outputs": [
    {
     "name": "stdout",
     "output_type": "stream",
     "text": [
      "train 10, test 10\n"
     ]
    }
   ],
   "source": [
    "from random import sample\n",
    "from sklearn.model_selection import train_test_split\n",
    "\n",
    "sample_20 = sample(xss_dbs, 20)\n",
    "train, test = train_test_split(sample_20, train_size=.5, shuffle=True, random_state=rand)\n",
    "print(\"train %d, test %d\" %(len(train), len(test)))"
   ]
  },
  {
   "cell_type": "code",
   "execution_count": null,
   "metadata": {},
   "outputs": [],
   "source": [
    "res_dir = tempfile.mkdtemp()\n",
    "print(\"using %s for 20 run\" % (res_dir))\n",
    "\n",
    "train_and_evaluate(\n",
    "    config=config,\n",
    "    results_dir=res_dir,\n",
    "    query_type=\"xss\",\n",
    "    train=train,\n",
    "    test=test,\n",
    "    docker_client=docker_client,\n",
    ")"
   ]
  },
  {
   "cell_type": "markdown",
   "metadata": {},
   "source": [
    "igual que en path, la idea es hacer un corrida haciendo un k-fold pequeño para corrorar que el problema es el dataset"
   ]
  },
  {
   "cell_type": "code",
   "execution_count": 4,
   "metadata": {
    "tags": []
   },
   "outputs": [
    {
     "name": "stderr",
     "output_type": "stream",
     "text": [
      "INFO:experiments.all:train_and_evaluate with train size 20, test size 10\n",
      "INFO:experiments.all:Running training\n",
      "INFO:scripts.docker:creating /home/pablo/dev-results/xssrun2-30-3fold-0 dir. Omitting error if already existing\n",
      "INFO:scripts.docker:creating /tmp/log dir. Omitting error if already existing\n"
     ]
    },
    {
     "name": "stdout",
     "output_type": "stream",
     "text": [
      "using sample of 30\n",
      "Fold 0\n"
     ]
    },
    {
     "name": "stderr",
     "output_type": "stream",
     "text": [
      "INFO:scripts.docker:running at container 4fc0d5f34d2e834fa5345eb0a49f86f4631c82d48ca994297262a0f43e32129a. Use `docker logs 4fc0d5f34d2e834fa5345eb0a49f86f4631c82d48ca994297262a0f43e32129a --tail 10 --follow` to follow progress\n",
      "INFO:scripts.docker:running combine scores\n",
      "INFO:misc.combinescores:globbing folder: /home/pablo/dev-results/xssrun2-30-3fold-0/*/reprScores.txt\n",
      "INFO:misc.combinescores:working on 10 reprScores files\n",
      "INFO:experiments.all:Running worse evaluation\n",
      "INFO:scripts.evaluate:creating /home/pablo/dev-results/xssrun2-30-3fold-0/worse dir. Omitting error if already existing\n",
      "INFO:scripts.evaluate:Starting processing with 4 processes\n",
      "INFO:scripts.evaluate:Evaluating Soontao - openui5\n",
      "INFO:scripts.evaluate:Evaluating RetireJS - retire.js\n",
      "INFO:scripts.evaluate:Evaluating HelloZeroNet - ZeroNet\n",
      "INFO:scripts.evaluate:Evaluating DimiMikadze - laravel-angular-cms\n",
      "INFO:scripts.evaluate:Evaluating Xowap - je-vous-presente-bernard\n",
      "INFO:scripts.evaluate:Evaluating EPCCed - EPCC-Facilities-Presentation\n",
      "INFO:scripts.evaluate:Evaluating Huxpro - css-sucks-2015\n",
      "INFO:scripts.evaluate:Evaluating ccoenraets - sociogram-angular-ionic\n",
      "INFO:scripts.evaluate:Evaluating KenCorbettJr - html5sql\n",
      "INFO:scripts.evaluate:Evaluating Nealyang - React-Express-Blog-Demo\n",
      "INFO:experiments.all:Running boosted evaluation\n",
      "INFO:scripts.evaluate:creating /home/pablo/dev-results/xssrun2-30-3fold-0/boosted dir. Omitting error if already existing\n",
      "INFO:scripts.evaluate:Starting processing with 4 processes\n",
      "INFO:scripts.evaluate:Evaluating DimiMikadze - laravel-angular-cms\n",
      "INFO:scripts.evaluate:Evaluating Xowap - je-vous-presente-bernard\n",
      "INFO:scripts.evaluate:Evaluating HelloZeroNet - ZeroNet\n",
      "INFO:scripts.evaluate:Evaluating RetireJS - retire.js\n",
      "INFO:scripts.evaluate:Evaluating Soontao - openui5\n",
      "INFO:scripts.evaluate:Evaluating ccoenraets - sociogram-angular-ionic\n",
      "INFO:scripts.evaluate:Evaluating EPCCed - EPCC-Facilities-Presentation\n",
      "INFO:scripts.evaluate:Evaluating Huxpro - css-sucks-2015\n",
      "INFO:scripts.evaluate:Evaluating KenCorbettJr - html5sql\n",
      "INFO:scripts.evaluate:Evaluating Nealyang - React-Express-Blog-Demo\n",
      "INFO:experiments.all:Running v0 evaluation\n",
      "INFO:scripts.evaluate:creating /home/pablo/dev-results/xssrun2-30-3fold-0/v0 dir. Omitting error if already existing\n",
      "INFO:scripts.evaluate:Starting processing with 4 processes\n",
      "INFO:scripts.evaluate:Evaluating DimiMikadze - laravel-angular-cms\n",
      "INFO:scripts.evaluate:Evaluating Xowap - je-vous-presente-bernard\n",
      "INFO:scripts.evaluate:Evaluating Soontao - openui5\n",
      "INFO:scripts.evaluate:Evaluating RetireJS - retire.js\n",
      "INFO:scripts.evaluate:Evaluating EPCCed - EPCC-Facilities-Presentation\n",
      "INFO:scripts.evaluate:Evaluating Huxpro - css-sucks-2015\n",
      "INFO:scripts.evaluate:Evaluating HelloZeroNet - ZeroNet\n",
      "INFO:scripts.evaluate:Evaluating ccoenraets - sociogram-angular-ionic\n",
      "INFO:scripts.evaluate:Evaluating KenCorbettJr - html5sql\n",
      "INFO:scripts.evaluate:Evaluating Nealyang - React-Express-Blog-Demo\n",
      "INFO:experiments.all:train_and_evaluate with train size 20, test size 10\n",
      "INFO:experiments.all:Running training\n",
      "INFO:scripts.docker:creating /home/pablo/dev-results/xssrun2-30-3fold-1 dir. Omitting error if already existing\n",
      "INFO:scripts.docker:creating /tmp/log dir. Omitting error if already existing\n"
     ]
    },
    {
     "name": "stdout",
     "output_type": "stream",
     "text": [
      "   precision  recall  accuracy  alerts to recover (atr)  alerts recovered  \\\n",
      "0        0.0     0.0       0.0                       18                 0   \n",
      "\n",
      "   suprious alerts  projects with atr  avg atr per proj  \n",
      "0                0                  3               6.0  \n",
      "Fold 1\n"
     ]
    },
    {
     "name": "stderr",
     "output_type": "stream",
     "text": [
      "INFO:scripts.docker:running at container c6f7e2944ef57475eb6d239105f6a7936ed5658f6307bf2e529a23c655a0d69d. Use `docker logs c6f7e2944ef57475eb6d239105f6a7936ed5658f6307bf2e529a23c655a0d69d --tail 10 --follow` to follow progress\n",
      "INFO:scripts.docker:running combine scores\n",
      "INFO:misc.combinescores:globbing folder: /home/pablo/dev-results/xssrun2-30-3fold-1/*/reprScores.txt\n",
      "INFO:misc.combinescores:working on 15 reprScores files\n",
      "INFO:experiments.all:Running worse evaluation\n",
      "INFO:scripts.evaluate:creating /home/pablo/dev-results/xssrun2-30-3fold-1/worse dir. Omitting error if already existing\n",
      "INFO:scripts.evaluate:Starting processing with 4 processes\n",
      "INFO:scripts.evaluate:Evaluating benas - gamehub.io\n",
      "INFO:scripts.evaluate:Evaluating c2corg - tpb\n",
      "INFO:scripts.evaluate:Evaluating Fuzzyma - jquery.dataFilter\n",
      "INFO:scripts.evaluate:Evaluating FirebaseExtended - firepad\n",
      "INFO:scripts.evaluate:Evaluating Esri - storymap-cascade\n",
      "INFO:scripts.evaluate:Evaluating OanaMariaRosu - feedback\n",
      "INFO:scripts.evaluate:Evaluating brandonaaron - bgiframe\n",
      "INFO:scripts.evaluate:Evaluating JeremyLikness - AngularHealthApp\n",
      "INFO:scripts.evaluate:Evaluating SkypLabs - git-slideshow\n",
      "INFO:scripts.evaluate:Evaluating camagu - jquery-feeds\n",
      "INFO:experiments.all:Running boosted evaluation\n",
      "INFO:scripts.evaluate:creating /home/pablo/dev-results/xssrun2-30-3fold-1/boosted dir. Omitting error if already existing\n",
      "INFO:scripts.evaluate:Starting processing with 4 processes\n",
      "INFO:scripts.evaluate:Evaluating FirebaseExtended - firepad\n",
      "INFO:scripts.evaluate:Evaluating OanaMariaRosu - feedback\n",
      "INFO:scripts.evaluate:Evaluating c2corg - tpb\n",
      "INFO:scripts.evaluate:Evaluating Esri - storymap-cascade\n",
      "INFO:scripts.evaluate:Evaluating benas - gamehub.io\n",
      "INFO:scripts.evaluate:Evaluating Fuzzyma - jquery.dataFilter\n",
      "INFO:scripts.evaluate:Evaluating JeremyLikness - AngularHealthApp\n",
      "INFO:scripts.evaluate:Evaluating brandonaaron - bgiframe\n",
      "INFO:scripts.evaluate:Evaluating SkypLabs - git-slideshow\n",
      "INFO:scripts.evaluate:Evaluating camagu - jquery-feeds\n",
      "INFO:experiments.all:Running v0 evaluation\n",
      "INFO:scripts.evaluate:creating /home/pablo/dev-results/xssrun2-30-3fold-1/v0 dir. Omitting error if already existing\n",
      "INFO:scripts.evaluate:Starting processing with 4 processes\n",
      "INFO:scripts.evaluate:Evaluating benas - gamehub.io\n",
      "INFO:scripts.evaluate:Evaluating c2corg - tpb\n",
      "INFO:scripts.evaluate:Evaluating JeremyLikness - AngularHealthApp\n",
      "INFO:scripts.evaluate:Evaluating OanaMariaRosu - feedback\n",
      "INFO:scripts.evaluate:Evaluating Fuzzyma - jquery.dataFilter\n",
      "INFO:scripts.evaluate:Evaluating Esri - storymap-cascade\n",
      "INFO:scripts.evaluate:Evaluating FirebaseExtended - firepad\n",
      "INFO:scripts.evaluate:Evaluating brandonaaron - bgiframe\n",
      "INFO:scripts.evaluate:Evaluating SkypLabs - git-slideshow\n",
      "INFO:scripts.evaluate:Evaluating camagu - jquery-feeds\n",
      "/home/pablo/tesis/tsm-pipeline/code/env/lib/python3.10/site-packages/numpy/lib/function_base.py:380: RuntimeWarning: Mean of empty slice.\n",
      "  avg = a.mean(axis)\n",
      "/home/pablo/tesis/tsm-pipeline/code/env/lib/python3.10/site-packages/numpy/core/_methods.py:189: RuntimeWarning: invalid value encountered in double_scalars\n",
      "  ret = ret.dtype.type(ret / rcount)\n",
      "INFO:experiments.all:train_and_evaluate with train size 20, test size 10\n",
      "INFO:experiments.all:Running training\n",
      "INFO:scripts.docker:creating /home/pablo/dev-results/xssrun2-30-3fold-2 dir. Omitting error if already existing\n",
      "INFO:scripts.docker:creating /tmp/log dir. Omitting error if already existing\n"
     ]
    },
    {
     "name": "stdout",
     "output_type": "stream",
     "text": [
      "   precision  recall  accuracy  alerts to recover (atr)  alerts recovered  \\\n",
      "0        0.0     0.0       NaN                        0                 0   \n",
      "\n",
      "   suprious alerts  projects with atr  avg atr per proj  \n",
      "0                0                  0                 0  \n",
      "Fold 2\n"
     ]
    },
    {
     "name": "stderr",
     "output_type": "stream",
     "text": [
      "INFO:scripts.docker:running at container a4d5bfa71c4d43e520b12e3b13ddfca5bb00b858148f223b846098b7e62426bd. Use `docker logs a4d5bfa71c4d43e520b12e3b13ddfca5bb00b858148f223b846098b7e62426bd --tail 10 --follow` to follow progress\n",
      "INFO:scripts.docker:running combine scores\n",
      "INFO:misc.combinescores:globbing folder: /home/pablo/dev-results/xssrun2-30-3fold-2/*/reprScores.txt\n",
      "INFO:misc.combinescores:working on 11 reprScores files\n",
      "INFO:experiments.all:Running worse evaluation\n",
      "INFO:scripts.evaluate:creating /home/pablo/dev-results/xssrun2-30-3fold-2/worse dir. Omitting error if already existing\n",
      "INFO:scripts.evaluate:Starting processing with 4 processes\n",
      "INFO:scripts.evaluate:Evaluating Matttaylor8910 - strategery\n",
      "INFO:scripts.evaluate:Evaluating bpm - bpm\n",
      "INFO:scripts.evaluate:Evaluating Raxa - Raxa-JSS\n",
      "INFO:scripts.evaluate:Evaluating ProjectTLU17 - Study\n",
      "INFO:scripts.evaluate:Evaluating ClojureBridge - curriculum\n",
      "INFO:scripts.evaluate:Evaluating FullstackAcademy - Study-Saturday-Fullstack\n",
      "INFO:scripts.evaluate:Evaluating OpenGeoportal - ogpHarvester\n",
      "INFO:scripts.evaluate:Evaluating Ramos114 - reader\n",
      "INFO:scripts.evaluate:Evaluating cfry - dde\n",
      "INFO:scripts.evaluate:Evaluating SAP - openui5\n",
      "INFO:experiments.all:Running boosted evaluation\n",
      "INFO:scripts.evaluate:creating /home/pablo/dev-results/xssrun2-30-3fold-2/boosted dir. Omitting error if already existing\n",
      "INFO:scripts.evaluate:Starting processing with 4 processes\n",
      "INFO:scripts.evaluate:Evaluating Raxa - Raxa-JSS\n",
      "INFO:scripts.evaluate:Evaluating Ramos114 - reader\n",
      "INFO:scripts.evaluate:Evaluating bpm - bpm\n",
      "INFO:scripts.evaluate:Evaluating OpenGeoportal - ogpHarvester\n",
      "INFO:scripts.evaluate:Evaluating ClojureBridge - curriculum\n",
      "INFO:scripts.evaluate:Evaluating FullstackAcademy - Study-Saturday-Fullstack\n",
      "INFO:scripts.evaluate:Evaluating ProjectTLU17 - Study\n",
      "INFO:scripts.evaluate:Evaluating Matttaylor8910 - strategery\n",
      "INFO:scripts.evaluate:Evaluating cfry - dde\n",
      "INFO:scripts.evaluate:Evaluating SAP - openui5\n",
      "INFO:experiments.all:Running v0 evaluation\n",
      "INFO:scripts.evaluate:creating /home/pablo/dev-results/xssrun2-30-3fold-2/v0 dir. Omitting error if already existing\n",
      "INFO:scripts.evaluate:Starting processing with 4 processes\n",
      "INFO:scripts.evaluate:Evaluating ClojureBridge - curriculum\n",
      "INFO:scripts.evaluate:Evaluating FullstackAcademy - Study-Saturday-Fullstack\n",
      "INFO:scripts.evaluate:Evaluating Raxa - Raxa-JSS\n",
      "INFO:scripts.evaluate:Evaluating bpm - bpm\n",
      "INFO:scripts.evaluate:Evaluating Matttaylor8910 - strategery\n",
      "INFO:scripts.evaluate:Evaluating OpenGeoportal - ogpHarvester\n",
      "INFO:scripts.evaluate:Evaluating Ramos114 - reader\n",
      "INFO:scripts.evaluate:Evaluating ProjectTLU17 - Study\n",
      "INFO:scripts.evaluate:Evaluating cfry - dde\n",
      "INFO:scripts.evaluate:Evaluating SAP - openui5\n"
     ]
    },
    {
     "name": "stdout",
     "output_type": "stream",
     "text": [
      "   precision  recall  accuracy  alerts to recover (atr)  alerts recovered  \\\n",
      "0        0.0     0.0       0.0                        8                 0   \n",
      "\n",
      "   suprious alerts  projects with atr  avg atr per proj  \n",
      "0                0                  2               4.0  \n",
      "done\n"
     ]
    }
   ],
   "source": [
    "from random import sample\n",
    "from sklearn.model_selection import KFold\n",
    "import numpy as np\n",
    "\n",
    "sample_30 = sample(xss_dbs, 30)\n",
    "print(\"using sample of %d\" %(len(sample_30)))\n",
    "# fixing random state to make this repeatable\n",
    "kf = KFold(n_splits=3)\n",
    "collected_results = []\n",
    "base_results_dir = \"/home/pablo/dev-results/xssrun2-30-3fold-\"\n",
    "for i, (train_index, test_index) in enumerate(kf.split(sample_30)):\n",
    "    print(\"Fold %d\" % (i))\n",
    "    res_dir = \"%s%d\" % (base_results_dir, i)\n",
    "    train_split = np.take(sample_30, train_index)\n",
    "    test_split = np.take(sample_30, test_index)\n",
    "\n",
    "    scores = train_and_evaluate(\n",
    "        config=config,\n",
    "        results_dir=res_dir,\n",
    "        query_type=\"xss\",\n",
    "        train=train_split.tolist(),\n",
    "        test=test_split.tolist(),\n",
    "        docker_client=docker_client,\n",
    "    )\n",
    "    print(scores)\n",
    "    collected_results.append(scores)\n",
    "print(\"done\")"
   ]
  },
  {
   "cell_type": "code",
   "execution_count": 5,
   "metadata": {
    "tags": []
   },
   "outputs": [
    {
     "data": {
      "text/html": [
       "<div>\n",
       "<style scoped>\n",
       "    .dataframe tbody tr th:only-of-type {\n",
       "        vertical-align: middle;\n",
       "    }\n",
       "\n",
       "    .dataframe tbody tr th {\n",
       "        vertical-align: top;\n",
       "    }\n",
       "\n",
       "    .dataframe thead th {\n",
       "        text-align: right;\n",
       "    }\n",
       "</style>\n",
       "<table border=\"1\" class=\"dataframe\">\n",
       "  <thead>\n",
       "    <tr style=\"text-align: right;\">\n",
       "      <th></th>\n",
       "      <th>precision</th>\n",
       "      <th>recall</th>\n",
       "      <th>accuracy</th>\n",
       "      <th>alerts to recover (atr)</th>\n",
       "      <th>alerts recovered</th>\n",
       "      <th>suprious alerts</th>\n",
       "      <th>projects with atr</th>\n",
       "      <th>avg atr per proj</th>\n",
       "    </tr>\n",
       "  </thead>\n",
       "  <tbody>\n",
       "    <tr>\n",
       "      <th>0</th>\n",
       "      <td>0.0</td>\n",
       "      <td>0.0</td>\n",
       "      <td>0.0</td>\n",
       "      <td>18.000000</td>\n",
       "      <td>0.0</td>\n",
       "      <td>0.0</td>\n",
       "      <td>3.000000</td>\n",
       "      <td>6.000000</td>\n",
       "    </tr>\n",
       "    <tr>\n",
       "      <th>0</th>\n",
       "      <td>0.0</td>\n",
       "      <td>0.0</td>\n",
       "      <td>NaN</td>\n",
       "      <td>0.000000</td>\n",
       "      <td>0.0</td>\n",
       "      <td>0.0</td>\n",
       "      <td>0.000000</td>\n",
       "      <td>0.000000</td>\n",
       "    </tr>\n",
       "    <tr>\n",
       "      <th>0</th>\n",
       "      <td>0.0</td>\n",
       "      <td>0.0</td>\n",
       "      <td>0.0</td>\n",
       "      <td>8.000000</td>\n",
       "      <td>0.0</td>\n",
       "      <td>0.0</td>\n",
       "      <td>2.000000</td>\n",
       "      <td>4.000000</td>\n",
       "    </tr>\n",
       "    <tr>\n",
       "      <th>mean</th>\n",
       "      <td>0.0</td>\n",
       "      <td>0.0</td>\n",
       "      <td>0.0</td>\n",
       "      <td>8.666667</td>\n",
       "      <td>0.0</td>\n",
       "      <td>0.0</td>\n",
       "      <td>1.666667</td>\n",
       "      <td>3.333333</td>\n",
       "    </tr>\n",
       "  </tbody>\n",
       "</table>\n",
       "</div>"
      ],
      "text/plain": [
       "      precision  recall  accuracy  alerts to recover (atr)  alerts recovered  \\\n",
       "0           0.0     0.0       0.0                18.000000               0.0   \n",
       "0           0.0     0.0       NaN                 0.000000               0.0   \n",
       "0           0.0     0.0       0.0                 8.000000               0.0   \n",
       "mean        0.0     0.0       0.0                 8.666667               0.0   \n",
       "\n",
       "      suprious alerts  projects with atr  avg atr per proj  \n",
       "0                 0.0           3.000000          6.000000  \n",
       "0                 0.0           0.000000          0.000000  \n",
       "0                 0.0           2.000000          4.000000  \n",
       "mean              0.0           1.666667          3.333333  "
      ]
     },
     "execution_count": 5,
     "metadata": {},
     "output_type": "execute_result"
    }
   ],
   "source": [
    "import pandas as pd\n",
    "\n",
    "concated_results = pd.concat(collected_results)\n",
    "pd.concat([concated_results, concated_results.apply(['mean'])])"
   ]
  }
 ],
 "metadata": {
  "kernelspec": {
   "display_name": "Python 3 (ipykernel)",
   "language": "python",
   "name": "python3"
  },
  "language_info": {
   "codemirror_mode": {
    "name": "ipython",
    "version": 3
   },
   "file_extension": ".py",
   "mimetype": "text/x-python",
   "name": "python",
   "nbconvert_exporter": "python",
   "pygments_lexer": "ipython3",
   "version": "3.10.6"
  }
 },
 "nbformat": 4,
 "nbformat_minor": 4
}
