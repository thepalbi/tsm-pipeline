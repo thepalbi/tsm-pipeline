{
 "cells": [
  {
   "cell_type": "code",
   "execution_count": 6,
   "metadata": {},
   "outputs": [
    {
     "name": "stdout",
     "output_type": "stream",
     "text": [
      "The autoreload extension is already loaded. To reload it, use:\n",
      "  %reload_ext autoreload\n"
     ]
    }
   ],
   "source": [
    "%load_ext autoreload\n",
    "%autoreload 2\n",
    "\n",
    "from experiments.all import train_and_evaluate\n",
    "from tsm.configuration import TSMConfigParser\n",
    "import docker\n",
    "import logging\n",
    "\n",
    "logging.basicConfig(level=logging.INFO)\n",
    "\n",
    "# load configuration\n",
    "config = TSMConfigParser()\n",
    "config.read(\"/home/pablo/tesis/tsm-pipeline/code/configs/pablo-bestia.cfg\")\n",
    "config.check()\n",
    "docker_client = docker.from_env()"
   ]
  },
  {
   "attachments": {},
   "cell_type": "markdown",
   "metadata": {},
   "source": [
    "loading the dataset and creating a random state to make everything repeatable"
   ]
  },
  {
   "cell_type": "code",
   "execution_count": 3,
   "metadata": {},
   "outputs": [
    {
     "name": "stdout",
     "output_type": "stream",
     "text": [
      "90\n"
     ]
    }
   ],
   "source": [
    "from scripts.docker import read_dbs_dataset\n",
    "from numpy.random import RandomState\n",
    "\n",
    "xss_dbs = read_dbs_dataset(\"/home/pablo/tesis/tsm-pipeline/experiments/datasets/xss_1.txt\")\n",
    "# Using a fixed random state to have reproducible results\n",
    "rand = RandomState(seed=5)\n",
    "\n",
    "print(len(xss_dbs))"
   ]
  },
  {
   "attachments": {},
   "cell_type": "markdown",
   "metadata": {},
   "source": [
    "smoke testing run to check everything is working"
   ]
  },
  {
   "cell_type": "code",
   "execution_count": 7,
   "metadata": {},
   "outputs": [
    {
     "name": "stderr",
     "output_type": "stream",
     "text": [
      "WARNING:experiments.all:configued to skip the following steps: train,evalute_worse,evaluate_boosted,evaluate_v0\n",
      "INFO:experiments.all:train_and_evaluate with train size 1, test size 1\n",
      "WARNING:experiments.all:skipping train\n",
      "INFO:experiments.all:Running worse evaluation\n",
      "INFO:scripts.evaluate:creating /tmp/tmp6ddjrlqd/worse dir. Omitting error if already existing\n",
      "INFO:scripts.evaluate:Starting processing with 4 processes\n"
     ]
    },
    {
     "name": "stdout",
     "output_type": "stream",
     "text": [
      "using /tmp/tmp6ddjrlqd for smoke run\n"
     ]
    },
    {
     "name": "stderr",
     "output_type": "stream",
     "text": [
      "INFO:scripts.evaluate:Evaluating Breeze - breeze.js.samples\n",
      "WARNING:experiments.all:skipping boosted evaluation\n",
      "WARNING:experiments.all:skipping v0 evaluation\n",
      "/home/pablo/tesis/tsm-pipeline/code/env/lib/python3.10/site-packages/numpy/lib/function_base.py:380: RuntimeWarning: Mean of empty slice.\n",
      "  avg = a.mean(axis)\n",
      "/home/pablo/tesis/tsm-pipeline/code/env/lib/python3.10/site-packages/numpy/core/_methods.py:189: RuntimeWarning: invalid value encountered in double_scalars\n",
      "  ret = ret.dtype.type(ret / rcount)\n"
     ]
    },
    {
     "data": {
      "text/html": [
       "<div>\n",
       "<style scoped>\n",
       "    .dataframe tbody tr th:only-of-type {\n",
       "        vertical-align: middle;\n",
       "    }\n",
       "\n",
       "    .dataframe tbody tr th {\n",
       "        vertical-align: top;\n",
       "    }\n",
       "\n",
       "    .dataframe thead th {\n",
       "        text-align: right;\n",
       "    }\n",
       "</style>\n",
       "<table border=\"1\" class=\"dataframe\">\n",
       "  <thead>\n",
       "    <tr style=\"text-align: right;\">\n",
       "      <th></th>\n",
       "      <th>precision</th>\n",
       "      <th>recall</th>\n",
       "      <th>accuracy</th>\n",
       "      <th>alerts to recover (atr)</th>\n",
       "      <th>alerts recovered</th>\n",
       "      <th>suprious alerts</th>\n",
       "      <th>projects with atr</th>\n",
       "      <th>avg atr per proj</th>\n",
       "    </tr>\n",
       "  </thead>\n",
       "  <tbody>\n",
       "    <tr>\n",
       "      <th>0</th>\n",
       "      <td>0.0</td>\n",
       "      <td>0.0</td>\n",
       "      <td>NaN</td>\n",
       "      <td>0</td>\n",
       "      <td>0</td>\n",
       "      <td>0</td>\n",
       "      <td>0</td>\n",
       "      <td>0</td>\n",
       "    </tr>\n",
       "  </tbody>\n",
       "</table>\n",
       "</div>"
      ],
      "text/plain": [
       "   precision  recall  accuracy  alerts to recover (atr)  alerts recovered  \\\n",
       "0        0.0     0.0       NaN                        0                 0   \n",
       "\n",
       "   suprious alerts  projects with atr  avg atr per proj  \n",
       "0                0                  0                 0  "
      ]
     },
     "execution_count": 7,
     "metadata": {},
     "output_type": "execute_result"
    }
   ],
   "source": [
    "import tempfile\n",
    "\n",
    "test_and_train = [\n",
    "    xss_dbs[0],\n",
    "]\n",
    "\n",
    "res_dir = tempfile.mkdtemp()\n",
    "print(\"using %s for smoke run\" % (res_dir))\n",
    "# !rm -rf $res_dir/*\n",
    "\n",
    "train_and_evaluate(\n",
    "    config=config,\n",
    "    results_dir=res_dir,\n",
    "    query_type=\"xss\",\n",
    "    train=test_and_train,\n",
    "    test=test_and_train,\n",
    "    docker_client=docker_client,\n",
    "    skip=[\"train\", \"evalute_worse\", \"evaluate_boosted\", \"evaluate_v0\"]\n",
    ")"
   ]
  },
  {
   "attachments": {},
   "cell_type": "markdown",
   "metadata": {},
   "source": [
    "as a second sanity, doing a run with 10/10 over the first 20 sample"
   ]
  },
  {
   "cell_type": "code",
   "execution_count": 8,
   "metadata": {},
   "outputs": [
    {
     "name": "stdout",
     "output_type": "stream",
     "text": [
      "train 10, test 10\n"
     ]
    }
   ],
   "source": [
    "from random import sample\n",
    "from sklearn.model_selection import train_test_split\n",
    "\n",
    "sample_20 = sample(xss_dbs, 20)\n",
    "train, test = train_test_split(sample_20, train_size=.5, shuffle=True, random_state=rand)\n",
    "print(\"train %d, test %d\" %(len(train), len(test)))"
   ]
  },
  {
   "cell_type": "code",
   "execution_count": null,
   "metadata": {},
   "outputs": [],
   "source": [
    "res_dir = tempfile.mkdtemp()\n",
    "print(\"using %s for 20 run\" % (res_dir))\n",
    "\n",
    "train_and_evaluate(\n",
    "    config=config,\n",
    "    results_dir=res_dir,\n",
    "    query_type=\"xss\",\n",
    "    train=train,\n",
    "    test=test,\n",
    "    docker_client=docker_client,\n",
    ")"
   ]
  }
 ],
 "metadata": {
  "kernelspec": {
   "display_name": "Python 3 (ipykernel)",
   "language": "python",
   "name": "python3"
  },
  "language_info": {
   "codemirror_mode": {
    "name": "ipython",
    "version": 3
   },
   "file_extension": ".py",
   "mimetype": "text/x-python",
   "name": "python",
   "nbconvert_exporter": "python",
   "pygments_lexer": "ipython3",
   "version": "3.10.6"
  },
  "orig_nbformat": 4
 },
 "nbformat": 4,
 "nbformat_minor": 2
}
