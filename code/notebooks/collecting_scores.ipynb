{
 "cells": [
  {
   "cell_type": "code",
   "execution_count": 16,
   "id": "6f5e60fc-b574-4028-95e6-15e1ce565833",
   "metadata": {
    "tags": []
   },
   "outputs": [
    {
     "name": "stdout",
     "output_type": "stream",
     "text": [
      "nosql 5-fold 100 dbs\n",
      "tainted path 3-fold 30 dbs\n",
      "xss 3-fold 30 dbs\n"
     ]
    },
    {
     "data": {
      "text/html": [
       "<div>\n",
       "<style scoped>\n",
       "    .dataframe tbody tr th:only-of-type {\n",
       "        vertical-align: middle;\n",
       "    }\n",
       "\n",
       "    .dataframe tbody tr th {\n",
       "        vertical-align: top;\n",
       "    }\n",
       "\n",
       "    .dataframe thead th {\n",
       "        text-align: right;\n",
       "    }\n",
       "</style>\n",
       "<table border=\"1\" class=\"dataframe\">\n",
       "  <thead>\n",
       "    <tr style=\"text-align: right;\">\n",
       "      <th></th>\n",
       "      <th>precision</th>\n",
       "      <th>recall</th>\n",
       "      <th>accuracy</th>\n",
       "      <th>alerts to recover (atr)</th>\n",
       "      <th>alerts recovered</th>\n",
       "      <th>suprious alerts</th>\n",
       "      <th>projects with atr</th>\n",
       "      <th>avg atr per proj</th>\n",
       "      <th>name</th>\n",
       "    </tr>\n",
       "  </thead>\n",
       "  <tbody>\n",
       "    <tr>\n",
       "      <th>mean</th>\n",
       "      <td>0.225623</td>\n",
       "      <td>0.772836</td>\n",
       "      <td>0.209228</td>\n",
       "      <td>36.6</td>\n",
       "      <td>28.0</td>\n",
       "      <td>97.600000</td>\n",
       "      <td>10.600000</td>\n",
       "      <td>3.571429</td>\n",
       "      <td>nosql 5-fold 100 dbs</td>\n",
       "    </tr>\n",
       "    <tr>\n",
       "      <th>mean</th>\n",
       "      <td>0.254036</td>\n",
       "      <td>0.737374</td>\n",
       "      <td>0.173721</td>\n",
       "      <td>5.0</td>\n",
       "      <td>3.0</td>\n",
       "      <td>26.666667</td>\n",
       "      <td>2.000000</td>\n",
       "      <td>2.055556</td>\n",
       "      <td>tainted path 3-fold 30 dbs</td>\n",
       "    </tr>\n",
       "    <tr>\n",
       "      <th>mean</th>\n",
       "      <td>0.000000</td>\n",
       "      <td>0.000000</td>\n",
       "      <td>0.000000</td>\n",
       "      <td>4.0</td>\n",
       "      <td>0.0</td>\n",
       "      <td>0.000000</td>\n",
       "      <td>1.666667</td>\n",
       "      <td>2.333333</td>\n",
       "      <td>xss 3-fold 30 dbs</td>\n",
       "    </tr>\n",
       "  </tbody>\n",
       "</table>\n",
       "</div>"
      ],
      "text/plain": [
       "      precision    recall  accuracy  alerts to recover (atr)  \\\n",
       "mean   0.225623  0.772836  0.209228                     36.6   \n",
       "mean   0.254036  0.737374  0.173721                      5.0   \n",
       "mean   0.000000  0.000000  0.000000                      4.0   \n",
       "\n",
       "      alerts recovered  suprious alerts  projects with atr  avg atr per proj  \\\n",
       "mean              28.0        97.600000          10.600000          3.571429   \n",
       "mean               3.0        26.666667           2.000000          2.055556   \n",
       "mean               0.0         0.000000           1.666667          2.333333   \n",
       "\n",
       "                            name  \n",
       "mean        nosql 5-fold 100 dbs  \n",
       "mean  tainted path 3-fold 30 dbs  \n",
       "mean           xss 3-fold 30 dbs  "
      ]
     },
     "execution_count": 16,
     "metadata": {},
     "output_type": "execute_result"
    }
   ],
   "source": [
    "import pandas as pd\n",
    "import numpy as np\n",
    "from pathlib import Path\n",
    "import glob\n",
    "from scripts.calculate_scores import calculate_scores_df\n",
    "\n",
    "results_folder = Path(\"/home/pablo/dev-results\")\n",
    "\n",
    "experiments = [\n",
    "    (\"nosql 5-fold 100 dbs\", results_folder / \"nosql-5fold-*\"),\n",
    "    (\"tainted path 3-fold 30 dbs\", results_folder / \"path-30-3fold-*\"),\n",
    "    (\"xss 3-fold 30 dbs\", results_folder / \"xss-30-3fold-*\")\n",
    "]\n",
    "\n",
    "all_results = []\n",
    "\n",
    "for name, exp in experiments:\n",
    "    print(name)\n",
    "    collected = []\n",
    "    for f in glob.glob(exp.__str__()):\n",
    "        scores = calculate_scores_df(\n",
    "            results_folder=f,\n",
    "            cleanup_base_dir=\"/tmp\",\n",
    "        )\n",
    "        collected.append(scores)\n",
    "    ccated = pd.concat(collected)\n",
    "    mean = ccated.apply([\"mean\"])\n",
    "    mean['name'] = [name]\n",
    "    all_results.append(mean)\n",
    "\n",
    "all = pd.concat(all_results)\n",
    "all"
   ]
  },
  {
   "cell_type": "markdown",
   "id": "d2ec95e2-73a4-4ad9-8856-e836a733fc2b",
   "metadata": {},
   "source": [
    "the cell below is used to generate rows in the latex table"
   ]
  },
  {
   "cell_type": "code",
   "execution_count": 28,
   "id": "16cd333b-5647-4357-bedb-c46bacebf01a",
   "metadata": {
    "tags": []
   },
   "outputs": [
    {
     "name": "stdout",
     "output_type": "stream",
     "text": [
      "nosql 5-fold 100 dbs & 0.22562 & 0.77284 & 0.20923 & 36.60000 & 28.00000 & 97.60000 & 10.60000 & 3.57143 \\\\ \n",
      "tainted path 3-fold 30 dbs & 0.25404 & 0.73737 & 0.17372 & 5.00000 & 3.00000 & 26.66667 & 2.00000 & 2.05556 \\\\ \n",
      "xss 3-fold 30 dbs & 0.00000 & 0.00000 & 0.00000 & 4.00000 & 0.00000 & 0.00000 & 1.66667 & 2.33333 \\\\ \n",
      "\n"
     ]
    }
   ],
   "source": [
    "cols = [\"name\", \"precision\", \"recall\", \"accuracy\", \"alerts to recover (atr)\", \"alerts recovered\", \"suprious alerts\", \"projects with atr\", \"avg atr per proj\"]\n",
    "latex = \"\"\n",
    "for _, row in all[cols].iterrows():\n",
    "    l = len(row)\n",
    "    for i, field in enumerate(row):\n",
    "        s = str(field)\n",
    "        if isinstance(field, float):\n",
    "            s = \"%.5f\" % field\n",
    "        latex += s\n",
    "        if i == l-1:\n",
    "            latex += \" \\\\\\\\ \\n\"\n",
    "        else:\n",
    "            latex += \" & \"\n",
    "print(latex)"
   ]
  }
 ],
 "metadata": {
  "kernelspec": {
   "display_name": "Python 3 (ipykernel)",
   "language": "python",
   "name": "python3"
  },
  "language_info": {
   "codemirror_mode": {
    "name": "ipython",
    "version": 3
   },
   "file_extension": ".py",
   "mimetype": "text/x-python",
   "name": "python",
   "nbconvert_exporter": "python",
   "pygments_lexer": "ipython3",
   "version": "3.10.6"
  }
 },
 "nbformat": 4,
 "nbformat_minor": 5
}
