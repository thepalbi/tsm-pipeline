{
 "cells": [
  {
   "cell_type": "code",
   "execution_count": 14,
   "id": "b941378b-4cfe-449a-8592-6e8c86df608a",
   "metadata": {
    "tags": []
   },
   "outputs": [
    {
     "name": "stdout",
     "output_type": "stream",
     "text": [
      "The autoreload extension is already loaded. To reload it, use:\n",
      "  %reload_ext autoreload\n"
     ]
    }
   ],
   "source": [
    "import sys\n",
    "libpath = \"/home/pablo/tesis/tsm-pipeline/code\"\n",
    "if libpath not in sys.path:\n",
    "    sys.path.append(libpath)\n",
    "    \n",
    "%load_ext autoreload\n",
    "%autoreload 2\n",
    "\n",
    "import docker\n",
    "docker_client = docker.from_env()\n",
    "\n",
    "# Configura todo lo necesario en el ambiente\n",
    "from scripts.docker import run_tsm, ExperimentSettings, read_dbs_dataset\n",
    "from scripts.evaluate import evaluate, EvaluationSettings\n",
    "from os.path import join as path_join\n",
    "import logging\n",
    "\n",
    "logging.basicConfigcConfig(level=logging.INFO)\n",
    "\n",
    "defaults = {\n",
    "    \"bash_config_path\": \"/home/pablo/tesis/tsm-pipeline/code/scripts/config.sh\",\n",
    "}\n",
    "defaults_evalute = {\n",
    "    \"cache_root\":\"/home/pablo/dbcache\",    \n",
    "}"
   ]
  },
  {
   "cell_type": "code",
   "execution_count": 8,
   "id": "791bf028-d915-4a89-b778-99b3aace3ceb",
   "metadata": {
    "tags": []
   },
   "outputs": [],
   "source": [
    "nosql_dbs = read_dbs_dataset(\"/home/pablo/tesis/tsm-pipeline/experiments/datasets/nosql_1.txt\")"
   ]
  },
  {
   "cell_type": "code",
   "execution_count": 9,
   "id": "0e9d89c7-d112-47bd-861e-ef604dc623bd",
   "metadata": {
    "tags": []
   },
   "outputs": [
    {
     "data": {
      "text/plain": [
       "['bookbrainz/bookbrainz-site/d4381bb',\n",
       " 'JiniHendrix/expensereportapp/db393a6',\n",
       " 'andrehNSFW/nameless-warrior-api/e7f787d',\n",
       " 'Redsmin/proxy/0b20436',\n",
       " 'architMahto/udemy-nodejs-angular2/b1ed580',\n",
       " 'appbaseio/dejavu/a735ffb',\n",
       " 'LiJunpeng/URLShortenerService/5c0aa71',\n",
       " 'andchir/shopkeeper4/ac64a5b',\n",
       " 'OmarElGabry/chat.io/082952e',\n",
       " 'DBULL7/uhoops/ffd7a04']"
      ]
     },
     "execution_count": 9,
     "metadata": {},
     "output_type": "execute_result"
    }
   ],
   "source": [
    "from sklearn.model_selection import train_test_split\n",
    "from numpy.random import RandomState\n",
    "\n",
    "# Using a fixed random state to have reproducible results\n",
    "rand = RandomState(seed=5)\n",
    "\n",
    "sample = nosql_dbs[:100]\n",
    "train, test = train_test_split(sample, train_size=.5, shuffle=True, random_state=rand)\n",
    "train[:10]"
   ]
  },
  {
   "cell_type": "markdown",
   "id": "f145947f-129e-4693-8049-74233c2f40af",
   "metadata": {},
   "source": [
    "Primera corrida de bejamin button, con un dataset formado a partir de repos que venian con commits, y filtrando que tengan por lo menos 5k loc de javascript. Se toma un corte de 50/50 entre entrenamiento y test."
   ]
  },
  {
   "cell_type": "code",
   "execution_count": 10,
   "id": "54436ffa-4882-4e9e-88f4-7210d35211c1",
   "metadata": {
    "tags": []
   },
   "outputs": [],
   "source": [
    "results_dir = \"/home/pablo/results/ds_nosql_1\""
   ]
  },
  {
   "cell_type": "code",
   "execution_count": 5,
   "id": "bd4d2138-d099-4869-809e-28a4dd6151d5",
   "metadata": {
    "jupyter": {
     "source_hidden": true
    },
    "tags": []
   },
   "outputs": [],
   "source": [
    "results_dir = '/home/pablo/results/seldonstar_nosql_1'"
   ]
  },
  {
   "cell_type": "code",
   "execution_count": 11,
   "id": "9c3bc4cc-57b6-439d-8aae-3765c779b903",
   "metadata": {
    "tags": []
   },
   "outputs": [
    {
     "name": "stdout",
     "output_type": "stream",
     "text": [
      "running at container f6e21cff2d3ec89b824fe4805adbdb3e6394f2b1795a94d8bbb39cfc8c00da3a. Use `docker logs f6e21cff2d3ec89b824fe4805adbdb3e6394f2b1795a94d8bbb39cfc8c00da3a --tail 10 --follow` to follow progress\n",
      "g: /home/pablo/results/ds_nosql_1/*/NosqlInjectionWorse-*/reprScores.txt\n"
     ]
    }
   ],
   "source": [
    "# training\n",
    "train_settings = ExperimentSettings(\n",
    "    name=\"ds_nosql_1\",\n",
    "    query_type=\"nosql\",\n",
    "    project_list=train,\n",
    "    results_dir=results_dir,\n",
    "    **defaults\n",
    ")\n",
    "\n",
    "run_tsm(docker_client, train_settings, block=True)"
   ]
  },
  {
   "cell_type": "code",
   "execution_count": 12,
   "id": "ae66f3a6-eaf2-4fae-ab92-9fb06fea23c9",
   "metadata": {
    "tags": []
   },
   "outputs": [
    {
     "name": "stdout",
     "output_type": "stream",
     "text": [
      "51\n"
     ]
    }
   ],
   "source": [
    "!cat /home/pablo/results/ds_nosql_1/averaged-results.csv|wc -l"
   ]
  },
  {
   "cell_type": "code",
   "execution_count": 13,
   "id": "ddfc7cf3-0ef0-43b3-9975-fcb064e37409",
   "metadata": {
    "tags": []
   },
   "outputs": [
    {
     "data": {
      "text/plain": [
       "['PaulSec/VNWA/d3704e6',\n",
       " 'FreetailHackers/saffron/f563dd2',\n",
       " 'JosipReh/Feeddit/bbcb615',\n",
       " 'EQuimper/nodejs-api-boilerplate/0dcea20',\n",
       " 'Xerios/mobx-isomorphic-starter/8d08656',\n",
       " 'DanialK/PassportJS-Authentication/af6f691',\n",
       " 'BryanKo/Fam/6ee0fe0',\n",
       " 'DanWahlin/Angular-RESTfulService/bbd42e4',\n",
       " 'Crizstian/cinema-microservice/b6c973d',\n",
       " 'Gingernaut/Robot-Lawyer/56b86ac']"
      ]
     },
     "execution_count": 13,
     "metadata": {},
     "output_type": "execute_result"
    }
   ],
   "source": [
    "test[0:10]"
   ]
  },
  {
   "cell_type": "code",
   "execution_count": 15,
   "id": "301b2267-bc7a-4bcc-964c-c44d6c08da03",
   "metadata": {
    "tags": []
   },
   "outputs": [
    {
     "name": "stderr",
     "output_type": "stream",
     "text": [
      "INFO:scripts.evaluate:creating /home/pablo/results/ds_nosql_1/worse dir. Omitting error if already existing\n"
     ]
    },
    {
     "name": "stdout",
     "output_type": "stream",
     "text": [
      "Evaluating worse with 50 dbs\n"
     ]
    },
    {
     "name": "stderr",
     "output_type": "stream",
     "text": [
      "INFO:scripts.evaluate:Starting processing with 4 processes\n",
      "INFO:scripts.evaluate:Evaluating Xerios - mobx-isomorphic-starter\n",
      "INFO:scripts.evaluate:Evaluating PaulSec - VNWA\n",
      "INFO:scripts.evaluate:Evaluating Crizstian - cinema-microservice\n",
      "INFO:scripts.evaluate:Evaluating StudioDeTelevision - admiraljs\n",
      "INFO:scripts.evaluate:Evaluating FreetailHackers - saffron\n",
      "INFO:scripts.evaluate:Evaluating Gingernaut - Robot-Lawyer\n",
      "INFO:scripts.evaluate:Evaluating DanialK - PassportJS-Authentication\n",
      "INFO:scripts.evaluate:Evaluating IBM - innovate-digital-bank\n",
      "INFO:scripts.evaluate:Evaluating bitpay - bitcore\n",
      "INFO:scripts.evaluate:Evaluating BryanKo - Fam\n",
      "INFO:scripts.evaluate:Evaluating JosipReh - Feeddit\n",
      "INFO:scripts.evaluate:Evaluating OmgImAlexis - astro\n",
      "INFO:scripts.evaluate:Evaluating DanWahlin - Angular-RESTfulService\n",
      "INFO:scripts.evaluate:Evaluating EQuimper - nodejs-api-boilerplate\n",
      "INFO:scripts.evaluate:Evaluating FrontendMasters - intro-mongo-db\n",
      "INFO:scripts.evaluate:Evaluating IHTSDO - sct-snapshot-rest-api\n",
      "INFO:scripts.evaluate:Evaluating benas - gamehub.io\n",
      "INFO:scripts.evaluate:Evaluating DimiMikadze - Mean-Blog\n",
      "INFO:scripts.evaluate:Evaluating HackCU - jakehockey10\n",
      "INFO:scripts.evaluate:Evaluating MiloATH - VotingApp\n",
      "INFO:scripts.evaluate:Evaluating NetEaseGame - redis-monitor\n",
      "INFO:scripts.evaluate:Evaluating MauroEspinosa - Grupos\n",
      "INFO:scripts.evaluate:Evaluating DanWahlin - CustomerManager\n",
      "INFO:scripts.evaluate:Evaluating CatalystCode - ImageTaggingSystem\n",
      "INFO:scripts.evaluate:Evaluating Cendey - contacts\n",
      "INFO:scripts.evaluate:Evaluating aravindnc - mongoose-paginate-v2\n",
      "INFO:scripts.evaluate:Evaluating HashBrownCMS - hashbrown-cms\n",
      "INFO:scripts.evaluate:Evaluating ParabolInc - action\n",
      "INFO:scripts.evaluate:Evaluating StephenGrider - AdvancedReduxCode\n",
      "INFO:scripts.evaluate:Evaluating Binomi0 - Seolidera-CRM\n",
      "INFO:scripts.evaluate:Evaluating PaulSavignano - aussiemoving-staging\n",
      "INFO:scripts.evaluate:Evaluating TylerBrock - mongo-hacker\n",
      "INFO:scripts.evaluate:Evaluating aravindvnair99 - Prostem-Internship\n",
      "INFO:scripts.evaluate:Evaluating Tencent - westore\n",
      "INFO:scripts.evaluate:Evaluating DiyanTonchev - ShopStop\n",
      "INFO:scripts.evaluate:Evaluating MattLong87 - winrate-api\n",
      "INFO:scripts.evaluate:Evaluating FrontendMasters - api-design-node-v3\n",
      "INFO:scripts.evaluate:Evaluating antonshevchenko - pager\n",
      "INFO:scripts.evaluate:Evaluating KyteProject - fdbck-web\n",
      "INFO:scripts.evaluate:Evaluating DanWahlin - CustomerManagerStandard\n",
      "INFO:scripts.evaluate:Evaluating F0xedb - WebCalendar\n",
      "INFO:scripts.evaluate:Evaluating aheckmann - mquery\n",
      "INFO:scripts.evaluate:Evaluating MasseyHacks - MasseyHacks-IV-Quill\n",
      "INFO:scripts.evaluate:Evaluating DimiMikadze - node-redux-auth\n",
      "INFO:scripts.evaluate:Evaluating LiangCY - MovieTickets\n",
      "INFO:scripts.evaluate:Evaluating bergwhite - nchat\n",
      "INFO:scripts.evaluate:Evaluating ChangerHe - My-code\n",
      "INFO:scripts.evaluate:Evaluating JPinkney - Track-your-TV\n",
      "INFO:scripts.evaluate:Evaluating AkimaLunar - ng-meenk\n",
      "INFO:scripts.evaluate:Evaluating CapacitorSet - rebridge\n"
     ]
    }
   ],
   "source": [
    "# evaluation\n",
    "external_predicate_file = path_join(results_dir, 'averaged-results.csv')\n",
    "worse_settings = EvaluationSettings(\n",
    "    search_path=\"/home/pablo/tesis/tsm-pipeline/lib-worse/codeql/javascript/ql:/home/pablo/.codeql/packages/codeql/javascript-upgrades/0.0.3\",\n",
    "    cli_version=\"2.13.1\",\n",
    "    db_cli_version=\"2.5.2\",\n",
    "    query_file=\"/home/pablo/tesis/tsm-pipeline/tsm-atm-pipeline/src/tsm/evaluation/NosqlInjectionWorseTSM.ql\",\n",
    "    external_predicate_file=external_predicate_file,\n",
    "    **defaults_evalute,\n",
    ")\n",
    "\n",
    "print(\"Evaluating worse with %d dbs\" % (len(test)))\n",
    "evaluate(\n",
    "    settings=worse_settings,\n",
    "    output_dir=path_join(results_dir, 'worse'),\n",
    "    dbs=test,\n",
    ")"
   ]
  },
  {
   "cell_type": "code",
   "execution_count": 16,
   "id": "714032af-5b34-44bf-9534-12cf4d1ded5c",
   "metadata": {
    "tags": []
   },
   "outputs": [
    {
     "name": "stderr",
     "output_type": "stream",
     "text": [
      "INFO:scripts.evaluate:creating /home/pablo/results/ds_nosql_1/v0 dir. Omitting error if already existing\n"
     ]
    },
    {
     "name": "stdout",
     "output_type": "stream",
     "text": [
      "Evaluating v0 with 50 dbs\n"
     ]
    },
    {
     "name": "stderr",
     "output_type": "stream",
     "text": [
      "INFO:scripts.evaluate:Starting processing with 4 processes\n",
      "INFO:scripts.evaluate:Evaluating PaulSec - VNWA\n",
      "INFO:scripts.evaluate:Evaluating Crizstian - cinema-microservice\n",
      "INFO:scripts.evaluate:Evaluating StudioDeTelevision - admiraljs\n",
      "INFO:scripts.evaluate:Evaluating Xerios - mobx-isomorphic-starter\n",
      "INFO:scripts.evaluate:Evaluating Gingernaut - Robot-Lawyer\n",
      "INFO:scripts.evaluate:Evaluating DanialK - PassportJS-Authentication\n",
      "INFO:scripts.evaluate:Evaluating FreetailHackers - saffron\n",
      "INFO:scripts.evaluate:Evaluating IBM - innovate-digital-bank\n",
      "INFO:scripts.evaluate:Evaluating BryanKo - Fam\n",
      "INFO:scripts.evaluate:Evaluating bitpay - bitcore\n",
      "INFO:scripts.evaluate:Evaluating JosipReh - Feeddit\n",
      "INFO:scripts.evaluate:Evaluating OmgImAlexis - astro\n",
      "INFO:scripts.evaluate:Evaluating DanWahlin - Angular-RESTfulService\n",
      "INFO:scripts.evaluate:Evaluating EQuimper - nodejs-api-boilerplate\n",
      "INFO:scripts.evaluate:Evaluating FrontendMasters - intro-mongo-db\n",
      "INFO:scripts.evaluate:Evaluating IHTSDO - sct-snapshot-rest-api\n",
      "INFO:scripts.evaluate:Evaluating benas - gamehub.io\n",
      "INFO:scripts.evaluate:Evaluating DimiMikadze - Mean-Blog\n",
      "INFO:scripts.evaluate:Evaluating NetEaseGame - redis-monitor\n",
      "INFO:scripts.evaluate:Evaluating HackCU - jakehockey10\n",
      "INFO:scripts.evaluate:Evaluating MiloATH - VotingApp\n",
      "INFO:scripts.evaluate:Evaluating CatalystCode - ImageTaggingSystem\n",
      "INFO:scripts.evaluate:Evaluating DanWahlin - CustomerManager\n",
      "INFO:scripts.evaluate:Evaluating MauroEspinosa - Grupos\n",
      "INFO:scripts.evaluate:Evaluating Cendey - contacts\n",
      "INFO:scripts.evaluate:Evaluating StephenGrider - AdvancedReduxCode\n",
      "INFO:scripts.evaluate:Evaluating aravindnc - mongoose-paginate-v2\n",
      "INFO:scripts.evaluate:Evaluating HashBrownCMS - hashbrown-cms\n",
      "INFO:scripts.evaluate:Evaluating ParabolInc - action\n",
      "INFO:scripts.evaluate:Evaluating PaulSavignano - aussiemoving-staging\n",
      "INFO:scripts.evaluate:Evaluating Binomi0 - Seolidera-CRM\n",
      "INFO:scripts.evaluate:Evaluating TylerBrock - mongo-hacker\n",
      "INFO:scripts.evaluate:Evaluating Tencent - westore\n",
      "INFO:scripts.evaluate:Evaluating DiyanTonchev - ShopStop\n",
      "INFO:scripts.evaluate:Evaluating aravindvnair99 - Prostem-Internship\n",
      "INFO:scripts.evaluate:Evaluating MattLong87 - winrate-api\n",
      "INFO:scripts.evaluate:Evaluating FrontendMasters - api-design-node-v3\n",
      "INFO:scripts.evaluate:Evaluating antonshevchenko - pager\n",
      "INFO:scripts.evaluate:Evaluating KyteProject - fdbck-web\n",
      "INFO:scripts.evaluate:Evaluating DanWahlin - CustomerManagerStandard\n",
      "INFO:scripts.evaluate:Evaluating F0xedb - WebCalendar\n",
      "INFO:scripts.evaluate:Evaluating aheckmann - mquery\n",
      "INFO:scripts.evaluate:Evaluating DimiMikadze - node-redux-auth\n",
      "INFO:scripts.evaluate:Evaluating MasseyHacks - MasseyHacks-IV-Quill\n",
      "INFO:scripts.evaluate:Evaluating LiangCY - MovieTickets\n",
      "INFO:scripts.evaluate:Evaluating bergwhite - nchat\n",
      "INFO:scripts.evaluate:Evaluating ChangerHe - My-code\n",
      "INFO:scripts.evaluate:Evaluating JPinkney - Track-your-TV\n",
      "INFO:scripts.evaluate:Evaluating AkimaLunar - ng-meenk\n",
      "INFO:scripts.evaluate:Evaluating CapacitorSet - rebridge\n"
     ]
    }
   ],
   "source": [
    "v0_settings = EvaluationSettings(\n",
    "    search_path=\"/home/pablo/codeqlv0/javascript/ql/lib\",\n",
    "    cli_version=\"2.13.1\",\n",
    "    db_cli_version=\"2.5.2\",\n",
    "    query_file=\"/home/pablo/tesis/tsm-pipeline/tsm-evaluation/tsm-evaluation/src/NoSqlEvaluation.ql\",\n",
    "    **defaults_evalute,\n",
    ")\n",
    "\n",
    "print(\"Evaluating v0 with %d dbs\" % (len(test)))\n",
    "evaluate(\n",
    "    settings=v0_settings,\n",
    "    output_dir=path_join(results_dir, 'v0'),\n",
    "    dbs=test,\n",
    ")"
   ]
  },
  {
   "cell_type": "code",
   "execution_count": 19,
   "id": "3f2d7a6e-cb8f-4b97-852a-071bcd85f76f",
   "metadata": {
    "tags": []
   },
   "outputs": [
    {
     "data": {
      "text/html": [
       "<div>\n",
       "<style scoped>\n",
       "    .dataframe tbody tr th:only-of-type {\n",
       "        vertical-align: middle;\n",
       "    }\n",
       "\n",
       "    .dataframe tbody tr th {\n",
       "        vertical-align: top;\n",
       "    }\n",
       "\n",
       "    .dataframe thead th {\n",
       "        text-align: right;\n",
       "    }\n",
       "</style>\n",
       "<table border=\"1\" class=\"dataframe\">\n",
       "  <thead>\n",
       "    <tr style=\"text-align: right;\">\n",
       "      <th></th>\n",
       "      <th>precision</th>\n",
       "      <th>recall</th>\n",
       "      <th>accuracy</th>\n",
       "      <th>alerts to recover</th>\n",
       "      <th>alerts recovered</th>\n",
       "      <th>suprious alerts</th>\n",
       "    </tr>\n",
       "  </thead>\n",
       "  <tbody>\n",
       "    <tr>\n",
       "      <th>0</th>\n",
       "      <td>0.0</td>\n",
       "      <td>0.0</td>\n",
       "      <td>0.0</td>\n",
       "      <td>21</td>\n",
       "      <td>0</td>\n",
       "      <td>304</td>\n",
       "    </tr>\n",
       "  </tbody>\n",
       "</table>\n",
       "</div>"
      ],
      "text/plain": [
       "   precision  recall  accuracy  alerts to recover  alerts recovered  \\\n",
       "0        0.0     0.0       0.0                 21                 0   \n",
       "\n",
       "   suprious alerts  \n",
       "0              304  "
      ]
     },
     "execution_count": 19,
     "metadata": {},
     "output_type": "execute_result"
    }
   ],
   "source": [
    "from scripts.calculate_scores import calculate_scores_df\n",
    "\n",
    "calculate_scores_df(\n",
    "    results_folder=results_dir,\n",
    "    cleanup_base_dir=\"/tmp\",\n",
    ")"
   ]
  }
 ],
 "metadata": {
  "kernelspec": {
   "display_name": "Python 3 (ipykernel)",
   "language": "python",
   "name": "python3"
  },
  "language_info": {
   "codemirror_mode": {
    "name": "ipython",
    "version": 3
   },
   "file_extension": ".py",
   "mimetype": "text/x-python",
   "name": "python",
   "nbconvert_exporter": "python",
   "pygments_lexer": "ipython3",
   "version": "3.10.6"
  }
 },
 "nbformat": 4,
 "nbformat_minor": 5
}
