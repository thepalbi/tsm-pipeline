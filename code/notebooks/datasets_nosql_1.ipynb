{
 "cells": [
  {
   "cell_type": "code",
   "execution_count": 5,
   "id": "b941378b-4cfe-449a-8592-6e8c86df608a",
   "metadata": {
    "tags": []
   },
   "outputs": [
    {
     "name": "stdout",
     "output_type": "stream",
     "text": [
      "The autoreload extension is already loaded. To reload it, use:\n",
      "  %reload_ext autoreload\n"
     ]
    }
   ],
   "source": [
    "import sys\n",
    "libpath = \"/home/pablo/tesis/tsm-pipeline/code\"\n",
    "if libpath not in sys.path:\n",
    "    sys.path.append(libpath)\n",
    "    \n",
    "%load_ext autoreload\n",
    "%autoreload 2\n",
    "\n",
    "import docker\n",
    "docker_client = docker.from_env()\n",
    "\n",
    "# Configura todo lo necesario en el ambiente\n",
    "from scripts.docker import run_tsm, ExperimentSettings, read_dbs_dataset\n",
    "from scripts.evaluate import evaluate, EvaluationSettings\n",
    "from os.path import join as path_join\n",
    "import logging\n",
    "\n",
    "logging.basicConfig(level=logging.INFO)\n",
    "\n",
    "defaults = {\n",
    "    \"bash_config_path\": \"/home/pablo/tesis/tsm-pipeline/code/scripts/config.sh\",\n",
    "}\n",
    "defaults_evalute = {\n",
    "    \"cache_root\":\"/home/pablo/dbcache\",    \n",
    "}"
   ]
  },
  {
   "cell_type": "code",
   "execution_count": 6,
   "id": "791bf028-d915-4a89-b778-99b3aace3ceb",
   "metadata": {
    "tags": []
   },
   "outputs": [],
   "source": [
    "nosql_dbs = read_dbs_dataset(\"/home/pablo/tesis/tsm-pipeline/experiments/datasets/nosql_1.txt\")\n",
    "from numpy.random import RandomState\n",
    "\n",
    "# Using a fixed random state to have reproducible results\n",
    "rand = RandomState(seed=5)"
   ]
  },
  {
   "cell_type": "code",
   "execution_count": 27,
   "id": "0e9d89c7-d112-47bd-861e-ef604dc623bd",
   "metadata": {
    "tags": []
   },
   "outputs": [
    {
     "data": {
      "text/plain": [
       "['DBULL7/uhoops/ffd7a04',\n",
       " 'bookbrainz/bookbrainz-site/d4381bb',\n",
       " 'aali05/solo-project/3d3cf57',\n",
       " 'Cendey/contacts/252de32',\n",
       " 'FreetailHackers/saffron/f563dd2',\n",
       " 'StephenGrider/AdvancedReduxCode/9f839ad',\n",
       " 'ForestAdmin/forest-express-mongoose/2b9166b',\n",
       " 'bailicangdu/node-elm/4262918',\n",
       " 'MauroEspinosa/Grupos/7ac4ea1',\n",
       " 'FSecureLABS/dref/c4e5216']"
      ]
     },
     "execution_count": 27,
     "metadata": {},
     "output_type": "execute_result"
    }
   ],
   "source": [
    "from sklearn.model_selection import train_test_split\n",
    "\n",
    "sample = nosql_dbs[:100]\n",
    "train, test = train_test_split(sample, train_size=.5, shuffle=True, random_state=rand)\n",
    "train[:10]"
   ]
  },
  {
   "cell_type": "markdown",
   "id": "f145947f-129e-4693-8049-74233c2f40af",
   "metadata": {},
   "source": [
    "Primera corrida de bejamin button, con un dataset formado a partir de repos que venian con commits, y filtrando que tengan por lo menos 5k loc de javascript. Se toma un corte de 50/50 entre entrenamiento y test."
   ]
  },
  {
   "cell_type": "code",
   "execution_count": 10,
   "id": "54436ffa-4882-4e9e-88f4-7210d35211c1",
   "metadata": {
    "tags": []
   },
   "outputs": [],
   "source": [
    "results_dir = \"/home/pablo/results/ds_nosql_1\""
   ]
  },
  {
   "cell_type": "code",
   "execution_count": 11,
   "id": "9c3bc4cc-57b6-439d-8aae-3765c779b903",
   "metadata": {
    "collapsed": true,
    "jupyter": {
     "outputs_hidden": true
    },
    "tags": []
   },
   "outputs": [
    {
     "name": "stdout",
     "output_type": "stream",
     "text": [
      "running at container f6e21cff2d3ec89b824fe4805adbdb3e6394f2b1795a94d8bbb39cfc8c00da3a. Use `docker logs f6e21cff2d3ec89b824fe4805adbdb3e6394f2b1795a94d8bbb39cfc8c00da3a --tail 10 --follow` to follow progress\n",
      "g: /home/pablo/results/ds_nosql_1/*/NosqlInjectionWorse-*/reprScores.txt\n"
     ]
    }
   ],
   "source": [
    "# training\n",
    "train_settings = ExperimentSettings(\n",
    "    name=\"ds_nosql_1\",\n",
    "    query_type=\"nosql\",\n",
    "    project_list=train,\n",
    "    results_dir=results_dir,\n",
    "    **defaults\n",
    ")\n",
    "\n",
    "run_tsm(docker_client, train_settings, block=True)"
   ]
  },
  {
   "cell_type": "code",
   "execution_count": 12,
   "id": "ae66f3a6-eaf2-4fae-ab92-9fb06fea23c9",
   "metadata": {
    "tags": []
   },
   "outputs": [
    {
     "name": "stdout",
     "output_type": "stream",
     "text": [
      "51\n"
     ]
    }
   ],
   "source": [
    "!cat /home/pablo/results/ds_nosql_1/averaged-results.csv|wc -l"
   ]
  },
  {
   "cell_type": "code",
   "execution_count": 13,
   "id": "ddfc7cf3-0ef0-43b3-9975-fcb064e37409",
   "metadata": {
    "tags": []
   },
   "outputs": [
    {
     "data": {
      "text/plain": [
       "['PaulSec/VNWA/d3704e6',\n",
       " 'FreetailHackers/saffron/f563dd2',\n",
       " 'JosipReh/Feeddit/bbcb615',\n",
       " 'EQuimper/nodejs-api-boilerplate/0dcea20',\n",
       " 'Xerios/mobx-isomorphic-starter/8d08656',\n",
       " 'DanialK/PassportJS-Authentication/af6f691',\n",
       " 'BryanKo/Fam/6ee0fe0',\n",
       " 'DanWahlin/Angular-RESTfulService/bbd42e4',\n",
       " 'Crizstian/cinema-microservice/b6c973d',\n",
       " 'Gingernaut/Robot-Lawyer/56b86ac']"
      ]
     },
     "execution_count": 13,
     "metadata": {},
     "output_type": "execute_result"
    }
   ],
   "source": [
    "test[0:10]"
   ]
  },
  {
   "cell_type": "code",
   "execution_count": 15,
   "id": "301b2267-bc7a-4bcc-964c-c44d6c08da03",
   "metadata": {
    "tags": []
   },
   "outputs": [
    {
     "name": "stderr",
     "output_type": "stream",
     "text": [
      "INFO:scripts.evaluate:creating /home/pablo/results/ds_nosql_1/worse dir. Omitting error if already existing\n"
     ]
    },
    {
     "name": "stdout",
     "output_type": "stream",
     "text": [
      "Evaluating worse with 50 dbs\n"
     ]
    },
    {
     "name": "stderr",
     "output_type": "stream",
     "text": [
      "INFO:scripts.evaluate:Starting processing with 4 processes\n",
      "INFO:scripts.evaluate:Evaluating Xerios - mobx-isomorphic-starter\n",
      "INFO:scripts.evaluate:Evaluating PaulSec - VNWA\n",
      "INFO:scripts.evaluate:Evaluating Crizstian - cinema-microservice\n",
      "INFO:scripts.evaluate:Evaluating StudioDeTelevision - admiraljs\n",
      "INFO:scripts.evaluate:Evaluating FreetailHackers - saffron\n",
      "INFO:scripts.evaluate:Evaluating Gingernaut - Robot-Lawyer\n",
      "INFO:scripts.evaluate:Evaluating DanialK - PassportJS-Authentication\n",
      "INFO:scripts.evaluate:Evaluating IBM - innovate-digital-bank\n",
      "INFO:scripts.evaluate:Evaluating bitpay - bitcore\n",
      "INFO:scripts.evaluate:Evaluating BryanKo - Fam\n",
      "INFO:scripts.evaluate:Evaluating JosipReh - Feeddit\n",
      "INFO:scripts.evaluate:Evaluating OmgImAlexis - astro\n",
      "INFO:scripts.evaluate:Evaluating DanWahlin - Angular-RESTfulService\n",
      "INFO:scripts.evaluate:Evaluating EQuimper - nodejs-api-boilerplate\n",
      "INFO:scripts.evaluate:Evaluating FrontendMasters - intro-mongo-db\n",
      "INFO:scripts.evaluate:Evaluating IHTSDO - sct-snapshot-rest-api\n",
      "INFO:scripts.evaluate:Evaluating benas - gamehub.io\n",
      "INFO:scripts.evaluate:Evaluating DimiMikadze - Mean-Blog\n",
      "INFO:scripts.evaluate:Evaluating HackCU - jakehockey10\n",
      "INFO:scripts.evaluate:Evaluating MiloATH - VotingApp\n",
      "INFO:scripts.evaluate:Evaluating NetEaseGame - redis-monitor\n",
      "INFO:scripts.evaluate:Evaluating MauroEspinosa - Grupos\n",
      "INFO:scripts.evaluate:Evaluating DanWahlin - CustomerManager\n",
      "INFO:scripts.evaluate:Evaluating CatalystCode - ImageTaggingSystem\n",
      "INFO:scripts.evaluate:Evaluating Cendey - contacts\n",
      "INFO:scripts.evaluate:Evaluating aravindnc - mongoose-paginate-v2\n",
      "INFO:scripts.evaluate:Evaluating HashBrownCMS - hashbrown-cms\n",
      "INFO:scripts.evaluate:Evaluating ParabolInc - action\n",
      "INFO:scripts.evaluate:Evaluating StephenGrider - AdvancedReduxCode\n",
      "INFO:scripts.evaluate:Evaluating Binomi0 - Seolidera-CRM\n",
      "INFO:scripts.evaluate:Evaluating PaulSavignano - aussiemoving-staging\n",
      "INFO:scripts.evaluate:Evaluating TylerBrock - mongo-hacker\n",
      "INFO:scripts.evaluate:Evaluating aravindvnair99 - Prostem-Internship\n",
      "INFO:scripts.evaluate:Evaluating Tencent - westore\n",
      "INFO:scripts.evaluate:Evaluating DiyanTonchev - ShopStop\n",
      "INFO:scripts.evaluate:Evaluating MattLong87 - winrate-api\n",
      "INFO:scripts.evaluate:Evaluating FrontendMasters - api-design-node-v3\n",
      "INFO:scripts.evaluate:Evaluating antonshevchenko - pager\n",
      "INFO:scripts.evaluate:Evaluating KyteProject - fdbck-web\n",
      "INFO:scripts.evaluate:Evaluating DanWahlin - CustomerManagerStandard\n",
      "INFO:scripts.evaluate:Evaluating F0xedb - WebCalendar\n",
      "INFO:scripts.evaluate:Evaluating aheckmann - mquery\n",
      "INFO:scripts.evaluate:Evaluating MasseyHacks - MasseyHacks-IV-Quill\n",
      "INFO:scripts.evaluate:Evaluating DimiMikadze - node-redux-auth\n",
      "INFO:scripts.evaluate:Evaluating LiangCY - MovieTickets\n",
      "INFO:scripts.evaluate:Evaluating bergwhite - nchat\n",
      "INFO:scripts.evaluate:Evaluating ChangerHe - My-code\n",
      "INFO:scripts.evaluate:Evaluating JPinkney - Track-your-TV\n",
      "INFO:scripts.evaluate:Evaluating AkimaLunar - ng-meenk\n",
      "INFO:scripts.evaluate:Evaluating CapacitorSet - rebridge\n"
     ]
    }
   ],
   "source": [
    "# evaluation\n",
    "external_predicate_file = path_join(results_dir, 'averaged-results.csv')\n",
    "worse_settings = EvaluationSettings(\n",
    "    search_path=\"/home/pablo/tesis/tsm-pipeline/lib-worse/codeql/javascript/ql:/home/pablo/.codeql/packages/codeql/javascript-upgrades/0.0.3\",\n",
    "    cli_version=\"2.13.1\",\n",
    "    db_cli_version=\"2.5.2\",\n",
    "    query_file=\"/home/pablo/tesis/tsm-pipeline/tsm-atm-pipeline/src/tsm/evaluation/NosqlInjectionWorseTSM.ql\",\n",
    "    external_predicate_file=external_predicate_file,\n",
    "    **defaults_evalute,\n",
    ")\n",
    "\n",
    "print(\"Evaluating worse with %d dbs\" % (len(test)))\n",
    "evaluate(\n",
    "    settings=worse_settings,\n",
    "    output_dir=path_join(results_dir, 'worse'),\n",
    "    dbs=test,\n",
    ")"
   ]
  },
  {
   "cell_type": "code",
   "execution_count": 16,
   "id": "714032af-5b34-44bf-9534-12cf4d1ded5c",
   "metadata": {
    "tags": []
   },
   "outputs": [
    {
     "name": "stderr",
     "output_type": "stream",
     "text": [
      "INFO:scripts.evaluate:creating /home/pablo/results/ds_nosql_1/v0 dir. Omitting error if already existing\n"
     ]
    },
    {
     "name": "stdout",
     "output_type": "stream",
     "text": [
      "Evaluating v0 with 50 dbs\n"
     ]
    },
    {
     "name": "stderr",
     "output_type": "stream",
     "text": [
      "INFO:scripts.evaluate:Starting processing with 4 processes\n",
      "INFO:scripts.evaluate:Evaluating PaulSec - VNWA\n",
      "INFO:scripts.evaluate:Evaluating Crizstian - cinema-microservice\n",
      "INFO:scripts.evaluate:Evaluating StudioDeTelevision - admiraljs\n",
      "INFO:scripts.evaluate:Evaluating Xerios - mobx-isomorphic-starter\n",
      "INFO:scripts.evaluate:Evaluating Gingernaut - Robot-Lawyer\n",
      "INFO:scripts.evaluate:Evaluating DanialK - PassportJS-Authentication\n",
      "INFO:scripts.evaluate:Evaluating FreetailHackers - saffron\n",
      "INFO:scripts.evaluate:Evaluating IBM - innovate-digital-bank\n",
      "INFO:scripts.evaluate:Evaluating BryanKo - Fam\n",
      "INFO:scripts.evaluate:Evaluating bitpay - bitcore\n",
      "INFO:scripts.evaluate:Evaluating JosipReh - Feeddit\n",
      "INFO:scripts.evaluate:Evaluating OmgImAlexis - astro\n",
      "INFO:scripts.evaluate:Evaluating DanWahlin - Angular-RESTfulService\n",
      "INFO:scripts.evaluate:Evaluating EQuimper - nodejs-api-boilerplate\n",
      "INFO:scripts.evaluate:Evaluating FrontendMasters - intro-mongo-db\n",
      "INFO:scripts.evaluate:Evaluating IHTSDO - sct-snapshot-rest-api\n",
      "INFO:scripts.evaluate:Evaluating benas - gamehub.io\n",
      "INFO:scripts.evaluate:Evaluating DimiMikadze - Mean-Blog\n",
      "INFO:scripts.evaluate:Evaluating NetEaseGame - redis-monitor\n",
      "INFO:scripts.evaluate:Evaluating HackCU - jakehockey10\n",
      "INFO:scripts.evaluate:Evaluating MiloATH - VotingApp\n",
      "INFO:scripts.evaluate:Evaluating CatalystCode - ImageTaggingSystem\n",
      "INFO:scripts.evaluate:Evaluating DanWahlin - CustomerManager\n",
      "INFO:scripts.evaluate:Evaluating MauroEspinosa - Grupos\n",
      "INFO:scripts.evaluate:Evaluating Cendey - contacts\n",
      "INFO:scripts.evaluate:Evaluating StephenGrider - AdvancedReduxCode\n",
      "INFO:scripts.evaluate:Evaluating aravindnc - mongoose-paginate-v2\n",
      "INFO:scripts.evaluate:Evaluating HashBrownCMS - hashbrown-cms\n",
      "INFO:scripts.evaluate:Evaluating ParabolInc - action\n",
      "INFO:scripts.evaluate:Evaluating PaulSavignano - aussiemoving-staging\n",
      "INFO:scripts.evaluate:Evaluating Binomi0 - Seolidera-CRM\n",
      "INFO:scripts.evaluate:Evaluating TylerBrock - mongo-hacker\n",
      "INFO:scripts.evaluate:Evaluating Tencent - westore\n",
      "INFO:scripts.evaluate:Evaluating DiyanTonchev - ShopStop\n",
      "INFO:scripts.evaluate:Evaluating aravindvnair99 - Prostem-Internship\n",
      "INFO:scripts.evaluate:Evaluating MattLong87 - winrate-api\n",
      "INFO:scripts.evaluate:Evaluating FrontendMasters - api-design-node-v3\n",
      "INFO:scripts.evaluate:Evaluating antonshevchenko - pager\n",
      "INFO:scripts.evaluate:Evaluating KyteProject - fdbck-web\n",
      "INFO:scripts.evaluate:Evaluating DanWahlin - CustomerManagerStandard\n",
      "INFO:scripts.evaluate:Evaluating F0xedb - WebCalendar\n",
      "INFO:scripts.evaluate:Evaluating aheckmann - mquery\n",
      "INFO:scripts.evaluate:Evaluating DimiMikadze - node-redux-auth\n",
      "INFO:scripts.evaluate:Evaluating MasseyHacks - MasseyHacks-IV-Quill\n",
      "INFO:scripts.evaluate:Evaluating LiangCY - MovieTickets\n",
      "INFO:scripts.evaluate:Evaluating bergwhite - nchat\n",
      "INFO:scripts.evaluate:Evaluating ChangerHe - My-code\n",
      "INFO:scripts.evaluate:Evaluating JPinkney - Track-your-TV\n",
      "INFO:scripts.evaluate:Evaluating AkimaLunar - ng-meenk\n",
      "INFO:scripts.evaluate:Evaluating CapacitorSet - rebridge\n"
     ]
    }
   ],
   "source": [
    "v0_settings = EvaluationSettings(\n",
    "    search_path=\"/home/pablo/codeqlv0/javascript/ql/lib\",\n",
    "    cli_version=\"2.13.1\",\n",
    "    db_cli_version=\"2.5.2\",\n",
    "    query_file=\"/home/pablo/tesis/tsm-pipeline/tsm-evaluation/tsm-evaluation/src/NoSqlEvaluation.ql\",\n",
    "    **defaults_evalute,\n",
    ")\n",
    "\n",
    "print(\"Evaluating v0 with %d dbs\" % (len(test)))\n",
    "evaluate(\n",
    "    settings=v0_settings,\n",
    "    output_dir=path_join(results_dir, 'v0'),\n",
    "    dbs=test,\n",
    ")"
   ]
  },
  {
   "cell_type": "code",
   "execution_count": 24,
   "id": "3f2d7a6e-cb8f-4b97-852a-071bcd85f76f",
   "metadata": {
    "jupyter": {
     "source_hidden": true
    },
    "tags": []
   },
   "outputs": [
    {
     "data": {
      "text/html": [
       "<div>\n",
       "<style scoped>\n",
       "    .dataframe tbody tr th:only-of-type {\n",
       "        vertical-align: middle;\n",
       "    }\n",
       "\n",
       "    .dataframe tbody tr th {\n",
       "        vertical-align: top;\n",
       "    }\n",
       "\n",
       "    .dataframe thead th {\n",
       "        text-align: right;\n",
       "    }\n",
       "</style>\n",
       "<table border=\"1\" class=\"dataframe\">\n",
       "  <thead>\n",
       "    <tr style=\"text-align: right;\">\n",
       "      <th></th>\n",
       "      <th>precision</th>\n",
       "      <th>recall</th>\n",
       "      <th>accuracy</th>\n",
       "      <th>alerts to recover (atr)</th>\n",
       "      <th>alerts recovered</th>\n",
       "      <th>suprious alerts</th>\n",
       "      <th>projects with atr</th>\n",
       "      <th>avg atr per proj</th>\n",
       "    </tr>\n",
       "  </thead>\n",
       "  <tbody>\n",
       "    <tr>\n",
       "      <th>0</th>\n",
       "      <td>0.0</td>\n",
       "      <td>0.0</td>\n",
       "      <td>0.0</td>\n",
       "      <td>21</td>\n",
       "      <td>0</td>\n",
       "      <td>306</td>\n",
       "      <td>8</td>\n",
       "      <td>2.625</td>\n",
       "    </tr>\n",
       "  </tbody>\n",
       "</table>\n",
       "</div>"
      ],
      "text/plain": [
       "   precision  recall  accuracy  alerts to recover (atr)  alerts recovered  \\\n",
       "0        0.0     0.0       0.0                       21                 0   \n",
       "\n",
       "   suprious alerts  projects with atr  avg atr per proj  \n",
       "0              306                  8             2.625  "
      ]
     },
     "execution_count": 24,
     "metadata": {},
     "output_type": "execute_result"
    }
   ],
   "source": [
    "from scripts.calculate_scores import calculate_scores_df\n",
    "\n",
    "calculate_scores_df(\n",
    "    results_folder=results_dir,\n",
    "    cleanup_base_dir=\"/tmp\",\n",
    ")"
   ]
  },
  {
   "cell_type": "markdown",
   "id": "2125e9b5-243b-43c4-b5c1-15504e868846",
   "metadata": {},
   "source": [
    "## Tomo otro corte diferente el mismo sample averr si cambia algo"
   ]
  },
  {
   "cell_type": "code",
   "execution_count": 34,
   "id": "bd76c38d-24eb-4f68-991e-d059616778bd",
   "metadata": {
    "tags": []
   },
   "outputs": [
    {
     "data": {
      "text/plain": [
       "['OpenUserJS/OpenUserJS.org/a3728c9',\n",
       " 'Redsmin/proxy/0b20436',\n",
       " 'abansal98/DataPool/5d0aeb7',\n",
       " 'DimiMikadze/Mean-Blog/01c6ff8',\n",
       " 'bdvu/BVmeanauthapp/5521a12',\n",
       " 'ParabolInc/action/45c9b49',\n",
       " 'StephenGrider/AdvancedReduxCode/9f839ad',\n",
       " 'aheckmann/mquery/e68f8e1',\n",
       " 'bergwhite/nchat/5442684',\n",
       " 'F0xedb/WebCalendar/a18c0a0']"
      ]
     },
     "execution_count": 34,
     "metadata": {},
     "output_type": "execute_result"
    }
   ],
   "source": [
    "train2, test2 = train_test_split(sample, train_size=.5, shuffle=True, random_state=rand)\n",
    "train2[:10]"
   ]
  },
  {
   "cell_type": "code",
   "execution_count": 1,
   "id": "65db78cd-115f-4e85-a13b-7827fe36a6cc",
   "metadata": {
    "tags": []
   },
   "outputs": [],
   "source": [
    "results_dir = \"/home/pablo/results/ds_nosql_2\""
   ]
  },
  {
   "cell_type": "code",
   "execution_count": 36,
   "id": "a63d8f99-1f36-44d3-88b0-11cc16705ebd",
   "metadata": {
    "tags": []
   },
   "outputs": [
    {
     "name": "stderr",
     "output_type": "stream",
     "text": [
      "INFO:scripts.docker:creating /home/pablo/results/ds_nosql_2 dir. Omitting error if already existing\n",
      "INFO:scripts.docker:creating /tmp/log dir. Omitting error if already existing\n",
      "INFO:scripts.docker:running at container 2ae4661619bdb52ca4625fee3c8d3d01f57a9836a75763340da7851a6d085aec. Use `docker logs 2ae4661619bdb52ca4625fee3c8d3d01f57a9836a75763340da7851a6d085aec --tail 10 --follow` to follow progress\n"
     ]
    },
    {
     "name": "stdout",
     "output_type": "stream",
     "text": [
      "running at container 2ae4661619bdb52ca4625fee3c8d3d01f57a9836a75763340da7851a6d085aec. Use `docker logs 2ae4661619bdb52ca4625fee3c8d3d01f57a9836a75763340da7851a6d085aec --tail 10 --follow` to follow progress\n"
     ]
    },
    {
     "name": "stderr",
     "output_type": "stream",
     "text": [
      "INFO:scripts.docker:running combine scores\n"
     ]
    },
    {
     "name": "stdout",
     "output_type": "stream",
     "text": [
      "g: /home/pablo/results/ds_nosql_2/*/NosqlInjectionWorse-*/reprScores.txt\n"
     ]
    }
   ],
   "source": [
    "# training\n",
    "train_settings = ExperimentSettings(\n",
    "    name=\"ds_nosql_2\",\n",
    "    query_type=\"nosql\",\n",
    "    project_list=train2,\n",
    "    results_dir=results_dir,\n",
    "    **defaults\n",
    ")\n",
    "\n",
    "run_tsm(docker_client, train_settings, block=True)"
   ]
  },
  {
   "cell_type": "code",
   "execution_count": 37,
   "id": "569e696b-d4c3-466c-b957-f9aac91c43f4",
   "metadata": {
    "tags": []
   },
   "outputs": [
    {
     "name": "stdout",
     "output_type": "stream",
     "text": [
      "52\n"
     ]
    }
   ],
   "source": [
    "!cat /home/pablo/results/ds_nosql_2/averaged-results.csv|wc -l"
   ]
  },
  {
   "cell_type": "code",
   "execution_count": 38,
   "id": "ebd51f21-4c87-4655-906f-4df538035b02",
   "metadata": {
    "tags": []
   },
   "outputs": [
    {
     "data": {
      "text/plain": [
       "['Bertrand31/Monitaure/edbc31b',\n",
       " 'HashBrownCMS/hashbrown-cms/b987436',\n",
       " 'CapacitorSet/rebridge/451bfc2',\n",
       " 'aali05/solo-project/3d3cf57',\n",
       " 'LiangCY/MovieTickets/0069729',\n",
       " 'TylerBrock/mongo-hacker/6a5a9f4',\n",
       " 'JPinkney/Track-your-TV/e09bcfa',\n",
       " 'BlinkTagInc/gtfs-to-html/ddb81fe',\n",
       " 'AdoboFrenzy/Projects/9f25394',\n",
       " 'amejiarosario/meanshop/305a189']"
      ]
     },
     "execution_count": 38,
     "metadata": {},
     "output_type": "execute_result"
    }
   ],
   "source": [
    "test2[0:10]"
   ]
  },
  {
   "cell_type": "code",
   "execution_count": 39,
   "id": "acff8f74-90bc-421e-958a-997186c40871",
   "metadata": {
    "tags": []
   },
   "outputs": [
    {
     "name": "stderr",
     "output_type": "stream",
     "text": [
      "INFO:scripts.evaluate:creating /home/pablo/results/ds_nosql_2/worse dir. Omitting error if already existing\n",
      "INFO:scripts.evaluate:Starting processing with 4 processes\n",
      "INFO:scripts.evaluate:Evaluating Bertrand31 - Monitaure\n",
      "INFO:scripts.evaluate:Evaluating DanWahlin - CustomerManagerStandard\n",
      "INFO:scripts.evaluate:Evaluating LiangCY - MovieTickets\n",
      "INFO:scripts.evaluate:Evaluating AdoboFrenzy - Projects\n",
      "INFO:scripts.evaluate:Evaluating TylerBrock - mongo-hacker\n",
      "INFO:scripts.evaluate:Evaluating HashBrownCMS - hashbrown-cms\n",
      "INFO:scripts.evaluate:Evaluating DrMongo - DrMongo\n",
      "INFO:scripts.evaluate:Evaluating amejiarosario - meanshop\n",
      "INFO:scripts.evaluate:Evaluating JPinkney - Track-your-TV\n",
      "INFO:scripts.evaluate:Evaluating PaulSec - VNWA\n",
      "INFO:scripts.evaluate:Evaluating CapacitorSet - rebridge\n",
      "INFO:scripts.evaluate:Evaluating BlinkTagInc - node-gtfs\n",
      "INFO:scripts.evaluate:Evaluating BlinkTagInc - gtfs-to-html\n",
      "INFO:scripts.evaluate:Evaluating Gingernaut - Robot-Lawyer\n",
      "INFO:scripts.evaluate:Evaluating aali05 - solo-project\n",
      "INFO:scripts.evaluate:Evaluating DanialK - PassportJS-Authentication\n",
      "INFO:scripts.evaluate:Evaluating WaftTech - WaftEngine\n",
      "INFO:scripts.evaluate:Evaluating PaulSec - Social-Markdown\n",
      "INFO:scripts.evaluate:Evaluating AkimaLunar - ng-meenk\n",
      "INFO:scripts.evaluate:Evaluating MattLong87 - winrate-api\n",
      "INFO:scripts.evaluate:Evaluating EQuimper - nodejs-api-boilerplate\n",
      "INFO:scripts.evaluate:Evaluating MattLong87 - chronomeal-api\n",
      "INFO:scripts.evaluate:Evaluating PaulSavignano - aussiemoving-staging\n",
      "INFO:scripts.evaluate:Evaluating OmarElGabry - chat.io\n",
      "INFO:scripts.evaluate:Evaluating architMahto - udemy-nodejs-angular2\n",
      "INFO:scripts.evaluate:Evaluating ChangerHe - My-code\n",
      "INFO:scripts.evaluate:Evaluating Manouchehri - COMP2406-exam-storage\n",
      "INFO:scripts.evaluate:Evaluating bailicangdu - node-elm\n",
      "INFO:scripts.evaluate:Evaluating PabloVallejo - Fun\n",
      "INFO:scripts.evaluate:Evaluating KyteProject - fdbck-web\n",
      "INFO:scripts.evaluate:Evaluating SoftwareBrothers - admin-bro\n",
      "INFO:scripts.evaluate:Evaluating antonshevchenko - pager\n",
      "INFO:scripts.evaluate:Evaluating andchir - shopkeeper4\n",
      "INFO:scripts.evaluate:Evaluating ForestAdmin - forest-express-mongoose\n",
      "INFO:scripts.evaluate:Evaluating Binomi0 - crm-backoffice-api\n",
      "INFO:scripts.evaluate:Evaluating NodeBB - NodeBB\n",
      "INFO:scripts.evaluate:Evaluating IBM - mern-app\n",
      "INFO:scripts.evaluate:Evaluating 18F - checklistomania\n",
      "INFO:scripts.evaluate:Evaluating MauroEspinosa - Grupos\n",
      "INFO:scripts.evaluate:Evaluating alexyoung - nodepad\n",
      "INFO:scripts.evaluate:Evaluating HackCU - jakehockey10\n",
      "INFO:scripts.evaluate:Evaluating abhishekg785 - Schmooze\n",
      "INFO:scripts.evaluate:Evaluating IBM - innovate-digital-bank\n",
      "INFO:scripts.evaluate:Evaluating appbaseio - dejavu\n",
      "INFO:scripts.evaluate:Evaluating HabitRPG - habitica\n",
      "INFO:scripts.evaluate:Evaluating ChinLii - Linegenerator\n",
      "INFO:scripts.evaluate:Evaluating CodepediaOrg - bookmarks.dev-api\n",
      "INFO:scripts.evaluate:Evaluating FreetailHackers - saffron\n",
      "INFO:scripts.evaluate:Evaluating buunguyen - mongoose-deep-populate\n",
      "INFO:scripts.evaluate:Evaluating aravindnc - mongoose-paginate-v2\n"
     ]
    }
   ],
   "source": [
    "# evaluation\n",
    "external_predicate_file = path_join(results_dir, 'averaged-results.csv')\n",
    "worse_settings = EvaluationSettings(\n",
    "    search_path=\"/home/pablo/tesis/tsm-pipeline/lib-worse/codeql/javascript/ql:/home/pablo/.codeql/packages/codeql/javascript-upgrades/0.0.3\",\n",
    "    cli_version=\"2.13.1\",\n",
    "    db_cli_version=\"2.5.2\",\n",
    "    query_file=\"/home/pablo/tesis/tsm-pipeline/tsm-atm-pipeline/src/tsm/evaluation/NosqlInjectionWorseTSM.ql\",\n",
    "    external_predicate_file=external_predicate_file,\n",
    "    **defaults_evalute,\n",
    ")\n",
    "\n",
    "evaluate(\n",
    "    settings=worse_settings,\n",
    "    output_dir=path_join(results_dir, 'worse'),\n",
    "    dbs=test2,\n",
    ")"
   ]
  },
  {
   "cell_type": "code",
   "execution_count": 40,
   "id": "bbdda20e-d04c-4bab-9412-c8971ccfd728",
   "metadata": {
    "tags": []
   },
   "outputs": [
    {
     "name": "stderr",
     "output_type": "stream",
     "text": [
      "INFO:scripts.evaluate:creating /home/pablo/results/ds_nosql_2/v0 dir. Omitting error if already existing\n"
     ]
    },
    {
     "name": "stdout",
     "output_type": "stream",
     "text": [
      "Evaluating v0 with 50 dbs\n"
     ]
    },
    {
     "name": "stderr",
     "output_type": "stream",
     "text": [
      "INFO:scripts.evaluate:Starting processing with 4 processes\n",
      "INFO:scripts.evaluate:Evaluating AdoboFrenzy - Projects\n",
      "INFO:scripts.evaluate:Evaluating LiangCY - MovieTickets\n",
      "INFO:scripts.evaluate:Evaluating DanWahlin - CustomerManagerStandard\n",
      "INFO:scripts.evaluate:Evaluating Bertrand31 - Monitaure\n",
      "INFO:scripts.evaluate:Evaluating TylerBrock - mongo-hacker\n",
      "INFO:scripts.evaluate:Evaluating DrMongo - DrMongo\n",
      "INFO:scripts.evaluate:Evaluating HashBrownCMS - hashbrown-cms\n",
      "INFO:scripts.evaluate:Evaluating JPinkney - Track-your-TV\n",
      "INFO:scripts.evaluate:Evaluating PaulSec - VNWA\n",
      "INFO:scripts.evaluate:Evaluating amejiarosario - meanshop\n",
      "INFO:scripts.evaluate:Evaluating CapacitorSet - rebridge\n",
      "INFO:scripts.evaluate:Evaluating BlinkTagInc - gtfs-to-html\n",
      "INFO:scripts.evaluate:Evaluating aali05 - solo-project\n",
      "INFO:scripts.evaluate:Evaluating Gingernaut - Robot-Lawyer\n",
      "INFO:scripts.evaluate:Evaluating BlinkTagInc - node-gtfs\n",
      "INFO:scripts.evaluate:Evaluating WaftTech - WaftEngine\n",
      "INFO:scripts.evaluate:Evaluating PaulSec - Social-Markdown\n",
      "INFO:scripts.evaluate:Evaluating AkimaLunar - ng-meenk\n",
      "INFO:scripts.evaluate:Evaluating DanialK - PassportJS-Authentication\n",
      "INFO:scripts.evaluate:Evaluating PaulSavignano - aussiemoving-staging\n",
      "INFO:scripts.evaluate:Evaluating EQuimper - nodejs-api-boilerplate\n",
      "INFO:scripts.evaluate:Evaluating MattLong87 - winrate-api\n",
      "INFO:scripts.evaluate:Evaluating ChangerHe - My-code\n",
      "INFO:scripts.evaluate:Evaluating OmarElGabry - chat.io\n",
      "INFO:scripts.evaluate:Evaluating MattLong87 - chronomeal-api\n",
      "INFO:scripts.evaluate:Evaluating andchir - shopkeeper4\n",
      "INFO:scripts.evaluate:Evaluating bailicangdu - node-elm\n",
      "INFO:scripts.evaluate:Evaluating architMahto - udemy-nodejs-angular2\n",
      "INFO:scripts.evaluate:Evaluating Manouchehri - COMP2406-exam-storage\n",
      "INFO:scripts.evaluate:Evaluating PabloVallejo - Fun\n",
      "INFO:scripts.evaluate:Evaluating SoftwareBrothers - admin-bro\n",
      "INFO:scripts.evaluate:Evaluating KyteProject - fdbck-web\n",
      "INFO:scripts.evaluate:Evaluating antonshevchenko - pager\n",
      "INFO:scripts.evaluate:Evaluating Binomi0 - crm-backoffice-api\n",
      "INFO:scripts.evaluate:Evaluating ForestAdmin - forest-express-mongoose\n",
      "INFO:scripts.evaluate:Evaluating NodeBB - NodeBB\n",
      "INFO:scripts.evaluate:Evaluating 18F - checklistomania\n",
      "INFO:scripts.evaluate:Evaluating IBM - mern-app\n",
      "INFO:scripts.evaluate:Evaluating alexyoung - nodepad\n",
      "INFO:scripts.evaluate:Evaluating MauroEspinosa - Grupos\n",
      "INFO:scripts.evaluate:Evaluating IBM - innovate-digital-bank\n",
      "INFO:scripts.evaluate:Evaluating abhishekg785 - Schmooze\n",
      "INFO:scripts.evaluate:Evaluating HackCU - jakehockey10\n",
      "INFO:scripts.evaluate:Evaluating CodepediaOrg - bookmarks.dev-api\n",
      "INFO:scripts.evaluate:Evaluating ChinLii - Linegenerator\n",
      "INFO:scripts.evaluate:Evaluating appbaseio - dejavu\n",
      "INFO:scripts.evaluate:Evaluating HabitRPG - habitica\n",
      "INFO:scripts.evaluate:Evaluating FreetailHackers - saffron\n",
      "INFO:scripts.evaluate:Evaluating buunguyen - mongoose-deep-populate\n",
      "INFO:scripts.evaluate:Evaluating aravindnc - mongoose-paginate-v2\n"
     ]
    }
   ],
   "source": [
    "v0_settings = EvaluationSettings(\n",
    "    search_path=\"/home/pablo/codeqlv0/javascript/ql/lib\",\n",
    "    cli_version=\"2.13.1\",\n",
    "    db_cli_version=\"2.5.2\",\n",
    "    query_file=\"/home/pablo/tesis/tsm-pipeline/tsm-evaluation/tsm-evaluation/src/NoSqlEvaluation.ql\",\n",
    "    **defaults_evalute,\n",
    ")\n",
    "\n",
    "print(\"Evaluating v0 with %d dbs\" % (len(test)))\n",
    "evaluate(\n",
    "    settings=v0_settings,\n",
    "    output_dir=path_join(results_dir, 'v0'),\n",
    "    dbs=test2,\n",
    ")"
   ]
  },
  {
   "cell_type": "code",
   "execution_count": 41,
   "id": "0c34ae64-783a-4c81-8df7-c6ef2b4cfdf8",
   "metadata": {
    "tags": []
   },
   "outputs": [
    {
     "data": {
      "text/html": [
       "<div>\n",
       "<style scoped>\n",
       "    .dataframe tbody tr th:only-of-type {\n",
       "        vertical-align: middle;\n",
       "    }\n",
       "\n",
       "    .dataframe tbody tr th {\n",
       "        vertical-align: top;\n",
       "    }\n",
       "\n",
       "    .dataframe thead th {\n",
       "        text-align: right;\n",
       "    }\n",
       "</style>\n",
       "<table border=\"1\" class=\"dataframe\">\n",
       "  <thead>\n",
       "    <tr style=\"text-align: right;\">\n",
       "      <th></th>\n",
       "      <th>precision</th>\n",
       "      <th>recall</th>\n",
       "      <th>accuracy</th>\n",
       "      <th>alerts to recover (atr)</th>\n",
       "      <th>alerts recovered</th>\n",
       "      <th>suprious alerts</th>\n",
       "      <th>projects with atr</th>\n",
       "      <th>avg atr per proj</th>\n",
       "    </tr>\n",
       "  </thead>\n",
       "  <tbody>\n",
       "    <tr>\n",
       "      <th>0</th>\n",
       "      <td>0.0</td>\n",
       "      <td>0.0</td>\n",
       "      <td>0.0</td>\n",
       "      <td>84</td>\n",
       "      <td>0</td>\n",
       "      <td>297</td>\n",
       "      <td>10</td>\n",
       "      <td>8.4</td>\n",
       "    </tr>\n",
       "  </tbody>\n",
       "</table>\n",
       "</div>"
      ],
      "text/plain": [
       "   precision  recall  accuracy  alerts to recover (atr)  alerts recovered  \\\n",
       "0        0.0     0.0       0.0                       84                 0   \n",
       "\n",
       "   suprious alerts  projects with atr  avg atr per proj  \n",
       "0              297                 10               8.4  "
      ]
     },
     "execution_count": 41,
     "metadata": {},
     "output_type": "execute_result"
    }
   ],
   "source": [
    "from scripts.calculate_scores import calculate_scores_df\n",
    "\n",
    "calculate_scores_df(\n",
    "    results_folder=results_dir,\n",
    "    cleanup_base_dir=\"/tmp\",\n",
    ")"
   ]
  },
  {
   "cell_type": "markdown",
   "id": "847b8468-b4a6-47db-9f3a-316d6cc562f5",
   "metadata": {},
   "source": [
    "Lei en unas slides de diego que para evaluar, usan como v0 la ultima version. Probando con el ultimo commit aver como funciona, guardado en `/home/pablo/codeql_experimentation/javascript/ql/lib`. Freeznadola al ultimo release estable: `c1a52031cfd323b34a039cc6dcda4f73d7ad892e`, que corresponde con 2.13.1"
   ]
  },
  {
   "cell_type": "code",
   "execution_count": null,
   "id": "5d768fe8-f5f6-4a82-b9d7-6b8f8cc49fc5",
   "metadata": {
    "tags": []
   },
   "outputs": [
    {
     "name": "stderr",
     "output_type": "stream",
     "text": [
      "INFO:scripts.evaluate:creating /home/pablo/results/ds_nosql_2/v0_experiment dir. Omitting error if already existing\n"
     ]
    },
    {
     "name": "stdout",
     "output_type": "stream",
     "text": [
      "Evaluating v0 with latest codeql commit with 50 dbs\n"
     ]
    },
    {
     "name": "stderr",
     "output_type": "stream",
     "text": [
      "INFO:scripts.evaluate:Starting processing with 4 processes\n",
      "INFO:scripts.evaluate:Evaluating LiangCY - MovieTickets\n",
      "INFO:scripts.evaluate:Evaluating AdoboFrenzy - Projects\n",
      "INFO:scripts.evaluate:Evaluating DanWahlin - CustomerManagerStandard\n",
      "INFO:scripts.evaluate:Evaluating Bertrand31 - Monitaure\n"
     ]
    }
   ],
   "source": [
    "v0_experiment_settings = EvaluationSettings(\n",
    "    search_path=\"/home/pablo/codeql_experimentation/javascript/ql/lib\",\n",
    "    cli_version=\"2.13.1\",\n",
    "    db_cli_version=\"2.5.2\",\n",
    "    query_file=\"/home/pablo/tesis/tsm-pipeline/tsm-evaluation/tsm-evaluation/src/NoSqlEvaluation.ql\",\n",
    "    **defaults_evalute,\n",
    ")\n",
    "\n",
    "print(\"Evaluating v0 with latest codeql commit with %d dbs\" % (len(test)))\n",
    "evaluate(\n",
    "    settings=v0_experiment_settings,\n",
    "    output_dir=path_join(results_dir, 'v0_experiment'),\n",
    "    dbs=test2,\n",
    ")"
   ]
  },
  {
   "cell_type": "code",
   "execution_count": 4,
   "id": "c4cb7e22-49cf-4d0e-8236-bdba7f4bd69a",
   "metadata": {
    "tags": []
   },
   "outputs": [
    {
     "data": {
      "text/html": [
       "<div>\n",
       "<style scoped>\n",
       "    .dataframe tbody tr th:only-of-type {\n",
       "        vertical-align: middle;\n",
       "    }\n",
       "\n",
       "    .dataframe tbody tr th {\n",
       "        vertical-align: top;\n",
       "    }\n",
       "\n",
       "    .dataframe thead th {\n",
       "        text-align: right;\n",
       "    }\n",
       "</style>\n",
       "<table border=\"1\" class=\"dataframe\">\n",
       "  <thead>\n",
       "    <tr style=\"text-align: right;\">\n",
       "      <th></th>\n",
       "      <th>precision</th>\n",
       "      <th>recall</th>\n",
       "      <th>accuracy</th>\n",
       "      <th>alerts to recover (atr)</th>\n",
       "      <th>alerts recovered</th>\n",
       "      <th>suprious alerts</th>\n",
       "      <th>projects with atr</th>\n",
       "      <th>avg atr per proj</th>\n",
       "    </tr>\n",
       "  </thead>\n",
       "  <tbody>\n",
       "    <tr>\n",
       "      <th>0</th>\n",
       "      <td>0.0</td>\n",
       "      <td>0.0</td>\n",
       "      <td>0.0</td>\n",
       "      <td>84</td>\n",
       "      <td>0</td>\n",
       "      <td>297</td>\n",
       "      <td>10</td>\n",
       "      <td>8.4</td>\n",
       "    </tr>\n",
       "  </tbody>\n",
       "</table>\n",
       "</div>"
      ],
      "text/plain": [
       "   precision  recall  accuracy  alerts to recover (atr)  alerts recovered  \\\n",
       "0        0.0     0.0       0.0                       84                 0   \n",
       "\n",
       "   suprious alerts  projects with atr  avg atr per proj  \n",
       "0              297                 10               8.4  "
      ]
     },
     "execution_count": 4,
     "metadata": {},
     "output_type": "execute_result"
    }
   ],
   "source": [
    "from scripts.calculate_scores import calculate_scores_df, _calculate_score_sets, hash_set_to_df\n",
    "\n",
    "calculate_scores_df(\n",
    "    results_folder=results_dir,\n",
    "    cleanup_base_dir=\"/tmp\",\n",
    "    v0_dir=\"v0_experiment\",\n",
    ")\n",
    "\n",
    "# v0, worse, boosted = _calculate_score_sets(\n",
    "#     results_folder=results_dir,\n",
    "#     cleanup_base_dir=\"/tmp\",\n",
    "#     v0_dir=\"v0_experiment\",\n",
    "# )\n",
    "\n",
    "# hash_set_to_df(v0-worse)"
   ]
  },
  {
   "cell_type": "code",
   "execution_count": 53,
   "id": "bd0f7787-fe14-4274-9e97-52c5862e6ec5",
   "metadata": {
    "tags": []
   },
   "outputs": [
    {
     "name": "stdout",
     "output_type": "stream",
     "text": [
      "module TsmRepr {\n",
      "  float getReprScore(string repr, string t){\n",
      "   repr = \"(parameter 0 (member AchievementUnlock *))\" and t = \"snk\" and result = 0.2500000000 or\n",
      "   repr = \"(parameter 0 (member Editor *))\" and t = \"snk\" and result = 0.2500000000 or\n",
      "   repr = \"(parameter 0 (member ObjectID *))\" and t = \"snk\" and result = 0.2500000000 or\n",
      "   repr = \"(parameter 0 (member _verifySignature *))\" and t = \"snk\" and result = 0.2500000000 or\n",
      "   repr = \"(parameter 0 (member broadcast *))\" and t = \"snk\" and result = 0.2500000000 or\n",
      "   repr = \"(parameter 0 (member count *))\" and t = \"snk\" and result = 1.0000000000 or\n",
      "   repr = \"(parameter 0 (member countDocuments *))\" and t = \"snk\" and result = 0.2500000000 or\n",
      "   repr = \"(parameter 0 (member deleteOne *))\" and t = \"snk\" and result = 0.2500000000 or\n",
      "   repr = \"(parameter 0 (member differenceBy *))\" and t = \"snk\" and result = 0.2500000000 or\n",
      "   repr = \"(parameter 0 (member duration *))\" and t = \"snk\" and result = 0.2500000000 or\n",
      "   repr = \"(parameter 0 (member end *))\" and t = \"snk\" and result = 0.2500000000 or\n",
      "   repr = \"(parameter 0 (member find *))\" and t = \"snk\" and result = 1.0000000000 or\n",
      "   repr = \"(parameter 0 (member findById *))\" and t = \"snk\" and result = 0.5000000000 or\n",
      "   repr = \"(parameter 0 (member findOne *))\" and t = \"snk\" and result = 0.3500000000 or\n",
      "   repr = \"(parameter 0 (member findOneAndDelete *))\" and t = \"snk\" and result = 0.2500000000 or\n",
      "   repr = \"(parameter 0 (member findOneByEmail *))\" and t = \"snk\" and result = 0.7500000000 or\n",
      "   repr = \"(parameter 0 (member forEach *))\" and t = \"snk\" and result = 0.2500000000 or\n",
      "   repr = \"(parameter 0 (member insert *))\" and t = \"snk\" and result = 0.2500000000 or\n",
      "   repr = \"(parameter 0 (member isArray *))\" and t = \"snk\" and result = 0.2500000000 or\n",
      "   repr = \"(parameter 0 (member isEmpty *))\" and t = \"snk\" and result = 0.2500000000 or\n",
      "   repr = \"(parameter 0 (member isEqual *))\" and t = \"snk\" and result = 0.2500000000 or\n",
      "   repr = \"(parameter 0 (member isUndefined *))\" and t = \"snk\" and result = 0.2500000000 or\n",
      "   repr = \"(parameter 0 (member json *))\" and t = \"snk\" and result = 0.4166666675 or\n",
      "   repr = \"(parameter 0 (member limit *))\" and t = \"snk\" and result = 0.4375000000 or\n",
      "   repr = \"(parameter 0 (member login *))\" and t = \"snk\" and result = 0.2500000000 or\n",
      "   repr = \"(parameter 0 (member map *))\" and t = \"snk\" and result = 0.2500000000 or\n",
      "   repr = \"(parameter 0 (member push *))\" and t = \"snk\" and result = 0.3750000000 or\n",
      "   repr = \"(parameter 0 (member redirect *))\" and t = \"snk\" and result = 0.2500000000 or\n",
      "   repr = \"(parameter 0 (member send *))\" and t = \"snk\" and result = 0.5625000000 or\n",
      "   repr = \"(parameter 0 (member sign *))\" and t = \"snk\" and result = 0.2500000000 or\n",
      "   repr = \"(parameter 0 (member skip *))\" and t = \"snk\" and result = 0.4166666667 or\n",
      "   repr = \"(parameter 0 (member splice *))\" and t = \"snk\" and result = 0.2500000000 or\n",
      "   repr = \"(parameter 0 (member unlink *))\" and t = \"snk\" and result = 0.5000000000 or\n",
      "   repr = \"(parameter 0 (member unshift *))\" and t = \"snk\" and result = 0.2500000000 or\n",
      "   repr = \"(parameter 0 (member update *))\" and t = \"snk\" and result = 0.3333333333 or\n",
      "   repr = \"(parameter 0 (member write *))\" and t = \"snk\" and result = 0.2500000000 or\n",
      "   repr = \"(parameter 0 (return (member model *)))\" and t = \"snk\" and result = 0.5000000000 or\n",
      "   repr = \"(parameter 1 (member addSignature *))\" and t = \"snk\" and result = 0.2500000000 or\n",
      "   repr = \"(parameter 1 (member addVotetoId *))\" and t = \"snk\" and result = 0.1666666700 or\n",
      "   repr = \"(parameter 1 (member distinct *))\" and t = \"snk\" and result = 1.0000000000 or\n",
      "   repr = \"(parameter 1 (member findByIdAndUpdate *))\" and t = \"snk\" and result = 0.1666666700 or\n",
      "   repr = \"(parameter 1 (member findOneAndUpdate *))\" and t = \"snk\" and result = 0.5000000000 or\n",
      "   repr = \"(parameter 1 (member flash *))\" and t = \"snk\" and result = 0.5000000000 or\n",
      "   repr = \"(parameter 1 (member includes *))\" and t = \"snk\" and result = 0.2500000000 or\n",
      "   repr = \"(parameter 1 (member logw *))\" and t = \"snk\" and result = 0.2500000000 or\n",
      "   repr = \"(parameter 1 (member render *))\" and t = \"snk\" and result = 0.5000000000 or\n",
      "   repr = \"(parameter 1 (member set *))\" and t = \"snk\" and result = 0.2500000000 or\n",
      "   repr = \"(parameter 1 (member update *))\" and t = \"snk\" and result = 0.2500000000 or\n",
      "   repr = \"(parameter 1 (member updateArticleVotes *))\" and t = \"snk\" and result = 0.1666666700 or\n",
      "   repr = \"(parameter 1 (member where *))\" and t = \"snk\" and result = 0.2500000000 or\n",
      "   repr = \"(parameter 1 (member without *))\" and t = \"snk\" and result = 0.2500000000 or\n",
      "   repr = \"(parameter 2 (member getEntityParentAlias *))\" and t = \"snk\" and result = 0.5000000000 or\n",
      "   repr = \"(parameter 3 (member updateLanguageSet *))\" and t = \"snk\" and result = 0.2500000000\n",
      "   } \n",
      "}\n"
     ]
    }
   ],
   "source": [
    "!cat $results_dir/averaged-results.txt"
   ]
  },
  {
   "cell_type": "markdown",
   "id": "b0f79dfa-96e0-439b-974f-8230167e7524",
   "metadata": {},
   "source": [
    "## Corriendo con 200 dbs"
   ]
  },
  {
   "cell_type": "code",
   "execution_count": 7,
   "id": "28aedb03-55fa-4702-81bd-24f02bd738f3",
   "metadata": {
    "tags": []
   },
   "outputs": [
    {
     "data": {
      "text/plain": [
       "['Gingernaut/Robot-Lawyer/56b86ac',\n",
       " 'StudioDeTelevision/admiraljs/5846378',\n",
       " 'aheckmann/mquery/e68f8e1',\n",
       " 'bailicangdu/node-elm/4262918',\n",
       " 'bitpay/bitcore/4f8f5a2',\n",
       " 'aravindvnair99/Prostem-Internship/a0ecb39',\n",
       " 'F0xedb/WebCalendar/a18c0a0',\n",
       " 'hex7c0/mongodb-backup/b13dd25',\n",
       " 'OmgImAlexis/astro/d650f5e',\n",
       " 'eddywashere/node-stripe-membership-saas/206afec']"
      ]
     },
     "execution_count": 7,
     "metadata": {},
     "output_type": "execute_result"
    }
   ],
   "source": [
    "from sklearn.model_selection import train_test_split\n",
    "\n",
    "sample = nosql_dbs[:200]\n",
    "train, test = train_test_split(sample, train_size=.5, shuffle=True, random_state=rand)\n",
    "train[:10]"
   ]
  },
  {
   "cell_type": "markdown",
   "id": "583e7d4f-c30b-4735-9e86-bef1427e15c0",
   "metadata": {},
   "source": [
    "Primera corrida de bejamin button, con un dataset formado a partir de repos que venian con commits, y filtrando que tengan por lo menos 5k loc de javascript. Se toma un corte de 50/50 entre entrenamiento y test."
   ]
  },
  {
   "cell_type": "code",
   "execution_count": 16,
   "id": "73669b60-8be8-4d0c-b6f9-d6c5dd9d851d",
   "metadata": {
    "tags": []
   },
   "outputs": [],
   "source": [
    "results_dir = \"/home/pablo/results/ds_nosql_200\""
   ]
  },
  {
   "cell_type": "code",
   "execution_count": 11,
   "id": "710df969-cb1a-4832-aa11-90e442b51d0b",
   "metadata": {
    "collapsed": true,
    "jupyter": {
     "outputs_hidden": true
    },
    "tags": []
   },
   "outputs": [
    {
     "name": "stdout",
     "output_type": "stream",
     "text": [
      "running at container f6e21cff2d3ec89b824fe4805adbdb3e6394f2b1795a94d8bbb39cfc8c00da3a. Use `docker logs f6e21cff2d3ec89b824fe4805adbdb3e6394f2b1795a94d8bbb39cfc8c00da3a --tail 10 --follow` to follow progress\n",
      "g: /home/pablo/results/ds_nosql_1/*/NosqlInjectionWorse-*/reprScores.txt\n"
     ]
    }
   ],
   "source": [
    "# training\n",
    "train_settings = ExperimentSettings(\n",
    "    name=\"ds_nosql_100\",\n",
    "    query_type=\"nosql\",\n",
    "    project_list=train,\n",
    "    results_dir=results_dir,\n",
    "    **defaults\n",
    ")\n",
    "\n",
    "run_tsm(docker_client, train_settings, block=True)"
   ]
  },
  {
   "cell_type": "code",
   "execution_count": 12,
   "id": "0f69f6de-f2b3-4d9d-8acf-4423a9c3d701",
   "metadata": {
    "tags": []
   },
   "outputs": [
    {
     "name": "stdout",
     "output_type": "stream",
     "text": [
      "51\n"
     ]
    }
   ],
   "source": [
    "!cat $results_dir/averaged-results.csv|wc -l"
   ]
  },
  {
   "cell_type": "code",
   "execution_count": 13,
   "id": "5221228b-06e1-4641-96b3-f50cc9102a84",
   "metadata": {
    "tags": []
   },
   "outputs": [
    {
     "data": {
      "text/plain": [
       "['PaulSec/VNWA/d3704e6',\n",
       " 'FreetailHackers/saffron/f563dd2',\n",
       " 'JosipReh/Feeddit/bbcb615',\n",
       " 'EQuimper/nodejs-api-boilerplate/0dcea20',\n",
       " 'Xerios/mobx-isomorphic-starter/8d08656',\n",
       " 'DanialK/PassportJS-Authentication/af6f691',\n",
       " 'BryanKo/Fam/6ee0fe0',\n",
       " 'DanWahlin/Angular-RESTfulService/bbd42e4',\n",
       " 'Crizstian/cinema-microservice/b6c973d',\n",
       " 'Gingernaut/Robot-Lawyer/56b86ac']"
      ]
     },
     "execution_count": 13,
     "metadata": {},
     "output_type": "execute_result"
    }
   ],
   "source": [
    "test[0:10]"
   ]
  },
  {
   "cell_type": "code",
   "execution_count": 15,
   "id": "fce2da9c-7886-4ff4-a714-a735d6dac4ae",
   "metadata": {
    "tags": []
   },
   "outputs": [
    {
     "name": "stderr",
     "output_type": "stream",
     "text": [
      "INFO:scripts.evaluate:creating /home/pablo/results/ds_nosql_1/worse dir. Omitting error if already existing\n"
     ]
    },
    {
     "name": "stdout",
     "output_type": "stream",
     "text": [
      "Evaluating worse with 50 dbs\n"
     ]
    },
    {
     "name": "stderr",
     "output_type": "stream",
     "text": [
      "INFO:scripts.evaluate:Starting processing with 4 processes\n",
      "INFO:scripts.evaluate:Evaluating Xerios - mobx-isomorphic-starter\n",
      "INFO:scripts.evaluate:Evaluating PaulSec - VNWA\n",
      "INFO:scripts.evaluate:Evaluating Crizstian - cinema-microservice\n",
      "INFO:scripts.evaluate:Evaluating StudioDeTelevision - admiraljs\n",
      "INFO:scripts.evaluate:Evaluating FreetailHackers - saffron\n",
      "INFO:scripts.evaluate:Evaluating Gingernaut - Robot-Lawyer\n",
      "INFO:scripts.evaluate:Evaluating DanialK - PassportJS-Authentication\n",
      "INFO:scripts.evaluate:Evaluating IBM - innovate-digital-bank\n",
      "INFO:scripts.evaluate:Evaluating bitpay - bitcore\n",
      "INFO:scripts.evaluate:Evaluating BryanKo - Fam\n",
      "INFO:scripts.evaluate:Evaluating JosipReh - Feeddit\n",
      "INFO:scripts.evaluate:Evaluating OmgImAlexis - astro\n",
      "INFO:scripts.evaluate:Evaluating DanWahlin - Angular-RESTfulService\n",
      "INFO:scripts.evaluate:Evaluating EQuimper - nodejs-api-boilerplate\n",
      "INFO:scripts.evaluate:Evaluating FrontendMasters - intro-mongo-db\n",
      "INFO:scripts.evaluate:Evaluating IHTSDO - sct-snapshot-rest-api\n",
      "INFO:scripts.evaluate:Evaluating benas - gamehub.io\n",
      "INFO:scripts.evaluate:Evaluating DimiMikadze - Mean-Blog\n",
      "INFO:scripts.evaluate:Evaluating HackCU - jakehockey10\n",
      "INFO:scripts.evaluate:Evaluating MiloATH - VotingApp\n",
      "INFO:scripts.evaluate:Evaluating NetEaseGame - redis-monitor\n",
      "INFO:scripts.evaluate:Evaluating MauroEspinosa - Grupos\n",
      "INFO:scripts.evaluate:Evaluating DanWahlin - CustomerManager\n",
      "INFO:scripts.evaluate:Evaluating CatalystCode - ImageTaggingSystem\n",
      "INFO:scripts.evaluate:Evaluating Cendey - contacts\n",
      "INFO:scripts.evaluate:Evaluating aravindnc - mongoose-paginate-v2\n",
      "INFO:scripts.evaluate:Evaluating HashBrownCMS - hashbrown-cms\n",
      "INFO:scripts.evaluate:Evaluating ParabolInc - action\n",
      "INFO:scripts.evaluate:Evaluating StephenGrider - AdvancedReduxCode\n",
      "INFO:scripts.evaluate:Evaluating Binomi0 - Seolidera-CRM\n",
      "INFO:scripts.evaluate:Evaluating PaulSavignano - aussiemoving-staging\n",
      "INFO:scripts.evaluate:Evaluating TylerBrock - mongo-hacker\n",
      "INFO:scripts.evaluate:Evaluating aravindvnair99 - Prostem-Internship\n",
      "INFO:scripts.evaluate:Evaluating Tencent - westore\n",
      "INFO:scripts.evaluate:Evaluating DiyanTonchev - ShopStop\n",
      "INFO:scripts.evaluate:Evaluating MattLong87 - winrate-api\n",
      "INFO:scripts.evaluate:Evaluating FrontendMasters - api-design-node-v3\n",
      "INFO:scripts.evaluate:Evaluating antonshevchenko - pager\n",
      "INFO:scripts.evaluate:Evaluating KyteProject - fdbck-web\n",
      "INFO:scripts.evaluate:Evaluating DanWahlin - CustomerManagerStandard\n",
      "INFO:scripts.evaluate:Evaluating F0xedb - WebCalendar\n",
      "INFO:scripts.evaluate:Evaluating aheckmann - mquery\n",
      "INFO:scripts.evaluate:Evaluating MasseyHacks - MasseyHacks-IV-Quill\n",
      "INFO:scripts.evaluate:Evaluating DimiMikadze - node-redux-auth\n",
      "INFO:scripts.evaluate:Evaluating LiangCY - MovieTickets\n",
      "INFO:scripts.evaluate:Evaluating bergwhite - nchat\n",
      "INFO:scripts.evaluate:Evaluating ChangerHe - My-code\n",
      "INFO:scripts.evaluate:Evaluating JPinkney - Track-your-TV\n",
      "INFO:scripts.evaluate:Evaluating AkimaLunar - ng-meenk\n",
      "INFO:scripts.evaluate:Evaluating CapacitorSet - rebridge\n"
     ]
    }
   ],
   "source": [
    "# evaluation\n",
    "external_predicate_file = path_join(results_dir, 'averaged-results.csv')\n",
    "worse_settings = EvaluationSettings(\n",
    "    search_path=\"/home/pablo/tesis/tsm-pipeline/lib-worse/codeql/javascript/ql:/home/pablo/.codeql/packages/codeql/javascript-upgrades/0.0.3\",\n",
    "    cli_version=\"2.13.1\",\n",
    "    db_cli_version=\"2.5.2\",\n",
    "    query_file=\"/home/pablo/tesis/tsm-pipeline/tsm-atm-pipeline/src/tsm/evaluation/NosqlInjectionWorseTSM.ql\",\n",
    "    external_predicate_file=external_predicate_file,\n",
    "    **defaults_evalute,\n",
    ")\n",
    "\n",
    "print(\"Evaluating worse with %d dbs\" % (len(test)))\n",
    "evaluate(\n",
    "    settings=worse_settings,\n",
    "    output_dir=path_join(results_dir, 'worse'),\n",
    "    dbs=test,\n",
    ")"
   ]
  },
  {
   "cell_type": "code",
   "execution_count": 16,
   "id": "c7cb3476-1fbb-4974-af1a-52f6935660ad",
   "metadata": {
    "tags": []
   },
   "outputs": [
    {
     "name": "stderr",
     "output_type": "stream",
     "text": [
      "INFO:scripts.evaluate:creating /home/pablo/results/ds_nosql_1/v0 dir. Omitting error if already existing\n"
     ]
    },
    {
     "name": "stdout",
     "output_type": "stream",
     "text": [
      "Evaluating v0 with 50 dbs\n"
     ]
    },
    {
     "name": "stderr",
     "output_type": "stream",
     "text": [
      "INFO:scripts.evaluate:Starting processing with 4 processes\n",
      "INFO:scripts.evaluate:Evaluating PaulSec - VNWA\n",
      "INFO:scripts.evaluate:Evaluating Crizstian - cinema-microservice\n",
      "INFO:scripts.evaluate:Evaluating StudioDeTelevision - admiraljs\n",
      "INFO:scripts.evaluate:Evaluating Xerios - mobx-isomorphic-starter\n",
      "INFO:scripts.evaluate:Evaluating Gingernaut - Robot-Lawyer\n",
      "INFO:scripts.evaluate:Evaluating DanialK - PassportJS-Authentication\n",
      "INFO:scripts.evaluate:Evaluating FreetailHackers - saffron\n",
      "INFO:scripts.evaluate:Evaluating IBM - innovate-digital-bank\n",
      "INFO:scripts.evaluate:Evaluating BryanKo - Fam\n",
      "INFO:scripts.evaluate:Evaluating bitpay - bitcore\n",
      "INFO:scripts.evaluate:Evaluating JosipReh - Feeddit\n",
      "INFO:scripts.evaluate:Evaluating OmgImAlexis - astro\n",
      "INFO:scripts.evaluate:Evaluating DanWahlin - Angular-RESTfulService\n",
      "INFO:scripts.evaluate:Evaluating EQuimper - nodejs-api-boilerplate\n",
      "INFO:scripts.evaluate:Evaluating FrontendMasters - intro-mongo-db\n",
      "INFO:scripts.evaluate:Evaluating IHTSDO - sct-snapshot-rest-api\n",
      "INFO:scripts.evaluate:Evaluating benas - gamehub.io\n",
      "INFO:scripts.evaluate:Evaluating DimiMikadze - Mean-Blog\n",
      "INFO:scripts.evaluate:Evaluating NetEaseGame - redis-monitor\n",
      "INFO:scripts.evaluate:Evaluating HackCU - jakehockey10\n",
      "INFO:scripts.evaluate:Evaluating MiloATH - VotingApp\n",
      "INFO:scripts.evaluate:Evaluating CatalystCode - ImageTaggingSystem\n",
      "INFO:scripts.evaluate:Evaluating DanWahlin - CustomerManager\n",
      "INFO:scripts.evaluate:Evaluating MauroEspinosa - Grupos\n",
      "INFO:scripts.evaluate:Evaluating Cendey - contacts\n",
      "INFO:scripts.evaluate:Evaluating StephenGrider - AdvancedReduxCode\n",
      "INFO:scripts.evaluate:Evaluating aravindnc - mongoose-paginate-v2\n",
      "INFO:scripts.evaluate:Evaluating HashBrownCMS - hashbrown-cms\n",
      "INFO:scripts.evaluate:Evaluating ParabolInc - action\n",
      "INFO:scripts.evaluate:Evaluating PaulSavignano - aussiemoving-staging\n",
      "INFO:scripts.evaluate:Evaluating Binomi0 - Seolidera-CRM\n",
      "INFO:scripts.evaluate:Evaluating TylerBrock - mongo-hacker\n",
      "INFO:scripts.evaluate:Evaluating Tencent - westore\n",
      "INFO:scripts.evaluate:Evaluating DiyanTonchev - ShopStop\n",
      "INFO:scripts.evaluate:Evaluating aravindvnair99 - Prostem-Internship\n",
      "INFO:scripts.evaluate:Evaluating MattLong87 - winrate-api\n",
      "INFO:scripts.evaluate:Evaluating FrontendMasters - api-design-node-v3\n",
      "INFO:scripts.evaluate:Evaluating antonshevchenko - pager\n",
      "INFO:scripts.evaluate:Evaluating KyteProject - fdbck-web\n",
      "INFO:scripts.evaluate:Evaluating DanWahlin - CustomerManagerStandard\n",
      "INFO:scripts.evaluate:Evaluating F0xedb - WebCalendar\n",
      "INFO:scripts.evaluate:Evaluating aheckmann - mquery\n",
      "INFO:scripts.evaluate:Evaluating DimiMikadze - node-redux-auth\n",
      "INFO:scripts.evaluate:Evaluating MasseyHacks - MasseyHacks-IV-Quill\n",
      "INFO:scripts.evaluate:Evaluating LiangCY - MovieTickets\n",
      "INFO:scripts.evaluate:Evaluating bergwhite - nchat\n",
      "INFO:scripts.evaluate:Evaluating ChangerHe - My-code\n",
      "INFO:scripts.evaluate:Evaluating JPinkney - Track-your-TV\n",
      "INFO:scripts.evaluate:Evaluating AkimaLunar - ng-meenk\n",
      "INFO:scripts.evaluate:Evaluating CapacitorSet - rebridge\n"
     ]
    }
   ],
   "source": [
    "v0_settings = EvaluationSettings(\n",
    "    search_path=\"/home/pablo/codeqlv0/javascript/ql/lib\",\n",
    "    cli_version=\"2.13.1\",\n",
    "    db_cli_version=\"2.5.2\",\n",
    "    query_file=\"/home/pablo/tesis/tsm-pipeline/tsm-evaluation/tsm-evaluation/src/NoSqlEvaluation.ql\",\n",
    "    **defaults_evalute,\n",
    ")\n",
    "\n",
    "print(\"Evaluating v0 with %d dbs\" % (len(test)))\n",
    "evaluate(\n",
    "    settings=v0_settings,\n",
    "    output_dir=path_join(results_dir, 'v0'),\n",
    "    dbs=test,\n",
    ")"
   ]
  },
  {
   "cell_type": "code",
   "execution_count": 17,
   "id": "b772e37b-337b-4f3c-b508-1e465a2a3696",
   "metadata": {
    "tags": []
   },
   "outputs": [
    {
     "data": {
      "text/html": [
       "<div>\n",
       "<style scoped>\n",
       "    .dataframe tbody tr th:only-of-type {\n",
       "        vertical-align: middle;\n",
       "    }\n",
       "\n",
       "    .dataframe tbody tr th {\n",
       "        vertical-align: top;\n",
       "    }\n",
       "\n",
       "    .dataframe thead th {\n",
       "        text-align: right;\n",
       "    }\n",
       "</style>\n",
       "<table border=\"1\" class=\"dataframe\">\n",
       "  <thead>\n",
       "    <tr style=\"text-align: right;\">\n",
       "      <th></th>\n",
       "      <th>precision</th>\n",
       "      <th>recall</th>\n",
       "      <th>accuracy</th>\n",
       "      <th>alerts to recover (atr)</th>\n",
       "      <th>alerts recovered</th>\n",
       "      <th>suprious alerts</th>\n",
       "      <th>projects with atr</th>\n",
       "      <th>avg atr per proj</th>\n",
       "    </tr>\n",
       "  </thead>\n",
       "  <tbody>\n",
       "    <tr>\n",
       "      <th>0</th>\n",
       "      <td>0.0</td>\n",
       "      <td>0.0</td>\n",
       "      <td>0.0</td>\n",
       "      <td>50</td>\n",
       "      <td>0</td>\n",
       "      <td>952</td>\n",
       "      <td>15</td>\n",
       "      <td>3.333333</td>\n",
       "    </tr>\n",
       "  </tbody>\n",
       "</table>\n",
       "</div>"
      ],
      "text/plain": [
       "   precision  recall  accuracy  alerts to recover (atr)  alerts recovered  \\\n",
       "0        0.0     0.0       0.0                       50                 0   \n",
       "\n",
       "   suprious alerts  projects with atr  avg atr per proj  \n",
       "0              952                 15          3.333333  "
      ]
     },
     "execution_count": 17,
     "metadata": {},
     "output_type": "execute_result"
    }
   ],
   "source": [
    "from scripts.calculate_scores import calculate_scores_df\n",
    "\n",
    "calculate_scores_df(\n",
    "    results_folder=results_dir,\n",
    "    cleanup_base_dir=\"/tmp\",\n",
    ")"
   ]
  }
 ],
 "metadata": {
  "kernelspec": {
   "display_name": "Python 3 (ipykernel)",
   "language": "python",
   "name": "python3"
  },
  "language_info": {
   "codemirror_mode": {
    "name": "ipython",
    "version": 3
   },
   "file_extension": ".py",
   "mimetype": "text/x-python",
   "name": "python",
   "nbconvert_exporter": "python",
   "pygments_lexer": "ipython3",
   "version": "3.10.6"
  }
 },
 "nbformat": 4,
 "nbformat_minor": 5
}
