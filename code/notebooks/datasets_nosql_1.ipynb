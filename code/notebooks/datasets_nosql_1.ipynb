{
 "cells": [
  {
   "cell_type": "code",
   "execution_count": 34,
   "id": "b941378b-4cfe-449a-8592-6e8c86df608a",
   "metadata": {
    "tags": []
   },
   "outputs": [
    {
     "name": "stdout",
     "output_type": "stream",
     "text": [
      "The autoreload extension is already loaded. To reload it, use:\n",
      "  %reload_ext autoreload\n"
     ]
    }
   ],
   "source": [
    "import sys\n",
    "libpath = \"/home/pablo/tesis/tsm-pipeline/code\"\n",
    "if libpath not in sys.path:\n",
    "    sys.path.append(libpath)\n",
    "    \n",
    "%load_ext autoreload\n",
    "%autoreload 2\n",
    "\n",
    "import docker\n",
    "docker_client = docker.from_env()\n",
    "\n",
    "# Configura todo lo necesario en el ambiente\n",
    "from scripts.docker import run_tsm, ExperimentSettings, read_dbs_dataset, run_combine_scores\n",
    "from scripts.evaluate import evaluate, EvaluationSettings\n",
    "from os.path import join as path_join\n",
    "import logging\n",
    "\n",
    "logging.basicConfig(level=logging.INFO)\n",
    "\n",
    "    defaults = {\n",
    "        \"bash_config_path\": \"/home/pablo/tesis/tsm-pipeline/code/scripts/config.sh\",\n",
    "    }\n",
    "    defaults_evalute = {\n",
    "        \"cache_root\":\"/home/pablo/dbcache\",    \n",
    "    }"
   ]
  },
  {
   "cell_type": "code",
   "execution_count": 6,
   "id": "791bf028-d915-4a89-b778-99b3aace3ceb",
   "metadata": {
    "tags": []
   },
   "outputs": [],
   "source": [
    "nosql_dbs = read_dbs_dataset(\"/home/pablo/tesis/tsm-pipeline/experiments/datasets/nosql_1.txt\")\n",
    "from numpy.random import RandomState\n",
    "\n",
    "# Using a fixed random state to have reproducible results\n",
    "rand = RandomState(seed=5)"
   ]
  },
  {
   "cell_type": "code",
   "execution_count": 27,
   "id": "0e9d89c7-d112-47bd-861e-ef604dc623bd",
   "metadata": {
    "tags": []
   },
   "outputs": [
    {
     "data": {
      "text/plain": [
       "['DBULL7/uhoops/ffd7a04',\n",
       " 'bookbrainz/bookbrainz-site/d4381bb',\n",
       " 'aali05/solo-project/3d3cf57',\n",
       " 'Cendey/contacts/252de32',\n",
       " 'FreetailHackers/saffron/f563dd2',\n",
       " 'StephenGrider/AdvancedReduxCode/9f839ad',\n",
       " 'ForestAdmin/forest-express-mongoose/2b9166b',\n",
       " 'bailicangdu/node-elm/4262918',\n",
       " 'MauroEspinosa/Grupos/7ac4ea1',\n",
       " 'FSecureLABS/dref/c4e5216']"
      ]
     },
     "execution_count": 27,
     "metadata": {},
     "output_type": "execute_result"
    }
   ],
   "source": [
    "from sklearn.model_selection import train_test_split\n",
    "\n",
    "sample = nosql_dbs[:100]\n",
    "train, test = train_test_split(sample, train_size=.5, shuffle=True, random_state=rand)\n",
    "train[:10]"
   ]
  },
  {
   "cell_type": "markdown",
   "id": "f145947f-129e-4693-8049-74233c2f40af",
   "metadata": {},
   "source": [
    "Primera corrida de bejamin button, con un dataset formado a partir de repos que venian con commits, y filtrando que tengan por lo menos 5k loc de javascript. Se toma un corte de 50/50 entre entrenamiento y test."
   ]
  },
  {
   "cell_type": "code",
   "execution_count": 10,
   "id": "54436ffa-4882-4e9e-88f4-7210d35211c1",
   "metadata": {
    "tags": []
   },
   "outputs": [],
   "source": [
    "results_dir = \"/home/pablo/results/ds_nosql_1\""
   ]
  },
  {
   "cell_type": "code",
   "execution_count": 11,
   "id": "9c3bc4cc-57b6-439d-8aae-3765c779b903",
   "metadata": {
    "collapsed": true,
    "jupyter": {
     "outputs_hidden": true
    },
    "tags": []
   },
   "outputs": [
    {
     "name": "stdout",
     "output_type": "stream",
     "text": [
      "running at container f6e21cff2d3ec89b824fe4805adbdb3e6394f2b1795a94d8bbb39cfc8c00da3a. Use `docker logs f6e21cff2d3ec89b824fe4805adbdb3e6394f2b1795a94d8bbb39cfc8c00da3a --tail 10 --follow` to follow progress\n",
      "g: /home/pablo/results/ds_nosql_1/*/NosqlInjectionWorse-*/reprScores.txt\n"
     ]
    }
   ],
   "source": [
    "# training\n",
    "train_settings = ExperimentSettings(\n",
    "    name=\"ds_nosql_1\",\n",
    "    query_type=\"nosql\",\n",
    "    project_list=train,\n",
    "    results_dir=results_dir,\n",
    "    **defaults\n",
    ")\n",
    "\n",
    "run_tsm(docker_client, train_settings, block=True)"
   ]
  },
  {
   "cell_type": "code",
   "execution_count": 12,
   "id": "ae66f3a6-eaf2-4fae-ab92-9fb06fea23c9",
   "metadata": {
    "tags": []
   },
   "outputs": [
    {
     "name": "stdout",
     "output_type": "stream",
     "text": [
      "51\n"
     ]
    }
   ],
   "source": [
    "!cat /home/pablo/results/ds_nosql_1/averaged-results.csv|wc -l"
   ]
  },
  {
   "cell_type": "code",
   "execution_count": 13,
   "id": "ddfc7cf3-0ef0-43b3-9975-fcb064e37409",
   "metadata": {
    "tags": []
   },
   "outputs": [
    {
     "data": {
      "text/plain": [
       "['PaulSec/VNWA/d3704e6',\n",
       " 'FreetailHackers/saffron/f563dd2',\n",
       " 'JosipReh/Feeddit/bbcb615',\n",
       " 'EQuimper/nodejs-api-boilerplate/0dcea20',\n",
       " 'Xerios/mobx-isomorphic-starter/8d08656',\n",
       " 'DanialK/PassportJS-Authentication/af6f691',\n",
       " 'BryanKo/Fam/6ee0fe0',\n",
       " 'DanWahlin/Angular-RESTfulService/bbd42e4',\n",
       " 'Crizstian/cinema-microservice/b6c973d',\n",
       " 'Gingernaut/Robot-Lawyer/56b86ac']"
      ]
     },
     "execution_count": 13,
     "metadata": {},
     "output_type": "execute_result"
    }
   ],
   "source": [
    "test[0:10]"
   ]
  },
  {
   "cell_type": "code",
   "execution_count": 15,
   "id": "301b2267-bc7a-4bcc-964c-c44d6c08da03",
   "metadata": {
    "tags": []
   },
   "outputs": [
    {
     "name": "stderr",
     "output_type": "stream",
     "text": [
      "INFO:scripts.evaluate:creating /home/pablo/results/ds_nosql_1/worse dir. Omitting error if already existing\n"
     ]
    },
    {
     "name": "stdout",
     "output_type": "stream",
     "text": [
      "Evaluating worse with 50 dbs\n"
     ]
    },
    {
     "name": "stderr",
     "output_type": "stream",
     "text": [
      "INFO:scripts.evaluate:Starting processing with 4 processes\n",
      "INFO:scripts.evaluate:Evaluating Xerios - mobx-isomorphic-starter\n",
      "INFO:scripts.evaluate:Evaluating PaulSec - VNWA\n",
      "INFO:scripts.evaluate:Evaluating Crizstian - cinema-microservice\n",
      "INFO:scripts.evaluate:Evaluating StudioDeTelevision - admiraljs\n",
      "INFO:scripts.evaluate:Evaluating FreetailHackers - saffron\n",
      "INFO:scripts.evaluate:Evaluating Gingernaut - Robot-Lawyer\n",
      "INFO:scripts.evaluate:Evaluating DanialK - PassportJS-Authentication\n",
      "INFO:scripts.evaluate:Evaluating IBM - innovate-digital-bank\n",
      "INFO:scripts.evaluate:Evaluating bitpay - bitcore\n",
      "INFO:scripts.evaluate:Evaluating BryanKo - Fam\n",
      "INFO:scripts.evaluate:Evaluating JosipReh - Feeddit\n",
      "INFO:scripts.evaluate:Evaluating OmgImAlexis - astro\n",
      "INFO:scripts.evaluate:Evaluating DanWahlin - Angular-RESTfulService\n",
      "INFO:scripts.evaluate:Evaluating EQuimper - nodejs-api-boilerplate\n",
      "INFO:scripts.evaluate:Evaluating FrontendMasters - intro-mongo-db\n",
      "INFO:scripts.evaluate:Evaluating IHTSDO - sct-snapshot-rest-api\n",
      "INFO:scripts.evaluate:Evaluating benas - gamehub.io\n",
      "INFO:scripts.evaluate:Evaluating DimiMikadze - Mean-Blog\n",
      "INFO:scripts.evaluate:Evaluating HackCU - jakehockey10\n",
      "INFO:scripts.evaluate:Evaluating MiloATH - VotingApp\n",
      "INFO:scripts.evaluate:Evaluating NetEaseGame - redis-monitor\n",
      "INFO:scripts.evaluate:Evaluating MauroEspinosa - Grupos\n",
      "INFO:scripts.evaluate:Evaluating DanWahlin - CustomerManager\n",
      "INFO:scripts.evaluate:Evaluating CatalystCode - ImageTaggingSystem\n",
      "INFO:scripts.evaluate:Evaluating Cendey - contacts\n",
      "INFO:scripts.evaluate:Evaluating aravindnc - mongoose-paginate-v2\n",
      "INFO:scripts.evaluate:Evaluating HashBrownCMS - hashbrown-cms\n",
      "INFO:scripts.evaluate:Evaluating ParabolInc - action\n",
      "INFO:scripts.evaluate:Evaluating StephenGrider - AdvancedReduxCode\n",
      "INFO:scripts.evaluate:Evaluating Binomi0 - Seolidera-CRM\n",
      "INFO:scripts.evaluate:Evaluating PaulSavignano - aussiemoving-staging\n",
      "INFO:scripts.evaluate:Evaluating TylerBrock - mongo-hacker\n",
      "INFO:scripts.evaluate:Evaluating aravindvnair99 - Prostem-Internship\n",
      "INFO:scripts.evaluate:Evaluating Tencent - westore\n",
      "INFO:scripts.evaluate:Evaluating DiyanTonchev - ShopStop\n",
      "INFO:scripts.evaluate:Evaluating MattLong87 - winrate-api\n",
      "INFO:scripts.evaluate:Evaluating FrontendMasters - api-design-node-v3\n",
      "INFO:scripts.evaluate:Evaluating antonshevchenko - pager\n",
      "INFO:scripts.evaluate:Evaluating KyteProject - fdbck-web\n",
      "INFO:scripts.evaluate:Evaluating DanWahlin - CustomerManagerStandard\n",
      "INFO:scripts.evaluate:Evaluating F0xedb - WebCalendar\n",
      "INFO:scripts.evaluate:Evaluating aheckmann - mquery\n",
      "INFO:scripts.evaluate:Evaluating MasseyHacks - MasseyHacks-IV-Quill\n",
      "INFO:scripts.evaluate:Evaluating DimiMikadze - node-redux-auth\n",
      "INFO:scripts.evaluate:Evaluating LiangCY - MovieTickets\n",
      "INFO:scripts.evaluate:Evaluating bergwhite - nchat\n",
      "INFO:scripts.evaluate:Evaluating ChangerHe - My-code\n",
      "INFO:scripts.evaluate:Evaluating JPinkney - Track-your-TV\n",
      "INFO:scripts.evaluate:Evaluating AkimaLunar - ng-meenk\n",
      "INFO:scripts.evaluate:Evaluating CapacitorSet - rebridge\n"
     ]
    }
   ],
   "source": [
    "# evaluation\n",
    "external_predicate_file = path_join(results_dir, 'averaged-results.csv')\n",
    "worse_settings = EvaluationSettings(\n",
    "    search_path=\"/home/pablo/tesis/tsm-pipeline/lib-worse/codeql/javascript/ql:/home/pablo/.codeql/packages/codeql/javascript-upgrades/0.0.3\",\n",
    "    cli_version=\"2.13.1\",\n",
    "    db_cli_version=\"2.5.2\",\n",
    "    query_file=\"/home/pablo/tesis/tsm-pipeline/tsm-atm-pipeline/src/tsm/evaluation/NosqlInjectionWorseTSM.ql\",\n",
    "    external_predicate_file=external_predicate_file,\n",
    "    **defaults_evalute,\n",
    ")\n",
    "\n",
    "print(\"Evaluating worse with %d dbs\" % (len(test)))\n",
    "evaluate(\n",
    "    settings=worse_settings,\n",
    "    output_dir=path_join(results_dir, 'worse'),\n",
    "    dbs=test,\n",
    ")"
   ]
  },
  {
   "cell_type": "code",
   "execution_count": 16,
   "id": "714032af-5b34-44bf-9534-12cf4d1ded5c",
   "metadata": {
    "tags": []
   },
   "outputs": [
    {
     "name": "stderr",
     "output_type": "stream",
     "text": [
      "INFO:scripts.evaluate:creating /home/pablo/results/ds_nosql_1/v0 dir. Omitting error if already existing\n"
     ]
    },
    {
     "name": "stdout",
     "output_type": "stream",
     "text": [
      "Evaluating v0 with 50 dbs\n"
     ]
    },
    {
     "name": "stderr",
     "output_type": "stream",
     "text": [
      "INFO:scripts.evaluate:Starting processing with 4 processes\n",
      "INFO:scripts.evaluate:Evaluating PaulSec - VNWA\n",
      "INFO:scripts.evaluate:Evaluating Crizstian - cinema-microservice\n",
      "INFO:scripts.evaluate:Evaluating StudioDeTelevision - admiraljs\n",
      "INFO:scripts.evaluate:Evaluating Xerios - mobx-isomorphic-starter\n",
      "INFO:scripts.evaluate:Evaluating Gingernaut - Robot-Lawyer\n",
      "INFO:scripts.evaluate:Evaluating DanialK - PassportJS-Authentication\n",
      "INFO:scripts.evaluate:Evaluating FreetailHackers - saffron\n",
      "INFO:scripts.evaluate:Evaluating IBM - innovate-digital-bank\n",
      "INFO:scripts.evaluate:Evaluating BryanKo - Fam\n",
      "INFO:scripts.evaluate:Evaluating bitpay - bitcore\n",
      "INFO:scripts.evaluate:Evaluating JosipReh - Feeddit\n",
      "INFO:scripts.evaluate:Evaluating OmgImAlexis - astro\n",
      "INFO:scripts.evaluate:Evaluating DanWahlin - Angular-RESTfulService\n",
      "INFO:scripts.evaluate:Evaluating EQuimper - nodejs-api-boilerplate\n",
      "INFO:scripts.evaluate:Evaluating FrontendMasters - intro-mongo-db\n",
      "INFO:scripts.evaluate:Evaluating IHTSDO - sct-snapshot-rest-api\n",
      "INFO:scripts.evaluate:Evaluating benas - gamehub.io\n",
      "INFO:scripts.evaluate:Evaluating DimiMikadze - Mean-Blog\n",
      "INFO:scripts.evaluate:Evaluating NetEaseGame - redis-monitor\n",
      "INFO:scripts.evaluate:Evaluating HackCU - jakehockey10\n",
      "INFO:scripts.evaluate:Evaluating MiloATH - VotingApp\n",
      "INFO:scripts.evaluate:Evaluating CatalystCode - ImageTaggingSystem\n",
      "INFO:scripts.evaluate:Evaluating DanWahlin - CustomerManager\n",
      "INFO:scripts.evaluate:Evaluating MauroEspinosa - Grupos\n",
      "INFO:scripts.evaluate:Evaluating Cendey - contacts\n",
      "INFO:scripts.evaluate:Evaluating StephenGrider - AdvancedReduxCode\n",
      "INFO:scripts.evaluate:Evaluating aravindnc - mongoose-paginate-v2\n",
      "INFO:scripts.evaluate:Evaluating HashBrownCMS - hashbrown-cms\n",
      "INFO:scripts.evaluate:Evaluating ParabolInc - action\n",
      "INFO:scripts.evaluate:Evaluating PaulSavignano - aussiemoving-staging\n",
      "INFO:scripts.evaluate:Evaluating Binomi0 - Seolidera-CRM\n",
      "INFO:scripts.evaluate:Evaluating TylerBrock - mongo-hacker\n",
      "INFO:scripts.evaluate:Evaluating Tencent - westore\n",
      "INFO:scripts.evaluate:Evaluating DiyanTonchev - ShopStop\n",
      "INFO:scripts.evaluate:Evaluating aravindvnair99 - Prostem-Internship\n",
      "INFO:scripts.evaluate:Evaluating MattLong87 - winrate-api\n",
      "INFO:scripts.evaluate:Evaluating FrontendMasters - api-design-node-v3\n",
      "INFO:scripts.evaluate:Evaluating antonshevchenko - pager\n",
      "INFO:scripts.evaluate:Evaluating KyteProject - fdbck-web\n",
      "INFO:scripts.evaluate:Evaluating DanWahlin - CustomerManagerStandard\n",
      "INFO:scripts.evaluate:Evaluating F0xedb - WebCalendar\n",
      "INFO:scripts.evaluate:Evaluating aheckmann - mquery\n",
      "INFO:scripts.evaluate:Evaluating DimiMikadze - node-redux-auth\n",
      "INFO:scripts.evaluate:Evaluating MasseyHacks - MasseyHacks-IV-Quill\n",
      "INFO:scripts.evaluate:Evaluating LiangCY - MovieTickets\n",
      "INFO:scripts.evaluate:Evaluating bergwhite - nchat\n",
      "INFO:scripts.evaluate:Evaluating ChangerHe - My-code\n",
      "INFO:scripts.evaluate:Evaluating JPinkney - Track-your-TV\n",
      "INFO:scripts.evaluate:Evaluating AkimaLunar - ng-meenk\n",
      "INFO:scripts.evaluate:Evaluating CapacitorSet - rebridge\n"
     ]
    }
   ],
   "source": [
    "v0_settings = EvaluationSettings(\n",
    "    search_path=\"/home/pablo/codeqlv0/javascript/ql/lib\",\n",
    "    cli_version=\"2.13.1\",\n",
    "    db_cli_version=\"2.5.2\",\n",
    "    query_file=\"/home/pablo/tesis/tsm-pipeline/tsm-evaluation/tsm-evaluation/src/NoSqlEvaluation.ql\",\n",
    "    **defaults_evalute,\n",
    ")\n",
    "\n",
    "print(\"Evaluating v0 with %d dbs\" % (len(test)))\n",
    "evaluate(\n",
    "    settings=v0_settings,\n",
    "    output_dir=path_join(results_dir, 'v0'),\n",
    "    dbs=test,\n",
    ")"
   ]
  },
  {
   "cell_type": "code",
   "execution_count": 24,
   "id": "3f2d7a6e-cb8f-4b97-852a-071bcd85f76f",
   "metadata": {
    "tags": []
   },
   "outputs": [
    {
     "data": {
      "text/html": [
       "<div>\n",
       "<style scoped>\n",
       "    .dataframe tbody tr th:only-of-type {\n",
       "        vertical-align: middle;\n",
       "    }\n",
       "\n",
       "    .dataframe tbody tr th {\n",
       "        vertical-align: top;\n",
       "    }\n",
       "\n",
       "    .dataframe thead th {\n",
       "        text-align: right;\n",
       "    }\n",
       "</style>\n",
       "<table border=\"1\" class=\"dataframe\">\n",
       "  <thead>\n",
       "    <tr style=\"text-align: right;\">\n",
       "      <th></th>\n",
       "      <th>precision</th>\n",
       "      <th>recall</th>\n",
       "      <th>accuracy</th>\n",
       "      <th>alerts to recover (atr)</th>\n",
       "      <th>alerts recovered</th>\n",
       "      <th>suprious alerts</th>\n",
       "      <th>projects with atr</th>\n",
       "      <th>avg atr per proj</th>\n",
       "    </tr>\n",
       "  </thead>\n",
       "  <tbody>\n",
       "    <tr>\n",
       "      <th>0</th>\n",
       "      <td>0.0</td>\n",
       "      <td>0.0</td>\n",
       "      <td>0.0</td>\n",
       "      <td>21</td>\n",
       "      <td>0</td>\n",
       "      <td>306</td>\n",
       "      <td>8</td>\n",
       "      <td>2.625</td>\n",
       "    </tr>\n",
       "  </tbody>\n",
       "</table>\n",
       "</div>"
      ],
      "text/plain": [
       "   precision  recall  accuracy  alerts to recover (atr)  alerts recovered  \\\n",
       "0        0.0     0.0       0.0                       21                 0   \n",
       "\n",
       "   suprious alerts  projects with atr  avg atr per proj  \n",
       "0              306                  8             2.625  "
      ]
     },
     "execution_count": 24,
     "metadata": {},
     "output_type": "execute_result"
    }
   ],
   "source": [
    "from scripts.calculate_scores import calculate_scores_df\n",
    "\n",
    "calculate_scores_df(\n",
    "    results_folder=results_dir,\n",
    "    cleanup_base_dir=\"/tmp\",\n",
    ")"
   ]
  },
  {
   "cell_type": "markdown",
   "id": "2125e9b5-243b-43c4-b5c1-15504e868846",
   "metadata": {},
   "source": [
    "## Tomo otro corte diferente el mismo sample averr si cambia algo"
   ]
  },
  {
   "cell_type": "code",
   "execution_count": 34,
   "id": "bd76c38d-24eb-4f68-991e-d059616778bd",
   "metadata": {
    "tags": []
   },
   "outputs": [
    {
     "data": {
      "text/plain": [
       "['OpenUserJS/OpenUserJS.org/a3728c9',\n",
       " 'Redsmin/proxy/0b20436',\n",
       " 'abansal98/DataPool/5d0aeb7',\n",
       " 'DimiMikadze/Mean-Blog/01c6ff8',\n",
       " 'bdvu/BVmeanauthapp/5521a12',\n",
       " 'ParabolInc/action/45c9b49',\n",
       " 'StephenGrider/AdvancedReduxCode/9f839ad',\n",
       " 'aheckmann/mquery/e68f8e1',\n",
       " 'bergwhite/nchat/5442684',\n",
       " 'F0xedb/WebCalendar/a18c0a0']"
      ]
     },
     "execution_count": 34,
     "metadata": {},
     "output_type": "execute_result"
    }
   ],
   "source": [
    "train2, test2 = train_test_split(sample, train_size=.5, shuffle=True, random_state=rand)\n",
    "train2[:10]"
   ]
  },
  {
   "cell_type": "code",
   "execution_count": 1,
   "id": "65db78cd-115f-4e85-a13b-7827fe36a6cc",
   "metadata": {
    "tags": []
   },
   "outputs": [],
   "source": [
    "results_dir = \"/home/pablo/results/ds_nosql_2\""
   ]
  },
  {
   "cell_type": "code",
   "execution_count": 36,
   "id": "a63d8f99-1f36-44d3-88b0-11cc16705ebd",
   "metadata": {
    "tags": []
   },
   "outputs": [
    {
     "name": "stderr",
     "output_type": "stream",
     "text": [
      "INFO:scripts.docker:creating /home/pablo/results/ds_nosql_2 dir. Omitting error if already existing\n",
      "INFO:scripts.docker:creating /tmp/log dir. Omitting error if already existing\n",
      "INFO:scripts.docker:running at container 2ae4661619bdb52ca4625fee3c8d3d01f57a9836a75763340da7851a6d085aec. Use `docker logs 2ae4661619bdb52ca4625fee3c8d3d01f57a9836a75763340da7851a6d085aec --tail 10 --follow` to follow progress\n"
     ]
    },
    {
     "name": "stdout",
     "output_type": "stream",
     "text": [
      "running at container 2ae4661619bdb52ca4625fee3c8d3d01f57a9836a75763340da7851a6d085aec. Use `docker logs 2ae4661619bdb52ca4625fee3c8d3d01f57a9836a75763340da7851a6d085aec --tail 10 --follow` to follow progress\n"
     ]
    },
    {
     "name": "stderr",
     "output_type": "stream",
     "text": [
      "INFO:scripts.docker:running combine scores\n"
     ]
    },
    {
     "name": "stdout",
     "output_type": "stream",
     "text": [
      "g: /home/pablo/results/ds_nosql_2/*/NosqlInjectionWorse-*/reprScores.txt\n"
     ]
    }
   ],
   "source": [
    "# training\n",
    "train_settings = ExperimentSettings(\n",
    "    name=\"ds_nosql_2\",\n",
    "    query_type=\"nosql\",\n",
    "    project_list=train2,\n",
    "    results_dir=results_dir,\n",
    "    **defaults\n",
    ")\n",
    "\n",
    "run_tsm(docker_client, train_settings, block=True)"
   ]
  },
  {
   "cell_type": "code",
   "execution_count": 37,
   "id": "569e696b-d4c3-466c-b957-f9aac91c43f4",
   "metadata": {
    "tags": []
   },
   "outputs": [
    {
     "name": "stdout",
     "output_type": "stream",
     "text": [
      "52\n"
     ]
    }
   ],
   "source": [
    "!cat /home/pablo/results/ds_nosql_2/averaged-results.csv|wc -l"
   ]
  },
  {
   "cell_type": "code",
   "execution_count": 38,
   "id": "ebd51f21-4c87-4655-906f-4df538035b02",
   "metadata": {
    "tags": []
   },
   "outputs": [
    {
     "data": {
      "text/plain": [
       "['Bertrand31/Monitaure/edbc31b',\n",
       " 'HashBrownCMS/hashbrown-cms/b987436',\n",
       " 'CapacitorSet/rebridge/451bfc2',\n",
       " 'aali05/solo-project/3d3cf57',\n",
       " 'LiangCY/MovieTickets/0069729',\n",
       " 'TylerBrock/mongo-hacker/6a5a9f4',\n",
       " 'JPinkney/Track-your-TV/e09bcfa',\n",
       " 'BlinkTagInc/gtfs-to-html/ddb81fe',\n",
       " 'AdoboFrenzy/Projects/9f25394',\n",
       " 'amejiarosario/meanshop/305a189']"
      ]
     },
     "execution_count": 38,
     "metadata": {},
     "output_type": "execute_result"
    }
   ],
   "source": [
    "test2[0:10]"
   ]
  },
  {
   "cell_type": "code",
   "execution_count": 39,
   "id": "acff8f74-90bc-421e-958a-997186c40871",
   "metadata": {
    "tags": []
   },
   "outputs": [
    {
     "name": "stderr",
     "output_type": "stream",
     "text": [
      "INFO:scripts.evaluate:creating /home/pablo/results/ds_nosql_2/worse dir. Omitting error if already existing\n",
      "INFO:scripts.evaluate:Starting processing with 4 processes\n",
      "INFO:scripts.evaluate:Evaluating Bertrand31 - Monitaure\n",
      "INFO:scripts.evaluate:Evaluating DanWahlin - CustomerManagerStandard\n",
      "INFO:scripts.evaluate:Evaluating LiangCY - MovieTickets\n",
      "INFO:scripts.evaluate:Evaluating AdoboFrenzy - Projects\n",
      "INFO:scripts.evaluate:Evaluating TylerBrock - mongo-hacker\n",
      "INFO:scripts.evaluate:Evaluating HashBrownCMS - hashbrown-cms\n",
      "INFO:scripts.evaluate:Evaluating DrMongo - DrMongo\n",
      "INFO:scripts.evaluate:Evaluating amejiarosario - meanshop\n",
      "INFO:scripts.evaluate:Evaluating JPinkney - Track-your-TV\n",
      "INFO:scripts.evaluate:Evaluating PaulSec - VNWA\n",
      "INFO:scripts.evaluate:Evaluating CapacitorSet - rebridge\n",
      "INFO:scripts.evaluate:Evaluating BlinkTagInc - node-gtfs\n",
      "INFO:scripts.evaluate:Evaluating BlinkTagInc - gtfs-to-html\n",
      "INFO:scripts.evaluate:Evaluating Gingernaut - Robot-Lawyer\n",
      "INFO:scripts.evaluate:Evaluating aali05 - solo-project\n",
      "INFO:scripts.evaluate:Evaluating DanialK - PassportJS-Authentication\n",
      "INFO:scripts.evaluate:Evaluating WaftTech - WaftEngine\n",
      "INFO:scripts.evaluate:Evaluating PaulSec - Social-Markdown\n",
      "INFO:scripts.evaluate:Evaluating AkimaLunar - ng-meenk\n",
      "INFO:scripts.evaluate:Evaluating MattLong87 - winrate-api\n",
      "INFO:scripts.evaluate:Evaluating EQuimper - nodejs-api-boilerplate\n",
      "INFO:scripts.evaluate:Evaluating MattLong87 - chronomeal-api\n",
      "INFO:scripts.evaluate:Evaluating PaulSavignano - aussiemoving-staging\n",
      "INFO:scripts.evaluate:Evaluating OmarElGabry - chat.io\n",
      "INFO:scripts.evaluate:Evaluating architMahto - udemy-nodejs-angular2\n",
      "INFO:scripts.evaluate:Evaluating ChangerHe - My-code\n",
      "INFO:scripts.evaluate:Evaluating Manouchehri - COMP2406-exam-storage\n",
      "INFO:scripts.evaluate:Evaluating bailicangdu - node-elm\n",
      "INFO:scripts.evaluate:Evaluating PabloVallejo - Fun\n",
      "INFO:scripts.evaluate:Evaluating KyteProject - fdbck-web\n",
      "INFO:scripts.evaluate:Evaluating SoftwareBrothers - admin-bro\n",
      "INFO:scripts.evaluate:Evaluating antonshevchenko - pager\n",
      "INFO:scripts.evaluate:Evaluating andchir - shopkeeper4\n",
      "INFO:scripts.evaluate:Evaluating ForestAdmin - forest-express-mongoose\n",
      "INFO:scripts.evaluate:Evaluating Binomi0 - crm-backoffice-api\n",
      "INFO:scripts.evaluate:Evaluating NodeBB - NodeBB\n",
      "INFO:scripts.evaluate:Evaluating IBM - mern-app\n",
      "INFO:scripts.evaluate:Evaluating 18F - checklistomania\n",
      "INFO:scripts.evaluate:Evaluating MauroEspinosa - Grupos\n",
      "INFO:scripts.evaluate:Evaluating alexyoung - nodepad\n",
      "INFO:scripts.evaluate:Evaluating HackCU - jakehockey10\n",
      "INFO:scripts.evaluate:Evaluating abhishekg785 - Schmooze\n",
      "INFO:scripts.evaluate:Evaluating IBM - innovate-digital-bank\n",
      "INFO:scripts.evaluate:Evaluating appbaseio - dejavu\n",
      "INFO:scripts.evaluate:Evaluating HabitRPG - habitica\n",
      "INFO:scripts.evaluate:Evaluating ChinLii - Linegenerator\n",
      "INFO:scripts.evaluate:Evaluating CodepediaOrg - bookmarks.dev-api\n",
      "INFO:scripts.evaluate:Evaluating FreetailHackers - saffron\n",
      "INFO:scripts.evaluate:Evaluating buunguyen - mongoose-deep-populate\n",
      "INFO:scripts.evaluate:Evaluating aravindnc - mongoose-paginate-v2\n"
     ]
    }
   ],
   "source": [
    "# evaluation\n",
    "external_predicate_file = path_join(results_dir, 'averaged-results.csv')\n",
    "worse_settings = EvaluationSettings(\n",
    "    search_path=\"/home/pablo/tesis/tsm-pipeline/lib-worse/codeql/javascript/ql:/home/pablo/.codeql/packages/codeql/javascript-upgrades/0.0.3\",\n",
    "    cli_version=\"2.13.1\",\n",
    "    db_cli_version=\"2.5.2\",\n",
    "    query_file=\"/home/pablo/tesis/tsm-pipeline/tsm-atm-pipeline/src/tsm/evaluation/NosqlInjectionWorseTSM.ql\",\n",
    "    external_predicate_file=external_predicate_file,\n",
    "    **defaults_evalute,\n",
    ")\n",
    "\n",
    "evaluate(\n",
    "    settings=worse_settings,\n",
    "    output_dir=path_join(results_dir, 'worse'),\n",
    "    dbs=test2,\n",
    ")"
   ]
  },
  {
   "cell_type": "code",
   "execution_count": 40,
   "id": "bbdda20e-d04c-4bab-9412-c8971ccfd728",
   "metadata": {
    "tags": []
   },
   "outputs": [
    {
     "name": "stderr",
     "output_type": "stream",
     "text": [
      "INFO:scripts.evaluate:creating /home/pablo/results/ds_nosql_2/v0 dir. Omitting error if already existing\n"
     ]
    },
    {
     "name": "stdout",
     "output_type": "stream",
     "text": [
      "Evaluating v0 with 50 dbs\n"
     ]
    },
    {
     "name": "stderr",
     "output_type": "stream",
     "text": [
      "INFO:scripts.evaluate:Starting processing with 4 processes\n",
      "INFO:scripts.evaluate:Evaluating AdoboFrenzy - Projects\n",
      "INFO:scripts.evaluate:Evaluating LiangCY - MovieTickets\n",
      "INFO:scripts.evaluate:Evaluating DanWahlin - CustomerManagerStandard\n",
      "INFO:scripts.evaluate:Evaluating Bertrand31 - Monitaure\n",
      "INFO:scripts.evaluate:Evaluating TylerBrock - mongo-hacker\n",
      "INFO:scripts.evaluate:Evaluating DrMongo - DrMongo\n",
      "INFO:scripts.evaluate:Evaluating HashBrownCMS - hashbrown-cms\n",
      "INFO:scripts.evaluate:Evaluating JPinkney - Track-your-TV\n",
      "INFO:scripts.evaluate:Evaluating PaulSec - VNWA\n",
      "INFO:scripts.evaluate:Evaluating amejiarosario - meanshop\n",
      "INFO:scripts.evaluate:Evaluating CapacitorSet - rebridge\n",
      "INFO:scripts.evaluate:Evaluating BlinkTagInc - gtfs-to-html\n",
      "INFO:scripts.evaluate:Evaluating aali05 - solo-project\n",
      "INFO:scripts.evaluate:Evaluating Gingernaut - Robot-Lawyer\n",
      "INFO:scripts.evaluate:Evaluating BlinkTagInc - node-gtfs\n",
      "INFO:scripts.evaluate:Evaluating WaftTech - WaftEngine\n",
      "INFO:scripts.evaluate:Evaluating PaulSec - Social-Markdown\n",
      "INFO:scripts.evaluate:Evaluating AkimaLunar - ng-meenk\n",
      "INFO:scripts.evaluate:Evaluating DanialK - PassportJS-Authentication\n",
      "INFO:scripts.evaluate:Evaluating PaulSavignano - aussiemoving-staging\n",
      "INFO:scripts.evaluate:Evaluating EQuimper - nodejs-api-boilerplate\n",
      "INFO:scripts.evaluate:Evaluating MattLong87 - winrate-api\n",
      "INFO:scripts.evaluate:Evaluating ChangerHe - My-code\n",
      "INFO:scripts.evaluate:Evaluating OmarElGabry - chat.io\n",
      "INFO:scripts.evaluate:Evaluating MattLong87 - chronomeal-api\n",
      "INFO:scripts.evaluate:Evaluating andchir - shopkeeper4\n",
      "INFO:scripts.evaluate:Evaluating bailicangdu - node-elm\n",
      "INFO:scripts.evaluate:Evaluating architMahto - udemy-nodejs-angular2\n",
      "INFO:scripts.evaluate:Evaluating Manouchehri - COMP2406-exam-storage\n",
      "INFO:scripts.evaluate:Evaluating PabloVallejo - Fun\n",
      "INFO:scripts.evaluate:Evaluating SoftwareBrothers - admin-bro\n",
      "INFO:scripts.evaluate:Evaluating KyteProject - fdbck-web\n",
      "INFO:scripts.evaluate:Evaluating antonshevchenko - pager\n",
      "INFO:scripts.evaluate:Evaluating Binomi0 - crm-backoffice-api\n",
      "INFO:scripts.evaluate:Evaluating ForestAdmin - forest-express-mongoose\n",
      "INFO:scripts.evaluate:Evaluating NodeBB - NodeBB\n",
      "INFO:scripts.evaluate:Evaluating 18F - checklistomania\n",
      "INFO:scripts.evaluate:Evaluating IBM - mern-app\n",
      "INFO:scripts.evaluate:Evaluating alexyoung - nodepad\n",
      "INFO:scripts.evaluate:Evaluating MauroEspinosa - Grupos\n",
      "INFO:scripts.evaluate:Evaluating IBM - innovate-digital-bank\n",
      "INFO:scripts.evaluate:Evaluating abhishekg785 - Schmooze\n",
      "INFO:scripts.evaluate:Evaluating HackCU - jakehockey10\n",
      "INFO:scripts.evaluate:Evaluating CodepediaOrg - bookmarks.dev-api\n",
      "INFO:scripts.evaluate:Evaluating ChinLii - Linegenerator\n",
      "INFO:scripts.evaluate:Evaluating appbaseio - dejavu\n",
      "INFO:scripts.evaluate:Evaluating HabitRPG - habitica\n",
      "INFO:scripts.evaluate:Evaluating FreetailHackers - saffron\n",
      "INFO:scripts.evaluate:Evaluating buunguyen - mongoose-deep-populate\n",
      "INFO:scripts.evaluate:Evaluating aravindnc - mongoose-paginate-v2\n"
     ]
    }
   ],
   "source": [
    "v0_settings = EvaluationSettings(\n",
    "    search_path=\"/home/pablo/codeqlv0/javascript/ql/lib\",\n",
    "    cli_version=\"2.13.1\",\n",
    "    db_cli_version=\"2.5.2\",\n",
    "    query_file=\"/home/pablo/tesis/tsm-pipeline/tsm-evaluation/tsm-evaluation/src/NoSqlEvaluation.ql\",\n",
    "    **defaults_evalute,\n",
    ")\n",
    "\n",
    "print(\"Evaluating v0 with %d dbs\" % (len(test)))\n",
    "evaluate(\n",
    "    settings=v0_settings,\n",
    "    output_dir=path_join(results_dir, 'v0'),\n",
    "    dbs=test2,\n",
    ")"
   ]
  },
  {
   "cell_type": "code",
   "execution_count": 41,
   "id": "0c34ae64-783a-4c81-8df7-c6ef2b4cfdf8",
   "metadata": {
    "tags": []
   },
   "outputs": [
    {
     "data": {
      "text/html": [
       "<div>\n",
       "<style scoped>\n",
       "    .dataframe tbody tr th:only-of-type {\n",
       "        vertical-align: middle;\n",
       "    }\n",
       "\n",
       "    .dataframe tbody tr th {\n",
       "        vertical-align: top;\n",
       "    }\n",
       "\n",
       "    .dataframe thead th {\n",
       "        text-align: right;\n",
       "    }\n",
       "</style>\n",
       "<table border=\"1\" class=\"dataframe\">\n",
       "  <thead>\n",
       "    <tr style=\"text-align: right;\">\n",
       "      <th></th>\n",
       "      <th>precision</th>\n",
       "      <th>recall</th>\n",
       "      <th>accuracy</th>\n",
       "      <th>alerts to recover (atr)</th>\n",
       "      <th>alerts recovered</th>\n",
       "      <th>suprious alerts</th>\n",
       "      <th>projects with atr</th>\n",
       "      <th>avg atr per proj</th>\n",
       "    </tr>\n",
       "  </thead>\n",
       "  <tbody>\n",
       "    <tr>\n",
       "      <th>0</th>\n",
       "      <td>0.0</td>\n",
       "      <td>0.0</td>\n",
       "      <td>0.0</td>\n",
       "      <td>84</td>\n",
       "      <td>0</td>\n",
       "      <td>297</td>\n",
       "      <td>10</td>\n",
       "      <td>8.4</td>\n",
       "    </tr>\n",
       "  </tbody>\n",
       "</table>\n",
       "</div>"
      ],
      "text/plain": [
       "   precision  recall  accuracy  alerts to recover (atr)  alerts recovered  \\\n",
       "0        0.0     0.0       0.0                       84                 0   \n",
       "\n",
       "   suprious alerts  projects with atr  avg atr per proj  \n",
       "0              297                 10               8.4  "
      ]
     },
     "execution_count": 41,
     "metadata": {},
     "output_type": "execute_result"
    }
   ],
   "source": [
    "from scripts.calculate_scores import calculate_scores_df\n",
    "\n",
    "calculate_scores_df(\n",
    "    results_folder=results_dir,\n",
    "    cleanup_base_dir=\"/tmp\",\n",
    ")"
   ]
  },
  {
   "cell_type": "markdown",
   "id": "847b8468-b4a6-47db-9f3a-316d6cc562f5",
   "metadata": {},
   "source": [
    "Lei en unas slides de diego que para evaluar, usan como v0 la ultima version. Probando con el ultimo commit aver como funciona, guardado en `/home/pablo/codeql_experimentation/javascript/ql/lib`. Freeznadola al ultimo release estable: `c1a52031cfd323b34a039cc6dcda4f73d7ad892e`, que corresponde con 2.13.1"
   ]
  },
  {
   "cell_type": "code",
   "execution_count": null,
   "id": "5d768fe8-f5f6-4a82-b9d7-6b8f8cc49fc5",
   "metadata": {
    "tags": []
   },
   "outputs": [
    {
     "name": "stderr",
     "output_type": "stream",
     "text": [
      "INFO:scripts.evaluate:creating /home/pablo/results/ds_nosql_2/v0_experiment dir. Omitting error if already existing\n"
     ]
    },
    {
     "name": "stdout",
     "output_type": "stream",
     "text": [
      "Evaluating v0 with latest codeql commit with 50 dbs\n"
     ]
    },
    {
     "name": "stderr",
     "output_type": "stream",
     "text": [
      "INFO:scripts.evaluate:Starting processing with 4 processes\n",
      "INFO:scripts.evaluate:Evaluating LiangCY - MovieTickets\n",
      "INFO:scripts.evaluate:Evaluating AdoboFrenzy - Projects\n",
      "INFO:scripts.evaluate:Evaluating DanWahlin - CustomerManagerStandard\n",
      "INFO:scripts.evaluate:Evaluating Bertrand31 - Monitaure\n"
     ]
    }
   ],
   "source": [
    "v0_experiment_settings = EvaluationSettings(\n",
    "    search_path=\"/home/pablo/codeql_experimentation/javascript/ql/lib\",\n",
    "    cli_version=\"2.13.1\",\n",
    "    db_cli_version=\"2.5.2\",\n",
    "    query_file=\"/home/pablo/tesis/tsm-pipeline/tsm-evaluation/tsm-evaluation/src/NoSqlEvaluation.ql\",\n",
    "    **defaults_evalute,\n",
    ")\n",
    "\n",
    "print(\"Evaluating v0 with latest codeql commit with %d dbs\" % (len(test)))\n",
    "evaluate(\n",
    "    settings=v0_experiment_settings,\n",
    "    output_dir=path_join(results_dir, 'v0_experiment'),\n",
    "    dbs=test2,\n",
    ")"
   ]
  },
  {
   "cell_type": "code",
   "execution_count": 4,
   "id": "c4cb7e22-49cf-4d0e-8236-bdba7f4bd69a",
   "metadata": {
    "tags": []
   },
   "outputs": [
    {
     "data": {
      "text/html": [
       "<div>\n",
       "<style scoped>\n",
       "    .dataframe tbody tr th:only-of-type {\n",
       "        vertical-align: middle;\n",
       "    }\n",
       "\n",
       "    .dataframe tbody tr th {\n",
       "        vertical-align: top;\n",
       "    }\n",
       "\n",
       "    .dataframe thead th {\n",
       "        text-align: right;\n",
       "    }\n",
       "</style>\n",
       "<table border=\"1\" class=\"dataframe\">\n",
       "  <thead>\n",
       "    <tr style=\"text-align: right;\">\n",
       "      <th></th>\n",
       "      <th>precision</th>\n",
       "      <th>recall</th>\n",
       "      <th>accuracy</th>\n",
       "      <th>alerts to recover (atr)</th>\n",
       "      <th>alerts recovered</th>\n",
       "      <th>suprious alerts</th>\n",
       "      <th>projects with atr</th>\n",
       "      <th>avg atr per proj</th>\n",
       "    </tr>\n",
       "  </thead>\n",
       "  <tbody>\n",
       "    <tr>\n",
       "      <th>0</th>\n",
       "      <td>0.0</td>\n",
       "      <td>0.0</td>\n",
       "      <td>0.0</td>\n",
       "      <td>84</td>\n",
       "      <td>0</td>\n",
       "      <td>297</td>\n",
       "      <td>10</td>\n",
       "      <td>8.4</td>\n",
       "    </tr>\n",
       "  </tbody>\n",
       "</table>\n",
       "</div>"
      ],
      "text/plain": [
       "   precision  recall  accuracy  alerts to recover (atr)  alerts recovered  \\\n",
       "0        0.0     0.0       0.0                       84                 0   \n",
       "\n",
       "   suprious alerts  projects with atr  avg atr per proj  \n",
       "0              297                 10               8.4  "
      ]
     },
     "execution_count": 4,
     "metadata": {},
     "output_type": "execute_result"
    }
   ],
   "source": [
    "from scripts.calculate_scores import calculate_scores_df, _calculate_score_sets, hash_set_to_df\n",
    "\n",
    "calculate_scores_df(\n",
    "    results_folder=results_dir,\n",
    "    cleanup_base_dir=\"/tmp\",\n",
    "    v0_dir=\"v0_experiment\",\n",
    ")\n",
    "\n",
    "# v0, worse, boosted = _calculate_score_sets(\n",
    "#     results_folder=results_dir,\n",
    "#     cleanup_base_dir=\"/tmp\",\n",
    "#     v0_dir=\"v0_experiment\",\n",
    "# )\n",
    "\n",
    "# hash_set_to_df(v0-worse)"
   ]
  },
  {
   "cell_type": "code",
   "execution_count": 53,
   "id": "bd0f7787-fe14-4274-9e97-52c5862e6ec5",
   "metadata": {
    "tags": []
   },
   "outputs": [
    {
     "name": "stdout",
     "output_type": "stream",
     "text": [
      "module TsmRepr {\n",
      "  float getReprScore(string repr, string t){\n",
      "   repr = \"(parameter 0 (member AchievementUnlock *))\" and t = \"snk\" and result = 0.2500000000 or\n",
      "   repr = \"(parameter 0 (member Editor *))\" and t = \"snk\" and result = 0.2500000000 or\n",
      "   repr = \"(parameter 0 (member ObjectID *))\" and t = \"snk\" and result = 0.2500000000 or\n",
      "   repr = \"(parameter 0 (member _verifySignature *))\" and t = \"snk\" and result = 0.2500000000 or\n",
      "   repr = \"(parameter 0 (member broadcast *))\" and t = \"snk\" and result = 0.2500000000 or\n",
      "   repr = \"(parameter 0 (member count *))\" and t = \"snk\" and result = 1.0000000000 or\n",
      "   repr = \"(parameter 0 (member countDocuments *))\" and t = \"snk\" and result = 0.2500000000 or\n",
      "   repr = \"(parameter 0 (member deleteOne *))\" and t = \"snk\" and result = 0.2500000000 or\n",
      "   repr = \"(parameter 0 (member differenceBy *))\" and t = \"snk\" and result = 0.2500000000 or\n",
      "   repr = \"(parameter 0 (member duration *))\" and t = \"snk\" and result = 0.2500000000 or\n",
      "   repr = \"(parameter 0 (member end *))\" and t = \"snk\" and result = 0.2500000000 or\n",
      "   repr = \"(parameter 0 (member find *))\" and t = \"snk\" and result = 1.0000000000 or\n",
      "   repr = \"(parameter 0 (member findById *))\" and t = \"snk\" and result = 0.5000000000 or\n",
      "   repr = \"(parameter 0 (member findOne *))\" and t = \"snk\" and result = 0.3500000000 or\n",
      "   repr = \"(parameter 0 (member findOneAndDelete *))\" and t = \"snk\" and result = 0.2500000000 or\n",
      "   repr = \"(parameter 0 (member findOneByEmail *))\" and t = \"snk\" and result = 0.7500000000 or\n",
      "   repr = \"(parameter 0 (member forEach *))\" and t = \"snk\" and result = 0.2500000000 or\n",
      "   repr = \"(parameter 0 (member insert *))\" and t = \"snk\" and result = 0.2500000000 or\n",
      "   repr = \"(parameter 0 (member isArray *))\" and t = \"snk\" and result = 0.2500000000 or\n",
      "   repr = \"(parameter 0 (member isEmpty *))\" and t = \"snk\" and result = 0.2500000000 or\n",
      "   repr = \"(parameter 0 (member isEqual *))\" and t = \"snk\" and result = 0.2500000000 or\n",
      "   repr = \"(parameter 0 (member isUndefined *))\" and t = \"snk\" and result = 0.2500000000 or\n",
      "   repr = \"(parameter 0 (member json *))\" and t = \"snk\" and result = 0.4166666675 or\n",
      "   repr = \"(parameter 0 (member limit *))\" and t = \"snk\" and result = 0.4375000000 or\n",
      "   repr = \"(parameter 0 (member login *))\" and t = \"snk\" and result = 0.2500000000 or\n",
      "   repr = \"(parameter 0 (member map *))\" and t = \"snk\" and result = 0.2500000000 or\n",
      "   repr = \"(parameter 0 (member push *))\" and t = \"snk\" and result = 0.3750000000 or\n",
      "   repr = \"(parameter 0 (member redirect *))\" and t = \"snk\" and result = 0.2500000000 or\n",
      "   repr = \"(parameter 0 (member send *))\" and t = \"snk\" and result = 0.5625000000 or\n",
      "   repr = \"(parameter 0 (member sign *))\" and t = \"snk\" and result = 0.2500000000 or\n",
      "   repr = \"(parameter 0 (member skip *))\" and t = \"snk\" and result = 0.4166666667 or\n",
      "   repr = \"(parameter 0 (member splice *))\" and t = \"snk\" and result = 0.2500000000 or\n",
      "   repr = \"(parameter 0 (member unlink *))\" and t = \"snk\" and result = 0.5000000000 or\n",
      "   repr = \"(parameter 0 (member unshift *))\" and t = \"snk\" and result = 0.2500000000 or\n",
      "   repr = \"(parameter 0 (member update *))\" and t = \"snk\" and result = 0.3333333333 or\n",
      "   repr = \"(parameter 0 (member write *))\" and t = \"snk\" and result = 0.2500000000 or\n",
      "   repr = \"(parameter 0 (return (member model *)))\" and t = \"snk\" and result = 0.5000000000 or\n",
      "   repr = \"(parameter 1 (member addSignature *))\" and t = \"snk\" and result = 0.2500000000 or\n",
      "   repr = \"(parameter 1 (member addVotetoId *))\" and t = \"snk\" and result = 0.1666666700 or\n",
      "   repr = \"(parameter 1 (member distinct *))\" and t = \"snk\" and result = 1.0000000000 or\n",
      "   repr = \"(parameter 1 (member findByIdAndUpdate *))\" and t = \"snk\" and result = 0.1666666700 or\n",
      "   repr = \"(parameter 1 (member findOneAndUpdate *))\" and t = \"snk\" and result = 0.5000000000 or\n",
      "   repr = \"(parameter 1 (member flash *))\" and t = \"snk\" and result = 0.5000000000 or\n",
      "   repr = \"(parameter 1 (member includes *))\" and t = \"snk\" and result = 0.2500000000 or\n",
      "   repr = \"(parameter 1 (member logw *))\" and t = \"snk\" and result = 0.2500000000 or\n",
      "   repr = \"(parameter 1 (member render *))\" and t = \"snk\" and result = 0.5000000000 or\n",
      "   repr = \"(parameter 1 (member set *))\" and t = \"snk\" and result = 0.2500000000 or\n",
      "   repr = \"(parameter 1 (member update *))\" and t = \"snk\" and result = 0.2500000000 or\n",
      "   repr = \"(parameter 1 (member updateArticleVotes *))\" and t = \"snk\" and result = 0.1666666700 or\n",
      "   repr = \"(parameter 1 (member where *))\" and t = \"snk\" and result = 0.2500000000 or\n",
      "   repr = \"(parameter 1 (member without *))\" and t = \"snk\" and result = 0.2500000000 or\n",
      "   repr = \"(parameter 2 (member getEntityParentAlias *))\" and t = \"snk\" and result = 0.5000000000 or\n",
      "   repr = \"(parameter 3 (member updateLanguageSet *))\" and t = \"snk\" and result = 0.2500000000\n",
      "   } \n",
      "}\n"
     ]
    }
   ],
   "source": [
    "!cat $results_dir/averaged-results.txt"
   ]
  },
  {
   "cell_type": "markdown",
   "id": "b0f79dfa-96e0-439b-974f-8230167e7524",
   "metadata": {},
   "source": [
    "## Corriendo con 200 dbs"
   ]
  },
  {
   "cell_type": "code",
   "execution_count": 7,
   "id": "28aedb03-55fa-4702-81bd-24f02bd738f3",
   "metadata": {
    "tags": []
   },
   "outputs": [
    {
     "data": {
      "text/plain": [
       "['Gingernaut/Robot-Lawyer/56b86ac',\n",
       " 'StudioDeTelevision/admiraljs/5846378',\n",
       " 'aheckmann/mquery/e68f8e1',\n",
       " 'bailicangdu/node-elm/4262918',\n",
       " 'bitpay/bitcore/4f8f5a2',\n",
       " 'aravindvnair99/Prostem-Internship/a0ecb39',\n",
       " 'F0xedb/WebCalendar/a18c0a0',\n",
       " 'hex7c0/mongodb-backup/b13dd25',\n",
       " 'OmgImAlexis/astro/d650f5e',\n",
       " 'eddywashere/node-stripe-membership-saas/206afec']"
      ]
     },
     "execution_count": 7,
     "metadata": {},
     "output_type": "execute_result"
    }
   ],
   "source": [
    "from sklearn.model_selection import train_test_split\n",
    "\n",
    "sample = nosql_dbs[:200]\n",
    "train, test = train_test_split(sample, train_size=.5, shuffle=True, random_state=rand)\n",
    "train[:10]"
   ]
  },
  {
   "cell_type": "markdown",
   "id": "583e7d4f-c30b-4735-9e86-bef1427e15c0",
   "metadata": {},
   "source": [
    "Primera corrida de bejamin button, con un dataset formado a partir de repos que venian con commits, y filtrando que tengan por lo menos 5k loc de javascript. Se toma un corte de 50/50 entre entrenamiento y test."
   ]
  },
  {
   "cell_type": "code",
   "execution_count": 16,
   "id": "73669b60-8be8-4d0c-b6f9-d6c5dd9d851d",
   "metadata": {
    "tags": []
   },
   "outputs": [],
   "source": [
    "results_dir = \"/home/pablo/results/ds_nosql_200\""
   ]
  },
  {
   "cell_type": "code",
   "execution_count": 11,
   "id": "710df969-cb1a-4832-aa11-90e442b51d0b",
   "metadata": {
    "tags": []
   },
   "outputs": [
    {
     "name": "stdout",
     "output_type": "stream",
     "text": [
      "running at container f6e21cff2d3ec89b824fe4805adbdb3e6394f2b1795a94d8bbb39cfc8c00da3a. Use `docker logs f6e21cff2d3ec89b824fe4805adbdb3e6394f2b1795a94d8bbb39cfc8c00da3a --tail 10 --follow` to follow progress\n",
      "g: /home/pablo/results/ds_nosql_1/*/NosqlInjectionWorse-*/reprScores.txt\n"
     ]
    }
   ],
   "source": [
    "# training\n",
    "train_settings = ExperimentSettings(\n",
    "    name=\"ds_nosql_100\",\n",
    "    query_type=\"nosql\",\n",
    "    project_list=train,\n",
    "    results_dir=results_dir,\n",
    "    **defaults\n",
    ")\n",
    "\n",
    "run_tsm(docker_client, train_settings, block=True)"
   ]
  },
  {
   "cell_type": "code",
   "execution_count": 12,
   "id": "0f69f6de-f2b3-4d9d-8acf-4423a9c3d701",
   "metadata": {
    "tags": []
   },
   "outputs": [
    {
     "name": "stdout",
     "output_type": "stream",
     "text": [
      "51\n"
     ]
    }
   ],
   "source": [
    "!cat $results_dir/averaged-results.csv|wc -l"
   ]
  },
  {
   "cell_type": "code",
   "execution_count": 13,
   "id": "5221228b-06e1-4641-96b3-f50cc9102a84",
   "metadata": {
    "tags": []
   },
   "outputs": [
    {
     "data": {
      "text/plain": [
       "['PaulSec/VNWA/d3704e6',\n",
       " 'FreetailHackers/saffron/f563dd2',\n",
       " 'JosipReh/Feeddit/bbcb615',\n",
       " 'EQuimper/nodejs-api-boilerplate/0dcea20',\n",
       " 'Xerios/mobx-isomorphic-starter/8d08656',\n",
       " 'DanialK/PassportJS-Authentication/af6f691',\n",
       " 'BryanKo/Fam/6ee0fe0',\n",
       " 'DanWahlin/Angular-RESTfulService/bbd42e4',\n",
       " 'Crizstian/cinema-microservice/b6c973d',\n",
       " 'Gingernaut/Robot-Lawyer/56b86ac']"
      ]
     },
     "execution_count": 13,
     "metadata": {},
     "output_type": "execute_result"
    }
   ],
   "source": [
    "test[0:10]"
   ]
  },
  {
   "cell_type": "code",
   "execution_count": 15,
   "id": "fce2da9c-7886-4ff4-a714-a735d6dac4ae",
   "metadata": {
    "tags": []
   },
   "outputs": [
    {
     "name": "stderr",
     "output_type": "stream",
     "text": [
      "INFO:scripts.evaluate:creating /home/pablo/results/ds_nosql_1/worse dir. Omitting error if already existing\n"
     ]
    },
    {
     "name": "stdout",
     "output_type": "stream",
     "text": [
      "Evaluating worse with 50 dbs\n"
     ]
    },
    {
     "name": "stderr",
     "output_type": "stream",
     "text": [
      "INFO:scripts.evaluate:Starting processing with 4 processes\n",
      "INFO:scripts.evaluate:Evaluating Xerios - mobx-isomorphic-starter\n",
      "INFO:scripts.evaluate:Evaluating PaulSec - VNWA\n",
      "INFO:scripts.evaluate:Evaluating Crizstian - cinema-microservice\n",
      "INFO:scripts.evaluate:Evaluating StudioDeTelevision - admiraljs\n",
      "INFO:scripts.evaluate:Evaluating FreetailHackers - saffron\n",
      "INFO:scripts.evaluate:Evaluating Gingernaut - Robot-Lawyer\n",
      "INFO:scripts.evaluate:Evaluating DanialK - PassportJS-Authentication\n",
      "INFO:scripts.evaluate:Evaluating IBM - innovate-digital-bank\n",
      "INFO:scripts.evaluate:Evaluating bitpay - bitcore\n",
      "INFO:scripts.evaluate:Evaluating BryanKo - Fam\n",
      "INFO:scripts.evaluate:Evaluating JosipReh - Feeddit\n",
      "INFO:scripts.evaluate:Evaluating OmgImAlexis - astro\n",
      "INFO:scripts.evaluate:Evaluating DanWahlin - Angular-RESTfulService\n",
      "INFO:scripts.evaluate:Evaluating EQuimper - nodejs-api-boilerplate\n",
      "INFO:scripts.evaluate:Evaluating FrontendMasters - intro-mongo-db\n",
      "INFO:scripts.evaluate:Evaluating IHTSDO - sct-snapshot-rest-api\n",
      "INFO:scripts.evaluate:Evaluating benas - gamehub.io\n",
      "INFO:scripts.evaluate:Evaluating DimiMikadze - Mean-Blog\n",
      "INFO:scripts.evaluate:Evaluating HackCU - jakehockey10\n",
      "INFO:scripts.evaluate:Evaluating MiloATH - VotingApp\n",
      "INFO:scripts.evaluate:Evaluating NetEaseGame - redis-monitor\n",
      "INFO:scripts.evaluate:Evaluating MauroEspinosa - Grupos\n",
      "INFO:scripts.evaluate:Evaluating DanWahlin - CustomerManager\n",
      "INFO:scripts.evaluate:Evaluating CatalystCode - ImageTaggingSystem\n",
      "INFO:scripts.evaluate:Evaluating Cendey - contacts\n",
      "INFO:scripts.evaluate:Evaluating aravindnc - mongoose-paginate-v2\n",
      "INFO:scripts.evaluate:Evaluating HashBrownCMS - hashbrown-cms\n",
      "INFO:scripts.evaluate:Evaluating ParabolInc - action\n",
      "INFO:scripts.evaluate:Evaluating StephenGrider - AdvancedReduxCode\n",
      "INFO:scripts.evaluate:Evaluating Binomi0 - Seolidera-CRM\n",
      "INFO:scripts.evaluate:Evaluating PaulSavignano - aussiemoving-staging\n",
      "INFO:scripts.evaluate:Evaluating TylerBrock - mongo-hacker\n",
      "INFO:scripts.evaluate:Evaluating aravindvnair99 - Prostem-Internship\n",
      "INFO:scripts.evaluate:Evaluating Tencent - westore\n",
      "INFO:scripts.evaluate:Evaluating DiyanTonchev - ShopStop\n",
      "INFO:scripts.evaluate:Evaluating MattLong87 - winrate-api\n",
      "INFO:scripts.evaluate:Evaluating FrontendMasters - api-design-node-v3\n",
      "INFO:scripts.evaluate:Evaluating antonshevchenko - pager\n",
      "INFO:scripts.evaluate:Evaluating KyteProject - fdbck-web\n",
      "INFO:scripts.evaluate:Evaluating DanWahlin - CustomerManagerStandard\n",
      "INFO:scripts.evaluate:Evaluating F0xedb - WebCalendar\n",
      "INFO:scripts.evaluate:Evaluating aheckmann - mquery\n",
      "INFO:scripts.evaluate:Evaluating MasseyHacks - MasseyHacks-IV-Quill\n",
      "INFO:scripts.evaluate:Evaluating DimiMikadze - node-redux-auth\n",
      "INFO:scripts.evaluate:Evaluating LiangCY - MovieTickets\n",
      "INFO:scripts.evaluate:Evaluating bergwhite - nchat\n",
      "INFO:scripts.evaluate:Evaluating ChangerHe - My-code\n",
      "INFO:scripts.evaluate:Evaluating JPinkney - Track-your-TV\n",
      "INFO:scripts.evaluate:Evaluating AkimaLunar - ng-meenk\n",
      "INFO:scripts.evaluate:Evaluating CapacitorSet - rebridge\n"
     ]
    }
   ],
   "source": [
    "# evaluation\n",
    "external_predicate_file = path_join(results_dir, 'averaged-results.csv')\n",
    "worse_settings = EvaluationSettings(\n",
    "    search_path=\"/home/pablo/tesis/tsm-pipeline/lib-worse/codeql/javascript/ql:/home/pablo/.codeql/packages/codeql/javascript-upgrades/0.0.3\",\n",
    "    cli_version=\"2.13.1\",\n",
    "    db_cli_version=\"2.5.2\",\n",
    "    query_file=\"/home/pablo/tesis/tsm-pipeline/tsm-atm-pipeline/src/tsm/evaluation/NosqlInjectionWorseTSM.ql\",\n",
    "    external_predicate_file=external_predicate_file,\n",
    "    **defaults_evalute,\n",
    ")\n",
    "\n",
    "print(\"Evaluating worse with %d dbs\" % (len(test)))\n",
    "evaluate(\n",
    "    settings=worse_settings,\n",
    "    output_dir=path_join(results_dir, 'worse'),\n",
    "    dbs=test,\n",
    ")"
   ]
  },
  {
   "cell_type": "code",
   "execution_count": 16,
   "id": "c7cb3476-1fbb-4974-af1a-52f6935660ad",
   "metadata": {
    "tags": []
   },
   "outputs": [
    {
     "name": "stderr",
     "output_type": "stream",
     "text": [
      "INFO:scripts.evaluate:creating /home/pablo/results/ds_nosql_1/v0 dir. Omitting error if already existing\n"
     ]
    },
    {
     "name": "stdout",
     "output_type": "stream",
     "text": [
      "Evaluating v0 with 50 dbs\n"
     ]
    },
    {
     "name": "stderr",
     "output_type": "stream",
     "text": [
      "INFO:scripts.evaluate:Starting processing with 4 processes\n",
      "INFO:scripts.evaluate:Evaluating PaulSec - VNWA\n",
      "INFO:scripts.evaluate:Evaluating Crizstian - cinema-microservice\n",
      "INFO:scripts.evaluate:Evaluating StudioDeTelevision - admiraljs\n",
      "INFO:scripts.evaluate:Evaluating Xerios - mobx-isomorphic-starter\n",
      "INFO:scripts.evaluate:Evaluating Gingernaut - Robot-Lawyer\n",
      "INFO:scripts.evaluate:Evaluating DanialK - PassportJS-Authentication\n",
      "INFO:scripts.evaluate:Evaluating FreetailHackers - saffron\n",
      "INFO:scripts.evaluate:Evaluating IBM - innovate-digital-bank\n",
      "INFO:scripts.evaluate:Evaluating BryanKo - Fam\n",
      "INFO:scripts.evaluate:Evaluating bitpay - bitcore\n",
      "INFO:scripts.evaluate:Evaluating JosipReh - Feeddit\n",
      "INFO:scripts.evaluate:Evaluating OmgImAlexis - astro\n",
      "INFO:scripts.evaluate:Evaluating DanWahlin - Angular-RESTfulService\n",
      "INFO:scripts.evaluate:Evaluating EQuimper - nodejs-api-boilerplate\n",
      "INFO:scripts.evaluate:Evaluating FrontendMasters - intro-mongo-db\n",
      "INFO:scripts.evaluate:Evaluating IHTSDO - sct-snapshot-rest-api\n",
      "INFO:scripts.evaluate:Evaluating benas - gamehub.io\n",
      "INFO:scripts.evaluate:Evaluating DimiMikadze - Mean-Blog\n",
      "INFO:scripts.evaluate:Evaluating NetEaseGame - redis-monitor\n",
      "INFO:scripts.evaluate:Evaluating HackCU - jakehockey10\n",
      "INFO:scripts.evaluate:Evaluating MiloATH - VotingApp\n",
      "INFO:scripts.evaluate:Evaluating CatalystCode - ImageTaggingSystem\n",
      "INFO:scripts.evaluate:Evaluating DanWahlin - CustomerManager\n",
      "INFO:scripts.evaluate:Evaluating MauroEspinosa - Grupos\n",
      "INFO:scripts.evaluate:Evaluating Cendey - contacts\n",
      "INFO:scripts.evaluate:Evaluating StephenGrider - AdvancedReduxCode\n",
      "INFO:scripts.evaluate:Evaluating aravindnc - mongoose-paginate-v2\n",
      "INFO:scripts.evaluate:Evaluating HashBrownCMS - hashbrown-cms\n",
      "INFO:scripts.evaluate:Evaluating ParabolInc - action\n",
      "INFO:scripts.evaluate:Evaluating PaulSavignano - aussiemoving-staging\n",
      "INFO:scripts.evaluate:Evaluating Binomi0 - Seolidera-CRM\n",
      "INFO:scripts.evaluate:Evaluating TylerBrock - mongo-hacker\n",
      "INFO:scripts.evaluate:Evaluating Tencent - westore\n",
      "INFO:scripts.evaluate:Evaluating DiyanTonchev - ShopStop\n",
      "INFO:scripts.evaluate:Evaluating aravindvnair99 - Prostem-Internship\n",
      "INFO:scripts.evaluate:Evaluating MattLong87 - winrate-api\n",
      "INFO:scripts.evaluate:Evaluating FrontendMasters - api-design-node-v3\n",
      "INFO:scripts.evaluate:Evaluating antonshevchenko - pager\n",
      "INFO:scripts.evaluate:Evaluating KyteProject - fdbck-web\n",
      "INFO:scripts.evaluate:Evaluating DanWahlin - CustomerManagerStandard\n",
      "INFO:scripts.evaluate:Evaluating F0xedb - WebCalendar\n",
      "INFO:scripts.evaluate:Evaluating aheckmann - mquery\n",
      "INFO:scripts.evaluate:Evaluating DimiMikadze - node-redux-auth\n",
      "INFO:scripts.evaluate:Evaluating MasseyHacks - MasseyHacks-IV-Quill\n",
      "INFO:scripts.evaluate:Evaluating LiangCY - MovieTickets\n",
      "INFO:scripts.evaluate:Evaluating bergwhite - nchat\n",
      "INFO:scripts.evaluate:Evaluating ChangerHe - My-code\n",
      "INFO:scripts.evaluate:Evaluating JPinkney - Track-your-TV\n",
      "INFO:scripts.evaluate:Evaluating AkimaLunar - ng-meenk\n",
      "INFO:scripts.evaluate:Evaluating CapacitorSet - rebridge\n"
     ]
    }
   ],
   "source": [
    "v0_settings = EvaluationSettings(\n",
    "    search_path=\"/home/pablo/codeqlv0/javascript/ql/lib\",\n",
    "    cli_version=\"2.13.1\",\n",
    "    db_cli_version=\"2.5.2\",\n",
    "    query_file=\"/home/pablo/tesis/tsm-pipeline/tsm-evaluation/tsm-evaluation/src/NoSqlEvaluation.ql\",\n",
    "    **defaults_evalute,\n",
    ")\n",
    "\n",
    "print(\"Evaluating v0 with %d dbs\" % (len(test)))\n",
    "evaluate(\n",
    "    settings=v0_settings,\n",
    "    output_dir=path_join(results_dir, 'v0'),\n",
    "    dbs=test,\n",
    ")"
   ]
  },
  {
   "cell_type": "code",
   "execution_count": 21,
   "id": "b772e37b-337b-4f3c-b508-1e465a2a3696",
   "metadata": {
    "tags": []
   },
   "outputs": [
    {
     "data": {
      "text/html": [
       "<div>\n",
       "<style scoped>\n",
       "    .dataframe tbody tr th:only-of-type {\n",
       "        vertical-align: middle;\n",
       "    }\n",
       "\n",
       "    .dataframe tbody tr th {\n",
       "        vertical-align: top;\n",
       "    }\n",
       "\n",
       "    .dataframe thead th {\n",
       "        text-align: right;\n",
       "    }\n",
       "</style>\n",
       "<table border=\"1\" class=\"dataframe\">\n",
       "  <thead>\n",
       "    <tr style=\"text-align: right;\">\n",
       "      <th></th>\n",
       "      <th>precision</th>\n",
       "      <th>recall</th>\n",
       "      <th>accuracy</th>\n",
       "      <th>alerts to recover (atr)</th>\n",
       "      <th>alerts recovered</th>\n",
       "      <th>suprious alerts</th>\n",
       "      <th>projects with atr</th>\n",
       "      <th>avg atr per proj</th>\n",
       "    </tr>\n",
       "  </thead>\n",
       "  <tbody>\n",
       "    <tr>\n",
       "      <th>0</th>\n",
       "      <td>0.0</td>\n",
       "      <td>0.0</td>\n",
       "      <td>0.0</td>\n",
       "      <td>50</td>\n",
       "      <td>0</td>\n",
       "      <td>952</td>\n",
       "      <td>15</td>\n",
       "      <td>3.333333</td>\n",
       "    </tr>\n",
       "  </tbody>\n",
       "</table>\n",
       "</div>"
      ],
      "text/plain": [
       "   precision  recall  accuracy  alerts to recover (atr)  alerts recovered  \\\n",
       "0        0.0     0.0       0.0                       50                 0   \n",
       "\n",
       "   suprious alerts  projects with atr  avg atr per proj  \n",
       "0              952                 15          3.333333  "
      ]
     },
     "execution_count": 21,
     "metadata": {},
     "output_type": "execute_result"
    }
   ],
   "source": [
    "from scripts.calculate_scores import calculate_scores_df\n",
    "\n",
    "calculate_scores_df(\n",
    "    results_folder=results_dir,\n",
    "    cleanup_base_dir=\"/tmp\",\n",
    ")"
   ]
  },
  {
   "cell_type": "markdown",
   "id": "8fc01766-1d73-4785-9fa3-249fafbd294d",
   "metadata": {},
   "source": [
    "## corriendo habiendo tuneado un parametro de mins reps y con mis cambios"
   ]
  },
  {
   "cell_type": "code",
   "execution_count": 23,
   "id": "1c285ea8-eb4a-42d5-97f2-374d36937969",
   "metadata": {
    "tags": []
   },
   "outputs": [
    {
     "data": {
      "text/plain": [
       "['Binomi0/Seolidera-CRM/0f0bfea',\n",
       " 'BryanKo/Fam/6ee0fe0',\n",
       " 'ladjs/lad/6483dd5',\n",
       " 'jedireza/frame/db0efc0',\n",
       " 'IBM/innovate-digital-bank/0124b73',\n",
       " 'eddywashere/node-stripe-membership-saas/206afec',\n",
       " 'lykmapipo/kue-scheduler/2e6f85c',\n",
       " 'BlinkTagInc/gtfs-to-html/ddb81fe',\n",
       " 'bookbrainz/bookbrainz-site/d4381bb',\n",
       " 'island205/technode-tutorial/1d9bd76']"
      ]
     },
     "execution_count": 23,
     "metadata": {},
     "output_type": "execute_result"
    }
   ],
   "source": [
    "from sklearn.model_selection import train_test_split\n",
    "\n",
    "sample_50 = nosql_dbs[:50]\n",
    "train, test = train_test_split(sample, train_size=.5, shuffle=True, random_state=rand)\n",
    "train[:10]"
   ]
  },
  {
   "cell_type": "code",
   "execution_count": 24,
   "id": "ee4d89f3-aff1-426c-8704-d664859b1d34",
   "metadata": {
    "tags": []
   },
   "outputs": [],
   "source": [
    "results_dir = \"/home/pablo/results/ds_nosql_sample_50_minrep_1\""
   ]
  },
  {
   "cell_type": "code",
   "execution_count": null,
   "id": "92b05735-0a99-4fd4-80f3-4562164f170b",
   "metadata": {
    "tags": []
   },
   "outputs": [
    {
     "name": "stderr",
     "output_type": "stream",
     "text": [
      "INFO:scripts.docker:creating /home/pablo/results/ds_nosql_sample_50_minrep_1 dir. Omitting error if already existing\n",
      "INFO:scripts.docker:creating /tmp/log dir. Omitting error if already existing\n",
      "INFO:scripts.docker:running at container 6b71f062f856499cfb16fd5332215dd815d5d46ed1e150987e1cc673dad8b76b. Use `docker logs 6b71f062f856499cfb16fd5332215dd815d5d46ed1e150987e1cc673dad8b76b --tail 10 --follow` to follow progress\n"
     ]
    },
    {
     "name": "stdout",
     "output_type": "stream",
     "text": [
      "running at container 6b71f062f856499cfb16fd5332215dd815d5d46ed1e150987e1cc673dad8b76b. Use `docker logs 6b71f062f856499cfb16fd5332215dd815d5d46ed1e150987e1cc673dad8b76b --tail 10 --follow` to follow progress\n"
     ]
    }
   ],
   "source": [
    "# training\n",
    "train_settings = ExperimentSettings(\n",
    "    name=\"ds_nosql_sample_50_minrep_1\",\n",
    "    query_type=\"nosql\",\n",
    "    project_list=train,\n",
    "    results_dir=results_dir,\n",
    "    **defaults\n",
    ")\n",
    "\n",
    "run_tsm(docker_client, train_settings, block=True)"
   ]
  },
  {
   "cell_type": "code",
   "execution_count": 42,
   "id": "a990584d-3220-4619-952a-090ed0a40546",
   "metadata": {
    "tags": []
   },
   "outputs": [
    {
     "name": "stderr",
     "output_type": "stream",
     "text": [
      "INFO:misc.combinescores:globbing folder: /home/pablo/results/ds_nosql_sample_50_minrep_1/*/reprScores.txt\n",
      "INFO:misc.combinescores:working on 48 reprScores files\n"
     ]
    },
    {
     "name": "stdout",
     "output_type": "stream",
     "text": [
      "70\n"
     ]
    }
   ],
   "source": [
    "from scripts.docker import run_combine_scores\n",
    "run_combine_scores(train_settings)\n",
    "!cat $results_dir/averaged-results.csv|wc -l"
   ]
  },
  {
   "cell_type": "code",
   "execution_count": 43,
   "id": "4d6c9cf7-c112-4567-a388-819fb274ce15",
   "metadata": {
    "tags": []
   },
   "outputs": [
    {
     "name": "stderr",
     "output_type": "stream",
     "text": [
      "INFO:scripts.evaluate:creating /home/pablo/results/ds_nosql_sample_50_minrep_1/worse dir. Omitting error if already existing\n"
     ]
    },
    {
     "name": "stdout",
     "output_type": "stream",
     "text": [
      "Evaluating worse with 100 dbs\n"
     ]
    },
    {
     "name": "stderr",
     "output_type": "stream",
     "text": [
      "INFO:scripts.evaluate:Starting processing with 4 processes\n",
      "INFO:scripts.evaluate:Evaluating FreetailHackers - saffron\n",
      "INFO:scripts.evaluate:Evaluating msarakon - fullstack-open-19-osa7\n",
      "INFO:scripts.evaluate:Evaluating jameshapper - badgekit-experiments\n",
      "INFO:scripts.evaluate:Evaluating madhums - node-express-mongoose\n",
      "INFO:scripts.evaluate:Evaluating msarakon - fullstack-open-19-osa4\n",
      "INFO:scripts.evaluate:Evaluating erxes - erxes-api\n",
      "INFO:scripts.evaluate:Evaluating aravindvnair99 - Prostem-Internship\n",
      "INFO:scripts.evaluate:Evaluating globocom - secDevLabs\n",
      "INFO:scripts.evaluate:Evaluating linagora - openpaas-esn\n",
      "INFO:scripts.evaluate:Evaluating IBM - mern-app\n",
      "INFO:scripts.evaluate:Evaluating capoxix - roamy\n",
      "INFO:scripts.evaluate:Evaluating DrMongo - DrMongo\n",
      "INFO:scripts.evaluate:Evaluating LiangCY - MovieTickets\n",
      "INFO:scripts.evaluate:Evaluating andchir - shopkeeper4\n",
      "INFO:scripts.evaluate:Evaluating googleapis - nodejs-bigtable\n",
      "INFO:scripts.evaluate:Evaluating PaulSavignano - aussiemoving-staging\n",
      "INFO:scripts.evaluate:Evaluating appbaseio - dejavu\n",
      "INFO:scripts.evaluate:Evaluating aali05 - solo-project\n",
      "INFO:scripts.evaluate:Evaluating MasseyHacks - MasseyHacks-IV-Quill\n",
      "INFO:scripts.evaluate:Evaluating ctfs - write-ups-2016\n",
      "INFO:scripts.evaluate:Evaluating geowarin - boot-react\n",
      "INFO:scripts.evaluate:Evaluating LiJunpeng - URLShortenerService\n",
      "INFO:scripts.evaluate:Evaluating BlinkTagInc - node-gtfs\n",
      "INFO:scripts.evaluate:Evaluating mrvautin - adminMongo\n",
      "INFO:scripts.evaluate:Evaluating lalcmellkmal - doushio\n",
      "INFO:scripts.evaluate:Evaluating StudioDeTelevision - admiraljs\n",
      "INFO:scripts.evaluate:Evaluating doramart - DoraCMS\n",
      "INFO:scripts.evaluate:Evaluating OmgImAlexis - astro\n",
      "INFO:scripts.evaluate:Evaluating dakshshah96 - getfit\n",
      "INFO:scripts.evaluate:Evaluating JPinkney - Track-your-TV\n",
      "INFO:scripts.evaluate:Evaluating iquidus - explorer\n",
      "INFO:scripts.evaluate:Evaluating ccherot - winetracker\n",
      "INFO:scripts.evaluate:Evaluating DanWahlin - CustomerManagerStandard\n",
      "INFO:scripts.evaluate:Evaluating ericmdantas - generator-ng-fullstack\n",
      "INFO:scripts.evaluate:Evaluating FrontendMasters - intro-mongo-db\n",
      "INFO:scripts.evaluate:Evaluating jvansteeter - CS-360\n",
      "INFO:scripts.evaluate:Evaluating bwdbooks - nodejs-mongodb-angularjs-web-development\n",
      "INFO:scripts.evaluate:Evaluating Tencent - westore\n",
      "INFO:scripts.evaluate:Evaluating KIDx - ACdream\n",
      "INFO:scripts.evaluate:Evaluating dfirebaugh - voting-app\n",
      "INFO:scripts.evaluate:Evaluating ParabolInc - action\n",
      "INFO:scripts.evaluate:Evaluating PabloVallejo - Fun\n",
      "INFO:scripts.evaluate:Evaluating codio - iloveopensource\n",
      "INFO:scripts.evaluate:Evaluating ealeksandrov - NodeAPI\n",
      "INFO:scripts.evaluate:Evaluating MattLong87 - chronomeal-api\n",
      "INFO:scripts.evaluate:Evaluating meteor - meteor\n",
      "INFO:scripts.evaluate:Evaluating datastax - nodejs-driver\n",
      "INFO:scripts.evaluate:Evaluating krthr - felinorte\n",
      "INFO:scripts.evaluate:Evaluating PaulSec - VNWA\n",
      "INFO:scripts.evaluate:Evaluating lisanoetzel - rate-admin\n",
      "INFO:scripts.evaluate:Evaluating F0xedb - WebCalendar\n",
      "INFO:scripts.evaluate:Evaluating emdeha - learning-code\n",
      "INFO:scripts.evaluate:Evaluating fvcproductions - flashcards\n",
      "INFO:scripts.evaluate:Evaluating TylerBrock - mongo-hacker\n",
      "INFO:scripts.evaluate:Evaluating HabitRPG - habitica\n",
      "INFO:scripts.evaluate:Evaluating dresende - node-orm2\n",
      "INFO:scripts.evaluate:Evaluating PaulSec - Social-Markdown\n",
      "INFO:scripts.evaluate:Evaluating StephenGrider - AdvancedReduxCode\n",
      "INFO:scripts.evaluate:Evaluating bitpay - bitcore\n",
      "INFO:scripts.evaluate:Evaluating kdchang - reactjs101\n",
      "INFO:scripts.evaluate:Evaluating dongri - mongri\n",
      "INFO:scripts.evaluate:Evaluating aravindnc - mongoose-paginate-v2\n",
      "INFO:scripts.evaluate:Evaluating 18F - checklistomania\n",
      "INFO:scripts.evaluate:Evaluating Cendey - contacts\n",
      "INFO:scripts.evaluate:Evaluating laurieroy - CampReview\n",
      "INFO:scripts.evaluate:Evaluating dannisi - chatroom\n",
      "INFO:scripts.evaluate:Evaluating ee7klt - colt-dev-bc\n",
      "INFO:scripts.evaluate:Evaluating luin - ioredis\n",
      "INFO:scripts.evaluate:Evaluating luanlv - colombus\n",
      "INFO:scripts.evaluate:Evaluating MiloATH - VotingApp\n",
      "INFO:scripts.evaluate:Evaluating cablej - FileChangeMonitor\n",
      "INFO:scripts.evaluate:Evaluating happiestcoder - mqtt-chat\n",
      "INFO:scripts.evaluate:Evaluating helnokaly - adonis-cache\n",
      "INFO:scripts.evaluate:Evaluating codejockie - maintenance-tracker\n",
      "INFO:scripts.evaluate:Evaluating arturomtm - nodejskoans\n",
      "INFO:scripts.evaluate:Evaluating KyteProject - fdbck-web\n",
      "INFO:scripts.evaluate:Evaluating kaloraat - react-node-ecommerce\n",
      "INFO:scripts.evaluate:Evaluating MauroEspinosa - Grupos\n",
      "INFO:scripts.evaluate:Evaluating CatalystCode - ImageTaggingSystem\n",
      "INFO:scripts.evaluate:Evaluating iolufemi - Express-REST-API-Generator\n",
      "INFO:scripts.evaluate:Evaluating if07012 - sample-jwt\n",
      "INFO:scripts.evaluate:Evaluating Hadh - Cord-System-Photon\n",
      "INFO:scripts.evaluate:Evaluating JacksonGariety - yugen\n",
      "INFO:scripts.evaluate:Evaluating IHTSDO - sct-snapshot-rest-api\n",
      "INFO:scripts.evaluate:Evaluating devongovett - reader\n",
      "INFO:scripts.evaluate:Evaluating konsumer - mithril-quickstart\n",
      "INFO:scripts.evaluate:Evaluating WaftTech - WaftEngine\n",
      "INFO:scripts.evaluate:Evaluating aheckmann - mquery\n",
      "INFO:scripts.evaluate:Evaluating DanWahlin - Angular-RESTfulService\n",
      "INFO:scripts.evaluate:Evaluating itemsapi - itemsapi\n",
      "INFO:scripts.evaluate:Evaluating dotzero - node-url-shortener\n",
      "INFO:scripts.evaluate:Evaluating DBULL7 - VoterData\n",
      "INFO:scripts.evaluate:Evaluating abansal98 - DataPool\n",
      "INFO:scripts.evaluate:Evaluating mozillascience - PaperBadger\n",
      "INFO:scripts.evaluate:Evaluating DimiMikadze - Mean-Blog\n",
      "INFO:scripts.evaluate:Evaluating Bertrand31 - Monitaure\n",
      "INFO:scripts.evaluate:Evaluating architMahto - udemy-nodejs-angular2\n",
      "INFO:scripts.evaluate:Evaluating FrontendMasters - api-design-node-v3\n",
      "INFO:scripts.evaluate:Evaluating koajs - koa-redis\n",
      "INFO:scripts.evaluate:Evaluating lirantal - nodejssecurity\n"
     ]
    }
   ],
   "source": [
    "# evaluation\n",
    "external_predicate_file = path_join(results_dir, 'averaged-results.csv')\n",
    "worse_settings = EvaluationSettings(\n",
    "    search_path=\"/home/pablo/tesis/tsm-pipeline/lib-worse/codeql/javascript/ql:/home/pablo/.codeql/packages/codeql/javascript-upgrades/0.0.3\",\n",
    "    cli_version=\"2.13.1\",\n",
    "    db_cli_version=\"2.5.2\",\n",
    "    query_file=\"/home/pablo/tesis/tsm-pipeline/tsm-atm-pipeline/src/tsm/evaluation/NosqlInjectionWorseTSM.ql\",\n",
    "    external_predicate_file=external_predicate_file,\n",
    "    **defaults_evalute,\n",
    ")\n",
    "\n",
    "print(\"Evaluating worse with %d dbs\" % (len(test)))\n",
    "evaluate(\n",
    "    settings=worse_settings,\n",
    "    output_dir=path_join(results_dir, 'worse'),\n",
    "    dbs=test,\n",
    ")"
   ]
  },
  {
   "cell_type": "code",
   "execution_count": null,
   "id": "aebdb85e-2c92-436f-bfb8-987cdee61588",
   "metadata": {
    "tags": []
   },
   "outputs": [
    {
     "name": "stderr",
     "output_type": "stream",
     "text": [
      "INFO:scripts.evaluate:creating /home/pablo/results/ds_nosql_sample_50_minrep_1/v0 dir. Omitting error if already existing\n"
     ]
    },
    {
     "name": "stdout",
     "output_type": "stream",
     "text": [
      "Evaluating v0 with 100 dbs\n"
     ]
    },
    {
     "name": "stderr",
     "output_type": "stream",
     "text": [
      "INFO:scripts.evaluate:Starting processing with 4 processes\n",
      "INFO:scripts.evaluate:Evaluating FreetailHackers - saffron\n",
      "INFO:scripts.evaluate:Evaluating madhums - node-express-mongoose\n",
      "INFO:scripts.evaluate:Evaluating jameshapper - badgekit-experiments\n",
      "INFO:scripts.evaluate:Evaluating msarakon - fullstack-open-19-osa7\n",
      "INFO:scripts.evaluate:Evaluating aravindvnair99 - Prostem-Internship\n",
      "INFO:scripts.evaluate:Evaluating msarakon - fullstack-open-19-osa4\n",
      "INFO:scripts.evaluate:Evaluating erxes - erxes-api\n",
      "INFO:scripts.evaluate:Evaluating globocom - secDevLabs\n",
      "INFO:scripts.evaluate:Evaluating IBM - mern-app\n",
      "INFO:scripts.evaluate:Evaluating linagora - openpaas-esn\n",
      "INFO:scripts.evaluate:Evaluating DrMongo - DrMongo\n",
      "INFO:scripts.evaluate:Evaluating capoxix - roamy\n",
      "INFO:scripts.evaluate:Evaluating andchir - shopkeeper4\n",
      "INFO:scripts.evaluate:Evaluating PaulSavignano - aussiemoving-staging\n",
      "INFO:scripts.evaluate:Evaluating LiangCY - MovieTickets\n",
      "INFO:scripts.evaluate:Evaluating aali05 - solo-project\n",
      "INFO:scripts.evaluate:Evaluating doramart - DoraCMS\n",
      "INFO:scripts.evaluate:Evaluating googleapis - nodejs-bigtable\n",
      "INFO:scripts.evaluate:Evaluating ctfs - write-ups-2016\n",
      "INFO:scripts.evaluate:Evaluating appbaseio - dejavu\n",
      "INFO:scripts.evaluate:Evaluating mrvautin - adminMongo\n",
      "INFO:scripts.evaluate:Evaluating MasseyHacks - MasseyHacks-IV-Quill\n",
      "INFO:scripts.evaluate:Evaluating LiJunpeng - URLShortenerService\n",
      "INFO:scripts.evaluate:Evaluating geowarin - boot-react\n"
     ]
    }
   ],
   "source": [
    "v0_settings = EvaluationSettings(\n",
    "    search_path=\"/home/pablo/codeqlv0/javascript/ql/lib\",\n",
    "    cli_version=\"2.13.1\",\n",
    "    db_cli_version=\"2.5.2\",\n",
    "    query_file=\"/home/pablo/tesis/tsm-pipeline/tsm-evaluation/tsm-evaluation/src/NoSqlEvaluation.ql\",\n",
    "    **defaults_evalute,\n",
    ")\n",
    "\n",
    "print(\"Evaluating v0 with %d dbs\" % (len(test)))\n",
    "evaluate(\n",
    "    settings=v0_settings,\n",
    "    output_dir=path_join(results_dir, 'v0'),\n",
    "    dbs=test,\n",
    ")"
   ]
  },
  {
   "cell_type": "code",
   "execution_count": 49,
   "id": "a566d7f4-cf41-4700-b280-1ed75cfcdbab",
   "metadata": {
    "tags": []
   },
   "outputs": [
    {
     "data": {
      "text/html": [
       "<div>\n",
       "<style scoped>\n",
       "    .dataframe tbody tr th:only-of-type {\n",
       "        vertical-align: middle;\n",
       "    }\n",
       "\n",
       "    .dataframe tbody tr th {\n",
       "        vertical-align: top;\n",
       "    }\n",
       "\n",
       "    .dataframe thead th {\n",
       "        text-align: right;\n",
       "    }\n",
       "</style>\n",
       "<table border=\"1\" class=\"dataframe\">\n",
       "  <thead>\n",
       "    <tr style=\"text-align: right;\">\n",
       "      <th></th>\n",
       "      <th>precision</th>\n",
       "      <th>recall</th>\n",
       "      <th>accuracy</th>\n",
       "      <th>alerts to recover (atr)</th>\n",
       "      <th>alerts recovered</th>\n",
       "      <th>suprious alerts</th>\n",
       "      <th>projects with atr</th>\n",
       "      <th>avg atr per proj</th>\n",
       "    </tr>\n",
       "  </thead>\n",
       "  <tbody>\n",
       "    <tr>\n",
       "      <th>0</th>\n",
       "      <td>0.0</td>\n",
       "      <td>0.0</td>\n",
       "      <td>0.0</td>\n",
       "      <td>88</td>\n",
       "      <td>0</td>\n",
       "      <td>1118</td>\n",
       "      <td>14</td>\n",
       "      <td>6.285714</td>\n",
       "    </tr>\n",
       "  </tbody>\n",
       "</table>\n",
       "</div>"
      ],
      "text/plain": [
       "   precision  recall  accuracy  alerts to recover (atr)  alerts recovered  \\\n",
       "0        0.0     0.0       0.0                       88                 0   \n",
       "\n",
       "   suprious alerts  projects with atr  avg atr per proj  \n",
       "0             1118                 14          6.285714  "
      ]
     },
     "execution_count": 49,
     "metadata": {},
     "output_type": "execute_result"
    }
   ],
   "source": [
    "from scripts.calculate_scores import calculate_scores_df\n",
    "\n",
    "calculate_scores_df(\n",
    "    results_folder=results_dir,\n",
    "    cleanup_base_dir=\"/tmp\",\n",
    ")"
   ]
  },
  {
   "cell_type": "markdown",
   "id": "e0c4159f-da6b-4c0d-8490-747b578cf863",
   "metadata": {},
   "source": [
    "## Evaluando sobre el set de entrenamiento\n",
    "\n",
    "Diego me había propuesto evaluar sobre le set de entrenamiento, para corroborar que con overfitting, devuelva un score con sentido. Si da mal, quiere decir que hay algo medio raro en la evaluación. Haciendo una prueba pequeña con 50dbs en total."
   ]
  },
  {
   "cell_type": "code",
   "execution_count": 58,
   "id": "f959fea5-6230-43a4-9e71-8dfcdefd0aaa",
   "metadata": {
    "tags": []
   },
   "outputs": [],
   "source": [
    "from sklearn.model_selection import train_test_split\n",
    "from random import sample\n",
    "\n",
    "sample_50 = sample(nosql_dbs, 50)"
   ]
  },
  {
   "cell_type": "code",
   "execution_count": 60,
   "id": "a51a6899-f335-49ff-a65a-8a11aab6c5fa",
   "metadata": {
    "tags": []
   },
   "outputs": [
    {
     "data": {
      "text/plain": [
       "['bitpay/bitcore-wallet-service/750172f',\n",
       " 'bookbrainz/bookbrainz-site/d4381bb',\n",
       " 'DiyanTonchev/ShopStop/fddd436',\n",
       " 'danielstjules/redislock/a8241e6',\n",
       " 'kuzzleio/kuzzle/4eb8ec7',\n",
       " 'koajs/koa-redis/118943e',\n",
       " 'ChinLii/Linegenerator/f19b74b',\n",
       " 'damisv/pmthesis/0305993',\n",
       " 'meteor/meteor/a1caff0',\n",
       " 'dongri/mongri/ffa1cba']"
      ]
     },
     "execution_count": 60,
     "metadata": {},
     "output_type": "execute_result"
    }
   ],
   "source": [
    "sample_50[:10]"
   ]
  },
  {
   "cell_type": "code",
   "execution_count": 62,
   "id": "f195a19d-5a72-48ca-9a67-9282eefc0186",
   "metadata": {
    "tags": []
   },
   "outputs": [],
   "source": [
    "results_dir = \"/home/pablo/results/ds_nosql_sample_50_2\""
   ]
  },
  {
   "cell_type": "code",
   "execution_count": 62,
   "id": "4275326b-7bdd-41b8-b8cc-1604351de8f1",
   "metadata": {
    "tags": []
   },
   "outputs": [],
   "source": [
    "results_dir = \"/home/pablo/results/ds_nosql_sample_50_2\""
   ]
  },
  {
   "cell_type": "code",
   "execution_count": 63,
   "id": "3f15a0b5-77d8-4384-893f-a38b323e8f91",
   "metadata": {
    "tags": []
   },
   "outputs": [
    {
     "name": "stderr",
     "output_type": "stream",
     "text": [
      "INFO:scripts.docker:creating /home/pablo/results/ds_nosql_sample_50_2 dir. Omitting error if already existing\n",
      "INFO:scripts.docker:creating /tmp/log dir. Omitting error if already existing\n",
      "INFO:scripts.docker:running at container d941ef18e472296637dbd13680e12fd0c50f9013810319f9ee49b99f10782ab5. Use `docker logs d941ef18e472296637dbd13680e12fd0c50f9013810319f9ee49b99f10782ab5 --tail 10 --follow` to follow progress\n",
      "INFO:scripts.docker:running combine scores\n",
      "INFO:misc.combinescores:globbing folder: /home/pablo/results/ds_nosql_sample_50_2/*/reprScores.txt\n",
      "INFO:misc.combinescores:working on 28 reprScores files\n"
     ]
    }
   ],
   "source": [
    "# training\n",
    "train_settings = ExperimentSettings(\n",
    "    name=\"ds_nosql_sample_50_2\",\n",
    "    query_type=\"nosql\",\n",
    "    project_list=sample_50,\n",
    "    results_dir=results_dir,\n",
    "    **defaults\n",
    ")\n",
    "\n",
    "run_tsm(docker_client, train_settings, block=True)"
   ]
  },
  {
   "cell_type": "code",
   "execution_count": 64,
   "id": "3b61ef7e-7775-4e53-8f74-345ff992472c",
   "metadata": {
    "tags": []
   },
   "outputs": [
    {
     "name": "stderr",
     "output_type": "stream",
     "text": [
      "INFO:scripts.evaluate:creating /home/pablo/results/ds_nosql_sample_50_2/worse dir. Omitting error if already existing\n"
     ]
    },
    {
     "name": "stdout",
     "output_type": "stream",
     "text": [
      "Evaluating worse with 25 dbs\n"
     ]
    },
    {
     "name": "stderr",
     "output_type": "stream",
     "text": [
      "INFO:scripts.evaluate:Starting processing with 4 processes\n",
      "INFO:scripts.evaluate:Evaluating HabitRPG - habitica\n",
      "INFO:scripts.evaluate:Evaluating bitpay - bitcore-wallet-service\n",
      "INFO:scripts.evaluate:Evaluating meteor - meteor\n",
      "INFO:scripts.evaluate:Evaluating kuzzleio - kuzzle\n",
      "INFO:scripts.evaluate:Evaluating koajs - koa-redis\n",
      "INFO:scripts.evaluate:Evaluating bookbrainz - bookbrainz-site\n",
      "INFO:scripts.evaluate:Evaluating ChinLii - Linegenerator\n",
      "INFO:scripts.evaluate:Evaluating rozig - online-publication-backend\n",
      "INFO:scripts.evaluate:Evaluating DiyanTonchev - ShopStop\n",
      "INFO:scripts.evaluate:Evaluating damisv - pmthesis\n",
      "INFO:scripts.evaluate:Evaluating danielstjules - redislock\n",
      "INFO:scripts.evaluate:Evaluating ric03uec - nodeblox\n",
      "INFO:scripts.evaluate:Evaluating dongri - mongri\n",
      "INFO:scripts.evaluate:Evaluating CatalystCode - ImageTaggingSystem\n",
      "INFO:scripts.evaluate:Evaluating linagora - openpaas-esn\n",
      "INFO:scripts.evaluate:Evaluating wachunga - omega\n",
      "INFO:scripts.evaluate:Evaluating ethereumclassic - explorer\n",
      "INFO:scripts.evaluate:Evaluating FSecureLABS - dref\n",
      "INFO:scripts.evaluate:Evaluating datastax - nodejs-driver\n",
      "INFO:scripts.evaluate:Evaluating 18F - checklistomania\n",
      "INFO:scripts.evaluate:Evaluating sully1313 - Ecommerce\n",
      "INFO:scripts.evaluate:Evaluating dannisi - chatroom\n",
      "INFO:scripts.evaluate:Evaluating oswinso - kids4kids\n",
      "INFO:scripts.evaluate:Evaluating BlinkTagInc - gtfs-to-html\n",
      "INFO:scripts.evaluate:Evaluating aravindnc - mongoose-paginate-v2\n",
      "INFO:scripts.evaluate:Evaluating kenicenoel - HolidayApi\n",
      "INFO:scripts.evaluate:Evaluating securingsincity - Antidote-server\n",
      "INFO:scripts.evaluate:Evaluating Bertrand31 - Monitaure\n",
      "INFO:scripts.evaluate:Evaluating linnovate - mean\n",
      "INFO:scripts.evaluate:Evaluating bergwhite - nchat\n",
      "INFO:scripts.evaluate:Evaluating happiestcoder - mqtt-chat\n",
      "INFO:scripts.evaluate:Evaluating HashBrownCMS - hashbrown-cms\n",
      "INFO:scripts.evaluate:Evaluating nosplashurinal - homeaway-mongo\n",
      "INFO:scripts.evaluate:Evaluating Azure - blackbelt-aks-hackfest\n",
      "INFO:scripts.evaluate:Evaluating geowarin - boot-react\n",
      "INFO:scripts.evaluate:Evaluating CapacitorSet - rebridge\n",
      "INFO:scripts.evaluate:Evaluating rlindskog - vueniverse\n",
      "INFO:scripts.evaluate:Evaluating cezerin - cezerin\n",
      "INFO:scripts.evaluate:Evaluating Binomi0 - crm-backoffice-api\n",
      "INFO:scripts.evaluate:Evaluating aravindvnair99 - Prostem-Internship\n",
      "INFO:scripts.evaluate:Evaluating luin - ioredis\n",
      "INFO:scripts.evaluate:Evaluating vasansr - pro-mern-stack\n",
      "INFO:scripts.evaluate:Evaluating ForestAdmin - forest-express-mongoose\n",
      "INFO:scripts.evaluate:Evaluating jameshapper - badgekit-experiments\n",
      "INFO:scripts.evaluate:Evaluating ParabolInc - action\n",
      "INFO:scripts.evaluate:Evaluating parabible - parabible-server\n",
      "INFO:scripts.evaluate:Evaluating MasseyHacks - MasseyHacks-IV-Quill\n",
      "INFO:scripts.evaluate:Evaluating FreetailHackers - saffron\n",
      "INFO:scripts.evaluate:Evaluating steffendx - GoNorth\n",
      "INFO:scripts.evaluate:Evaluating dresende - node-orm2\n"
     ]
    }
   ],
   "source": [
    "# evaluation\n",
    "external_predicate_file = path_join(results_dir, 'averaged-results.csv')\n",
    "worse_settings = EvaluationSettings(\n",
    "    search_path=\"/home/pablo/tesis/tsm-pipeline/lib-worse/codeql/javascript/ql:/home/pablo/.codeql/packages/codeql/javascript-upgrades/0.0.3\",\n",
    "    cli_version=\"2.13.1\",\n",
    "    db_cli_version=\"2.5.2\",\n",
    "    query_file=\"/home/pablo/tesis/tsm-pipeline/tsm-atm-pipeline/src/tsm/evaluation/NosqlInjectionWorseTSM.ql\",\n",
    "    external_predicate_file=external_predicate_file,\n",
    "    **defaults_evalute,\n",
    ")\n",
    "\n",
    "print(\"Evaluating worse with %d dbs\" % (len(test)))\n",
    "evaluate(\n",
    "    settings=worse_settings,\n",
    "    output_dir=path_join(results_dir, 'worse'),\n",
    "    dbs=sample_50,\n",
    ")"
   ]
  },
  {
   "cell_type": "code",
   "execution_count": 65,
   "id": "35f8c952-45bd-48f3-94bc-c4e7f4631e19",
   "metadata": {
    "tags": []
   },
   "outputs": [
    {
     "name": "stderr",
     "output_type": "stream",
     "text": [
      "INFO:scripts.evaluate:creating /home/pablo/results/ds_nosql_sample_50_2/v0 dir. Omitting error if already existing\n"
     ]
    },
    {
     "name": "stdout",
     "output_type": "stream",
     "text": [
      "Evaluating v0 with 25 dbs\n"
     ]
    },
    {
     "name": "stderr",
     "output_type": "stream",
     "text": [
      "INFO:scripts.evaluate:Starting processing with 4 processes\n",
      "INFO:scripts.evaluate:Evaluating bitpay - bitcore-wallet-service\n",
      "INFO:scripts.evaluate:Evaluating meteor - meteor\n",
      "INFO:scripts.evaluate:Evaluating kuzzleio - kuzzle\n",
      "INFO:scripts.evaluate:Evaluating HabitRPG - habitica\n",
      "INFO:scripts.evaluate:Evaluating koajs - koa-redis\n",
      "INFO:scripts.evaluate:Evaluating bookbrainz - bookbrainz-site\n",
      "INFO:scripts.evaluate:Evaluating rozig - online-publication-backend\n",
      "INFO:scripts.evaluate:Evaluating dongri - mongri\n",
      "INFO:scripts.evaluate:Evaluating ChinLii - Linegenerator\n",
      "INFO:scripts.evaluate:Evaluating DiyanTonchev - ShopStop\n",
      "INFO:scripts.evaluate:Evaluating wachunga - omega\n",
      "INFO:scripts.evaluate:Evaluating damisv - pmthesis\n",
      "INFO:scripts.evaluate:Evaluating danielstjules - redislock\n",
      "INFO:scripts.evaluate:Evaluating ric03uec - nodeblox\n",
      "INFO:scripts.evaluate:Evaluating 18F - checklistomania\n",
      "INFO:scripts.evaluate:Evaluating CatalystCode - ImageTaggingSystem\n",
      "INFO:scripts.evaluate:Evaluating BlinkTagInc - gtfs-to-html\n",
      "INFO:scripts.evaluate:Evaluating linagora - openpaas-esn\n",
      "INFO:scripts.evaluate:Evaluating FSecureLABS - dref\n",
      "INFO:scripts.evaluate:Evaluating Bertrand31 - Monitaure\n",
      "INFO:scripts.evaluate:Evaluating ethereumclassic - explorer\n",
      "INFO:scripts.evaluate:Evaluating dannisi - chatroom\n",
      "INFO:scripts.evaluate:Evaluating nosplashurinal - homeaway-mongo\n",
      "INFO:scripts.evaluate:Evaluating datastax - nodejs-driver\n",
      "INFO:scripts.evaluate:Evaluating aravindnc - mongoose-paginate-v2\n",
      "INFO:scripts.evaluate:Evaluating sully1313 - Ecommerce\n",
      "INFO:scripts.evaluate:Evaluating kenicenoel - HolidayApi\n",
      "INFO:scripts.evaluate:Evaluating CapacitorSet - rebridge\n",
      "INFO:scripts.evaluate:Evaluating linnovate - mean\n",
      "INFO:scripts.evaluate:Evaluating securingsincity - Antidote-server\n",
      "INFO:scripts.evaluate:Evaluating oswinso - kids4kids\n",
      "INFO:scripts.evaluate:Evaluating bergwhite - nchat\n",
      "INFO:scripts.evaluate:Evaluating HashBrownCMS - hashbrown-cms\n",
      "INFO:scripts.evaluate:Evaluating Azure - blackbelt-aks-hackfest\n",
      "INFO:scripts.evaluate:Evaluating happiestcoder - mqtt-chat\n",
      "INFO:scripts.evaluate:Evaluating aravindvnair99 - Prostem-Internship\n",
      "INFO:scripts.evaluate:Evaluating cezerin - cezerin\n",
      "INFO:scripts.evaluate:Evaluating rlindskog - vueniverse\n",
      "INFO:scripts.evaluate:Evaluating geowarin - boot-react\n",
      "INFO:scripts.evaluate:Evaluating jameshapper - badgekit-experiments\n",
      "INFO:scripts.evaluate:Evaluating Binomi0 - crm-backoffice-api\n",
      "INFO:scripts.evaluate:Evaluating MasseyHacks - MasseyHacks-IV-Quill\n",
      "INFO:scripts.evaluate:Evaluating luin - ioredis\n",
      "INFO:scripts.evaluate:Evaluating vasansr - pro-mern-stack\n",
      "INFO:scripts.evaluate:Evaluating ForestAdmin - forest-express-mongoose\n",
      "INFO:scripts.evaluate:Evaluating steffendx - GoNorth\n",
      "INFO:scripts.evaluate:Evaluating ParabolInc - action\n",
      "INFO:scripts.evaluate:Evaluating parabible - parabible-server\n",
      "INFO:scripts.evaluate:Evaluating FreetailHackers - saffron\n",
      "INFO:scripts.evaluate:Evaluating dresende - node-orm2\n"
     ]
    }
   ],
   "source": [
    "v0_settings = EvaluationSettings(\n",
    "    search_path=\"/home/pablo/codeqlv0/javascript/ql/lib\",\n",
    "    cli_version=\"2.13.1\",\n",
    "    db_cli_version=\"2.5.2\",\n",
    "    query_file=\"/home/pablo/tesis/tsm-pipeline/tsm-evaluation/tsm-evaluation/src/NoSqlEvaluation.ql\",\n",
    "    **defaults_evalute,\n",
    ")\n",
    "\n",
    "print(\"Evaluating v0 with %d dbs\" % (len(test)))\n",
    "evaluate(\n",
    "    settings=v0_settings,\n",
    "    output_dir=path_join(results_dir, 'v0'),\n",
    "    dbs=sample_50,\n",
    ")"
   ]
  },
  {
   "cell_type": "code",
   "execution_count": 68,
   "id": "7110b9f0-84fb-43e2-b471-2ee19c7cf9fa",
   "metadata": {
    "tags": []
   },
   "outputs": [
    {
     "data": {
      "text/plain": [
       "'/home/pablo/results/ds_nosql_sample_50_2'"
      ]
     },
     "execution_count": 68,
     "metadata": {},
     "output_type": "execute_result"
    }
   ],
   "source": [
    "results_dir"
   ]
  },
  {
   "cell_type": "code",
   "execution_count": 66,
   "id": "d5700770-2869-4778-aef6-b779b5e27442",
   "metadata": {
    "tags": []
   },
   "outputs": [
    {
     "data": {
      "text/html": [
       "<div>\n",
       "<style scoped>\n",
       "    .dataframe tbody tr th:only-of-type {\n",
       "        vertical-align: middle;\n",
       "    }\n",
       "\n",
       "    .dataframe tbody tr th {\n",
       "        vertical-align: top;\n",
       "    }\n",
       "\n",
       "    .dataframe thead th {\n",
       "        text-align: right;\n",
       "    }\n",
       "</style>\n",
       "<table border=\"1\" class=\"dataframe\">\n",
       "  <thead>\n",
       "    <tr style=\"text-align: right;\">\n",
       "      <th></th>\n",
       "      <th>precision</th>\n",
       "      <th>recall</th>\n",
       "      <th>accuracy</th>\n",
       "      <th>alerts to recover (atr)</th>\n",
       "      <th>alerts recovered</th>\n",
       "      <th>suprious alerts</th>\n",
       "      <th>projects with atr</th>\n",
       "      <th>avg atr per proj</th>\n",
       "    </tr>\n",
       "  </thead>\n",
       "  <tbody>\n",
       "    <tr>\n",
       "      <th>0</th>\n",
       "      <td>0.0</td>\n",
       "      <td>0.0</td>\n",
       "      <td>0.0</td>\n",
       "      <td>26</td>\n",
       "      <td>0</td>\n",
       "      <td>379</td>\n",
       "      <td>8</td>\n",
       "      <td>3.25</td>\n",
       "    </tr>\n",
       "  </tbody>\n",
       "</table>\n",
       "</div>"
      ],
      "text/plain": [
       "   precision  recall  accuracy  alerts to recover (atr)  alerts recovered  \\\n",
       "0        0.0     0.0       0.0                       26                 0   \n",
       "\n",
       "   suprious alerts  projects with atr  avg atr per proj  \n",
       "0              379                  8              3.25  "
      ]
     },
     "execution_count": 66,
     "metadata": {},
     "output_type": "execute_result"
    }
   ],
   "source": [
    "from scripts.calculate_scores import calculate_scores_df\n",
    "\n",
    "calculate_scores_df(\n",
    "    results_folder=results_dir,\n",
    "    cleanup_base_dir=\"/tmp\",\n",
    ")"
   ]
  },
  {
   "cell_type": "markdown",
   "id": "b0b07f08-b5f1-4cd2-8281-c003f931125f",
   "metadata": {},
   "source": [
    "Probando solo con una db que tiene algo de resultados. Agrego manualmente en los repr aprendidos uno donde se que hay una vul"
   ]
  },
  {
   "cell_type": "code",
   "execution_count": 100,
   "id": "46293474-9feb-4798-bfa9-7b73ec3f419b",
   "metadata": {
    "tags": []
   },
   "outputs": [
    {
     "name": "stderr",
     "output_type": "stream",
     "text": [
      "184839.95s - pydevd: Sending message related to process being replaced timed-out after 5 seconds\n",
      "INFO:experiments.all:train_and_evaluate with train size 1, test size 1\n",
      "INFO:experiments.all:Running training\n",
      "INFO:scripts.docker:creating /home/pablo/results/debugging_zero_scores_1 dir. Omitting error if already existing\n",
      "INFO:scripts.docker:creating /tmp/log dir. Omitting error if already existing\n",
      "INFO:scripts.docker:running at container bc58c960086065e302ceaeaa93eb11407e425d68a9d177e948dfc79f1d40a063. Use `docker logs bc58c960086065e302ceaeaa93eb11407e425d68a9d177e948dfc79f1d40a063 --tail 10 --follow` to follow progress\n",
      "INFO:scripts.docker:running combine scores\n",
      "INFO:misc.combinescores:globbing folder: /home/pablo/results/debugging_zero_scores_1/*/reprScores.txt\n",
      "INFO:misc.combinescores:working on 1 reprScores files\n",
      "INFO:experiments.all:Running worse evaluation\n",
      "INFO:scripts.evaluate:creating /home/pablo/results/debugging_zero_scores_1/worse dir. Omitting error if already existing\n",
      "INFO:scripts.evaluate:Starting processing with 4 processes\n",
      "INFO:scripts.evaluate:Evaluating bitpay - bitcore-wallet-service\n",
      "INFO:experiments.all:Running boosted evaluation\n",
      "INFO:scripts.evaluate:creating /home/pablo/results/debugging_zero_scores_1/boosted dir. Omitting error if already existing\n",
      "INFO:scripts.evaluate:Starting processing with 4 processes\n",
      "INFO:scripts.evaluate:Evaluating bitpay - bitcore-wallet-service\n",
      "INFO:experiments.all:Running v0 evaluation\n",
      "INFO:scripts.evaluate:creating /home/pablo/results/debugging_zero_scores_1/v0 dir. Omitting error if already existing\n",
      "INFO:scripts.evaluate:Starting processing with 4 processes\n",
      "INFO:scripts.evaluate:Evaluating bitpay - bitcore-wallet-service\n"
     ]
    },
    {
     "data": {
      "text/html": [
       "<div>\n",
       "<style scoped>\n",
       "    .dataframe tbody tr th:only-of-type {\n",
       "        vertical-align: middle;\n",
       "    }\n",
       "\n",
       "    .dataframe tbody tr th {\n",
       "        vertical-align: top;\n",
       "    }\n",
       "\n",
       "    .dataframe thead th {\n",
       "        text-align: right;\n",
       "    }\n",
       "</style>\n",
       "<table border=\"1\" class=\"dataframe\">\n",
       "  <thead>\n",
       "    <tr style=\"text-align: right;\">\n",
       "      <th></th>\n",
       "      <th>precision</th>\n",
       "      <th>recall</th>\n",
       "      <th>accuracy</th>\n",
       "      <th>alerts to recover (atr)</th>\n",
       "      <th>alerts recovered</th>\n",
       "      <th>suprious alerts</th>\n",
       "      <th>projects with atr</th>\n",
       "      <th>avg atr per proj</th>\n",
       "    </tr>\n",
       "  </thead>\n",
       "  <tbody>\n",
       "    <tr>\n",
       "      <th>0</th>\n",
       "      <td>0.3125</td>\n",
       "      <td>0.357143</td>\n",
       "      <td>0.2</td>\n",
       "      <td>14</td>\n",
       "      <td>5</td>\n",
       "      <td>11</td>\n",
       "      <td>1</td>\n",
       "      <td>14.0</td>\n",
       "    </tr>\n",
       "  </tbody>\n",
       "</table>\n",
       "</div>"
      ],
      "text/plain": [
       "   precision    recall  accuracy  alerts to recover (atr)  alerts recovered  \\\n",
       "0     0.3125  0.357143       0.2                       14                 5   \n",
       "\n",
       "   suprious alerts  projects with atr  avg atr per proj  \n",
       "0               11                  1              14.0  "
      ]
     },
     "execution_count": 100,
     "metadata": {},
     "output_type": "execute_result"
    }
   ],
   "source": [
    "from experiments import train_and_evaluate\n",
    "\n",
    "test_and_train = [\n",
    "    \"bitpay/bitcore-wallet-service/750172f\"\n",
    "]\n",
    "\n",
    "res_dir = \"/home/pablo/results/debugging_zero_scores_1\"\n",
    "\n",
    "# first clean up everything inside results dir\n",
    "!rm -rf $res_dir/*\n",
    "\n",
    "train_and_evaluate(\n",
    "    results_dir=res_dir,\n",
    "    query_type=\"nosql\",\n",
    "    train=test_and_train,\n",
    "    test=test_and_train,\n",
    "    docker_client=docker_client,\n",
    ")"
   ]
  },
  {
   "cell_type": "markdown",
   "id": "c91d6294-fe65-40a3-a3ee-aa0c5a42d375",
   "metadata": {},
   "source": [
    "Por ahora la elección de correr tres queries por db al evaluar tiene mejores resultados. En total sería:\n",
    "```\n",
    "for db in dbs:\n",
    "  worse = evaluate worse\n",
    "  boosted = evaluate boosted\n",
    "  v0 = evaluate v0\n",
    "  v0_prime = v0 - worse\n",
    "  boosted = boosted - worse\n",
    "  \n",
    "  return scores in between v0_prime and boosted\n",
    "```\n",
    "\n",
    "Para probar si anda a más escala, a pesar de evaluar y entrenar sobre el mismo repo, podría correr todo el pipeline sobre un sample de 30, 15 y 15"
   ]
  },
  {
   "cell_type": "code",
   "execution_count": 109,
   "id": "f6146b11-cd6c-4b3d-8227-31044f79ab10",
   "metadata": {
    "tags": []
   },
   "outputs": [],
   "source": [
    "sample_30 = sample(nosql_dbs, 30)"
   ]
  },
  {
   "cell_type": "code",
   "execution_count": 110,
   "id": "79f64025-f07a-4c08-ab09-9f2dfc62c605",
   "metadata": {
    "tags": []
   },
   "outputs": [
    {
     "name": "stdout",
     "output_type": "stream",
     "text": [
      "15 / 15\n"
     ]
    }
   ],
   "source": [
    "train, test = train_test_split(sample_30, train_size=.5, shuffle=True, random_state=rand)\n",
    "print(\"%d / %d\" % (len(train), len(test)))"
   ]
  },
  {
   "cell_type": "code",
   "execution_count": 112,
   "id": "a1c8129e-1013-4a54-8366-17c1e97d044f",
   "metadata": {
    "tags": []
   },
   "outputs": [
    {
     "name": "stderr",
     "output_type": "stream",
     "text": [
      "WARNING:experiments.all:configued to skip the following steps: train\n",
      "INFO:experiments.all:train_and_evaluate with train size 15, test size 15\n",
      "WARNING:experiments.all:skipping train\n",
      "INFO:experiments.all:Running worse evaluation\n",
      "INFO:scripts.evaluate:creating /home/pablo/results/debugging_sample_30/worse dir. Omitting error if already existing\n",
      "INFO:scripts.evaluate:Starting processing with 4 processes\n",
      "INFO:scripts.evaluate:Evaluating cablej - FileChangeMonitor\n",
      "INFO:scripts.evaluate:Evaluating LiJunpeng - URLShortenerService\n",
      "INFO:scripts.evaluate:Evaluating ealeksandrov - NodeAPI\n",
      "INFO:scripts.evaluate:Evaluating aravindnc - mongoose-paginate-v2\n",
      "INFO:scripts.evaluate:Evaluating vadimdemedes - mongorito\n",
      "INFO:scripts.evaluate:Evaluating dotzero - node-url-shortener\n",
      "INFO:scripts.evaluate:Evaluating kwhitley - apicache\n",
      "INFO:scripts.evaluate:Evaluating sahat - tvshow-tracker\n",
      "INFO:scripts.evaluate:Evaluating PaulSec - VNWA\n",
      "INFO:scripts.evaluate:Evaluating if07012 - sample-jwt\n",
      "INFO:scripts.evaluate:Evaluating CapacitorSet - rebridge\n",
      "INFO:scripts.evaluate:Evaluating cezerin - cezerin\n",
      "INFO:scripts.evaluate:Evaluating FrontendMasters - api-design-node-v3\n",
      "INFO:scripts.evaluate:Evaluating ethereumclassic - explorer\n",
      "INFO:scripts.evaluate:Evaluating architMahto - udemy-nodejs-angular2\n",
      "INFO:experiments.all:Running boosted evaluation\n",
      "INFO:scripts.evaluate:creating /home/pablo/results/debugging_sample_30/boosted dir. Omitting error if already existing\n",
      "INFO:scripts.evaluate:Starting processing with 4 processes\n",
      "INFO:scripts.evaluate:Evaluating cablej - FileChangeMonitor\n",
      "INFO:scripts.evaluate:Evaluating LiJunpeng - URLShortenerService\n",
      "INFO:scripts.evaluate:Evaluating ealeksandrov - NodeAPI\n",
      "INFO:scripts.evaluate:Evaluating aravindnc - mongoose-paginate-v2\n",
      "INFO:scripts.evaluate:Evaluating vadimdemedes - mongorito\n",
      "INFO:scripts.evaluate:Evaluating kwhitley - apicache\n",
      "INFO:scripts.evaluate:Evaluating dotzero - node-url-shortener\n",
      "INFO:scripts.evaluate:Evaluating sahat - tvshow-tracker\n",
      "INFO:scripts.evaluate:Evaluating PaulSec - VNWA\n",
      "INFO:scripts.evaluate:Evaluating if07012 - sample-jwt\n",
      "INFO:scripts.evaluate:Evaluating CapacitorSet - rebridge\n",
      "INFO:scripts.evaluate:Evaluating cezerin - cezerin\n",
      "INFO:scripts.evaluate:Evaluating FrontendMasters - api-design-node-v3\n",
      "INFO:scripts.evaluate:Evaluating ethereumclassic - explorer\n",
      "INFO:scripts.evaluate:Evaluating architMahto - udemy-nodejs-angular2\n",
      "INFO:experiments.all:Running v0 evaluation\n",
      "INFO:scripts.evaluate:creating /home/pablo/results/debugging_sample_30/v0 dir. Omitting error if already existing\n",
      "INFO:scripts.evaluate:Starting processing with 4 processes\n",
      "INFO:scripts.evaluate:Evaluating aravindnc - mongoose-paginate-v2\n",
      "INFO:scripts.evaluate:Evaluating cablej - FileChangeMonitor\n",
      "INFO:scripts.evaluate:Evaluating ealeksandrov - NodeAPI\n",
      "INFO:scripts.evaluate:Evaluating LiJunpeng - URLShortenerService\n",
      "INFO:scripts.evaluate:Evaluating dotzero - node-url-shortener\n",
      "INFO:scripts.evaluate:Evaluating vadimdemedes - mongorito\n",
      "INFO:scripts.evaluate:Evaluating kwhitley - apicache\n",
      "INFO:scripts.evaluate:Evaluating sahat - tvshow-tracker\n",
      "INFO:scripts.evaluate:Evaluating PaulSec - VNWA\n",
      "INFO:scripts.evaluate:Evaluating if07012 - sample-jwt\n",
      "INFO:scripts.evaluate:Evaluating CapacitorSet - rebridge\n",
      "INFO:scripts.evaluate:Evaluating cezerin - cezerin\n",
      "INFO:scripts.evaluate:Evaluating FrontendMasters - api-design-node-v3\n",
      "INFO:scripts.evaluate:Evaluating ethereumclassic - explorer\n",
      "INFO:scripts.evaluate:Evaluating architMahto - udemy-nodejs-angular2\n"
     ]
    },
    {
     "data": {
      "text/html": [
       "<div>\n",
       "<style scoped>\n",
       "    .dataframe tbody tr th:only-of-type {\n",
       "        vertical-align: middle;\n",
       "    }\n",
       "\n",
       "    .dataframe tbody tr th {\n",
       "        vertical-align: top;\n",
       "    }\n",
       "\n",
       "    .dataframe thead th {\n",
       "        text-align: right;\n",
       "    }\n",
       "</style>\n",
       "<table border=\"1\" class=\"dataframe\">\n",
       "  <thead>\n",
       "    <tr style=\"text-align: right;\">\n",
       "      <th></th>\n",
       "      <th>precision</th>\n",
       "      <th>recall</th>\n",
       "      <th>accuracy</th>\n",
       "      <th>alerts to recover (atr)</th>\n",
       "      <th>alerts recovered</th>\n",
       "      <th>suprious alerts</th>\n",
       "      <th>projects with atr</th>\n",
       "      <th>avg atr per proj</th>\n",
       "    </tr>\n",
       "  </thead>\n",
       "  <tbody>\n",
       "    <tr>\n",
       "      <th>0</th>\n",
       "      <td>0.444444</td>\n",
       "      <td>0.666667</td>\n",
       "      <td>0.363636</td>\n",
       "      <td>24</td>\n",
       "      <td>16</td>\n",
       "      <td>20</td>\n",
       "      <td>9</td>\n",
       "      <td>2.666667</td>\n",
       "    </tr>\n",
       "  </tbody>\n",
       "</table>\n",
       "</div>"
      ],
      "text/plain": [
       "   precision    recall  accuracy  alerts to recover (atr)  alerts recovered  \\\n",
       "0   0.444444  0.666667  0.363636                       24                16   \n",
       "\n",
       "   suprious alerts  projects with atr  avg atr per proj  \n",
       "0               20                  9          2.666667  "
      ]
     },
     "execution_count": 112,
     "metadata": {},
     "output_type": "execute_result"
    }
   ],
   "source": [
    "from experiments import train_and_evaluate\n",
    "\n",
    "res_dir = \"/home/pablo/results/debugging_sample_30\"\n",
    "\n",
    "train_and_evaluate(\n",
    "    results_dir=res_dir,\n",
    "    query_type=\"nosql\",\n",
    "    train=train,\n",
    "    test=test,\n",
    "    docker_client=docker_client,\n",
    "    skip=[\"train\"],\n",
    ")"
   ]
  }
 ],
 "metadata": {
  "kernelspec": {
   "display_name": "Python 3 (ipykernel)",
   "language": "python",
   "name": "python3"
  },
  "language_info": {
   "codemirror_mode": {
    "name": "ipython",
    "version": 3
   },
   "file_extension": ".py",
   "mimetype": "text/x-python",
   "name": "python",
   "nbconvert_exporter": "python",
   "pygments_lexer": "ipython3",
   "version": "3.10.6"
  }
 },
 "nbformat": 4,
 "nbformat_minor": 5
}
