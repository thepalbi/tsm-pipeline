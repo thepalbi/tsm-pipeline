{
 "cells": [
  {
   "cell_type": "code",
   "execution_count": 4,
   "id": "e420df7e-b23a-45bd-b9fa-ad2984061222",
   "metadata": {
    "tags": []
   },
   "outputs": [
    {
     "name": "stdout",
     "output_type": "stream",
     "text": [
      "The autoreload extension is already loaded. To reload it, use:\n",
      "  %reload_ext autoreload\n"
     ]
    }
   ],
   "source": [
    "import sys\n",
    "libpath = \"/home/pablo/tesis/tsm-pipeline/code\"\n",
    "if libpath not in sys.path:\n",
    "    sys.path.append(libpath)\n",
    "    \n",
    "%load_ext autoreload\n",
    "%autoreload 2\n",
    "\n",
    "import docker\n",
    "docker_client = docker.from_env()\n",
    "\n",
    "# Configura todo lo necesario en el ambiente\n",
    "from scripts.xxx import run_tsm, ExperimentSettings, read_dbs_dataset\n",
    "from scripts.evaluate import evaluate, EvaluationSettings\n",
    "from os.path import join as path_join\n",
    "\n",
    "defaults = {\n",
    "    \"bash_config_path\": \"/home/pablo/tesis/tsm-pipeline/code/scripts/config.sh\",\n",
    "}\n",
    "defaults_evalute = {\n",
    "    \"cache_root\":\"/home/pablo/dbcache\",    \n",
    "}"
   ]
  },
  {
   "cell_type": "code",
   "execution_count": 11,
   "id": "b79a55e1-0821-4ff8-b4b2-f9b53a16295e",
   "metadata": {
    "tags": []
   },
   "outputs": [],
   "source": [
    "# el dataset de dbs de abajo son:\n",
    "# - 100 random elejidas de\n",
    "# - el 60% percentil superior de todas las xss, es decir, al menos 48% loc de js\n",
    "xss_dbs = read_dbs_dataset(\"/home/pablo/tesis/tsm-pipeline/experiments/tesis/xss_random_100.txt\")"
   ]
  },
  {
   "cell_type": "code",
   "execution_count": 12,
   "id": "a18ea029-91d8-4e6b-a852-0c290ab92fa2",
   "metadata": {
    "tags": []
   },
   "outputs": [],
   "source": [
    "from sklearn.model_selection import train_test_split\n",
    "from numpy.random import RandomState\n",
    "\n",
    "# Using a fixed random state to have reproducible results\n",
    "rand = RandomState(seed=5)\n",
    "\n",
    "train, test = train_test_split(xss_dbs, train_size=.5, shuffle=True, random_state=rand)"
   ]
  },
  {
   "cell_type": "code",
   "execution_count": 13,
   "id": "f4d5ff78-4642-4eea-a924-380aca0f63d1",
   "metadata": {
    "tags": []
   },
   "outputs": [
    {
     "data": {
      "text/plain": [
       "['StephenGrider/ReactSSRCasts/99f281431594d8bb925331c5bb44793020fd8ba1',\n",
       " 'GeoNode/geonode-contribs/45c15eb796b931a7164c07e89ae108b61558eb52',\n",
       " 'danielstern/express-react-fullstack/865504ee0d0188f10d162a06d1311d9115a68cfe',\n",
       " 'Polychart/polychart2/4ac837ad4ee007aa291fb18a9df9eae810191954',\n",
       " 'GoogleChrome/chrome-app-samples/dc5d34f0f74bfd73a7dfa394bedbd69e123a5807',\n",
       " 'Nicow1991/myIonicApp/a77364d438932c53ef3dfe871078f71eb07f425f',\n",
       " 'davideast/firebase-ionic-login-sample/dc68eb5a1ca1620abe57f7e886fa68163346148a',\n",
       " 'Sean12697/SlackChat/a123ba5d19af94ac222250ef1001d312b700224f',\n",
       " 'KayFelicities/ExperienceBase/866ad2c78f0acea1169126843ed1051c5f424fa3',\n",
       " 'AnonymousFunction/anonymousfunction.github.com/dc62be0bd555502d9af4d98791a49e795eeb11dc']"
      ]
     },
     "execution_count": 13,
     "metadata": {},
     "output_type": "execute_result"
    }
   ],
   "source": [
    "train[0:10]"
   ]
  },
  {
   "cell_type": "code",
   "execution_count": 14,
   "id": "6edf0754-f95f-4281-86c0-0026c236e953",
   "metadata": {
    "tags": []
   },
   "outputs": [
    {
     "data": {
      "text/plain": [
       "50"
      ]
     },
     "execution_count": 14,
     "metadata": {},
     "output_type": "execute_result"
    }
   ],
   "source": [
    "len(train)"
   ]
  },
  {
   "cell_type": "markdown",
   "id": "f2c0ca0b-ca89-4feb-9594-025b51e70e96",
   "metadata": {},
   "source": [
    "Calculo un split de 50/50 con tainted path top 100"
   ]
  },
  {
   "cell_type": "code",
   "execution_count": 15,
   "id": "6330350b-d6bf-4048-a356-f3aab3d59987",
   "metadata": {
    "tags": []
   },
   "outputs": [],
   "source": [
    "results_dir = \"/home/pablo/results/seldon_xss_1\""
   ]
  },
  {
   "cell_type": "code",
   "execution_count": 5,
   "id": "1df81dc8-8550-4832-99f0-7d5f05326646",
   "metadata": {
    "jupyter": {
     "source_hidden": true
    },
    "tags": []
   },
   "outputs": [],
   "source": [
    "results_dir = '/home/pablo/results/seldonstar_nosql_1'"
   ]
  },
  {
   "cell_type": "code",
   "execution_count": 16,
   "id": "c0f00e00-8b19-4edb-8e29-5907ff433b75",
   "metadata": {
    "tags": []
   },
   "outputs": [
    {
     "name": "stdout",
     "output_type": "stream",
     "text": [
      "2023-05-02 20:21:25,966 - INFO - creating /home/pablo/results/seldon_xss_1 dir. Omitting error if already existing\n",
      "2023-05-02 20:21:25,967 - INFO - creating /tmp/log dir. Omitting error if already existing\n",
      "2023-05-02 20:21:26,361 - INFO - running at container 0f3d2854a93969b41b48c1f71db2db16ec949669cbb95533d5e4b025192529f0. Use `docker logs 0f3d2854a93969b41b48c1f71db2db16ec949669cbb95533d5e4b025192529f0 --tail 10 --follow` to follow progress\n",
      "2023-05-02 22:54:40,049 - INFO - running combine scores\n",
      "g: /home/pablo/results/seldon_xss_1/*/DomBasedXssWorse-*/reprScores.txt\n"
     ]
    }
   ],
   "source": [
    "# training\n",
    "train_settings = ExperimentSettings(\n",
    "    name=\"seldon_xss_1\",\n",
    "    query_type=\"xss\",\n",
    "    project_list=train,\n",
    "    results_dir=results_dir,\n",
    "    **defaults\n",
    ")\n",
    "\n",
    "run_tsm(docker_client, train_settings, block=True)"
   ]
  },
  {
   "cell_type": "code",
   "execution_count": 17,
   "id": "7d83acde-20e2-48e2-bd8e-af8c544785dd",
   "metadata": {
    "tags": []
   },
   "outputs": [
    {
     "name": "stdout",
     "output_type": "stream",
     "text": [
      "196\n"
     ]
    }
   ],
   "source": [
    "!cat /home/pablo/results/seldon_xss_1/averaged-results.csv|wc -l"
   ]
  },
  {
   "cell_type": "code",
   "execution_count": 19,
   "id": "20c78228-9648-4b05-b643-5fa32e72ff10",
   "metadata": {
    "tags": []
   },
   "outputs": [
    {
     "data": {
      "text/plain": [
       "['blup/bootstrap.stylus/a474c9e354ed284921b060fd8ee2489a9c71c96d',\n",
       " 'd0nd3r3k/SimpleChat/17478868bc877c8507df83cdccf855a70f9f7c18',\n",
       " 'JetBrains/svg-mixer/1b4b86f813fbabda1d40c2166c06095ab0a26f5b',\n",
       " 'ccoenraets/directory-angular-ionic/fe78d4605b344ab868e5097a10323c8a2c818068',\n",
       " 'cubicleDowns/ng-three-viewer/9c2717f6a4dabc6326290308b691af85da01629a',\n",
       " 'amymok/dek-EU/b5dc79958b2f76c876d87e0dba2a7b093043b72b',\n",
       " 'CyberSaxosTiGER/stream/3ac3836167a3f48c1c3f64ec50821f379bec1603',\n",
       " 'aosabook/500lines/fba689d101eb5600f5c8f4d7fd79912498e950e2',\n",
       " 'BrowserSync/browser-sync/6ffc212cdb50da972e4ed434244a23a6bee56e50',\n",
       " 'RSO/slidetator/1d619b6b454fe6cb08681a725eea8ea6fe41f040']"
      ]
     },
     "execution_count": 19,
     "metadata": {},
     "output_type": "execute_result"
    }
   ],
   "source": [
    "test[0:10]"
   ]
  },
  {
   "cell_type": "code",
   "execution_count": 22,
   "id": "2fcd7439-b248-48db-8ec2-6d6902962abe",
   "metadata": {
    "tags": []
   },
   "outputs": [
    {
     "name": "stdout",
     "output_type": "stream",
     "text": [
      "Evaluating worse with 50 dbs\n"
     ]
    }
   ],
   "source": [
    "# evaluation\n",
    "external_predicate_file = path_join(results_dir, 'averaged-results.csv')\n",
    "worse_settings = EvaluationSettings(\n",
    "    search_path=\"/home/pablo/tesis/tsm-pipeline/lib-worse/codeql\",\n",
    "    cli_version=\"2.5.2\",\n",
    "    query_file=\"/home/pablo/tesis/tsm-pipeline/tsm-atm-pipeline/src/tsm/evaluation/XssWorseTSM.ql\",\n",
    "    external_predicate_file=external_predicate_file,\n",
    "    **defaults_evalute,\n",
    ")\n",
    "\n",
    "print(\"Evaluating worse with %d dbs\" % (len(test)))\n",
    "evaluate(\n",
    "    settings=worse_settings,\n",
    "    output_dir=path_join(results_dir, 'worse'),\n",
    "    dbs=test,\n",
    ")\n",
    "\n",
    "# v0_settings = EvaluationSettings(\n",
    "#     search_path=\"/home/pablo/codeqlv0/javascript/ql/lib\",\n",
    "#     cli_version=\"2.10.5\",\n",
    "#     query_file=\"/home/pablo/tesis/tsm-pipeline/tsm-evaluation/tsm-evaluation/src/XssEvaluation.ql\",\n",
    "#     **defaults_evalute,\n",
    "# )\n",
    "\n",
    "# print(\"Evaluating v0 with %d dbs\" % (len(test)))\n",
    "# evaluate(\n",
    "#     settings=v0_settings,\n",
    "#     output_dir=path_join(results_dir, 'v0'),\n",
    "#     dbs=test,\n",
    "# )"
   ]
  },
  {
   "cell_type": "code",
   "execution_count": 23,
   "id": "06e9b14c-4ef0-4347-af63-174477bd9a94",
   "metadata": {
    "tags": []
   },
   "outputs": [
    {
     "data": {
      "text/plain": [
       "(0.0, 0.0, 0.0)"
      ]
     },
     "execution_count": 23,
     "metadata": {},
     "output_type": "execute_result"
    }
   ],
   "source": [
    "from scripts.calculate_scores import calculate_scores\n",
    "\n",
    "calculate_scores(\n",
    "    results_folder=results_dir,\n",
    "    cleanup_base_dir=\"/tmp\",\n",
    ")"
   ]
  }
 ],
 "metadata": {
  "kernelspec": {
   "display_name": "Python 3 (ipykernel)",
   "language": "python",
   "name": "python3"
  },
  "language_info": {
   "codemirror_mode": {
    "name": "ipython",
    "version": 3
   },
   "file_extension": ".py",
   "mimetype": "text/x-python",
   "name": "python",
   "nbconvert_exporter": "python",
   "pygments_lexer": "ipython3",
   "version": "3.10.6"
  }
 },
 "nbformat": 4,
 "nbformat_minor": 5
}
