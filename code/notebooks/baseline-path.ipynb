{
 "cells": [
  {
   "cell_type": "code",
   "execution_count": 1,
   "metadata": {},
   "outputs": [],
   "source": [
    "%load_ext autoreload\n",
    "%autoreload 2\n",
    "\n",
    "from experiments.all import train_and_evaluate\n",
    "from tsm.configuration import TSMConfigParser\n",
    "import docker\n",
    "import logging\n",
    "\n",
    "logging.basicConfig(level=logging.INFO)\n",
    "\n",
    "# load configuration\n",
    "config = TSMConfigParser()\n",
    "config.read(\"/home/pablo/tesis/tsm-pipeline/code/configs/pablo-bestia.cfg\")\n",
    "config.check()\n",
    "docker_client = docker.from_env()"
   ]
  },
  {
   "cell_type": "code",
   "execution_count": 2,
   "metadata": {},
   "outputs": [
    {
     "name": "stdout",
     "output_type": "stream",
     "text": [
      "336\n"
     ]
    }
   ],
   "source": [
    "from scripts.docker import read_dbs_dataset\n",
    "from numpy.random import RandomState\n",
    "\n",
    "path_dbs = read_dbs_dataset(\"/home/pablo/tesis/tsm-pipeline/experiments/datasets/path_1.txt\")\n",
    "# Using a fixed random state to have reproducible results\n",
    "rand = RandomState(seed=5)\n",
    "\n",
    "print(len(path_dbs))"
   ]
  },
  {
   "cell_type": "code",
   "execution_count": 3,
   "metadata": {},
   "outputs": [
    {
     "name": "stdout",
     "output_type": "stream",
     "text": [
      "train 10, test 10\n"
     ]
    }
   ],
   "source": [
    "from random import sample\n",
    "from sklearn.model_selection import train_test_split\n",
    "\n",
    "sample_20 = sample(path_dbs, 20)\n",
    "train, test = train_test_split(sample_20, train_size=.5, shuffle=True, random_state=rand)\n",
    "print(\"train %d, test %d\" %(len(train), len(test)))"
   ]
  },
  {
   "attachments": {},
   "cell_type": "markdown",
   "metadata": {},
   "source": [
    "corrida de sanity check con path"
   ]
  },
  {
   "cell_type": "code",
   "execution_count": 4,
   "metadata": {},
   "outputs": [
    {
     "name": "stderr",
     "output_type": "stream",
     "text": [
      "INFO:experiments.all:train_and_evaluate with train size 10, test size 10\n",
      "INFO:experiments.all:Running training\n",
      "INFO:scripts.docker:creating /tmp/tmpitud061x dir. Omitting error if already existing\n",
      "INFO:scripts.docker:creating /tmp/log dir. Omitting error if already existing\n"
     ]
    },
    {
     "name": "stdout",
     "output_type": "stream",
     "text": [
      "using /tmp/tmpitud061x for 20 run\n"
     ]
    },
    {
     "name": "stderr",
     "output_type": "stream",
     "text": [
      "INFO:scripts.docker:running at container 08e1c9e9f1aee691c61e7140067623b7fa7ed29c21a0991deccc3541a9a3e096. Use `docker logs 08e1c9e9f1aee691c61e7140067623b7fa7ed29c21a0991deccc3541a9a3e096 --tail 10 --follow` to follow progress\n",
      "INFO:scripts.docker:running combine scores\n",
      "INFO:misc.combinescores:globbing folder: /tmp/tmpitud061x/*/reprScores.txt\n",
      "INFO:misc.combinescores:working on 8 reprScores files\n",
      "INFO:experiments.all:Running worse evaluation\n",
      "INFO:scripts.evaluate:creating /tmp/tmpitud061x/worse dir. Omitting error if already existing\n",
      "INFO:scripts.evaluate:Starting processing with 4 processes\n",
      "INFO:scripts.evaluate:Evaluating tianxiangbing - mobile-select-area\n",
      "INFO:scripts.evaluate:Evaluating alphagov - webchat-prototype\n",
      "INFO:scripts.evaluate:Evaluating ckeditor - ckeditor5-dev\n",
      "INFO:scripts.evaluate:Evaluating Klemek - snex.io\n",
      "INFO:scripts.evaluate:Evaluating cdaniel - wardleymapstool\n",
      "INFO:scripts.evaluate:Evaluating apache - couchdb-fauxton\n",
      "INFO:scripts.evaluate:Evaluating k88hudson - webmaker-nav\n",
      "INFO:scripts.evaluate:Evaluating 18F - share\n",
      "INFO:scripts.evaluate:Evaluating psema4 - pine\n",
      "INFO:scripts.evaluate:Evaluating volpe28v - DevHub\n",
      "INFO:experiments.all:Running boosted evaluation\n",
      "INFO:scripts.evaluate:creating /tmp/tmpitud061x/boosted dir. Omitting error if already existing\n",
      "INFO:scripts.evaluate:Starting processing with 4 processes\n",
      "INFO:scripts.evaluate:Evaluating cdaniel - wardleymapstool\n",
      "INFO:scripts.evaluate:Evaluating 18F - share\n",
      "INFO:scripts.evaluate:Evaluating tianxiangbing - mobile-select-area\n",
      "INFO:scripts.evaluate:Evaluating alphagov - webchat-prototype\n",
      "INFO:scripts.evaluate:Evaluating apache - couchdb-fauxton\n",
      "INFO:scripts.evaluate:Evaluating ckeditor - ckeditor5-dev\n",
      "INFO:scripts.evaluate:Evaluating k88hudson - webmaker-nav\n",
      "INFO:scripts.evaluate:Evaluating Klemek - snex.io\n",
      "INFO:scripts.evaluate:Evaluating psema4 - pine\n",
      "INFO:scripts.evaluate:Evaluating volpe28v - DevHub\n",
      "INFO:experiments.all:Running v0 evaluation\n",
      "INFO:scripts.evaluate:creating /tmp/tmpitud061x/v0 dir. Omitting error if already existing\n",
      "INFO:scripts.evaluate:Starting processing with 4 processes\n",
      "INFO:scripts.evaluate:Evaluating cdaniel - wardleymapstool\n",
      "INFO:scripts.evaluate:Evaluating k88hudson - webmaker-nav\n",
      "INFO:scripts.evaluate:Evaluating 18F - share\n",
      "INFO:scripts.evaluate:Evaluating ckeditor - ckeditor5-dev\n",
      "INFO:scripts.evaluate:Evaluating alphagov - webchat-prototype\n",
      "INFO:scripts.evaluate:Evaluating tianxiangbing - mobile-select-area\n",
      "INFO:scripts.evaluate:Evaluating apache - couchdb-fauxton\n",
      "INFO:scripts.evaluate:Evaluating Klemek - snex.io\n",
      "INFO:scripts.evaluate:Evaluating psema4 - pine\n",
      "INFO:scripts.evaluate:Evaluating volpe28v - DevHub\n"
     ]
    },
    {
     "data": {
      "text/html": [
       "<div>\n",
       "<style scoped>\n",
       "    .dataframe tbody tr th:only-of-type {\n",
       "        vertical-align: middle;\n",
       "    }\n",
       "\n",
       "    .dataframe tbody tr th {\n",
       "        vertical-align: top;\n",
       "    }\n",
       "\n",
       "    .dataframe thead th {\n",
       "        text-align: right;\n",
       "    }\n",
       "</style>\n",
       "<table border=\"1\" class=\"dataframe\">\n",
       "  <thead>\n",
       "    <tr style=\"text-align: right;\">\n",
       "      <th></th>\n",
       "      <th>precision</th>\n",
       "      <th>recall</th>\n",
       "      <th>accuracy</th>\n",
       "      <th>alerts to recover (atr)</th>\n",
       "      <th>alerts recovered</th>\n",
       "      <th>suprious alerts</th>\n",
       "      <th>projects with atr</th>\n",
       "      <th>avg atr per proj</th>\n",
       "    </tr>\n",
       "  </thead>\n",
       "  <tbody>\n",
       "    <tr>\n",
       "      <th>0</th>\n",
       "      <td>0.0</td>\n",
       "      <td>0.0</td>\n",
       "      <td>0.0</td>\n",
       "      <td>1</td>\n",
       "      <td>0</td>\n",
       "      <td>3</td>\n",
       "      <td>1</td>\n",
       "      <td>1.0</td>\n",
       "    </tr>\n",
       "  </tbody>\n",
       "</table>\n",
       "</div>"
      ],
      "text/plain": [
       "   precision  recall  accuracy  alerts to recover (atr)  alerts recovered  \\\n",
       "0        0.0     0.0       0.0                        1                 0   \n",
       "\n",
       "   suprious alerts  projects with atr  avg atr per proj  \n",
       "0                3                  1               1.0  "
      ]
     },
     "execution_count": 4,
     "metadata": {},
     "output_type": "execute_result"
    }
   ],
   "source": [
    "import tempfile\n",
    "res_dir = tempfile.mkdtemp()\n",
    "print(\"using %s for 20 run\" % (res_dir))\n",
    "\n",
    "train_and_evaluate(\n",
    "    config=config,\n",
    "    results_dir=res_dir,\n",
    "    query_type=\"path\",\n",
    "    train=train,\n",
    "    test=test,\n",
    "    docker_client=docker_client,\n",
    ")"
   ]
  }
 ],
 "metadata": {
  "kernelspec": {
   "display_name": "Python 3 (ipykernel)",
   "language": "python",
   "name": "python3"
  },
  "language_info": {
   "codemirror_mode": {
    "name": "ipython",
    "version": 3
   },
   "file_extension": ".py",
   "mimetype": "text/x-python",
   "name": "python",
   "nbconvert_exporter": "python",
   "pygments_lexer": "ipython3",
   "version": "3.10.6"
  },
  "orig_nbformat": 4
 },
 "nbformat": 4,
 "nbformat_minor": 2
}
