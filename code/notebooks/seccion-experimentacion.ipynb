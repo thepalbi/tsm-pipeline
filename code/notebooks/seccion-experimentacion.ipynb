{
 "cells": [
  {
   "cell_type": "code",
   "execution_count": 2,
   "id": "68fccfb9-0d39-4994-917c-1f5096ff9ce8",
   "metadata": {},
   "outputs": [
    {
     "name": "stderr",
     "output_type": "stream",
     "text": [
      "/tmp/ipykernel_300017/2412676890.py:8: MatplotlibDeprecationWarning: The seaborn styles shipped by Matplotlib are deprecated since 3.6, as they no longer correspond to the styles shipped by seaborn. However, they will remain available as 'seaborn-v0_8-<style>'. Alternatively, directly use the seaborn API instead.\n",
      "  plt.style.library['seaborn-paper']\n"
     ]
    },
    {
     "data": {
      "text/plain": [
       "RcParams({'axes.labelsize': 8.8,\n",
       "          'axes.titlesize': 9.6,\n",
       "          'figure.figsize': [6.4, 4.4],\n",
       "          'grid.linewidth': 0.8,\n",
       "          'legend.fontsize': 8.0,\n",
       "          'lines.linewidth': 1.4,\n",
       "          'lines.markeredgewidth': 0.0,\n",
       "          'lines.markersize': 5.6,\n",
       "          'patch.linewidth': 0.24,\n",
       "          'xtick.labelsize': 8.0,\n",
       "          'xtick.major.pad': 5.6,\n",
       "          'xtick.major.width': 0.8,\n",
       "          'xtick.minor.width': 0.4,\n",
       "          'ytick.labelsize': 8.0,\n",
       "          'ytick.major.pad': 5.6,\n",
       "          'ytick.major.width': 0.8,\n",
       "          'ytick.minor.width': 0.4})"
      ]
     },
     "execution_count": 2,
     "metadata": {},
     "output_type": "execute_result"
    }
   ],
   "source": [
    "from matplotlib import pyplot as plt\n",
    "# from IPython import display\n",
    "# display.set_matplotlib_formats(\"svg\")\n",
    "plt.rcParams[\"axes.spines.top\"] = False\n",
    "plt.rcParams[\"axes.spines.right\"] = False\n",
    "plt.rcParams[\"xtick.labelsize\"] = \"medium\"\n",
    "plt.rcParams[\"ytick.labelsize\"] = \"medium\"\n",
    "plt.style.library['seaborn-paper']"
   ]
  },
  {
   "cell_type": "markdown",
   "id": "d61fd5da-2660-4990-b6cc-35cbd700b9db",
   "metadata": {},
   "source": [
    "Este notebook junta los diferentes dataset para armar los de la sección de evaluación. La idea sería tener:\n",
    "- Una tabla con los resultados de precision / recall para cada query type\n",
    "- Una tabla con los resultados de las otras métricas para cada query type\n",
    "- Quizas para ilustrar lo mucho que varía precision / recall entre folds mostrarlo para NoSQL"
   ]
  },
  {
   "cell_type": "markdown",
   "id": "30d7f5b7-7268-451e-b582-902235ad9c94",
   "metadata": {},
   "source": [
    "## Tabla con precision / recall y metricas secundarias"
   ]
  },
  {
   "cell_type": "code",
   "execution_count": 3,
   "id": "bd0d039e-bf74-4b29-af73-b0b8ba50fa1d",
   "metadata": {},
   "outputs": [
    {
     "data": {
      "text/html": [
       "<div>\n",
       "<style scoped>\n",
       "    .dataframe tbody tr th:only-of-type {\n",
       "        vertical-align: middle;\n",
       "    }\n",
       "\n",
       "    .dataframe tbody tr th {\n",
       "        vertical-align: top;\n",
       "    }\n",
       "\n",
       "    .dataframe thead th {\n",
       "        text-align: right;\n",
       "    }\n",
       "</style>\n",
       "<table border=\"1\" class=\"dataframe\">\n",
       "  <thead>\n",
       "    <tr style=\"text-align: right;\">\n",
       "      <th></th>\n",
       "      <th>precision</th>\n",
       "      <th>recall</th>\n",
       "      <th>accuracy</th>\n",
       "      <th>atr</th>\n",
       "      <th>recovered</th>\n",
       "      <th>spurious</th>\n",
       "      <th>progwithatr</th>\n",
       "      <th>avgatr</th>\n",
       "      <th>predsinks</th>\n",
       "      <th>name</th>\n",
       "    </tr>\n",
       "  </thead>\n",
       "  <tbody>\n",
       "    <tr>\n",
       "      <th>mean</th>\n",
       "      <td>0.052699</td>\n",
       "      <td>0.669298</td>\n",
       "      <td>0.051041</td>\n",
       "      <td>33</td>\n",
       "      <td>22</td>\n",
       "      <td>488</td>\n",
       "      <td>13</td>\n",
       "      <td>2.425385</td>\n",
       "      <td>444</td>\n",
       "      <td>Tainted Path</td>\n",
       "    </tr>\n",
       "    <tr>\n",
       "      <th>mean</th>\n",
       "      <td>0.145380</td>\n",
       "      <td>0.819201</td>\n",
       "      <td>0.139143</td>\n",
       "      <td>121</td>\n",
       "      <td>94</td>\n",
       "      <td>547</td>\n",
       "      <td>27</td>\n",
       "      <td>4.246987</td>\n",
       "      <td>122</td>\n",
       "      <td>NoSQL Injection</td>\n",
       "    </tr>\n",
       "    <tr>\n",
       "      <th>mean</th>\n",
       "      <td>0.200000</td>\n",
       "      <td>0.016667</td>\n",
       "      <td>0.016667</td>\n",
       "      <td>11</td>\n",
       "      <td>0</td>\n",
       "      <td>0</td>\n",
       "      <td>3</td>\n",
       "      <td>2.830000</td>\n",
       "      <td>187</td>\n",
       "      <td>XSS</td>\n",
       "    </tr>\n",
       "  </tbody>\n",
       "</table>\n",
       "</div>"
      ],
      "text/plain": [
       "      precision    recall  accuracy  atr  recovered  spurious  progwithatr  \\\n",
       "mean   0.052699  0.669298  0.051041   33         22       488           13   \n",
       "mean   0.145380  0.819201  0.139143  121         94       547           27   \n",
       "mean   0.200000  0.016667  0.016667   11          0         0            3   \n",
       "\n",
       "        avgatr  predsinks             name  \n",
       "mean  2.425385        444     Tainted Path  \n",
       "mean  4.246987        122  NoSQL Injection  \n",
       "mean  2.830000        187              XSS  "
      ]
     },
     "execution_count": 3,
     "metadata": {},
     "output_type": "execute_result"
    }
   ],
   "source": [
    "from scripts.calculate_scores import calculate_many_scores\n",
    "import pandas as pd\n",
    "\n",
    "path_result_dirs = [\"/home/pablo/dev-results/path-todas-5fold-%d\" % i for i in range(5)]\n",
    "nosql_result_dirs = [\"/home/pablo/dev-results/nosql-todas-5fold-%d\"%i for i in range(5)]\n",
    "xss_result_dirs = [\"/home/pablo/dev-results/xss-90-5fold-%d\"%i for i in range(5)]\n",
    "\n",
    "def extract_and_name_mean(df: pd.DataFrame, name: str) -> pd.DataFrame:\n",
    "    mean = df[df['name']=='mean']\n",
    "    mean = mean.assign(name=name)\n",
    "    return mean\n",
    "\n",
    "results_and_name = [\n",
    "    (calculate_many_scores(path_result_dirs), 'Tainted Path'),\n",
    "    (calculate_many_scores(nosql_result_dirs), 'NoSQL Injection'),\n",
    "    (calculate_many_scores(xss_result_dirs), 'XSS')\n",
    "]\n",
    "\n",
    "results = pd.concat(\n",
    "    [\n",
    "        extract_and_name_mean(df, name) for (df, name) in results_and_name\n",
    "    ]\n",
    ")\n",
    "results"
   ]
  },
  {
   "cell_type": "code",
   "execution_count": 4,
   "id": "a390a5e8-6da5-4d19-904e-0e9ecb5eddfc",
   "metadata": {},
   "outputs": [
    {
     "data": {
      "image/png": "[encoded data removed]",
      "text/plain": [
       "<Figure size 640x480 with 1 Axes>"
      ]
     },
     "metadata": {},
     "output_type": "display_data"
    }
   ],
   "source": [
    "import matplotlib.pyplot as plt\n",
    "from matplotlib.ticker import MultipleLocator\n",
    "\n",
    "fig, axes = plt.subplots(1,1)\n",
    "\n",
    "for df, name in results_and_name:\n",
    "    precision =  df.precision.values.tolist()\n",
    "    recall = df.recall.values.tolist()\n",
    "    axes.plot(recall, precision, 'o', label=name)\n",
    "axes.legend()\n",
    "axes.set_xlim(left=0)\n",
    "axes.set_ylim(bottom=0)\n",
    "axes.grid(visible=True, axis='y')\n",
    "axes.xaxis.set_major_locator(MultipleLocator(.1))\n",
    "axes.yaxis.set_major_locator(MultipleLocator(.1))\n",
    "axes.set_xlabel(\"Recall\")\n",
    "axes.set_ylabel(\"Precision\")\n",
    "fig.savefig(\"precision-recall.pdf\", format=\"pdf\", bbox_inches=\"tight\")"
   ]
  },
  {
   "cell_type": "code",
   "execution_count": 5,
   "id": "b97709f1-1e29-4f96-a9c6-ec26f9e50c0f",
   "metadata": {},
   "outputs": [
    {
     "name": "stdout",
     "output_type": "stream",
     "text": [
      "Tainted Path - precision std = 0.02547756261050893 - recall std = 0.04388069063817512\n",
      "NoSQL Injection - precision std = 0.03361307531993176 - recall std = 0.16506260135872286\n",
      "XSS - precision std = 0.36514837167011077 - recall std = 0.03042903097250923\n"
     ]
    }
   ],
   "source": [
    "import numpy as np\n",
    "for df, name in results_and_name:\n",
    "    precision =  df.precision.values.tolist()\n",
    "    recall = df.recall.values.tolist()\n",
    "    precision_std = np.std(precision)\n",
    "    recall_std = np.std(recall)\n",
    "    print(f\"{name} - precision std = {precision_std} - recall std = {recall_std}\")\n",
    "    "
   ]
  },
  {
   "cell_type": "code",
   "execution_count": 6,
   "id": "735ba864-922d-43b8-bc2e-9ba9ecbed77a",
   "metadata": {},
   "outputs": [],
   "source": [
    "with open(\"resultados_prec_recall_others.csv\", \"w\") as f:\n",
    "    results.to_csv(f,float_format='%.4f')"
   ]
  },
  {
   "cell_type": "markdown",
   "id": "1687031d-943a-456b-97c0-c21bccb12f36",
   "metadata": {},
   "source": [
    "## Revisando XSS"
   ]
  },
  {
   "cell_type": "code",
   "execution_count": 7,
   "id": "0290e6d2-ee89-42fb-9cb8-3edad2cc9c32",
   "metadata": {},
   "outputs": [
    {
     "data": {
      "text/html": [
       "<div>\n",
       "<style scoped>\n",
       "    .dataframe tbody tr th:only-of-type {\n",
       "        vertical-align: middle;\n",
       "    }\n",
       "\n",
       "    .dataframe tbody tr th {\n",
       "        vertical-align: top;\n",
       "    }\n",
       "\n",
       "    .dataframe thead th {\n",
       "        text-align: right;\n",
       "    }\n",
       "</style>\n",
       "<table border=\"1\" class=\"dataframe\">\n",
       "  <thead>\n",
       "    <tr style=\"text-align: right;\">\n",
       "      <th></th>\n",
       "      <th>precision</th>\n",
       "      <th>recall</th>\n",
       "      <th>accuracy</th>\n",
       "      <th>atr</th>\n",
       "      <th>recovered</th>\n",
       "      <th>spurious</th>\n",
       "      <th>progwithatr</th>\n",
       "      <th>avgatr</th>\n",
       "      <th>predsinks</th>\n",
       "      <th>name</th>\n",
       "    </tr>\n",
       "  </thead>\n",
       "  <tbody>\n",
       "    <tr>\n",
       "      <th>0</th>\n",
       "      <td>0.0</td>\n",
       "      <td>0.0</td>\n",
       "      <td>0.0</td>\n",
       "      <td>5</td>\n",
       "      <td>0</td>\n",
       "      <td>0</td>\n",
       "      <td>2</td>\n",
       "      <td>2.500000</td>\n",
       "      <td>100</td>\n",
       "      <td>fold 0</td>\n",
       "    </tr>\n",
       "    <tr>\n",
       "      <th>0</th>\n",
       "      <td>0.0</td>\n",
       "      <td>0.0</td>\n",
       "      <td>0.0</td>\n",
       "      <td>5</td>\n",
       "      <td>0</td>\n",
       "      <td>0</td>\n",
       "      <td>2</td>\n",
       "      <td>2.500000</td>\n",
       "      <td>68</td>\n",
       "      <td>fold 1</td>\n",
       "    </tr>\n",
       "    <tr>\n",
       "      <th>0</th>\n",
       "      <td>0.0</td>\n",
       "      <td>0.0</td>\n",
       "      <td>0.0</td>\n",
       "      <td>2</td>\n",
       "      <td>0</td>\n",
       "      <td>0</td>\n",
       "      <td>1</td>\n",
       "      <td>2.000000</td>\n",
       "      <td>75</td>\n",
       "      <td>fold 2</td>\n",
       "    </tr>\n",
       "    <tr>\n",
       "      <th>mean</th>\n",
       "      <td>0.0</td>\n",
       "      <td>0.0</td>\n",
       "      <td>0.0</td>\n",
       "      <td>4</td>\n",
       "      <td>0</td>\n",
       "      <td>0</td>\n",
       "      <td>1</td>\n",
       "      <td>2.333333</td>\n",
       "      <td>81</td>\n",
       "      <td>mean</td>\n",
       "    </tr>\n",
       "  </tbody>\n",
       "</table>\n",
       "</div>"
      ],
      "text/plain": [
       "      precision  recall  accuracy  atr  recovered  spurious  progwithatr  \\\n",
       "0           0.0     0.0       0.0    5          0         0            2   \n",
       "0           0.0     0.0       0.0    5          0         0            2   \n",
       "0           0.0     0.0       0.0    2          0         0            1   \n",
       "mean        0.0     0.0       0.0    4          0         0            1   \n",
       "\n",
       "        avgatr  predsinks    name  \n",
       "0     2.500000        100  fold 0  \n",
       "0     2.500000         68  fold 1  \n",
       "0     2.000000         75  fold 2  \n",
       "mean  2.333333         81    mean  "
      ]
     },
     "execution_count": 7,
     "metadata": {},
     "output_type": "execute_result"
    }
   ],
   "source": [
    "calculate_many_scores([\"/home/pablo/dev-results/xss-30-3fold-%d\"%i for i in range(3)])"
   ]
  },
  {
   "cell_type": "code",
   "execution_count": 8,
   "id": "169994c6-1397-4221-a1fe-8b215e091ed4",
   "metadata": {},
   "outputs": [],
   "source": [
    "import re\n",
    "from datetime import datetime\n",
    "\n",
    "time_regex = re.compile(r\"\\[[A-Z]+\\t(.+)\\]\\sroot\")\n",
    "format_string = \"%Y-%m-%d %H:%M:%S,%f\"\n",
    "\n",
    "def get_logline_ts(logline):\n",
    "    try:\n",
    "        ts = time_regex.match(logline).group(1)\n",
    "        parsed_timestamp = datetime.strptime(ts, format_string)\n",
    "        return parsed_timestamp\n",
    "    except:\n",
    "        print(f\"error parsing {logline}\")\n",
    "        raise"
   ]
  },
  {
   "cell_type": "code",
   "execution_count": 29,
   "id": "687612b2-f2a1-45b6-b2ff-dbc1be130c2b",
   "metadata": {},
   "outputs": [
    {
     "name": "stdout",
     "output_type": "stream",
     "text": [
      "start 2023-07-30 01:01:53.453000 - end 2023-07-30 03:12:52.343000 - took 2:10:58.890000\n",
      "start 2023-07-30 03:54:40.122000 - end 2023-07-30 06:42:10.201000 - took 2:47:30.079000\n",
      "start 2023-07-30 06:46:26.270000 - end 2023-07-30 09:27:41.755000 - took 2:41:15.485000\n",
      "start 2023-07-30 09:32:17.280000 - end 2023-07-30 11:48:37.753000 - took 2:16:20.473000\n",
      "start 2023-07-30 11:57:25.918000 - end 2023-07-30 14:40:52.742000 - took 2:43:26.824000\n",
      "start 2023-07-29 17:59:27.992000 - end 2023-07-29 19:29:17.467000 - took 1:29:49.475000\n",
      "start 2023-07-29 19:32:22.065000 - end 2023-07-29 20:53:38.865000 - took 1:21:16.800000\n",
      "start 2023-07-29 20:56:30.364000 - end 2023-07-29 22:15:39.912000 - took 1:19:09.548000\n",
      "start 2023-07-29 22:18:48.852000 - end 2023-07-29 23:34:03.192000 - took 1:15:14.340000\n",
      "start 2023-07-29 23:38:28.136000 - end 2023-07-30 00:40:59.903000 - took 1:02:31.767000\n",
      "start 2023-07-13 00:02:35.778000 - end 2023-07-13 01:19:33.585000 - took 1:16:57.807000\n",
      "start 2023-07-13 01:20:57.100000 - end 2023-07-13 02:26:32.435000 - took 1:05:35.335000\n",
      "start 2023-07-13 02:29:06.236000 - end 2023-07-13 03:26:37.376000 - took 0:57:31.140000\n",
      "start 2023-07-13 03:31:06.289000 - end 2023-07-13 04:34:32.332000 - took 1:03:26.043000\n",
      "start 2023-07-13 04:39:29.980000 - end 2023-07-13 05:53:26.163000 - took 1:13:56.183000\n"
     ]
    },
    {
     "data": {
      "image/png": "[encoded data removed]",
      "text/plain": [
       "<Figure size 640x480 with 1 Axes>"
      ]
     },
     "metadata": {},
     "output_type": "display_data"
    }
   ],
   "source": [
    "import os\n",
    "import re\n",
    "import numpy as np\n",
    "\n",
    "\n",
    "fig, ax = plt.subplots()\n",
    "\n",
    "path_time_datas = []\n",
    "for dir in path_result_dirs:\n",
    "    with open(os.path.join(dir, \"training_log.txt\")) as tr:\n",
    "        lines = tr.readlines()\n",
    "        start = get_logline_ts(lines[0])\n",
    "        end = get_logline_ts(lines[-1])\n",
    "        took = end-start\n",
    "        path_time_datas.append(took)\n",
    "        print(f\"start {start} - end {end} - took {took}\")\n",
    "\n",
    "nosql_time_datas = []\n",
    "for dir in nosql_result_dirs:\n",
    "    with open(os.path.join(dir, \"training_log.txt\")) as tr:\n",
    "        lines = tr.readlines()\n",
    "        start = get_logline_ts(lines[0])\n",
    "        end = get_logline_ts(lines[-1])\n",
    "        took = end-start\n",
    "        nosql_time_datas.append(took)\n",
    "        print(f\"start {start} - end {end} - took {took}\")\n",
    "\n",
    "xss_time_datas = []\n",
    "for dir in xss_result_dirs:\n",
    "    with open(os.path.join(dir, \"training_log.txt\")) as tr:\n",
    "        lines = tr.readlines()\n",
    "        start = get_logline_ts(lines[0])\n",
    "        end = get_logline_ts(lines[-1])\n",
    "        took = end-start\n",
    "        xss_time_datas.append(took)\n",
    "        print(f\"start {start} - end {end} - took {took}\")\n",
    "\n",
    "datas = [\n",
    "    [\"Tainted Path\", [diff.total_seconds()/3600 for diff in path_time_datas]],\n",
    "    [\"NoSQL\", [diff.total_seconds()/3600 for diff in nosql_time_datas]],\n",
    "    [\"XSS\", [diff.total_seconds()/3600 for diff in xss_time_datas]],\n",
    "]\n",
    "\n",
    "# xs = ['Tainted Path', 'NoSQL Injection', 'XSS']\n",
    "# means = [np.mean(d) for d in datas]\n",
    "# errors = [np.std(d) for d in datas]\n",
    "# print(means)\n",
    "# print(errors)\n",
    "\n",
    "xticks=range(1,6)\n",
    "for [label, data] in datas:\n",
    "    ax.plot(xticks, data, label=label,marker='o', linestyle='dashed')\n",
    "ax.set_ylim(bottom=0)\n",
    "ax.set_xticks(xticks)\n",
    "ax.set_xlabel('fold')\n",
    "ax.set_ylabel('horas')\n",
    "ax.legend()\n",
    "\n",
    "fig.savefig(\"runtime_experimentos.pdf\", format=\"pdf\", bbox_inches=\"tight\")\n",
    "\n",
    "# ax.boxplot([\n",
    "#     [diff.total_seconds()/3600 for diff in path_time_datas],\n",
    "#     [diff.total_seconds()/3600 for diff in nosql_time_datas],\n",
    "#     [diff.total_seconds()/3600 for diff in xss_time_datas]\n",
    "# ], labels=['Tainted Path', 'NoSQL Injection', 'XSS'])\n",
    "# ax.set_ylim(bottom=0)"
   ]
  },
  {
   "cell_type": "code",
   "execution_count": null,
   "id": "2fa2160a-3d88-4780-88d6-6e06da9a33ca",
   "metadata": {},
   "outputs": [],
   "source": []
  }
 ],
 "metadata": {
  "kernelspec": {
   "display_name": "Python 3 (ipykernel)",
   "language": "python",
   "name": "python3"
  },
  "language_info": {
   "codemirror_mode": {
    "name": "ipython",
    "version": 3
   },
   "file_extension": ".py",
   "mimetype": "text/x-python",
   "name": "python",
   "nbconvert_exporter": "python",
   "pygments_lexer": "ipython3",
   "version": "3.10.12"
  }
 },
 "nbformat": 4,
 "nbformat_minor": 5
}
